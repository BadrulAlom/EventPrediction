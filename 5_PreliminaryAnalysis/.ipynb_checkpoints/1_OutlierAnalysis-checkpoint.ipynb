{
 "cells": [
  {
   "cell_type": "markdown",
   "metadata": {},
   "source": [
    "<h1 align=\"center\" style=\"background-color:#616161;color:white\">Outlier Analysis & Cleanup</h1>"
   ]
  },
  {
   "cell_type": "markdown",
   "metadata": {},
   "source": [
    "<h3>Summary</h3>\n",
    "\n",
    "<font color=blue>\n",
    "Two types of analysis was conducted\n",
    "* Daily LIstening Habits: Analysis of the number of unique tracks vs. num. of plays a user seen on a daily basis\n",
    "* Histogram of the time period in between song plays\n",
    "</font>    "
   ]
  },
  {
   "cell_type": "markdown",
   "metadata": {},
   "source": [
    "<h3 style=\"background-color:#616161;color:white\">0. Code setup</h3>"
   ]
  },
  {
   "cell_type": "code",
   "execution_count": 1,
   "metadata": {
    "collapsed": true
   },
   "outputs": [],
   "source": [
    "import os\n",
    "import sys\n",
    "import pandas as pd\n",
    "import numpy as np\n",
    "import datetime\n",
    "import csv\n",
    "import json\n",
    "import sqlite3\n",
    "import matplotlib.mlab as mlab\n",
    "import matplotlib.pyplot as plt\n",
    "\n",
    "from pathlib import Path\n",
    "\n",
    "%matplotlib inline\n",
    "from IPython.core.interactiveshell import InteractiveShell\n",
    "InteractiveShell.ast_node_interactivity = \"all\""
   ]
  },
  {
   "cell_type": "code",
   "execution_count": 7,
   "metadata": {
    "collapsed": true
   },
   "outputs": [],
   "source": [
    "## Parameters you can change\n",
    "\n",
    "# Abs path to settings file\n",
    "#root = \"C:/DS/Github/MusicRecommendation\"  # BA, Windows\n",
    "root = \"/home/badrul/git/EventPrediction\" # BA, Linux\n",
    "\n",
    "\n",
    "#-------------- Custom Libs -----------------#\n",
    "os.chdir(root)\n",
    "\n",
    "# Import the codebase module\n",
    "fPath = root + \"/1_codemodule\"\n",
    "if fPath not in sys.path: sys.path.append(fPath)\n",
    "\n",
    "# Custom Libs\n",
    "import coreCode as cc\n",
    "\n",
    "# This is where preliminary analysis output gets stored. Folder with todays date is created.\n",
    "i = datetime.datetime.now()\n",
    "outputPath = root + \"/4_preliminaryanalysis/outputs/%s_%s_%s/\" % (i.day, i.month, i.year) \n",
    "\n",
    "settingsDict =  cc.loadSettings()\n",
    "\n",
    "# Get the main db path\n",
    "dbPath = root + settingsDict['mainDbPath_sml']"
   ]
  },
  {
   "cell_type": "code",
   "execution_count": 8,
   "metadata": {
    "collapsed": true
   },
   "outputs": [],
   "source": [
    "#--------------------- Functions ----------------------------------#\n",
    "def getRandomUsers(maxUsers):\n",
    "    db = sqlite3.connect(dbPath)\n",
    "    SQStr =\"SELECT userID FROM tblUser ORDER BY RANDOM() LIMIT \" + maxUsers"
   ]
  },
  {
   "cell_type": "markdown",
   "metadata": {},
   "source": [
    "<h3 style=\"background-color:#616161;color:white\">1. Generate CSV exports for analysis in visualization software</h3>"
   ]
  },
  {
   "cell_type": "code",
   "execution_count": 9,
   "metadata": {
    "collapsed": true
   },
   "outputs": [],
   "source": [
    "#con = sqlite3.connect(dbPath)\n",
    "#cur = con.cursor()\n",
    "\n",
    "#sqlStr ='SELECT Cast(substr(userID,-5) as integer) as user,date(PlayedTimestamp) as PlayedTimeStamp ,count(*) as NumOfPlays, count(Distinct trackID) as NumOfTracks from tblInputData group by userID, date(PlayedTimestamp) ORDER BY NumOfPlays;'\n",
    "\n",
    "## Export to CSV\n",
    "#cur.execute(sqlStr)\n",
    "#cb.exportToCSV(cur,outputPath + 'dataset1.csv')\n",
    "\n",
    "#con.close()"
   ]
  },
  {
   "cell_type": "markdown",
   "metadata": {},
   "source": [
    "<h3 style=\"background-color:#616161;color:white\">2. Basic analysis</h3>"
   ]
  },
  {
   "cell_type": "code",
   "execution_count": 10,
   "metadata": {},
   "outputs": [
    {
     "name": "stdout",
     "output_type": "stream",
     "text": [
      "Number of tracks in dataset = 217269\n"
     ]
    }
   ],
   "source": [
    "con = sqlite3.connect(dbPath)\n",
    "cursor = con.cursor()\n",
    "res=cursor.execute(\"Select count(*) from tblTracks\").fetchone()\n",
    "print (\"Number of tracks in dataset = {}\".format(res[0]))"
   ]
  },
  {
   "cell_type": "code",
   "execution_count": 11,
   "metadata": {
    "collapsed": true
   },
   "outputs": [],
   "source": [
    "con = sqlite3.connect(dbPath)\n",
    "sqlStr ='SELECT Cast(substr(userID,-5) as integer) as user,date(PlayedTimestamp) as PlayedTimeStamp ,count(*) as NumOfPlays, count(Distinct trackID) as NumOfTracks from tblInputData group by userID, date(PlayedTimestamp) ORDER BY NumOfPlays;'\n",
    "\n",
    "# Load into Pandas\n",
    "res = pd.read_sql_query(sqlStr, con)\n",
    "con.close()\n",
    "\n",
    "# Change data types\n",
    "res['user'] = res['user'].astype('str')\n",
    "res['PlayedTimeStamp'] =  pd.to_datetime(res['PlayedTimeStamp'])\n",
    "#res.dtypes"
   ]
  },
  {
   "cell_type": "code",
   "execution_count": 12,
   "metadata": {},
   "outputs": [
    {
     "data": {
      "text/plain": [
       "count                   42325\n",
       "unique                   1572\n",
       "top       2008-12-01 00:00:00\n",
       "freq                       52\n",
       "first     2005-02-14 00:00:00\n",
       "last      2009-06-19 00:00:00\n",
       "Name: PlayedTimeStamp, dtype: object"
      ]
     },
     "execution_count": 12,
     "metadata": {},
     "output_type": "execute_result"
    }
   ],
   "source": [
    "res['PlayedTimeStamp'].describe()"
   ]
  },
  {
   "cell_type": "markdown",
   "metadata": {},
   "source": [
    "<font color=blue>\n",
    "The date range is from 27th April 2009 to 29th Sept 2013 \n",
    "</font>"
   ]
  },
  {
   "cell_type": "code",
   "execution_count": 13,
   "metadata": {},
   "outputs": [
    {
     "data": {
      "text/plain": [
       "count     42325\n",
       "unique       97\n",
       "top          21\n",
       "freq       1283\n",
       "Name: user, dtype: object"
      ]
     },
     "execution_count": 13,
     "metadata": {},
     "output_type": "execute_result"
    }
   ],
   "source": [
    "res['user'].describe()"
   ]
  },
  {
   "cell_type": "markdown",
   "metadata": {},
   "source": [
    "<font color=blue>\n",
    "There are 992 unique users. \n",
    "</font>"
   ]
  },
  {
   "cell_type": "code",
   "execution_count": 14,
   "metadata": {},
   "outputs": [
    {
     "data": {
      "text/html": [
       "<div>\n",
       "<style>\n",
       "    .dataframe thead tr:only-child th {\n",
       "        text-align: right;\n",
       "    }\n",
       "\n",
       "    .dataframe thead th {\n",
       "        text-align: left;\n",
       "    }\n",
       "\n",
       "    .dataframe tbody tr th {\n",
       "        vertical-align: top;\n",
       "    }\n",
       "</style>\n",
       "<table border=\"1\" class=\"dataframe\">\n",
       "  <thead>\n",
       "    <tr style=\"text-align: right;\">\n",
       "      <th></th>\n",
       "      <th>NumOfPlays</th>\n",
       "      <th>NumOfTracks</th>\n",
       "    </tr>\n",
       "  </thead>\n",
       "  <tbody>\n",
       "    <tr>\n",
       "      <th>count</th>\n",
       "      <td>42325.000000</td>\n",
       "      <td>42325.000000</td>\n",
       "    </tr>\n",
       "    <tr>\n",
       "      <th>mean</th>\n",
       "      <td>47.253396</td>\n",
       "      <td>32.954566</td>\n",
       "    </tr>\n",
       "    <tr>\n",
       "      <th>std</th>\n",
       "      <td>58.453878</td>\n",
       "      <td>35.933418</td>\n",
       "    </tr>\n",
       "    <tr>\n",
       "      <th>min</th>\n",
       "      <td>1.000000</td>\n",
       "      <td>0.000000</td>\n",
       "    </tr>\n",
       "    <tr>\n",
       "      <th>50%</th>\n",
       "      <td>31.000000</td>\n",
       "      <td>22.000000</td>\n",
       "    </tr>\n",
       "    <tr>\n",
       "      <th>95%</th>\n",
       "      <td>143.000000</td>\n",
       "      <td>100.000000</td>\n",
       "    </tr>\n",
       "    <tr>\n",
       "      <th>99%</th>\n",
       "      <td>260.000000</td>\n",
       "      <td>166.000000</td>\n",
       "    </tr>\n",
       "    <tr>\n",
       "      <th>max</th>\n",
       "      <td>2309.000000</td>\n",
       "      <td>460.000000</td>\n",
       "    </tr>\n",
       "  </tbody>\n",
       "</table>\n",
       "</div>"
      ],
      "text/plain": [
       "         NumOfPlays   NumOfTracks\n",
       "count  42325.000000  42325.000000\n",
       "mean      47.253396     32.954566\n",
       "std       58.453878     35.933418\n",
       "min        1.000000      0.000000\n",
       "50%       31.000000     22.000000\n",
       "95%      143.000000    100.000000\n",
       "99%      260.000000    166.000000\n",
       "max     2309.000000    460.000000"
      ]
     },
     "execution_count": 14,
     "metadata": {},
     "output_type": "execute_result"
    }
   ],
   "source": [
    "res.describe(percentiles = [.5, .95, .99])"
   ]
  },
  {
   "cell_type": "markdown",
   "metadata": {},
   "source": [
    "\n",
    "* <font color=blue>The average number of daily plays was 48, and the average number of unique daily tracks was 35</font>\n",
    "*  <font color=blue>The higest number of daily plays was a very large <b>2862</b></font>\n",
    "*  <font color=blue>The 99th percentile was only 295, so perhaps this makes a good cut-off point</font>"
   ]
  },
  {
   "cell_type": "code",
   "execution_count": 15,
   "metadata": {},
   "outputs": [
    {
     "data": {
      "text/plain": [
       "25"
      ]
     },
     "execution_count": 15,
     "metadata": {},
     "output_type": "execute_result"
    }
   ],
   "source": [
    "qNumOfPlays = 295\n",
    "\n",
    "res[(res['NumOfPlays'] > qNumOfPlays)].user.nunique()\n",
    "\n",
    "# If you wish to drill down further use this:\n",
    "#res[(res['NumOfPlays'] > qNumOfPlays)].groupby(['user']).count()"
   ]
  },
  {
   "cell_type": "markdown",
   "metadata": {},
   "source": [
    "* <font color=blue>We would be excluding 253 users if we did this - which is a large portion of our 992 unique users.</font>"
   ]
  },
  {
   "cell_type": "code",
   "execution_count": 16,
   "metadata": {},
   "outputs": [
    {
     "data": {
      "text/html": [
       "<div>\n",
       "<style>\n",
       "    .dataframe thead tr:only-child th {\n",
       "        text-align: right;\n",
       "    }\n",
       "\n",
       "    .dataframe thead th {\n",
       "        text-align: left;\n",
       "    }\n",
       "\n",
       "    .dataframe tbody tr th {\n",
       "        vertical-align: top;\n",
       "    }\n",
       "</style>\n",
       "<table border=\"1\" class=\"dataframe\">\n",
       "  <thead>\n",
       "    <tr style=\"text-align: right;\">\n",
       "      <th></th>\n",
       "      <th>NumOfPlays</th>\n",
       "      <th>NumOfTracks</th>\n",
       "    </tr>\n",
       "  </thead>\n",
       "  <tbody>\n",
       "    <tr>\n",
       "      <th>count</th>\n",
       "      <td>97.000000</td>\n",
       "      <td>97.000000</td>\n",
       "    </tr>\n",
       "    <tr>\n",
       "      <th>mean</th>\n",
       "      <td>45.211017</td>\n",
       "      <td>30.394973</td>\n",
       "    </tr>\n",
       "    <tr>\n",
       "      <th>std</th>\n",
       "      <td>38.068147</td>\n",
       "      <td>18.512972</td>\n",
       "    </tr>\n",
       "    <tr>\n",
       "      <th>min</th>\n",
       "      <td>3.000000</td>\n",
       "      <td>2.000000</td>\n",
       "    </tr>\n",
       "    <tr>\n",
       "      <th>50%</th>\n",
       "      <td>39.818031</td>\n",
       "      <td>28.813411</td>\n",
       "    </tr>\n",
       "    <tr>\n",
       "      <th>95%</th>\n",
       "      <td>82.264390</td>\n",
       "      <td>57.555770</td>\n",
       "    </tr>\n",
       "    <tr>\n",
       "      <th>99%</th>\n",
       "      <td>198.532034</td>\n",
       "      <td>85.834380</td>\n",
       "    </tr>\n",
       "    <tr>\n",
       "      <th>max</th>\n",
       "      <td>315.550847</td>\n",
       "      <td>132.596354</td>\n",
       "    </tr>\n",
       "  </tbody>\n",
       "</table>\n",
       "</div>"
      ],
      "text/plain": [
       "       NumOfPlays  NumOfTracks\n",
       "count   97.000000    97.000000\n",
       "mean    45.211017    30.394973\n",
       "std     38.068147    18.512972\n",
       "min      3.000000     2.000000\n",
       "50%     39.818031    28.813411\n",
       "95%     82.264390    57.555770\n",
       "99%    198.532034    85.834380\n",
       "max    315.550847   132.596354"
      ]
     },
     "execution_count": 16,
     "metadata": {},
     "output_type": "execute_result"
    }
   ],
   "source": [
    "res.groupby(['user']).mean().describe([.5, .95, .99])"
   ]
  },
  {
   "cell_type": "markdown",
   "metadata": {},
   "source": [
    "* <font color=blue>When we take the average tracks played on a daily basis by user we get a 99th percentile of 208 with the max average being 337.</font>\n",
    "* <font color=blue>The question at this stage is whether we exclude any days where the number of tracks played by a user exceeded a certain threshold (say 295).</font>\n",
    "* <font color=blue>Our analysis suggests that a large portion of users (253 our of 992) did have such excessive plays therefore exlcuding this many users is not an option</font>\n",
    "* <font color=blue>If we average out across thee days then we find the data looks more normal - the max average was 337 tracks, still large but within the bounds of reality.</font>\n",
    "* <font color=blue>Of course why there are some days with excessively high track plays is a mystery. Further analysis did not show any obvious patterns other than user 8 who appeared to be particularly excessive number of plays. </font>"
   ]
  },
  {
   "cell_type": "code",
   "execution_count": 17,
   "metadata": {},
   "outputs": [
    {
     "data": {
      "text/html": [
       "<div>\n",
       "<style>\n",
       "    .dataframe thead tr:only-child th {\n",
       "        text-align: right;\n",
       "    }\n",
       "\n",
       "    .dataframe thead th {\n",
       "        text-align: left;\n",
       "    }\n",
       "\n",
       "    .dataframe tbody tr th {\n",
       "        vertical-align: top;\n",
       "    }\n",
       "</style>\n",
       "<table border=\"1\" class=\"dataframe\">\n",
       "  <thead>\n",
       "    <tr style=\"text-align: right;\">\n",
       "      <th></th>\n",
       "      <th>PlayedTimeStamp</th>\n",
       "      <th>NumOfPlays</th>\n",
       "      <th>NumOfTracks</th>\n",
       "    </tr>\n",
       "    <tr>\n",
       "      <th>user</th>\n",
       "      <th></th>\n",
       "      <th></th>\n",
       "      <th></th>\n",
       "    </tr>\n",
       "  </thead>\n",
       "  <tbody>\n",
       "    <tr>\n",
       "      <th>8</th>\n",
       "      <td>17</td>\n",
       "      <td>17</td>\n",
       "      <td>17</td>\n",
       "    </tr>\n",
       "  </tbody>\n",
       "</table>\n",
       "</div>"
      ],
      "text/plain": [
       "      PlayedTimeStamp  NumOfPlays  NumOfTracks\n",
       "user                                          \n",
       "8                  17          17           17"
      ]
     },
     "execution_count": 17,
     "metadata": {},
     "output_type": "execute_result"
    }
   ],
   "source": [
    "tmp=res[(res['NumOfPlays'] > 800)].groupby(['user']).count()\n",
    "tmp"
   ]
  },
  {
   "cell_type": "code",
   "execution_count": 18,
   "metadata": {},
   "outputs": [
    {
     "data": {
      "text/plain": [
       "user           7.532957e+115\n",
       "NumOfPlays      3.155508e+02\n",
       "NumOfTracks     2.008475e+01\n",
       "dtype: float64"
      ]
     },
     "execution_count": 18,
     "metadata": {},
     "output_type": "execute_result"
    }
   ],
   "source": [
    "#res[(res['user'] =='8') & (res['NumOfPlays'] > 500)]\n",
    "res[(res['user'] =='8')].mean()"
   ]
  },
  {
   "cell_type": "markdown",
   "metadata": {},
   "source": [
    "<font color=blue>\n",
    "This analysis plus additional ones done that show user 8 playing songs in very rapid succession for an entire day indicate it may not be a real user and therefore ought to be removed.\n",
    "\n",
    "It is unclear if this is the case for other excessive users however it was decided they would be kept in the analysis.\n",
    "</font>"
   ]
  },
  {
   "cell_type": "markdown",
   "metadata": {},
   "source": [
    "<h3 style=\"background-color:#616161;color:white\">3. Interval time</h3>"
   ]
  },
  {
   "cell_type": "code",
   "execution_count": 13,
   "metadata": {
    "collapsed": true
   },
   "outputs": [],
   "source": [
    "con = sqlite3.connect(dbPath)\n",
    "sqlStr ='Select userID, MinsSincePrevPlay, PlayedTimestamp, historyID from tblMain order by userID, historyID'\n",
    "res = pd.read_sql_query(sqlStr, con)\n",
    "con.close()\n",
    "\n",
    "# Change data types\n",
    "res['UserID'] = res['UserID'].astype('str')\n",
    "res['PlayedTimestamp'] =  pd.to_datetime(res['PlayedTimestamp'])"
   ]
  },
  {
   "cell_type": "code",
   "execution_count": 14,
   "metadata": {},
   "outputs": [
    {
     "data": {
      "image/png": "[encoded data removed]",
      "text/plain": [
       "<matplotlib.figure.Figure at 0x7f91ef5c2320>"
      ]
     },
     "metadata": {},
     "output_type": "display_data"
    },
    {
     "data": {
      "text/plain": [
       "16hrs       163356\n",
       "1day        113834\n",
       "1hr         164426\n",
       "2days        58733\n",
       "2hrs        138871\n",
       "30 min      579430\n",
       "3days        20670\n",
       "4days         9543\n",
       "4hrs        114257\n",
       "5days         5613\n",
       "6days         3524\n",
       "7days+        2393\n",
       "8 hrs       100019\n",
       "<10min    17467343\n",
       "Name: categories, dtype: int64"
      ]
     },
     "execution_count": 14,
     "metadata": {},
     "output_type": "execute_result"
    }
   ],
   "source": [
    "# Chart 1\n",
    "a=res[(res['MinsSincePrevPlay'] < 30)]\n",
    "b=res[(res['MinsSincePrevPlay'] > 30)]\n",
    "\n",
    "# the histogram of the data\n",
    "n, bins, patches = plt.hist(a['MinsSincePrevPlay'], 30,normed=1)\n",
    "_ = plt.xlabel('Mins since previous play')\n",
    "_ = plt.ylabel('Probability')\n",
    "_ = plt.title('Play interval times less than 30 minutes')\n",
    "plt.grid(True)\n",
    "\n",
    "plt.show()\n",
    "\n",
    "bins = [0,10,30, 60, 120, 240, 480, 960, 1440,2880,4320, 5760, 7200, 8640, 10080]\n",
    "group_names = ['<10min','30 min', '1hr', '2hrs', '4hrs', '8 hrs','16hrs','1day','2days','3days','4days','5days','6days','7days+']\n",
    "categories = pd.cut(res['MinsSincePrevPlay'], bins,labels=group_names)\n",
    "res['categories'] = pd.cut(res['MinsSincePrevPlay'], bins,labels=group_names)\n",
    "res['dayOfWeek'] = res['PlayedTimestamp'].dt.dayofweek\n",
    "\n",
    "pd.value_counts(res['categories'],sort=False)"
   ]
  },
  {
   "cell_type": "markdown",
   "metadata": {},
   "source": [
    "* <font color=blue>As one would expect, the average interval between plays of 4 minutes corresponds to an average length of a song, indicating consequtive listens. It tails off significantly after that.</font>\n",
    "* <font color=blue>Beyond the hour mark we see that 16 hours appears to be unusually popular. Let's see if it's associated with any day of the week</font>"
   ]
  },
  {
   "cell_type": "code",
   "execution_count": 15,
   "metadata": {},
   "outputs": [
    {
     "data": {
      "text/html": [
       "<div>\n",
       "<style>\n",
       "    .dataframe thead tr:only-child th {\n",
       "        text-align: right;\n",
       "    }\n",
       "\n",
       "    .dataframe thead th {\n",
       "        text-align: left;\n",
       "    }\n",
       "\n",
       "    .dataframe tbody tr th {\n",
       "        vertical-align: top;\n",
       "    }\n",
       "</style>\n",
       "<table border=\"1\" class=\"dataframe\">\n",
       "  <thead>\n",
       "    <tr style=\"text-align: right;\">\n",
       "      <th>dayOfWeek</th>\n",
       "      <th>0</th>\n",
       "      <th>1</th>\n",
       "      <th>2</th>\n",
       "      <th>3</th>\n",
       "      <th>4</th>\n",
       "      <th>5</th>\n",
       "      <th>6</th>\n",
       "    </tr>\n",
       "    <tr>\n",
       "      <th>categories</th>\n",
       "      <th></th>\n",
       "      <th></th>\n",
       "      <th></th>\n",
       "      <th></th>\n",
       "      <th></th>\n",
       "      <th></th>\n",
       "      <th></th>\n",
       "    </tr>\n",
       "  </thead>\n",
       "  <tbody>\n",
       "    <tr>\n",
       "      <th>16hrs</th>\n",
       "      <td>0.138067</td>\n",
       "      <td>0.150555</td>\n",
       "      <td>0.149771</td>\n",
       "      <td>0.147696</td>\n",
       "      <td>0.144372</td>\n",
       "      <td>0.136138</td>\n",
       "      <td>0.133402</td>\n",
       "    </tr>\n",
       "    <tr>\n",
       "      <th>1day</th>\n",
       "      <td>0.130971</td>\n",
       "      <td>0.159952</td>\n",
       "      <td>0.163273</td>\n",
       "      <td>0.161586</td>\n",
       "      <td>0.148752</td>\n",
       "      <td>0.117909</td>\n",
       "      <td>0.117557</td>\n",
       "    </tr>\n",
       "    <tr>\n",
       "      <th>1hr</th>\n",
       "      <td>0.151399</td>\n",
       "      <td>0.148529</td>\n",
       "      <td>0.146923</td>\n",
       "      <td>0.147963</td>\n",
       "      <td>0.139905</td>\n",
       "      <td>0.129511</td>\n",
       "      <td>0.135769</td>\n",
       "    </tr>\n",
       "    <tr>\n",
       "      <th>2days</th>\n",
       "      <td>0.148145</td>\n",
       "      <td>0.126828</td>\n",
       "      <td>0.138610</td>\n",
       "      <td>0.142169</td>\n",
       "      <td>0.138117</td>\n",
       "      <td>0.145216</td>\n",
       "      <td>0.160915</td>\n",
       "    </tr>\n",
       "    <tr>\n",
       "      <th>2hrs</th>\n",
       "      <td>0.148865</td>\n",
       "      <td>0.151227</td>\n",
       "      <td>0.148224</td>\n",
       "      <td>0.148238</td>\n",
       "      <td>0.141801</td>\n",
       "      <td>0.127838</td>\n",
       "      <td>0.133808</td>\n",
       "    </tr>\n",
       "    <tr>\n",
       "      <th>30 min</th>\n",
       "      <td>0.149733</td>\n",
       "      <td>0.149688</td>\n",
       "      <td>0.147426</td>\n",
       "      <td>0.146361</td>\n",
       "      <td>0.141104</td>\n",
       "      <td>0.129184</td>\n",
       "      <td>0.136503</td>\n",
       "    </tr>\n",
       "    <tr>\n",
       "      <th>3days</th>\n",
       "      <td>0.249347</td>\n",
       "      <td>0.115191</td>\n",
       "      <td>0.109869</td>\n",
       "      <td>0.118239</td>\n",
       "      <td>0.121819</td>\n",
       "      <td>0.118191</td>\n",
       "      <td>0.167344</td>\n",
       "    </tr>\n",
       "    <tr>\n",
       "      <th>4days</th>\n",
       "      <td>0.228754</td>\n",
       "      <td>0.165462</td>\n",
       "      <td>0.118411</td>\n",
       "      <td>0.116944</td>\n",
       "      <td>0.119040</td>\n",
       "      <td>0.116944</td>\n",
       "      <td>0.134444</td>\n",
       "    </tr>\n",
       "    <tr>\n",
       "      <th>4hrs</th>\n",
       "      <td>0.148350</td>\n",
       "      <td>0.147553</td>\n",
       "      <td>0.147229</td>\n",
       "      <td>0.145418</td>\n",
       "      <td>0.140648</td>\n",
       "      <td>0.131012</td>\n",
       "      <td>0.139790</td>\n",
       "    </tr>\n",
       "    <tr>\n",
       "      <th>5days</th>\n",
       "      <td>0.182434</td>\n",
       "      <td>0.180652</td>\n",
       "      <td>0.135934</td>\n",
       "      <td>0.116515</td>\n",
       "      <td>0.130412</td>\n",
       "      <td>0.124176</td>\n",
       "      <td>0.129877</td>\n",
       "    </tr>\n",
       "    <tr>\n",
       "      <th>6days</th>\n",
       "      <td>0.159478</td>\n",
       "      <td>0.156356</td>\n",
       "      <td>0.141884</td>\n",
       "      <td>0.126844</td>\n",
       "      <td>0.143587</td>\n",
       "      <td>0.150114</td>\n",
       "      <td>0.121737</td>\n",
       "    </tr>\n",
       "    <tr>\n",
       "      <th>7days+</th>\n",
       "      <td>0.146260</td>\n",
       "      <td>0.140827</td>\n",
       "      <td>0.125784</td>\n",
       "      <td>0.150439</td>\n",
       "      <td>0.139574</td>\n",
       "      <td>0.158379</td>\n",
       "      <td>0.138738</td>\n",
       "    </tr>\n",
       "    <tr>\n",
       "      <th>8 hrs</th>\n",
       "      <td>0.145422</td>\n",
       "      <td>0.149292</td>\n",
       "      <td>0.146212</td>\n",
       "      <td>0.145612</td>\n",
       "      <td>0.141753</td>\n",
       "      <td>0.134904</td>\n",
       "      <td>0.136804</td>\n",
       "    </tr>\n",
       "    <tr>\n",
       "      <th>&lt;10min</th>\n",
       "      <td>0.146126</td>\n",
       "      <td>0.147604</td>\n",
       "      <td>0.146218</td>\n",
       "      <td>0.144638</td>\n",
       "      <td>0.140870</td>\n",
       "      <td>0.134675</td>\n",
       "      <td>0.139870</td>\n",
       "    </tr>\n",
       "  </tbody>\n",
       "</table>\n",
       "</div>"
      ],
      "text/plain": [
       "dayOfWeek          0         1         2         3         4         5  \\\n",
       "categories                                                               \n",
       "16hrs       0.138067  0.150555  0.149771  0.147696  0.144372  0.136138   \n",
       "1day        0.130971  0.159952  0.163273  0.161586  0.148752  0.117909   \n",
       "1hr         0.151399  0.148529  0.146923  0.147963  0.139905  0.129511   \n",
       "2days       0.148145  0.126828  0.138610  0.142169  0.138117  0.145216   \n",
       "2hrs        0.148865  0.151227  0.148224  0.148238  0.141801  0.127838   \n",
       "30 min      0.149733  0.149688  0.147426  0.146361  0.141104  0.129184   \n",
       "3days       0.249347  0.115191  0.109869  0.118239  0.121819  0.118191   \n",
       "4days       0.228754  0.165462  0.118411  0.116944  0.119040  0.116944   \n",
       "4hrs        0.148350  0.147553  0.147229  0.145418  0.140648  0.131012   \n",
       "5days       0.182434  0.180652  0.135934  0.116515  0.130412  0.124176   \n",
       "6days       0.159478  0.156356  0.141884  0.126844  0.143587  0.150114   \n",
       "7days+      0.146260  0.140827  0.125784  0.150439  0.139574  0.158379   \n",
       "8 hrs       0.145422  0.149292  0.146212  0.145612  0.141753  0.134904   \n",
       "<10min      0.146126  0.147604  0.146218  0.144638  0.140870  0.134675   \n",
       "\n",
       "dayOfWeek          6  \n",
       "categories            \n",
       "16hrs       0.133402  \n",
       "1day        0.117557  \n",
       "1hr         0.135769  \n",
       "2days       0.160915  \n",
       "2hrs        0.133808  \n",
       "30 min      0.136503  \n",
       "3days       0.167344  \n",
       "4days       0.134444  \n",
       "4hrs        0.139790  \n",
       "5days       0.129877  \n",
       "6days       0.121737  \n",
       "7days+      0.138738  \n",
       "8 hrs       0.136804  \n",
       "<10min      0.139870  "
      ]
     },
     "execution_count": 15,
     "metadata": {},
     "output_type": "execute_result"
    }
   ],
   "source": [
    "pd.crosstab(res['categories'],res['dayOfWeek'],normalize ='index') # 0 = monday"
   ]
  },
  {
   "cell_type": "markdown",
   "metadata": {},
   "source": [
    "* There does not appear to be any patterns here"
   ]
  },
  {
   "cell_type": "markdown",
   "metadata": {},
   "source": [
    "<h3 style=\"background-color:#616161;color:white\">4. Conclusion</h3>"
   ]
  },
  {
   "cell_type": "markdown",
   "metadata": {},
   "source": [
    "Section 2:\n",
    "* <font color=blue>User 8 appears not to be a valid user and therefore will be removed. </font>\n",
    "* <font color=blue>It is unclear if this is the case for other excessive users however it was decided they would be kept in the analysis. </font>\n",
    "\n",
    "Section 3:\n",
    "* <font color=blue>The vast majority of users listen to songs consequtively as one would expect</font>\n",
    "* <font color=blue>Beyond that the drop-off rate is steep, and particularly drops after the 1 day period</font>\n",
    "* <font color=blue>From a modeling point of view we will classify the data into 3 buckets:</font> \n",
    "    * <font color=blue>'single session' : 10 minutes or under</font>\n",
    "    * <font color=blue>'same day': 24 hours or under</font>\n",
    "    * <font color=blue>'long gap': more than 24 hours</font>\n",
    "* <font color=blue>We will evaluate whether it's better tol have 1 model for all three of these categories or whether two or three models perform better</font>"
   ]
  },
  {
   "cell_type": "markdown",
   "metadata": {},
   "source": [
    "<h3 style=\"background-color:#616161;color:white\">END</h3>"
   ]
  }
 ],
 "metadata": {
  "anaconda-cloud": {},
  "kernelspec": {
   "display_name": "Python 3",
   "language": "python",
   "name": "python3"
  },
  "language_info": {
   "codemirror_mode": {
    "name": "ipython",
    "version": 3
   },
   "file_extension": ".py",
   "mimetype": "text/x-python",
   "name": "python",
   "nbconvert_exporter": "python",
   "pygments_lexer": "ipython3",
   "version": "3.5.2"
  }
 },
 "nbformat": 4,
 "nbformat_minor": 2
}
