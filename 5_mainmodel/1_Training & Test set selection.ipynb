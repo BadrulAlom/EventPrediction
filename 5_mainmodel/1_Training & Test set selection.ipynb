{
 "cells": [
  {
   "cell_type": "markdown",
   "metadata": {},
   "source": [
    "<h1 align=\"center\" style=\"background-color:#616161;color:white\">Training and Test Set Selection</h1>\n",
    "\n",
    "There will be two types of assessments: \n",
    "* Predicting what and when known users would like to listen to next\n",
    "* Predicting what and when previously unknown users would like to listen to next\n",
    "\n",
    "<b>Predicting next action of a known user:</b>\n",
    "* For every user 3 randomly selected time slots will be chosen from the last 10% of their listening history\n",
    "    * A timeslot in the 10-30 minute interval range. This is to assess\n",
    "    * A timeslot in the 12 hours+ interval range\n",
    "    * A timeslot in the 10minutes + interval range. This is to act as a control sample to assess whether the interval range do make a difference in prediction.\n",
    "    \n",
    "<b>Unknown users sample:</b>\n",
    "* 10 users will be randomly selected and separated out to be used in evaluating unknown users"
   ]
  },
  {
   "cell_type": "markdown",
   "metadata": {},
   "source": [
    "<h3 style=\"background-color:#616161;color:white\">Setup code (you can ignore this)</h3>"
   ]
  },
  {
   "cell_type": "code",
   "execution_count": 1,
   "metadata": {
    "collapsed": true
   },
   "outputs": [],
   "source": [
    "# import modules\n",
    "%matplotlib inline\n",
    "import os\n",
    "import sys\n",
    "import numpy as np\n",
    "import pandas as pd\n",
    "import datetime\n",
    "import csv\n",
    "import json\n",
    "import sqlite3\n",
    "from pathlib import Path\n",
    "from sklearn.manifold import TSNE\n",
    "from sklearn.datasets import fetch_20newsgroups\n",
    "import matplotlib.pyplot as plt\n",
    "import gensim, logging\n",
    "\n",
    "## Parameters you can change\n",
    "\n",
    "# Abs path to settings file\n",
    "#root = \"C:/DS/Github/MusicRecommendation\"  # BA, Windows\n",
    "root = \"/home/badrul/Documents/github/MusicRecommendation\" # BA, Linux\n",
    "\n",
    "## Import the codebase module\n",
    "fPath = root + \"/1_codemodule\"\n",
    "if fPath not in sys.path: sys.path.append(fPath)\n",
    "\n",
    "import coreCode as cb\n",
    "import lastfmCode as fm\n",
    "\n",
    "## Finish setting up\n",
    "os.chdir(root)\n",
    "\n",
    "settingsDict =  cb.loadSettings()\n",
    "\n",
    "dbPath = root + settingsDict['mainDbPath']\n",
    "fmSimilarDbPath = root + settingsDict['fmSimilarDbPath']\n",
    "fmTagsDbPath = root + settingsDict['fmTagsDbPath']\n",
    "trackMetaDbPath = root + settingsDict['trackmetadata']\n"
   ]
  },
  {
   "cell_type": "markdown",
   "metadata": {},
   "source": [
    "<h3 style=\"background-color:#616161;color:white\">Select random users</h3>"
   ]
  },
  {
   "cell_type": "code",
   "execution_count": 9,
   "metadata": {},
   "outputs": [
    {
     "data": {
      "text/html": [
       "<div>\n",
       "<style>\n",
       "    .dataframe thead tr:only-child th {\n",
       "        text-align: right;\n",
       "    }\n",
       "\n",
       "    .dataframe thead th {\n",
       "        text-align: left;\n",
       "    }\n",
       "\n",
       "    .dataframe tbody tr th {\n",
       "        vertical-align: top;\n",
       "    }\n",
       "</style>\n",
       "<table border=\"1\" class=\"dataframe\">\n",
       "  <thead>\n",
       "    <tr style=\"text-align: right;\">\n",
       "      <th></th>\n",
       "      <th>userID</th>\n",
       "      <th>FirstPlay</th>\n",
       "    </tr>\n",
       "  </thead>\n",
       "  <tbody>\n",
       "    <tr>\n",
       "      <th>0</th>\n",
       "      <td>148</td>\n",
       "      <td>2008-09-19 08:24:55</td>\n",
       "    </tr>\n",
       "    <tr>\n",
       "      <th>1</th>\n",
       "      <td>195</td>\n",
       "      <td>2007-08-01 22:53:28</td>\n",
       "    </tr>\n",
       "    <tr>\n",
       "      <th>2</th>\n",
       "      <td>367</td>\n",
       "      <td>2007-08-23 17:46:47</td>\n",
       "    </tr>\n",
       "    <tr>\n",
       "      <th>3</th>\n",
       "      <td>511</td>\n",
       "      <td>2005-12-14 00:50:27</td>\n",
       "    </tr>\n",
       "    <tr>\n",
       "      <th>4</th>\n",
       "      <td>622</td>\n",
       "      <td>2006-06-03 02:57:04</td>\n",
       "    </tr>\n",
       "    <tr>\n",
       "      <th>5</th>\n",
       "      <td>685</td>\n",
       "      <td>2005-12-09 22:23:10</td>\n",
       "    </tr>\n",
       "    <tr>\n",
       "      <th>6</th>\n",
       "      <td>699</td>\n",
       "      <td>2007-03-03 05:35:05</td>\n",
       "    </tr>\n",
       "    <tr>\n",
       "      <th>7</th>\n",
       "      <td>747</td>\n",
       "      <td>2006-04-21 08:48:32</td>\n",
       "    </tr>\n",
       "    <tr>\n",
       "      <th>8</th>\n",
       "      <td>847</td>\n",
       "      <td>2006-01-02 23:03:03</td>\n",
       "    </tr>\n",
       "    <tr>\n",
       "      <th>9</th>\n",
       "      <td>872</td>\n",
       "      <td>2008-02-19 19:27:38</td>\n",
       "    </tr>\n",
       "    <tr>\n",
       "      <th>10</th>\n",
       "      <td>894</td>\n",
       "      <td>2008-10-13 04:45:38</td>\n",
       "    </tr>\n",
       "  </tbody>\n",
       "</table>\n",
       "</div>"
      ],
      "text/plain": [
       "    userID            FirstPlay\n",
       "0      148  2008-09-19 08:24:55\n",
       "1      195  2007-08-01 22:53:28\n",
       "2      367  2007-08-23 17:46:47\n",
       "3      511  2005-12-14 00:50:27\n",
       "4      622  2006-06-03 02:57:04\n",
       "5      685  2005-12-09 22:23:10\n",
       "6      699  2007-03-03 05:35:05\n",
       "7      747  2006-04-21 08:48:32\n",
       "8      847  2006-01-02 23:03:03\n",
       "9      872  2008-02-19 19:27:38\n",
       "10     894  2008-10-13 04:45:38"
      ]
     },
     "execution_count": 9,
     "metadata": {},
     "output_type": "execute_result"
    }
   ],
   "source": [
    "TestUsers = 10\n",
    "sqlStr= \"SELECT * FROM tblAgg_User WHERE UserID IN (SELECT UserID FROM tblAgg_User ORDER BY RANDOM() LIMIT {})\".format(TestUsers+1)\n",
    "# Read sqlite query results into a pandas DataFrame\n",
    "con = sqlite3.connect(dbPath)\n",
    "df = pd.read_sql_query(sqlStr, con)\n",
    "con.close()\n",
    "\n",
    "df"
   ]
  },
  {
   "cell_type": "code",
   "execution_count": 17,
   "metadata": {
    "collapsed": true
   },
   "outputs": [],
   "source": [
    "# Store the record of which 10 users were selected\n",
    "    \n",
    "testUsers = [148,195,367,511,622,685,747,847,872,894]\n",
    "con = sqlite3.connect(dbPath)\n",
    "\n",
    "for UserID in testUsers:\n",
    "    sqlStr = \"Update tblAgg_User Set TestUser = 1 where UserID = {}\".format(UserID)    \n",
    "    con.execute(sqlStr)\n",
    "    con.commit()\n",
    "\n",
    "con.close()"
   ]
  },
  {
   "cell_type": "markdown",
   "metadata": {},
   "source": [
    "<h3 style=\"background-color:#616161;color:white\">Select random timeslots</h3>"
   ]
  },
  {
   "cell_type": "code",
   "execution_count": 49,
   "metadata": {
    "collapsed": true
   },
   "outputs": [],
   "source": [
    "sqlStr = 'Select UserID, round(max(HistoryID)*0.9) as cutOff from tblMain Group by UserID'\n",
    "con = sqlite3.connect(dbPath)\n",
    "df = pd.read_sql_query(sqlStr, con)\n",
    "\n",
    "for index, row in df.iterrows():\n",
    "    c = int(row['cutOff'])\n",
    "    u= row['UserID']\n",
    "    sqlStr = 'Update tblAgg_User Set TestHistID = {} Where UserID = {}'.format(c,u)\n",
    "    con.execute(sqlStr)\n",
    "\n",
    "con.commit()\n",
    "con.close()\n"
   ]
  }
 ],
 "metadata": {
  "kernelspec": {
   "display_name": "Python 3",
   "language": "python",
   "name": "python3"
  },
  "language_info": {
   "codemirror_mode": {
    "name": "ipython",
    "version": 3
   },
   "file_extension": ".py",
   "mimetype": "text/x-python",
   "name": "python",
   "nbconvert_exporter": "python",
   "pygments_lexer": "ipython3",
   "version": "3.6.1"
  }
 },
 "nbformat": 4,
 "nbformat_minor": 2
}
