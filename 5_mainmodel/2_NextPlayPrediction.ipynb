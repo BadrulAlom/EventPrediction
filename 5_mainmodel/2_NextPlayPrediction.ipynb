{
 "cells": [
  {
   "cell_type": "markdown",
   "metadata": {},
   "source": [
    "<h1 align=\"center\" style=\"background-color:#616161;color:white\">Next play prediction using Bayesian Inference</h1>"
   ]
  },
  {
   "cell_type": "markdown",
   "metadata": {},
   "source": [
    "Here we shall apply Bayesian Inference, and specifically a Beta conjugate prior, to determine the liklihood of a user listening\n",
    "to music in a given time slot.\n",
    "\n",
    "<h4>Methodology</h4>\n",
    "* $\\theta$ is the probability of someone listening to music in a given Timeslot. This is what we wish to determine.\n",
    "* Our prior beliefs will be based on analyzing the entire population, and our posterior belief will be to take into account a users personal play history up to the cut-off point for the training data\n",
    "\n",
    "$p(\\theta_{jt} | Y_{jt}) = Beta(\\alpha_{jt} + Y_{jt}, \\beta_{jt} + N_{jt}-Y_{jt})$ \n",
    "for user j, at time slot $t$\n",
    "\n",
    "* Note: How we determine the prior probability is based on analyzing how many times users played music in that time slot out of the total number of chances they had to listen to music in that time slot. This latter amount has to be estimated from the data in a somewhat crude manner (count up the total number of weeks they listened to music in ANY timeslot )."
   ]
  },
  {
   "cell_type": "markdown",
   "metadata": {},
   "source": [
    "<h3 style=\"background-color:#616161;color:white\">0. Setup</h3>"
   ]
  },
  {
   "cell_type": "markdown",
   "metadata": {},
   "source": [
    "<div style=\"background-color:white; color:#008000; font-family: 'Courier New, Monospace;font-weight: bold\">Input Parameters</div>"
   ]
  },
  {
   "cell_type": "code",
   "execution_count": 1,
   "metadata": {
    "collapsed": true
   },
   "outputs": [],
   "source": [
    "PeriodGranularity = 60 # E.g. 15, 30, 60\n",
    "# Train / Test split\n",
    "MinsSincePrevPlay = 60   # Best to keep this at 60\n",
    "newUsers = 10   # Num of randomly selected users to separate out of eval 2\n",
    "\n",
    "# Root path\n",
    "root = \"C:/DS/Github/MusicRecommendation\"  # BA, Windows\n",
    "#root = \"/home/badrul/Documents/github/MusicRecommendation\" # BA, Linux"
   ]
  },
  {
   "cell_type": "markdown",
   "metadata": {},
   "source": [
    "<div style=\"background-color:white; color:#008000; font-family: 'Courier New, Monospace;font-weight: bold\">Import Libraries</div>"
   ]
  },
  {
   "cell_type": "code",
   "execution_count": 2,
   "metadata": {
    "collapsed": false
   },
   "outputs": [],
   "source": [
    "# Core\n",
    "import numpy as np\n",
    "import pandas as pd\n",
    "from IPython.core.debugger import Tracer    # Used for debugging\n",
    "import logging\n",
    "\n",
    "# File and database management\n",
    "import csv\n",
    "import os\n",
    "import sys\n",
    "import json\n",
    "import sqlite3\n",
    "from pathlib import Path\n",
    "\n",
    "# Date/Time\n",
    "import datetime\n",
    "import time\n",
    "\n",
    "# Visualization\n",
    "from ggplot import *                        # Preferred\n",
    "import matplotlib.pyplot as plt             # Quick\n",
    "%matplotlib inline\n",
    "\n",
    "# Data science (comment out if not needed)\n",
    "#from sklearn.manifold import TSNE\n",
    "\n",
    "# Misc\n",
    "import random\n",
    "\n",
    "#-------------- Custom Libs -----------------#\n",
    "os.chdir(root)\n",
    "\n",
    "# Import the codebase module\n",
    "fPath = root + \"/1_codemodule\"\n",
    "if fPath not in sys.path: sys.path.append(fPath)\n",
    "\n",
    "# Custom Libs\n",
    "import coreCode as cc\n",
    "import lastfmCode as fm"
   ]
  },
  {
   "cell_type": "markdown",
   "metadata": {},
   "source": [
    "<div style=\"background-color:#white; color:#008000; font-family: 'Courier New, Monospace;font-weight: bold\">Declare Functions</div>"
   ]
  },
  {
   "cell_type": "code",
   "execution_count": 17,
   "metadata": {
    "collapsed": true
   },
   "outputs": [],
   "source": [
    "# Function definition\n",
    "\n",
    "def estBetaParams(mu, var):\n",
    "    a = ((1 - mu) / var - 1 / mu) * mu**2\n",
    "    b = a * (1 / mu - 1)\n",
    "    return (a,b)\n",
    "\n",
    "def getNextPlayProb_Beta(df,Timeslot):\n",
    "    # Calculate posteriors: a=a+y and b=b+n-y\n",
    "    playCount = df[df.Timeslot == Timeslot]['PlayCount']\n",
    "    # Count num of weeks up to this point\n",
    "    totalWks = len(df.PlayDate.dt.week.unique())\n",
    "    a = priorDf.loc[timeslot]['a'] + playCount\n",
    "    b = priorDf.loc[timeslot]['b'] + totalWks-playCount\n",
    "    mu = a/(a+b)\n",
    "    print(a,b,mu)\n",
    "    return mu"
   ]
  },
  {
   "cell_type": "markdown",
   "metadata": {},
   "source": [
    "<div style=\"background-color:#white; color:#008000; font-family: 'Courier New, Monospace;font-weight: bold\">Load settings</div>"
   ]
  },
  {
   "cell_type": "code",
   "execution_count": 4,
   "metadata": {
    "collapsed": false
   },
   "outputs": [],
   "source": [
    "settingsDict =  cc.loadSettings()\n",
    "dbPath = root + settingsDict['mainDbPath']\n",
    "fmSimilarDbPath = root + settingsDict['fmSimilarDbPath']\n",
    "fmTagsDbPath = root + settingsDict['fmTagsDbPath']\n",
    "trackMetaDbPath = root + settingsDict['trackmetadata']"
   ]
  },
  {
   "cell_type": "markdown",
   "metadata": {},
   "source": [
    "<div style=\"background-color:#white; color:#008000; font-family: 'Courier New, Monospace;font-weight: bold\">Other setup</div>\n",
    "\n",
    "<div style=\"background-color:#white; color:red; font-family: 'Courier New, Monospace;font-weight: bold\">(Only need to run this once as stores results in db)</div>"
   ]
  },
  {
   "cell_type": "code",
   "execution_count": 27,
   "metadata": {
    "collapsed": false
   },
   "outputs": [],
   "source": [
    "db = sqlite3.connect(dbPath)\n",
    "c=db.cursor()\n",
    "\n",
    "# Create tblMainAgg\n",
    "c=db.cursor()\n",
    "c.execute('DROP TABLE IF EXISTS tblMainAgg')\n",
    "SqlStr = 'CREATE TABLE tblMainAgg (UserID integer, PlayDate text, Timeslot text)';\n",
    "\n",
    "c.execute(SqlStr)\n",
    "db.commit()\n",
    "\n",
    "SqlStr =\"\"\"INSERT INTO tblMainAgg  SELECT M.UserID, strftime('%d-%m-%Y',PlayedTimestamp) as playDate,\n",
    "(strftime('%w',PlayedTimestamp)+1) || '-' || (strftime('%H',M.PlayedTimestamp)) || \"-\" || \n",
    "(cast(strftime('%M',M.PlayedTimestamp) / {} +1 as int)) as Timeslot from tblMain as M\n",
    "Group BY userID,playDate,Timeslot\"\"\".format(PeriodGranularity)\n",
    "\n",
    "c.execute(SqlStr)\n",
    "db.commit()\n",
    "db.close()"
   ]
  },
  {
   "cell_type": "markdown",
   "metadata": {},
   "source": [
    "<h3 style=\"background-color:#616161;color:white\">1. Get train & test data</h3>\n",
    "\n",
    "10 Test users have been pre-selected in a previous notebook. Here we load up the 10 into a test datast, and the remainder into a training dataset\n",
    "\n",
    "The test set will be 'new users' and we will evaluate how well we can predict when the user wishes to listen to music as more and more observations come in.\n",
    "\n"
   ]
  },
  {
   "cell_type": "code",
   "execution_count": 5,
   "metadata": {
    "collapsed": false
   },
   "outputs": [],
   "source": [
    "con = sqlite3.connect(dbPath)\n",
    "\n",
    "# Select the train users\n",
    "SQLStr=\"\"\"\n",
    "SELECT M.UserID, Timeslot, count(*) as PlayCount from tblMainAgg as M \n",
    "INNER JOIN tblUsers ON M.UserID = tblUsers.UserID \n",
    "WHERE tblUsers.TestUser = 0 GROUP BY M.UserID, Timeslot\"\"\".format(PeriodGranularity)\n",
    "\n",
    "trainDf = pd.read_sql_query(SQLStr, con)\n",
    "\n",
    "users = trainDf['UserID'].unique()\n",
    "\n",
    "# Also fetch the total number of weeks each user has played music\n",
    "sqlStr = \"Select userID, count(DISTINCT (strftime('%W',PlayedTimestamp)||strftime('%Y',PlayedTimestamp))) as TotalWks from tblMain group by userID\"\n",
    "wks = pd.read_sql_query(sqlStr, con)\n",
    "wks.set_index('UserID',inplace=True)\n",
    "\n",
    "con.close()\n"
   ]
  },
  {
   "cell_type": "code",
   "execution_count": 6,
   "metadata": {
    "collapsed": false
   },
   "outputs": [
    {
     "data": {
      "text/html": [
       "<div>\n",
       "<table border=\"1\" class=\"dataframe\">\n",
       "  <thead>\n",
       "    <tr style=\"text-align: right;\">\n",
       "      <th></th>\n",
       "      <th>UserID</th>\n",
       "      <th>Timeslot</th>\n",
       "      <th>PlayCount</th>\n",
       "    </tr>\n",
       "  </thead>\n",
       "  <tbody>\n",
       "    <tr>\n",
       "      <th>0</th>\n",
       "      <td>47</td>\n",
       "      <td>1-00-1</td>\n",
       "      <td>2</td>\n",
       "    </tr>\n",
       "    <tr>\n",
       "      <th>1</th>\n",
       "      <td>47</td>\n",
       "      <td>1-01-1</td>\n",
       "      <td>1</td>\n",
       "    </tr>\n",
       "    <tr>\n",
       "      <th>2</th>\n",
       "      <td>47</td>\n",
       "      <td>1-07-1</td>\n",
       "      <td>1</td>\n",
       "    </tr>\n",
       "    <tr>\n",
       "      <th>3</th>\n",
       "      <td>47</td>\n",
       "      <td>1-08-1</td>\n",
       "      <td>4</td>\n",
       "    </tr>\n",
       "    <tr>\n",
       "      <th>4</th>\n",
       "      <td>47</td>\n",
       "      <td>1-09-1</td>\n",
       "      <td>3</td>\n",
       "    </tr>\n",
       "  </tbody>\n",
       "</table>\n",
       "</div>"
      ],
      "text/plain": [
       "   UserID Timeslot  PlayCount\n",
       "0      47   1-00-1          2\n",
       "1      47   1-01-1          1\n",
       "2      47   1-07-1          1\n",
       "3      47   1-08-1          4\n",
       "4      47   1-09-1          3"
      ]
     },
     "execution_count": 6,
     "metadata": {},
     "output_type": "execute_result"
    }
   ],
   "source": [
    "trainDf.head()"
   ]
  },
  {
   "cell_type": "code",
   "execution_count": 7,
   "metadata": {
    "collapsed": false
   },
   "outputs": [
    {
     "data": {
      "text/html": [
       "<div>\n",
       "<table border=\"1\" class=\"dataframe\">\n",
       "  <thead>\n",
       "    <tr style=\"text-align: right;\">\n",
       "      <th></th>\n",
       "      <th>TotalWks</th>\n",
       "    </tr>\n",
       "    <tr>\n",
       "      <th>UserID</th>\n",
       "      <th></th>\n",
       "    </tr>\n",
       "  </thead>\n",
       "  <tbody>\n",
       "    <tr>\n",
       "      <th>47</th>\n",
       "      <td>64</td>\n",
       "    </tr>\n",
       "    <tr>\n",
       "      <th>48</th>\n",
       "      <td>6</td>\n",
       "    </tr>\n",
       "    <tr>\n",
       "      <th>49</th>\n",
       "      <td>48</td>\n",
       "    </tr>\n",
       "    <tr>\n",
       "      <th>50</th>\n",
       "      <td>82</td>\n",
       "    </tr>\n",
       "    <tr>\n",
       "      <th>51</th>\n",
       "      <td>53</td>\n",
       "    </tr>\n",
       "  </tbody>\n",
       "</table>\n",
       "</div>"
      ],
      "text/plain": [
       "        TotalWks\n",
       "UserID          \n",
       "47            64\n",
       "48             6\n",
       "49            48\n",
       "50            82\n",
       "51            53"
      ]
     },
     "execution_count": 7,
     "metadata": {},
     "output_type": "execute_result"
    }
   ],
   "source": [
    "wks.head()"
   ]
  },
  {
   "cell_type": "markdown",
   "metadata": {},
   "source": [
    "Note we are now capturing all song plays, and not just the start of a listening session so the pattern isn't as obvious as before"
   ]
  },
  {
   "cell_type": "code",
   "execution_count": 8,
   "metadata": {
    "collapsed": false
   },
   "outputs": [
    {
     "data": {
      "text/plain": [
       "<matplotlib.axes._subplots.AxesSubplot at 0x218731bac50>"
      ]
     },
     "execution_count": 8,
     "metadata": {},
     "output_type": "execute_result"
    },
    {
     "data": {
      "image/png": "[encoded data removed]",
      "text/plain": [
       "<matplotlib.figure.Figure at 0x2186e15d1d0>"
      ]
     },
     "metadata": {},
     "output_type": "display_data"
    }
   ],
   "source": [
    "trainDf.plot(x='Timeslot', y='PlayCount',figsize=[15,3])"
   ]
  },
  {
   "cell_type": "markdown",
   "metadata": {},
   "source": [
    "<h3 style=\"background-color:#616161;color:white\">3. Construct prior probability from train data</h3>"
   ]
  },
  {
   "cell_type": "code",
   "execution_count": 9,
   "metadata": {
    "collapsed": false
   },
   "outputs": [],
   "source": [
    "try:\n",
    "    del trainDf['TotalWks']    # Delete col if it already exists\n",
    "except KeyError:\n",
    "    pass\n",
    "\n",
    "# Calculate probability\n",
    "trainDf=trainDf.set_index('UserID').join(wks)                      # Bring in total weeks from wks table\n",
    "trainDf['Prob'] = trainDf['PlayCount'] / trainDf['TotalWks']      # Prob = num of plays in this period / total num of weeks\n",
    "trainDf.reset_index(inplace=True)\n",
    "\n",
    "# Calculate the Priors from trainDf. Note: We are taking the mean of the user means here\n",
    "priorDf= trainDf.groupby('Timeslot')['Prob'].mean().to_frame('mean')  # Calculate the mean of prob for each period\n",
    "priorDf['var'] = trainDf.groupby('Timeslot')['Prob'].var()           # Calculate the variance of prob for each period\n",
    "a,b=estBetaParams(priorDf['mean'],priorDf['var'])                # Derive alpha & beta for the Beta dist\n",
    "priorDf['a']= a                                                 # Store a and b back into priorDf\n",
    "priorDf['b']= b"
   ]
  },
  {
   "cell_type": "code",
   "execution_count": 10,
   "metadata": {
    "collapsed": false
   },
   "outputs": [
    {
     "data": {
      "text/html": [
       "<div>\n",
       "<table border=\"1\" class=\"dataframe\">\n",
       "  <thead>\n",
       "    <tr style=\"text-align: right;\">\n",
       "      <th></th>\n",
       "      <th>UserID</th>\n",
       "      <th>Timeslot</th>\n",
       "      <th>PlayCount</th>\n",
       "      <th>TotalWks</th>\n",
       "      <th>Prob</th>\n",
       "    </tr>\n",
       "  </thead>\n",
       "  <tbody>\n",
       "    <tr>\n",
       "      <th>0</th>\n",
       "      <td>47</td>\n",
       "      <td>1-00-1</td>\n",
       "      <td>2</td>\n",
       "      <td>64</td>\n",
       "      <td>0.031250</td>\n",
       "    </tr>\n",
       "    <tr>\n",
       "      <th>1</th>\n",
       "      <td>47</td>\n",
       "      <td>1-01-1</td>\n",
       "      <td>1</td>\n",
       "      <td>64</td>\n",
       "      <td>0.015625</td>\n",
       "    </tr>\n",
       "    <tr>\n",
       "      <th>2</th>\n",
       "      <td>47</td>\n",
       "      <td>1-07-1</td>\n",
       "      <td>1</td>\n",
       "      <td>64</td>\n",
       "      <td>0.015625</td>\n",
       "    </tr>\n",
       "    <tr>\n",
       "      <th>3</th>\n",
       "      <td>47</td>\n",
       "      <td>1-08-1</td>\n",
       "      <td>4</td>\n",
       "      <td>64</td>\n",
       "      <td>0.062500</td>\n",
       "    </tr>\n",
       "    <tr>\n",
       "      <th>4</th>\n",
       "      <td>47</td>\n",
       "      <td>1-09-1</td>\n",
       "      <td>3</td>\n",
       "      <td>64</td>\n",
       "      <td>0.046875</td>\n",
       "    </tr>\n",
       "  </tbody>\n",
       "</table>\n",
       "</div>"
      ],
      "text/plain": [
       "   UserID Timeslot  PlayCount  TotalWks      Prob\n",
       "0      47   1-00-1          2        64  0.031250\n",
       "1      47   1-01-1          1        64  0.015625\n",
       "2      47   1-07-1          1        64  0.015625\n",
       "3      47   1-08-1          4        64  0.062500\n",
       "4      47   1-09-1          3        64  0.046875"
      ]
     },
     "execution_count": 10,
     "metadata": {},
     "output_type": "execute_result"
    }
   ],
   "source": [
    "trainDf.head()"
   ]
  },
  {
   "cell_type": "code",
   "execution_count": 11,
   "metadata": {
    "collapsed": false
   },
   "outputs": [
    {
     "data": {
      "text/html": [
       "<div>\n",
       "<table border=\"1\" class=\"dataframe\">\n",
       "  <thead>\n",
       "    <tr style=\"text-align: right;\">\n",
       "      <th></th>\n",
       "      <th>mean</th>\n",
       "      <th>var</th>\n",
       "      <th>a</th>\n",
       "      <th>b</th>\n",
       "    </tr>\n",
       "    <tr>\n",
       "      <th>Timeslot</th>\n",
       "      <th></th>\n",
       "      <th></th>\n",
       "      <th></th>\n",
       "      <th></th>\n",
       "    </tr>\n",
       "  </thead>\n",
       "  <tbody>\n",
       "    <tr>\n",
       "      <th>1-00-1</th>\n",
       "      <td>0.159405</td>\n",
       "      <td>0.018237</td>\n",
       "      <td>1.011787</td>\n",
       "      <td>5.335488</td>\n",
       "    </tr>\n",
       "    <tr>\n",
       "      <th>1-01-1</th>\n",
       "      <td>0.151340</td>\n",
       "      <td>0.019412</td>\n",
       "      <td>0.849962</td>\n",
       "      <td>4.766293</td>\n",
       "    </tr>\n",
       "    <tr>\n",
       "      <th>1-02-1</th>\n",
       "      <td>0.144524</td>\n",
       "      <td>0.019915</td>\n",
       "      <td>0.752735</td>\n",
       "      <td>4.455631</td>\n",
       "    </tr>\n",
       "    <tr>\n",
       "      <th>1-03-1</th>\n",
       "      <td>0.146554</td>\n",
       "      <td>0.020685</td>\n",
       "      <td>0.739609</td>\n",
       "      <td>4.307043</td>\n",
       "    </tr>\n",
       "    <tr>\n",
       "      <th>1-04-1</th>\n",
       "      <td>0.143099</td>\n",
       "      <td>0.020076</td>\n",
       "      <td>0.730943</td>\n",
       "      <td>4.376996</td>\n",
       "    </tr>\n",
       "  </tbody>\n",
       "</table>\n",
       "</div>"
      ],
      "text/plain": [
       "              mean       var         a         b\n",
       "Timeslot                                        \n",
       "1-00-1    0.159405  0.018237  1.011787  5.335488\n",
       "1-01-1    0.151340  0.019412  0.849962  4.766293\n",
       "1-02-1    0.144524  0.019915  0.752735  4.455631\n",
       "1-03-1    0.146554  0.020685  0.739609  4.307043\n",
       "1-04-1    0.143099  0.020076  0.730943  4.376996"
      ]
     },
     "execution_count": 11,
     "metadata": {},
     "output_type": "execute_result"
    }
   ],
   "source": [
    "priorDf.head()"
   ]
  },
  {
   "cell_type": "markdown",
   "metadata": {},
   "source": [
    "<h4 style=\"background-color:#616161;color:white\">Review prior probability</h4>"
   ]
  },
  {
   "cell_type": "markdown",
   "metadata": {},
   "source": [
    "Let's do a few checks to make sure we've calculated the probability correctly.\n",
    "\n",
    "Check that the min/max is within 0-1 boundaries"
   ]
  },
  {
   "cell_type": "code",
   "execution_count": 12,
   "metadata": {
    "collapsed": false
   },
   "outputs": [
    {
     "data": {
      "text/plain": [
       "count    123695.000000\n",
       "mean          0.183126\n",
       "std           0.155814\n",
       "min           0.004425\n",
       "25%           0.063158\n",
       "50%           0.140741\n",
       "75%           0.259459\n",
       "max           1.000000\n",
       "Name: Prob, dtype: float64"
      ]
     },
     "execution_count": 12,
     "metadata": {},
     "output_type": "execute_result"
    }
   ],
   "source": [
    "trainDf['Prob'].describe()"
   ]
  },
  {
   "cell_type": "markdown",
   "metadata": {},
   "source": [
    "Let's do a histogram to see what the distribution looks like"
   ]
  },
  {
   "cell_type": "code",
   "execution_count": 13,
   "metadata": {
    "collapsed": false
   },
   "outputs": [
    {
     "data": {
      "image/png": "[encoded data removed]",
      "text/plain": [
       "<matplotlib.figure.Figure at 0x2186af70630>"
      ]
     },
     "metadata": {},
     "output_type": "display_data"
    },
    {
     "data": {
      "text/plain": [
       "<ggplot: (143997154301)>"
      ]
     },
     "execution_count": 13,
     "metadata": {},
     "output_type": "execute_result"
    }
   ],
   "source": [
    "ggplot(aes(x='Prob'), data=trainDf) + \\\n",
    "    geom_histogram(binwidth=0.05)"
   ]
  },
  {
   "cell_type": "markdown",
   "metadata": {},
   "source": [
    "The plot shows that most of the probabilities are very low which is as expected>\n",
    "\n",
    "More crucially we can plot this distribution for a specific time-period"
   ]
  },
  {
   "cell_type": "code",
   "execution_count": 14,
   "metadata": {
    "collapsed": false
   },
   "outputs": [
    {
     "data": {
      "image/png": "[encoded data removed]",
      "text/plain": [
       "<matplotlib.figure.Figure at 0x2186e7d6c88>"
      ]
     },
     "metadata": {},
     "output_type": "display_data"
    },
    {
     "data": {
      "text/plain": [
       "<ggplot: (143997154056)>"
      ]
     },
     "execution_count": 14,
     "metadata": {},
     "output_type": "execute_result"
    }
   ],
   "source": [
    "Timeslot='2-18-1'\n",
    "ggplot(aes(x='Prob'), data=trainDf[trainDf.Timeslot==Timeslot]) + \\\n",
    "    geom_histogram(binwidth=0.01) + ggtitle(\"Day {}, Hour {}, Sub-interval {}\".format(Timeslot[0],Timeslot[2:4],Timeslot[5]))"
   ]
  },
  {
   "cell_type": "markdown",
   "metadata": {},
   "source": [
    "We can also plot the Estimated distribution for this Timeslot based on our Beta pdf"
   ]
  },
  {
   "cell_type": "code",
   "execution_count": 103,
   "metadata": {
    "collapsed": false,
    "scrolled": true
   },
   "outputs": [
    {
     "data": {
      "text/plain": [
       "[<matplotlib.lines.Line2D at 0x2186e6154e0>]"
      ]
     },
     "execution_count": 103,
     "metadata": {},
     "output_type": "execute_result"
    },
    {
     "data": {
      "image/png": "[encoded data removed]",
      "text/plain": [
       "<matplotlib.figure.Figure at 0x21805646e80>"
      ]
     },
     "metadata": {},
     "output_type": "display_data"
    }
   ],
   "source": [
    "from scipy.stats import beta\n",
    "\n",
    "\n",
    "p = '2-21-1'\n",
    "a = priorDf.loc[p]['a']\n",
    "b = priorDf.loc[p]['b']\n",
    "\n",
    "# Plot our prior Beta PDF\n",
    "fig, ax = plt.subplots(1, 1)\n",
    "x = np.linspace(beta.ppf(0.01, a, b),beta.ppf(0.99, a, b), 100)  # Generate prob distribution\n",
    "ax.set_xlabel('Theta (i.e. prob of listening to music)')\n",
    "ax.set_ylabel('p(Theta)')\n",
    "\n",
    "fig.suptitle('Prior prob for day {}, hour {}, interval {}'.format(p[0],p[2:4],p[5]))\n",
    "ax.plot(x, beta.pdf(x, a, b),'r-', lw=5, alpha=0.6)"
   ]
  },
  {
   "cell_type": "markdown",
   "metadata": {
    "collapsed": true
   },
   "source": [
    "<h3 style=\"background-color:#616161;color:white\">4. Evaluate model</h3>"
   ]
  },
  {
   "cell_type": "markdown",
   "metadata": {},
   "source": [
    "We now have a set of priors for every Timeslot, and we have the test user data on which to evaluate our model.\n",
    "What we wish to do is compare the individual user probability for a time slot, with the prob derived from our Beta distribution."
   ]
  },
  {
   "cell_type": "code",
   "execution_count": 16,
   "metadata": {
    "collapsed": false
   },
   "outputs": [
    {
     "data": {
      "text/html": [
       "<div>\n",
       "<table border=\"1\" class=\"dataframe\">\n",
       "  <thead>\n",
       "    <tr style=\"text-align: right;\">\n",
       "      <th></th>\n",
       "      <th>UserID</th>\n",
       "      <th>PlayDate</th>\n",
       "      <th>Timeslot</th>\n",
       "      <th>PlayCount</th>\n",
       "    </tr>\n",
       "  </thead>\n",
       "  <tbody>\n",
       "    <tr>\n",
       "      <th>0</th>\n",
       "      <td>93</td>\n",
       "      <td>2006-07-10</td>\n",
       "      <td>7-18-1</td>\n",
       "      <td>1</td>\n",
       "    </tr>\n",
       "    <tr>\n",
       "      <th>1</th>\n",
       "      <td>93</td>\n",
       "      <td>2008-01-06</td>\n",
       "      <td>1-00-1</td>\n",
       "      <td>1</td>\n",
       "    </tr>\n",
       "    <tr>\n",
       "      <th>2</th>\n",
       "      <td>93</td>\n",
       "      <td>2008-01-06</td>\n",
       "      <td>1-01-1</td>\n",
       "      <td>1</td>\n",
       "    </tr>\n",
       "    <tr>\n",
       "      <th>3</th>\n",
       "      <td>93</td>\n",
       "      <td>2008-01-06</td>\n",
       "      <td>1-02-1</td>\n",
       "      <td>1</td>\n",
       "    </tr>\n",
       "    <tr>\n",
       "      <th>4</th>\n",
       "      <td>93</td>\n",
       "      <td>2008-01-06</td>\n",
       "      <td>1-03-1</td>\n",
       "      <td>1</td>\n",
       "    </tr>\n",
       "  </tbody>\n",
       "</table>\n",
       "</div>"
      ],
      "text/plain": [
       "   UserID   PlayDate Timeslot  PlayCount\n",
       "0      93 2006-07-10   7-18-1          1\n",
       "1      93 2008-01-06   1-00-1          1\n",
       "2      93 2008-01-06   1-01-1          1\n",
       "3      93 2008-01-06   1-02-1          1\n",
       "4      93 2008-01-06   1-03-1          1"
      ]
     },
     "execution_count": 16,
     "metadata": {},
     "output_type": "execute_result"
    }
   ],
   "source": [
    "# Fetch the test data\n",
    "con = sqlite3.connect(dbPath)\n",
    "\n",
    "SQLStr=\"\"\"\n",
    "SELECT M.UserID, PlayDate, Timeslot, count(*) as PlayCount from tblMainAgg as M \n",
    "INNER JOIN tblUsers ON M.UserID = tblUsers.UserID \n",
    "WHERE tblUsers.TestUser =1 GROUP BY M.UserID, PlayDate, Timeslot\"\"\".format(PeriodGranularity)\n",
    "testDf = pd.read_sql_query(SQLStr, con)\n",
    "\n",
    "con.close()\n",
    "testDf[\"PlayDate\"] = pd.to_datetime(testDf[\"PlayDate\"])\n",
    "testDf.sort_values(['UserID','PlayDate'], inplace=True)\n",
    "testDf.reset_index(inplace=True, drop=True)\n",
    "testDf.head()"
   ]
  },
  {
   "cell_type": "markdown",
   "metadata": {},
   "source": [
    "We wish to construct a results table that has the following columns: User,Timeslot,cumulativeCount, TotalWks, actualProb, estProb.\n",
    "\n",
    "The cumulativeCount will allow us to track how the actual prob and predicted prob change as more observations are seen.\n",
    "\n",
    "As we haven't kept the time stamp in the dataset we shall just randomize the order of the observations to simulate a user listening over time"
   ]
  },
  {
   "cell_type": "code",
   "execution_count": 53,
   "metadata": {
    "collapsed": false
   },
   "outputs": [],
   "source": [
    "# Go through each row of the dataframe\n",
    "for i in range (0,testDf.shape[0]):\n",
    "    df =testDf.iloc[0:i]\n",
    "    timeslot = testDf.iloc[i]['Timeslot']\n",
    "    userID = testDf.iloc[0]['UserID']\n",
    "    df=testDf.iloc[0:i]                                      # Extract just rows up to point i\n",
    "    res = getNextPlayProb_Beta(df[df.UserID == userID],timeslot)   # Filter for the specific user and pass to function\n",
    "    testDf.loc[(i),'EstProb'] = res\n",
    "    i+=1"
   ]
  },
  {
   "cell_type": "code",
   "execution_count": 52,
   "metadata": {
    "collapsed": false
   },
   "outputs": [],
   "source": [
    "def getNextPlayProb_Beta(df,Timeslot):\n",
    "    # Calculate posteriors: a=a+y and b=b+n-y\n",
    "    playCount = df[df.Timeslot == Timeslot]['PlayCount'].sum()\n",
    "    # Count num of weeks up to this point\n",
    "    totalWks = len(df.PlayDate.dt.week.unique())\n",
    "    a = priorDf.loc[timeslot]['a'] + playCount\n",
    "    b = priorDf.loc[timeslot]['b'] + totalWks-playCount\n",
    "    mu = a/(a+b)\n",
    "    return mu"
   ]
  },
  {
   "cell_type": "code",
   "execution_count": 102,
   "metadata": {
    "collapsed": false
   },
   "outputs": [
    {
     "data": {
      "image/png": "[encoded data removed]",
      "text/plain": [
       "<matplotlib.figure.Figure at 0x21808033f60>"
      ]
     },
     "metadata": {},
     "output_type": "display_data"
    },
    {
     "data": {
      "text/plain": [
       "<ggplot: (-9223371892855975722)>"
      ]
     },
     "execution_count": 102,
     "metadata": {},
     "output_type": "execute_result"
    }
   ],
   "source": [
    "t=['2-00-1','2-05-1','2-10-1','2-18-1','2-22-1','2-04-1','4-08-1']\n",
    "u=93\n",
    "\n",
    "df=testDf[(testDf.UserID == u) & (testDf.Timeslot.isin(t))]\n",
    "ggplot(df, aes(x='PlayDate', y='EstProb',color='Timeslot')) + geom_line()  + ggtitle(\"User {}\".format(u))"
   ]
  },
  {
   "cell_type": "code",
   "execution_count": 110,
   "metadata": {
    "collapsed": false
   },
   "outputs": [
    {
     "data": {
      "text/plain": [
       "Timeslot\n",
       "2-00-1    38\n",
       "2-01-1    37\n",
       "2-02-1    30\n",
       "2-03-1    18\n",
       "2-04-1     8\n",
       "2-05-1     7\n",
       "2-06-1     8\n",
       "2-07-1    11\n",
       "2-08-1     5\n",
       "2-09-1     9\n",
       "2-10-1    16\n",
       "2-11-1    17\n",
       "2-12-1    21\n",
       "2-13-1    23\n",
       "2-14-1    19\n",
       "2-15-1    22\n",
       "2-16-1    28\n",
       "2-17-1    35\n",
       "2-18-1    38\n",
       "2-19-1    39\n",
       "2-20-1    34\n",
       "2-21-1    30\n",
       "2-22-1    33\n",
       "2-23-1    36\n",
       "Name: PlayCount, dtype: int64"
      ]
     },
     "execution_count": 110,
     "metadata": {},
     "output_type": "execute_result"
    }
   ],
   "source": [
    "testDf[testDf.UserID == u].groupby(['Timeslot'])['PlayCount'].sum()[24:48]"
   ]
  },
  {
   "cell_type": "code",
   "execution_count": 113,
   "metadata": {
    "collapsed": false
   },
   "outputs": [
    {
     "data": {
      "text/html": [
       "<div>\n",
       "<table border=\"1\" class=\"dataframe\">\n",
       "  <thead>\n",
       "    <tr style=\"text-align: right;\">\n",
       "      <th></th>\n",
       "      <th>index</th>\n",
       "      <th>UserID</th>\n",
       "      <th>PlayDate</th>\n",
       "      <th>Timeslot</th>\n",
       "      <th>PlayCount</th>\n",
       "      <th>EstProb</th>\n",
       "    </tr>\n",
       "  </thead>\n",
       "  <tbody>\n",
       "    <tr>\n",
       "      <th>43</th>\n",
       "      <td>43</td>\n",
       "      <td>93</td>\n",
       "      <td>2008-01-09</td>\n",
       "      <td>2-22-1</td>\n",
       "      <td>1</td>\n",
       "      <td>0.135278</td>\n",
       "    </tr>\n",
       "    <tr>\n",
       "      <th>93</th>\n",
       "      <td>93</td>\n",
       "      <td>93</td>\n",
       "      <td>2008-01-12</td>\n",
       "      <td>2-22-1</td>\n",
       "      <td>1</td>\n",
       "      <td>0.255405</td>\n",
       "    </tr>\n",
       "    <tr>\n",
       "      <th>111</th>\n",
       "      <td>111</td>\n",
       "      <td>93</td>\n",
       "      <td>2008-02-06</td>\n",
       "      <td>2-22-1</td>\n",
       "      <td>1</td>\n",
       "      <td>0.335259</td>\n",
       "    </tr>\n",
       "    <tr>\n",
       "      <th>713</th>\n",
       "      <td>713</td>\n",
       "      <td>93</td>\n",
       "      <td>2008-06-10</td>\n",
       "      <td>2-22-1</td>\n",
       "      <td>1</td>\n",
       "      <td>0.184825</td>\n",
       "    </tr>\n",
       "    <tr>\n",
       "      <th>796</th>\n",
       "      <td>796</td>\n",
       "      <td>93</td>\n",
       "      <td>2008-06-16</td>\n",
       "      <td>2-22-1</td>\n",
       "      <td>1</td>\n",
       "      <td>0.219774</td>\n",
       "    </tr>\n",
       "    <tr>\n",
       "      <th>887</th>\n",
       "      <td>887</td>\n",
       "      <td>93</td>\n",
       "      <td>2008-06-23</td>\n",
       "      <td>2-22-1</td>\n",
       "      <td>1</td>\n",
       "      <td>0.251850</td>\n",
       "    </tr>\n",
       "    <tr>\n",
       "      <th>972</th>\n",
       "      <td>972</td>\n",
       "      <td>93</td>\n",
       "      <td>2008-06-30</td>\n",
       "      <td>2-22-1</td>\n",
       "      <td>1</td>\n",
       "      <td>0.281392</td>\n",
       "    </tr>\n",
       "    <tr>\n",
       "      <th>1096</th>\n",
       "      <td>1096</td>\n",
       "      <td>93</td>\n",
       "      <td>2008-07-14</td>\n",
       "      <td>2-22-1</td>\n",
       "      <td>1</td>\n",
       "      <td>0.308691</td>\n",
       "    </tr>\n",
       "    <tr>\n",
       "      <th>1178</th>\n",
       "      <td>1178</td>\n",
       "      <td>93</td>\n",
       "      <td>2008-07-21</td>\n",
       "      <td>2-22-1</td>\n",
       "      <td>1</td>\n",
       "      <td>0.333991</td>\n",
       "    </tr>\n",
       "    <tr>\n",
       "      <th>1246</th>\n",
       "      <td>1246</td>\n",
       "      <td>93</td>\n",
       "      <td>2008-07-28</td>\n",
       "      <td>2-22-1</td>\n",
       "      <td>1</td>\n",
       "      <td>0.357504</td>\n",
       "    </tr>\n",
       "    <tr>\n",
       "      <th>1314</th>\n",
       "      <td>1314</td>\n",
       "      <td>93</td>\n",
       "      <td>2008-08-09</td>\n",
       "      <td>2-22-1</td>\n",
       "      <td>1</td>\n",
       "      <td>0.379414</td>\n",
       "    </tr>\n",
       "    <tr>\n",
       "      <th>1428</th>\n",
       "      <td>1428</td>\n",
       "      <td>93</td>\n",
       "      <td>2008-08-18</td>\n",
       "      <td>2-22-1</td>\n",
       "      <td>1</td>\n",
       "      <td>0.387113</td>\n",
       "    </tr>\n",
       "    <tr>\n",
       "      <th>1459</th>\n",
       "      <td>1459</td>\n",
       "      <td>93</td>\n",
       "      <td>2008-08-25</td>\n",
       "      <td>2-22-1</td>\n",
       "      <td>1</td>\n",
       "      <td>0.406074</td>\n",
       "    </tr>\n",
       "    <tr>\n",
       "      <th>1526</th>\n",
       "      <td>1526</td>\n",
       "      <td>93</td>\n",
       "      <td>2008-09-06</td>\n",
       "      <td>2-22-1</td>\n",
       "      <td>1</td>\n",
       "      <td>0.423896</td>\n",
       "    </tr>\n",
       "    <tr>\n",
       "      <th>1649</th>\n",
       "      <td>1649</td>\n",
       "      <td>93</td>\n",
       "      <td>2008-09-15</td>\n",
       "      <td>2-22-1</td>\n",
       "      <td>1</td>\n",
       "      <td>0.428205</td>\n",
       "    </tr>\n",
       "    <tr>\n",
       "      <th>1743</th>\n",
       "      <td>1743</td>\n",
       "      <td>93</td>\n",
       "      <td>2008-09-22</td>\n",
       "      <td>2-22-1</td>\n",
       "      <td>1</td>\n",
       "      <td>0.443946</td>\n",
       "    </tr>\n",
       "    <tr>\n",
       "      <th>1857</th>\n",
       "      <td>1857</td>\n",
       "      <td>93</td>\n",
       "      <td>2008-09-29</td>\n",
       "      <td>2-22-1</td>\n",
       "      <td>1</td>\n",
       "      <td>0.458844</td>\n",
       "    </tr>\n",
       "    <tr>\n",
       "      <th>1965</th>\n",
       "      <td>1965</td>\n",
       "      <td>93</td>\n",
       "      <td>2008-10-13</td>\n",
       "      <td>2-22-1</td>\n",
       "      <td>1</td>\n",
       "      <td>0.460937</td>\n",
       "    </tr>\n",
       "    <tr>\n",
       "      <th>2047</th>\n",
       "      <td>2047</td>\n",
       "      <td>93</td>\n",
       "      <td>2008-10-20</td>\n",
       "      <td>2-22-1</td>\n",
       "      <td>1</td>\n",
       "      <td>0.474305</td>\n",
       "    </tr>\n",
       "    <tr>\n",
       "      <th>2209</th>\n",
       "      <td>2209</td>\n",
       "      <td>93</td>\n",
       "      <td>2008-11-08</td>\n",
       "      <td>2-22-1</td>\n",
       "      <td>1</td>\n",
       "      <td>0.475520</td>\n",
       "    </tr>\n",
       "    <tr>\n",
       "      <th>2294</th>\n",
       "      <td>2294</td>\n",
       "      <td>93</td>\n",
       "      <td>2008-11-17</td>\n",
       "      <td>2-22-1</td>\n",
       "      <td>1</td>\n",
       "      <td>0.476624</td>\n",
       "    </tr>\n",
       "    <tr>\n",
       "      <th>2370</th>\n",
       "      <td>2370</td>\n",
       "      <td>93</td>\n",
       "      <td>2008-11-24</td>\n",
       "      <td>2-22-1</td>\n",
       "      <td>1</td>\n",
       "      <td>0.488172</td>\n",
       "    </tr>\n",
       "    <tr>\n",
       "      <th>2660</th>\n",
       "      <td>2660</td>\n",
       "      <td>93</td>\n",
       "      <td>2009-01-26</td>\n",
       "      <td>2-22-1</td>\n",
       "      <td>1</td>\n",
       "      <td>0.441975</td>\n",
       "    </tr>\n",
       "    <tr>\n",
       "      <th>2719</th>\n",
       "      <td>2719</td>\n",
       "      <td>93</td>\n",
       "      <td>2009-02-02</td>\n",
       "      <td>2-22-1</td>\n",
       "      <td>1</td>\n",
       "      <td>0.461087</td>\n",
       "    </tr>\n",
       "    <tr>\n",
       "      <th>2732</th>\n",
       "      <td>2732</td>\n",
       "      <td>93</td>\n",
       "      <td>2009-02-03</td>\n",
       "      <td>2-22-1</td>\n",
       "      <td>1</td>\n",
       "      <td>0.480198</td>\n",
       "    </tr>\n",
       "    <tr>\n",
       "      <th>2796</th>\n",
       "      <td>2796</td>\n",
       "      <td>93</td>\n",
       "      <td>2009-02-16</td>\n",
       "      <td>2-22-1</td>\n",
       "      <td>1</td>\n",
       "      <td>0.489946</td>\n",
       "    </tr>\n",
       "    <tr>\n",
       "      <th>2872</th>\n",
       "      <td>2872</td>\n",
       "      <td>93</td>\n",
       "      <td>2009-02-23</td>\n",
       "      <td>2-22-1</td>\n",
       "      <td>1</td>\n",
       "      <td>0.499335</td>\n",
       "    </tr>\n",
       "    <tr>\n",
       "      <th>3018</th>\n",
       "      <td>3018</td>\n",
       "      <td>93</td>\n",
       "      <td>2009-03-16</td>\n",
       "      <td>2-22-1</td>\n",
       "      <td>1</td>\n",
       "      <td>0.517743</td>\n",
       "    </tr>\n",
       "    <tr>\n",
       "      <th>3175</th>\n",
       "      <td>3175</td>\n",
       "      <td>93</td>\n",
       "      <td>2009-03-30</td>\n",
       "      <td>2-22-1</td>\n",
       "      <td>1</td>\n",
       "      <td>0.536151</td>\n",
       "    </tr>\n",
       "    <tr>\n",
       "      <th>3237</th>\n",
       "      <td>3237</td>\n",
       "      <td>93</td>\n",
       "      <td>2009-04-20</td>\n",
       "      <td>2-22-1</td>\n",
       "      <td>1</td>\n",
       "      <td>0.534867</td>\n",
       "    </tr>\n",
       "    <tr>\n",
       "      <th>3293</th>\n",
       "      <td>3293</td>\n",
       "      <td>93</td>\n",
       "      <td>2009-04-27</td>\n",
       "      <td>2-22-1</td>\n",
       "      <td>1</td>\n",
       "      <td>0.542981</td>\n",
       "    </tr>\n",
       "    <tr>\n",
       "      <th>3495</th>\n",
       "      <td>3495</td>\n",
       "      <td>93</td>\n",
       "      <td>2009-09-02</td>\n",
       "      <td>2-22-1</td>\n",
       "      <td>1</td>\n",
       "      <td>0.560426</td>\n",
       "    </tr>\n",
       "    <tr>\n",
       "      <th>3581</th>\n",
       "      <td>3581</td>\n",
       "      <td>93</td>\n",
       "      <td>2009-12-01</td>\n",
       "      <td>2-22-1</td>\n",
       "      <td>1</td>\n",
       "      <td>0.577870</td>\n",
       "    </tr>\n",
       "  </tbody>\n",
       "</table>\n",
       "</div>"
      ],
      "text/plain": [
       "      index  UserID   PlayDate Timeslot  PlayCount   EstProb\n",
       "43       43      93 2008-01-09   2-22-1          1  0.135278\n",
       "93       93      93 2008-01-12   2-22-1          1  0.255405\n",
       "111     111      93 2008-02-06   2-22-1          1  0.335259\n",
       "713     713      93 2008-06-10   2-22-1          1  0.184825\n",
       "796     796      93 2008-06-16   2-22-1          1  0.219774\n",
       "887     887      93 2008-06-23   2-22-1          1  0.251850\n",
       "972     972      93 2008-06-30   2-22-1          1  0.281392\n",
       "1096   1096      93 2008-07-14   2-22-1          1  0.308691\n",
       "1178   1178      93 2008-07-21   2-22-1          1  0.333991\n",
       "1246   1246      93 2008-07-28   2-22-1          1  0.357504\n",
       "1314   1314      93 2008-08-09   2-22-1          1  0.379414\n",
       "1428   1428      93 2008-08-18   2-22-1          1  0.387113\n",
       "1459   1459      93 2008-08-25   2-22-1          1  0.406074\n",
       "1526   1526      93 2008-09-06   2-22-1          1  0.423896\n",
       "1649   1649      93 2008-09-15   2-22-1          1  0.428205\n",
       "1743   1743      93 2008-09-22   2-22-1          1  0.443946\n",
       "1857   1857      93 2008-09-29   2-22-1          1  0.458844\n",
       "1965   1965      93 2008-10-13   2-22-1          1  0.460937\n",
       "2047   2047      93 2008-10-20   2-22-1          1  0.474305\n",
       "2209   2209      93 2008-11-08   2-22-1          1  0.475520\n",
       "2294   2294      93 2008-11-17   2-22-1          1  0.476624\n",
       "2370   2370      93 2008-11-24   2-22-1          1  0.488172\n",
       "2660   2660      93 2009-01-26   2-22-1          1  0.441975\n",
       "2719   2719      93 2009-02-02   2-22-1          1  0.461087\n",
       "2732   2732      93 2009-02-03   2-22-1          1  0.480198\n",
       "2796   2796      93 2009-02-16   2-22-1          1  0.489946\n",
       "2872   2872      93 2009-02-23   2-22-1          1  0.499335\n",
       "3018   3018      93 2009-03-16   2-22-1          1  0.517743\n",
       "3175   3175      93 2009-03-30   2-22-1          1  0.536151\n",
       "3237   3237      93 2009-04-20   2-22-1          1  0.534867\n",
       "3293   3293      93 2009-04-27   2-22-1          1  0.542981\n",
       "3495   3495      93 2009-09-02   2-22-1          1  0.560426\n",
       "3581   3581      93 2009-12-01   2-22-1          1  0.577870"
      ]
     },
     "execution_count": 113,
     "metadata": {},
     "output_type": "execute_result"
    }
   ],
   "source": [
    "testDf[(testDf.UserID == u) & (testDf.Timeslot == '2-22-1')]\n",
    "#testDf[testDf.UserID == u].groupby(['Timeslot'])['PlayCount'].sum().plot(figsize=[15,3])"
   ]
  },
  {
   "cell_type": "code",
   "execution_count": null,
   "metadata": {
    "collapsed": true
   },
   "outputs": [],
   "source": []
  }
 ],
 "metadata": {
  "anaconda-cloud": {},
  "kernelspec": {
   "display_name": "Python [Root]",
   "language": "python",
   "name": "Python [Root]"
  },
  "language_info": {
   "codemirror_mode": {
    "name": "ipython",
    "version": 3
   },
   "file_extension": ".py",
   "mimetype": "text/x-python",
   "name": "python",
   "nbconvert_exporter": "python",
   "pygments_lexer": "ipython3",
   "version": "3.5.2"
  }
 },
 "nbformat": 4,
 "nbformat_minor": 2
}
