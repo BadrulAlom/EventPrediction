{
 "cells": [
  {
   "cell_type": "markdown",
   "metadata": {},
   "source": [
    "<h1 align=\"center\" style=\"background-color:#616161;color:white\">Next play prediction</h1>"
   ]
  },
  {
   "cell_type": "markdown",
   "metadata": {},
   "source": [
    "<h3 style=\"background-color:#616161;color:white\">0. Setup code (you can ignore this section)</h3>"
   ]
  },
  {
   "cell_type": "code",
   "execution_count": 1,
   "metadata": {
    "collapsed": false
   },
   "outputs": [],
   "source": [
    "# import modules\n",
    "%matplotlib inline\n",
    "import csv\n",
    "import os\n",
    "import sys\n",
    "import numpy as np\n",
    "import pandas as pd\n",
    "import datetime\n",
    "from ggplot import *\n",
    "import json\n",
    "import time\n",
    "import random\n",
    "import sqlite3\n",
    "from pathlib import Path\n",
    "from sklearn.manifold import TSNE\n",
    "from sklearn.datasets import fetch_20newsgroups\n",
    "import matplotlib.pyplot as plt\n",
    "import logging\n",
    "\n",
    "# Abs path to settings file\n",
    "root = \"C:/DS/Github/MusicRecommendation\"  # BA, Windows\n",
    "#root = \"/home/badrul/Documents/github/MusicRecommendation\" # BA, Linux\n",
    "\n",
    "## Import the codebase module\n",
    "fPath = root + \"/1_codemodule\"\n",
    "if fPath not in sys.path: sys.path.append(fPath)\n",
    "\n",
    "\n",
    "## Finish setting up\n",
    "import coreCode as cb\n",
    "import lastfmCode as fm\n",
    "\n",
    "os.chdir(root)\n",
    "\n",
    "settingsDict =  cb.loadSettings()\n",
    "\n",
    "dbPath = root + settingsDict['mainDbPath']\n",
    "fmSimilarDbPath = root + settingsDict['fmSimilarDbPath']\n",
    "fmTagsDbPath = root + settingsDict['fmTagsDbPath']\n",
    "trackMetaDbPath = root + settingsDict['trackmetadata']\n"
   ]
  },
  {
   "cell_type": "code",
   "execution_count": 2,
   "metadata": {
    "collapsed": true
   },
   "outputs": [],
   "source": [
    "def TimeSeriesPredict_FreqTable(playHistory, freqTable, w):\n",
    "    # Takes in a timeslot list and a freqency table, and weighting for user obs\n",
    "    # Returns next dd/mm/yy timestamp and probability\n",
    "    # The timeslot list must be of the same format as  'timeSlot' field in freqTable\n",
    "    \n",
    "    playHistory.head()\n",
    "    freqTable.head()\n",
    "    \n",
    "    return 0\n",
    "\n",
    "def estBetaParams(mu, var):\n",
    "  a = ((1 - mu) / var - 1 / mu) * mu**2\n",
    "  b = a * (1 / mu - 1)\n",
    "  return (a,b)"
   ]
  },
  {
   "cell_type": "markdown",
   "metadata": {},
   "source": [
    "<h3 style=\"background-color:#616161;color:white\">1. Model Parameters</h3>"
   ]
  },
  {
   "cell_type": "code",
   "execution_count": 3,
   "metadata": {
    "collapsed": true
   },
   "outputs": [],
   "source": [
    "# Method 1\n",
    "PeriodGranularity = 60 # E.g. 15, 30, 60\n",
    "\n",
    "# Train / Test split\n",
    "MinsSincePrevPlay = 60   # Used when selecting random cut-off points in eval 1\n",
    "newUsers = 10   # Num of randomly selected users to separate out of eval 2"
   ]
  },
  {
   "cell_type": "markdown",
   "metadata": {},
   "source": [
    "<h3 style=\"background-color:#616161;color:white\">2. Construct prior probability table"
   ]
  },
  {
   "cell_type": "markdown",
   "metadata": {},
   "source": [
    "Our method for constructing the prior probability is calculate the total number of times a users started listening to music in a given time period, out of an estimaate of all the possible chances they had to play music in that time period. This latter item is hard to quantify as you may have weeks where the user does not listen to any music which you may not want to count. The approach used here is to count only weeks in which the user played any music, regardless of time period or number of times.\n",
    "\n",
    "1. Brings back the frequency of plays by user. Note we ony count songs that were played after a gap of 'MinsSincePrevPlay'.\n",
    "\n",
    "2. Calculates the total number of weeks in which each user played at least one track\n",
    "\n",
    "3. Probability of play during period (i.e. hour of week) = # of plays in that period / total number of weeks\n",
    "\n",
    "4. Note: For this to work, your MinsSincePrevPlay needs to be >= PeriodGranularity (e.g. if you were calculating your periods at the hourly level, but you treat any gap of 30 minutes as being a 'new play session', then you could be counting the numerator twiec and the denoninator onnce when determining the probability). \n",
    "\n",
    "5. TotalPlayCount (total number of sessions starts) is also calculated but not used."
   ]
  },
  {
   "cell_type": "code",
   "execution_count": 52,
   "metadata": {
    "collapsed": false
   },
   "outputs": [],
   "source": [
    "con = sqlite3.connect(dbPath)\n",
    "con.row_factory = sqlite3.Row\n",
    "cursor = con.cursor()\n",
    "\n",
    "# Fetch the frequency of plays\n",
    "sqlStr = \"\"\"Select userID, (strftime('%w',PlayedTimestamp)+1) || '-' || (strftime('%H',PlayedTimestamp))  \n",
    "|| \"-\" || (cast(strftime('%M',PlayedTimestamp) / {} +1 as int)) as Period, count(*) \n",
    "as PlayCount from tblMain where MinsSincePrevPlay > {} group by userID, Period\"\"\".format(PeriodGranularity, MinsSincePrevPlay)\n",
    "\n",
    "df = pd.read_sql_query(sqlStr, con)\n",
    "\n",
    "# Fetch the total number of weeks each user has played music\n",
    "sqlStr = \"Select userID, count(DISTINCT (strftime('%W',PlayedTimestamp)||strftime('%Y',PlayedTimestamp))) as TotalWks from tblMain group by userID\"\n",
    "wks = pd.read_sql_query(sqlStr, con)\n",
    "con.close()\n",
    "\n",
    "# Calculate probability\n",
    "df['TotalPlays'] = df.groupby('UserID')['PlayCount'].transform(sum)\n",
    "df=df.set_index('UserID').join(wks.set_index('UserID'))\n",
    "df['Prob'] = df['PlayCount'] / df['TotalWks']\n",
    "df.reset_index(inplace=True)\n",
    "\n",
    "# Calculate the parameters to be used in the Beta distribution later\n",
    "meanvarDf= df.groupby('Period')['Prob'].mean().to_frame('mean')\n",
    "meanvarDf['var'] = df.groupby('Period')['Prob'].var()"
   ]
  },
  {
   "cell_type": "markdown",
   "metadata": {},
   "source": [
    "<h3 style=\"background-color:#616161;color:white\">3. Check prior probability table"
   ]
  },
  {
   "cell_type": "markdown",
   "metadata": {},
   "source": [
    "Let's do a few checks to make sure we've calculated the probabiloty correctly.\n",
    "\n",
    "Check that the min/max is within 0-1 boundaries"
   ]
  },
  {
   "cell_type": "code",
   "execution_count": 26,
   "metadata": {
    "collapsed": false
   },
   "outputs": [
    {
     "data": {
      "text/plain": [
       "count    108959.000000\n",
       "mean          0.072016\n",
       "std           0.059748\n",
       "min           0.004425\n",
       "25%           0.029412\n",
       "50%           0.057325\n",
       "75%           0.097374\n",
       "max           1.000000\n",
       "Name: Prob, dtype: float64"
      ]
     },
     "execution_count": 26,
     "metadata": {},
     "output_type": "execute_result"
    }
   ],
   "source": [
    "df['Prob'].describe()"
   ]
  },
  {
   "cell_type": "markdown",
   "metadata": {},
   "source": [
    "Review using two users with small datasets. Note, 'Period' here is Day of week (Sunday = 1)-Hour of day-Period  (where Period is determined by the period Granulairty)."
   ]
  },
  {
   "cell_type": "code",
   "execution_count": 31,
   "metadata": {
    "collapsed": false
   },
   "outputs": [
    {
     "data": {
      "text/html": [
       "<div>\n",
       "<table border=\"1\" class=\"dataframe\">\n",
       "  <thead>\n",
       "    <tr style=\"text-align: right;\">\n",
       "      <th></th>\n",
       "      <th>UserID</th>\n",
       "      <th>Period</th>\n",
       "      <th>PlayCount</th>\n",
       "      <th>TotalPlays</th>\n",
       "      <th>TotalWks</th>\n",
       "      <th>Prob</th>\n",
       "    </tr>\n",
       "  </thead>\n",
       "  <tbody>\n",
       "    <tr>\n",
       "      <th>7538</th>\n",
       "      <td>61</td>\n",
       "      <td>1-15-1</td>\n",
       "      <td>1</td>\n",
       "      <td>2</td>\n",
       "      <td>2</td>\n",
       "      <td>0.5</td>\n",
       "    </tr>\n",
       "    <tr>\n",
       "      <th>7539</th>\n",
       "      <td>61</td>\n",
       "      <td>5-20-1</td>\n",
       "      <td>1</td>\n",
       "      <td>2</td>\n",
       "      <td>2</td>\n",
       "      <td>0.5</td>\n",
       "    </tr>\n",
       "  </tbody>\n",
       "</table>\n",
       "</div>"
      ],
      "text/plain": [
       "      UserID  Period  PlayCount  TotalPlays  TotalWks  Prob\n",
       "7538      61  1-15-1          1           2         2   0.5\n",
       "7539      61  5-20-1          1           2         2   0.5"
      ]
     },
     "execution_count": 31,
     "metadata": {},
     "output_type": "execute_result"
    }
   ],
   "source": [
    "df[df.UserID == 61]"
   ]
  },
  {
   "cell_type": "code",
   "execution_count": 30,
   "metadata": {
    "collapsed": false
   },
   "outputs": [
    {
     "data": {
      "text/html": [
       "<div>\n",
       "<table border=\"1\" class=\"dataframe\">\n",
       "  <thead>\n",
       "    <tr style=\"text-align: right;\">\n",
       "      <th></th>\n",
       "      <th>UserID</th>\n",
       "      <th>Period</th>\n",
       "      <th>PlayCount</th>\n",
       "      <th>TotalPlays</th>\n",
       "      <th>TotalWks</th>\n",
       "      <th>Prob</th>\n",
       "    </tr>\n",
       "  </thead>\n",
       "  <tbody>\n",
       "    <tr>\n",
       "      <th>9380</th>\n",
       "      <td>77</td>\n",
       "      <td>2-09-1</td>\n",
       "      <td>1</td>\n",
       "      <td>13</td>\n",
       "      <td>6</td>\n",
       "      <td>0.166667</td>\n",
       "    </tr>\n",
       "    <tr>\n",
       "      <th>9381</th>\n",
       "      <td>77</td>\n",
       "      <td>2-13-1</td>\n",
       "      <td>1</td>\n",
       "      <td>13</td>\n",
       "      <td>6</td>\n",
       "      <td>0.166667</td>\n",
       "    </tr>\n",
       "    <tr>\n",
       "      <th>9382</th>\n",
       "      <td>77</td>\n",
       "      <td>3-02-1</td>\n",
       "      <td>1</td>\n",
       "      <td>13</td>\n",
       "      <td>6</td>\n",
       "      <td>0.166667</td>\n",
       "    </tr>\n",
       "    <tr>\n",
       "      <th>9383</th>\n",
       "      <td>77</td>\n",
       "      <td>3-08-1</td>\n",
       "      <td>1</td>\n",
       "      <td>13</td>\n",
       "      <td>6</td>\n",
       "      <td>0.166667</td>\n",
       "    </tr>\n",
       "    <tr>\n",
       "      <th>9384</th>\n",
       "      <td>77</td>\n",
       "      <td>3-13-1</td>\n",
       "      <td>1</td>\n",
       "      <td>13</td>\n",
       "      <td>6</td>\n",
       "      <td>0.166667</td>\n",
       "    </tr>\n",
       "    <tr>\n",
       "      <th>9385</th>\n",
       "      <td>77</td>\n",
       "      <td>3-17-1</td>\n",
       "      <td>1</td>\n",
       "      <td>13</td>\n",
       "      <td>6</td>\n",
       "      <td>0.166667</td>\n",
       "    </tr>\n",
       "    <tr>\n",
       "      <th>9386</th>\n",
       "      <td>77</td>\n",
       "      <td>4-06-1</td>\n",
       "      <td>1</td>\n",
       "      <td>13</td>\n",
       "      <td>6</td>\n",
       "      <td>0.166667</td>\n",
       "    </tr>\n",
       "    <tr>\n",
       "      <th>9387</th>\n",
       "      <td>77</td>\n",
       "      <td>4-09-1</td>\n",
       "      <td>1</td>\n",
       "      <td>13</td>\n",
       "      <td>6</td>\n",
       "      <td>0.166667</td>\n",
       "    </tr>\n",
       "    <tr>\n",
       "      <th>9388</th>\n",
       "      <td>77</td>\n",
       "      <td>4-11-1</td>\n",
       "      <td>1</td>\n",
       "      <td>13</td>\n",
       "      <td>6</td>\n",
       "      <td>0.166667</td>\n",
       "    </tr>\n",
       "    <tr>\n",
       "      <th>9389</th>\n",
       "      <td>77</td>\n",
       "      <td>4-20-1</td>\n",
       "      <td>1</td>\n",
       "      <td>13</td>\n",
       "      <td>6</td>\n",
       "      <td>0.166667</td>\n",
       "    </tr>\n",
       "    <tr>\n",
       "      <th>9390</th>\n",
       "      <td>77</td>\n",
       "      <td>5-12-1</td>\n",
       "      <td>1</td>\n",
       "      <td>13</td>\n",
       "      <td>6</td>\n",
       "      <td>0.166667</td>\n",
       "    </tr>\n",
       "    <tr>\n",
       "      <th>9391</th>\n",
       "      <td>77</td>\n",
       "      <td>5-21-1</td>\n",
       "      <td>1</td>\n",
       "      <td>13</td>\n",
       "      <td>6</td>\n",
       "      <td>0.166667</td>\n",
       "    </tr>\n",
       "    <tr>\n",
       "      <th>9392</th>\n",
       "      <td>77</td>\n",
       "      <td>6-19-1</td>\n",
       "      <td>1</td>\n",
       "      <td>13</td>\n",
       "      <td>6</td>\n",
       "      <td>0.166667</td>\n",
       "    </tr>\n",
       "  </tbody>\n",
       "</table>\n",
       "</div>"
      ],
      "text/plain": [
       "      UserID  Period  PlayCount  TotalPlays  TotalWks      Prob\n",
       "9380      77  2-09-1          1          13         6  0.166667\n",
       "9381      77  2-13-1          1          13         6  0.166667\n",
       "9382      77  3-02-1          1          13         6  0.166667\n",
       "9383      77  3-08-1          1          13         6  0.166667\n",
       "9384      77  3-13-1          1          13         6  0.166667\n",
       "9385      77  3-17-1          1          13         6  0.166667\n",
       "9386      77  4-06-1          1          13         6  0.166667\n",
       "9387      77  4-09-1          1          13         6  0.166667\n",
       "9388      77  4-11-1          1          13         6  0.166667\n",
       "9389      77  4-20-1          1          13         6  0.166667\n",
       "9390      77  5-12-1          1          13         6  0.166667\n",
       "9391      77  5-21-1          1          13         6  0.166667\n",
       "9392      77  6-19-1          1          13         6  0.166667"
      ]
     },
     "execution_count": 30,
     "metadata": {},
     "output_type": "execute_result"
    }
   ],
   "source": [
    "df[df.UserID == 77]"
   ]
  },
  {
   "cell_type": "markdown",
   "metadata": {},
   "source": [
    "Let's do a histogram to see what the distribution looks like"
   ]
  },
  {
   "cell_type": "code",
   "execution_count": 43,
   "metadata": {
    "collapsed": false
   },
   "outputs": [
    {
     "data": {
      "image/png": "[encoded data removed]",
      "text/plain": [
       "<matplotlib.figure.Figure at 0x1c0d7f0dcf8>"
      ]
     },
     "metadata": {},
     "output_type": "display_data"
    },
    {
     "data": {
      "text/plain": [
       "<ggplot: (-9223371916369257784)>"
      ]
     },
     "execution_count": 43,
     "metadata": {},
     "output_type": "execute_result"
    }
   ],
   "source": [
    "ggplot(aes(x='Prob'), data=df) + \\\n",
    "    geom_histogram(binwidth=0.02)"
   ]
  },
  {
   "cell_type": "markdown",
   "metadata": {},
   "source": [
    "More crucially we can plot this distribution for a specific time-period which is what we will be comparing our Beta against later."
   ]
  },
  {
   "cell_type": "code",
   "execution_count": 51,
   "metadata": {
    "collapsed": false
   },
   "outputs": [
    {
     "data": {
      "image/png": "[encoded data removed]",
      "text/plain": [
       "<matplotlib.figure.Figure at 0x1c0dc8c78d0>"
      ]
     },
     "metadata": {},
     "output_type": "display_data"
    },
    {
     "data": {
      "text/plain": [
       "<ggplot: (120488905150)>"
      ]
     },
     "execution_count": 51,
     "metadata": {},
     "output_type": "execute_result"
    }
   ],
   "source": [
    "period='2-18-1'\n",
    "ggplot(aes(x='Prob'), data=df[df.Period==period]) + \\\n",
    "    geom_histogram(binwidth=0.02)"
   ]
  },
  {
   "cell_type": "markdown",
   "metadata": {},
   "source": [
    "Finally let's review the average probability for each time period"
   ]
  },
  {
   "cell_type": "code",
   "execution_count": 37,
   "metadata": {
    "collapsed": false
   },
   "outputs": [
    {
     "data": {
      "text/plain": [
       "<matplotlib.axes._subplots.AxesSubplot at 0x1c0d63e5978>"
      ]
     },
     "execution_count": 37,
     "metadata": {},
     "output_type": "execute_result"
    },
    {
     "data": {
      "image/png": "[encoded data removed]",
      "text/plain": [
       "<matplotlib.figure.Figure at 0x1c0d3a7ffd0>"
      ]
     },
     "metadata": {},
     "output_type": "display_data"
    }
   ],
   "source": [
    "meanvarDf['mean'].plot()\n",
    "#df.to_sql('tblPlayTimetable',con,if_exists='replace')  # Save to db"
   ]
  },
  {
   "cell_type": "markdown",
   "metadata": {},
   "source": [
    "<h3 style=\"background-color:#616161;color:white\">4. Assessing the fit for a Beta Posterior-Probability model"
   ]
  },
  {
   "cell_type": "markdown",
   "metadata": {},
   "source": [
    "For any given period we can apply a Beta distribution to model the probability of someone wanting to listen to music in that time period. We can assess how well our Posterior-Probability distribution fit's using the log marginal liklihood measure. Let's start off looking at a single period (2-06-1) ."
   ]
  },
  {
   "cell_type": "code",
   "execution_count": 59,
   "metadata": {
    "collapsed": false,
    "scrolled": true
   },
   "outputs": [
    {
     "data": {
      "text/plain": [
       "[<matplotlib.lines.Line2D at 0x1c0dcdd3470>]"
      ]
     },
     "execution_count": 59,
     "metadata": {},
     "output_type": "execute_result"
    },
    {
     "data": {
      "image/png": "[encoded data removed]",
      "text/plain": [
       "<matplotlib.figure.Figure at 0x1c0dd3d8d30>"
      ]
     },
     "metadata": {},
     "output_type": "display_data"
    }
   ],
   "source": [
    "from scipy.stats import beta\n",
    "\n",
    "p = '2-18-1'\n",
    "mu = meanvarDf.loc[p]['mean']\n",
    "var = meanvarDf.loc[p]['var']\n",
    "a,b = estBetaParams(mu,var)\n",
    "\n",
    "# Plot our prior Beta PDF\n",
    "fig, ax = plt.subplots(1, 1)\n",
    "x = np.linspace(beta.ppf(0.01, a, b),beta.ppf(0.99, a, b), 100)  # Generate prob distribution\n",
    "ax.set_xlabel('Prob')\n",
    "fig.suptitle('Day {}, Hour {}, Interval {}'.format(p[0],p[2:4],p[5]))\n",
    "ax.plot(x, beta.pdf(x, a, b),'r-', lw=5, alpha=0.6)"
   ]
  },
  {
   "cell_type": "markdown",
   "metadata": {
    "collapsed": true
   },
   "source": [
    "Recap:\n",
    "\n",
    "* The x-axis for the beta prior represents the probability distribution of whether or not someone will start listening to music in that time period\n",
    "* So the chart above indicates that the average probability is around 0.05 for Day 2, Hour 18:00\n",
    "* We also have hisotircal data telling us what the actual probability was for that time period, both overall, and at an individual user leve"
   ]
  },
  {
   "cell_type": "markdown",
   "metadata": {},
   "source": [
    "<h3 style=\"background-color:#616161;color:white\">3. Review prior prob distribution</h3>"
   ]
  },
  {
   "cell_type": "markdown",
   "metadata": {
    "collapsed": true
   },
   "source": [
    "<h3 style=\"background-color:#616161;color:white\">4. Evaluate model</h3>"
   ]
  },
  {
   "cell_type": "code",
   "execution_count": 120,
   "metadata": {
    "collapsed": false
   },
   "outputs": [],
   "source": [
    "con = sqlite3.connect(dbPath)\n",
    "trainDF = pd.read_sql_query(\"SELECT M.UserID, M.PlayedTimestamp, M.TimeSlot, M.MinsSincePrevPlay, M.historyID, tblUsers.TestCutOff from tblMain as M INNER JOIN tblUsers ON M.UserID = tblUsers.UserID WHERE M.historyID < tblUsers.TestCutOff\", con)\n",
    "testDF = pd.read_sql_query(\"SELECT M.UserID, M.PlayedTimestamp, M.TimeSlot, M.MinsSincePrevPlay, M.historyID, tblUsers.TestCutOff from tblMain as M INNER JOIN tblUsers ON M.UserID = tblUsers.UserID WHERE M.historyID = tblUsers.TestCutOff\", con)\n",
    "users = trainDF['UserID'].unique()\n",
    "con.close()"
   ]
  }
 ],
 "metadata": {
  "anaconda-cloud": {},
  "kernelspec": {
   "display_name": "Python [Root]",
   "language": "python",
   "name": "Python [Root]"
  },
  "language_info": {
   "codemirror_mode": {
    "name": "ipython",
    "version": 3
   },
   "file_extension": ".py",
   "mimetype": "text/x-python",
   "name": "python",
   "nbconvert_exporter": "python",
   "pygments_lexer": "ipython3",
   "version": "3.5.2"
  }
 },
 "nbformat": 4,
 "nbformat_minor": 2
}
