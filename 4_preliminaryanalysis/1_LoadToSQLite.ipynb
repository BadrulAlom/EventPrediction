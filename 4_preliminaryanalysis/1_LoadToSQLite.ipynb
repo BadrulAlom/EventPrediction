{
 "cells": [
  {
   "cell_type": "code",
   "execution_count": 74,
   "metadata": {
    "collapsed": false
   },
   "outputs": [],
   "source": [
    "import os\n",
    "import sys\n",
    "import pandas as pd\n",
    "import csv\n",
    "import json\n",
    "import sqlite3\n",
    "\n",
    "## Parameters you can change\n",
    "\n",
    "# Abs path to settings file\n",
    "root = \"C:/DS/Github/MusicRecommendation\"  # BA, Windows\n",
    "\n",
    "# Select the dataset to view\n",
    "datasetToUse =\"inputfile_verysml\" # inputfile , inputfile_sml , or inputfile_verysml\n",
    "\n",
    "\n",
    "## Finish setting up\n",
    "os.chdir(root)\n",
    "## Add the prelim module\n",
    "fPath = root + \"/1_codebase\"\n",
    "if fPath not in sys.path: sys.path.append(fPath)\n",
    "from codebase import *\n",
    "\n",
    "settingsDict =  loadSettings()\n",
    "\n",
    "def dropCreateTable(dbCursor,tblName, tblSelect):\n",
    "    sqlStr= 'DROP TABLE IF EXISTS {}'.format(tblName)\n",
    "    c.execute(sqlStr)\n",
    "\n",
    "    sqlStr =\"CREATE TABLE {}\".format(tblName) + \" AS \" + tblSelect\n",
    "    c.execute(sqlStr)"
   ]
  },
  {
   "cell_type": "markdown",
   "metadata": {},
   "source": [
    "<a id='Load Data'></a>\n",
    "<h3 style=\"background-color:#616161;color:white\">Load Data Into SQLite3</h3>"
   ]
  },
  {
   "cell_type": "code",
   "execution_count": 75,
   "metadata": {
    "collapsed": false
   },
   "outputs": [],
   "source": [
    "inputFilePath = root + settingsDict[datasetToUse]\n",
    "dbPath = root + settingsDict['dbPath']\n",
    "\n",
    "db = sqlite3.connect(dbPath)\n",
    "\n",
    "colHeadings=['UserID','PlayedTimestamp','ArtistID','ArtistName','TrackID','TrackName']\n",
    "dataFormat={'UserID': str, 'PlayedTimestamp': str, 'ArtistID' :str, 'ArtistName': str, 'TrackID': str, 'TrackName': str}\n",
    "newFields = 'SecsSinceFirstPlay integer, historyID integer'\n",
    "tblMain_SQL = 'CREATE TABLE tblMain (UserID integer, PlayedTimestamp text, ArtistID text, ArtistName text, TrackID text, TrackName text, ' + newFields +')';\n",
    "\n",
    "parse_dates = ['PlayedTimestamp']\n",
    "\n",
    "# Load data from CSV\n",
    "inpData = pd.read_csv(inputFilePath, sep='\\t', error_bad_lines= False,quoting=csv.QUOTE_NONE, header=None,names=colHeadings, dtype=dataFormat,parse_dates=parse_dates)\n",
    "inpData.to_sql('tblInputData', db, flavor='sqlite',\n",
    "                                            schema=None, if_exists='replace', index=True,\n",
    "                                            index_label=None, chunksize=None, dtype=None)\n",
    "\n",
    "# Create tblMain\n",
    "c=db.cursor()\n",
    "sqlStr= 'DROP TABLE IF EXISTS tblMain'\n",
    "c.execute(sqlStr)\n",
    "c.execute(tblMain_SQL)\n",
    "\n",
    "db.close()"
   ]
  },
  {
   "cell_type": "markdown",
   "metadata": {},
   "source": [
    "<a id='Preprocessing'></a>\n",
    "<h3 style=\"background-color:#616161;color:white\">Preprocessing</h3>"
   ]
  },
  {
   "cell_type": "markdown",
   "metadata": {},
   "source": [
    "<h4 style=\"background-color:#616161;color:white\">Create an aggregated tables</h4>"
   ]
  },
  {
   "cell_type": "code",
   "execution_count": 76,
   "metadata": {
    "collapsed": false
   },
   "outputs": [],
   "source": [
    "db = sqlite3.connect(dbPath)\n",
    "c = db.cursor()\n",
    "\n",
    "dropCreateTable(c,'tblAgg_UserDailyPlays', 'SELECT Cast(substr(userID,-5) as integer) as userID, date(PlayedTimestamp),count(*) as NumOfPlays, count(Distinct trackID) as NumOfTracks from tblInputData group by userID, date(PlayedTimestamp) ORDER BY NumOfPlays')\n",
    "dropCreateTable(c,'tblAgg_User', 'SELECT Cast(substr(userID,-5) as integer) as userID, min(PlayedTimestamp) as FirstPlay from tblInputData Group by userID')\n",
    "db.close()"
   ]
  },
  {
   "cell_type": "markdown",
   "metadata": {},
   "source": [
    "<h4 style=\"background-color:#616161;color:white\">Add new columns</h4>"
   ]
  },
  {
   "cell_type": "code",
   "execution_count": 112,
   "metadata": {
    "collapsed": false
   },
   "outputs": [
    {
     "name": "stdout",
     "output_type": "stream",
     "text": [
      "[1, '2009-05-02 14:01:02', 0, '1e48cdae-b68d-4cd0-bfba-a78ad30d2e9f', 'Marc Mac', None, 'Footwork', '1']\n"
     ]
    },
    {
     "ename": "IndexError",
     "evalue": "tuple index out of range",
     "output_type": "error",
     "traceback": [
      "\u001b[1;31m\u001b[0m",
      "\u001b[1;31mIndexError\u001b[0mTraceback (most recent call last)",
      "\u001b[1;32m<ipython-input-112-3b8192267ac5>\u001b[0m in \u001b[0;36m<module>\u001b[1;34m()\u001b[0m\n\u001b[0;32m     14\u001b[0m     \u001b[0mprint\u001b[0m \u001b[1;33m(\u001b[0m\u001b[0mtmp\u001b[0m\u001b[1;33m)\u001b[0m\u001b[1;33m\u001b[0m\u001b[0m\n\u001b[0;32m     15\u001b[0m     \u001b[0mtmp\u001b[0m \u001b[1;33m=\u001b[0m \u001b[1;33m[\u001b[0m\u001b[1;34m'Null'\u001b[0m \u001b[1;32mif\u001b[0m \u001b[0mv\u001b[0m \u001b[1;32mis\u001b[0m \u001b[1;32mNone\u001b[0m \u001b[1;32melse\u001b[0m \u001b[0mv\u001b[0m \u001b[1;32mfor\u001b[0m \u001b[0mv\u001b[0m \u001b[1;32min\u001b[0m \u001b[0mtmp\u001b[0m\u001b[1;33m]\u001b[0m\u001b[1;33m\u001b[0m\u001b[0m\n\u001b[1;32m---> 16\u001b[1;33m     \u001b[0minsertStr\u001b[0m \u001b[1;33m=\u001b[0m \u001b[1;34m\"Insert into tblMain (userID, PlayedTimeStamp, SecsSinceFirstPlay,ArtistID, ArtistName, TrackID, TrackName,historyID) Values ({}, {}, {},'{}', '{}', '{}', '{}',{})\"\u001b[0m\u001b[1;33m.\u001b[0m\u001b[0mformat\u001b[0m\u001b[1;33m(\u001b[0m\u001b[0mt\u001b[0m \u001b[1;32mfor\u001b[0m \u001b[0mt\u001b[0m \u001b[1;32min\u001b[0m \u001b[0mtmp\u001b[0m\u001b[1;33m)\u001b[0m\u001b[1;33m\u001b[0m\u001b[0m\n\u001b[0m\u001b[0;32m     17\u001b[0m \u001b[1;33m\u001b[0m\u001b[0m\n\u001b[0;32m     18\u001b[0m     \u001b[1;31m#d=db.cursor()\u001b[0m\u001b[1;33m\u001b[0m\u001b[1;33m\u001b[0m\u001b[0m\n",
      "\u001b[1;31mIndexError\u001b[0m: tuple index out of range"
     ]
    }
   ],
   "source": [
    "db = sqlite3.connect(dbPath)\n",
    "c = db.cursor()\n",
    "sqlStr =\"SELECT CAST(substr(tblInputData.userID,-5) as integer) as UserID, PlayedTimestamp, strftime('%s',tblInputData.PlayedTimestamp) - strftime('%s',tblAgg_User.FirstPlay) as SecsSinceFirstPlay,ArtistID, ArtistName, TrackID, TrackName from tblInputData Inner join tblAgg_User ON Cast(substr(tblInputData.userID,-5) as integer) = tblAgg_User.userID order by UserID,SecsSinceFirstPlay\"\n",
    "\n",
    "rowCount = 1\n",
    "userID=0\n",
    "for row in c.execute(sqlStr):\n",
    "    if int(row[0]) != userID: \n",
    "        rowCount = 1\n",
    "        userID = int(row[0])\n",
    "    \n",
    "    tmp=list(row)\n",
    "    tmp.append(str(rowCount))\n",
    "    \n",
    "    print (tmp)\n",
    "    tmp = ['Null' if v is None else v for v in tmp]\n",
    "    insertStr = \"Insert into tblMain (userID, PlayedTimeStamp, SecsSinceFirstPlay,ArtistID, ArtistName, TrackID, TrackName,historyID) Values ({}, {}, {},'{}', '{}', '{}', '{}',{})\".format(t for t in tmp)\n",
    "    \n",
    "    #d=db.cursor()\n",
    "    #d.execute(insertStr)\n",
    "    rowCount +=1\n",
    "\n",
    "db.commit()\n",
    "db.close()"
   ]
  },
  {
   "cell_type": "code",
   "execution_count": null,
   "metadata": {
    "collapsed": true
   },
   "outputs": [],
   "source": []
  }
 ],
 "metadata": {
  "anaconda-cloud": {},
  "kernelspec": {
   "display_name": "Python [Root]",
   "language": "python",
   "name": "Python [Root]"
  },
  "language_info": {
   "codemirror_mode": {
    "name": "ipython",
    "version": 3
   },
   "file_extension": ".py",
   "mimetype": "text/x-python",
   "name": "python",
   "nbconvert_exporter": "python",
   "pygments_lexer": "ipython3",
   "version": "3.5.2"
  }
 },
 "nbformat": 4,
 "nbformat_minor": 2
}
