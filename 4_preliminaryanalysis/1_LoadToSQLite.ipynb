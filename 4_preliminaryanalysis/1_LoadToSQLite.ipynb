{
 "cells": [
  {
   "cell_type": "code",
   "execution_count": 1,
   "metadata": {
    "collapsed": false
   },
   "outputs": [],
   "source": [
    "import os\n",
    "import sys\n",
    "import pandas as pd\n",
    "import csv\n",
    "import json\n",
    "import sqlite3\n",
    "from bokeh.charts import *\n",
    "\n",
    "## Parameters you can change\n",
    "\n",
    "# Abs path to settings file\n",
    "root = \"C:/DS/Github/MusicRecommendation\"  # BA, Windows\n",
    "\n",
    "# Select the dataset to view\n",
    "datasetToUse =\"inputfile_sml\" # inputfile , inputfile_sml , or inputfile_verysml\n",
    "\n",
    "\n",
    "## Finish setting up\n",
    "os.chdir(root)\n",
    "## Add the prelim module\n",
    "fPath = root + \"/1_codebase\"\n",
    "if fPath not in sys.path: sys.path.append(fPath)\n",
    "from codebase import *\n",
    "\n",
    "settingsDict =  loadSettings()"
   ]
  },
  {
   "cell_type": "markdown",
   "metadata": {},
   "source": [
    "<a id='Load Data'></a>\n",
    "<h3 style=\"background-color:#616161;color:white\">Load Data Into SQLite3</h3>"
   ]
  },
  {
   "cell_type": "code",
   "execution_count": 2,
   "metadata": {
    "collapsed": false
   },
   "outputs": [],
   "source": [
    "inputFilePath = root + settingsDict[datasetToUse]\n",
    "dbPath = root + settingsDict['dbPath']\n",
    "\n",
    "db = sqlite3.connect(dbPath)\n",
    "\n",
    "colHeadings=['UserID','PlayedTimestamp','ArtistID','ArtistName','TrackID','TrackName']\n",
    "dataFormat={'UserID': str, 'PlayedTimestamp': str, 'ArtistID' :str, 'ArtistName': str, 'TrackID': str, 'TrackName': str}\n",
    "parse_dates = ['PlayedTimestamp']\n",
    "\n",
    "inpData = pd.read_csv(inputFilePath, sep='\\t', error_bad_lines= False,quoting=csv.QUOTE_NONE, header=None,names=colHeadings, dtype=dataFormat,parse_dates=parse_dates)\n",
    "inpData.to_sql('tblInputData', db, flavor='sqlite',\n",
    "                                            schema=None, if_exists='replace', index=True,\n",
    "                                            index_label=None, chunksize=None, dtype=None)\n",
    "\n",
    "db.close()"
   ]
  }
 ],
 "metadata": {
  "anaconda-cloud": {},
  "kernelspec": {
   "display_name": "Python [Root]",
   "language": "python",
   "name": "Python [Root]"
  },
  "language_info": {
   "codemirror_mode": {
    "name": "ipython",
    "version": 3
   },
   "file_extension": ".py",
   "mimetype": "text/x-python",
   "name": "python",
   "nbconvert_exporter": "python",
   "pygments_lexer": "ipython3",
   "version": "3.5.2"
  }
 },
 "nbformat": 4,
 "nbformat_minor": 2
}
