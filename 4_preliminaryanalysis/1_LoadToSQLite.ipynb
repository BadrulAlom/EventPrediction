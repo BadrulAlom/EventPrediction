{
 "cells": [
  {
   "cell_type": "code",
   "execution_count": 1,
   "metadata": {
    "collapsed": false
   },
   "outputs": [],
   "source": [
    "import os\n",
    "import sys\n",
    "import pandas as pd\n",
    "import csv\n",
    "import json\n",
    "import sqlite3\n",
    "import logging\n",
    "\n",
    "## Parameters you can change\n",
    "\n",
    "# Abs path to settings file\n",
    "root = \"C:/DS/Github/MusicRecommendation\"  # BA, Windows\n",
    "\n",
    "# Select the dataset to view\n",
    "datasetToUse =\"inputfile\" # inputfile , inputfile_sml , or inputfile_verysml\n",
    "\n",
    "\n",
    "## Finish setting up\n",
    "os.chdir(root)\n",
    "## Add the prelim module\n",
    "fPath = root + \"/1_codebase\"\n",
    "if fPath not in sys.path: sys.path.append(fPath)\n",
    "from codebase import *\n",
    "\n",
    "settingsDict =  loadSettings()\n",
    "inputFilePath = root + settingsDict[datasetToUse]\n",
    "dbPath = root + settingsDict['dbPath']\n",
    "logging.basicConfig(filename='C:\\DS\\Github\\example.log',level=logging.DEBUG)\n",
    "\n",
    "def dropCreateTable(dbCursor,tblName, tblSelect):\n",
    "    sqlStr= 'DROP TABLE IF EXISTS {}'.format(tblName)\n",
    "    c.execute(sqlStr)\n",
    "\n",
    "    sqlStr =\"CREATE TABLE {}\".format(tblName) + \" AS \" + tblSelect\n",
    "    c.execute(sqlStr)"
   ]
  },
  {
   "cell_type": "markdown",
   "metadata": {},
   "source": [
    "<a id='Load Data'></a>\n",
    "<h3 style=\"background-color:#616161;color:white\">Load Data Into SQLite3</h3>"
   ]
  },
  {
   "cell_type": "code",
   "execution_count": 2,
   "metadata": {
    "collapsed": false
   },
   "outputs": [],
   "source": [
    "db = sqlite3.connect(dbPath)\n",
    "\n",
    "colHeadings=['UserID','PlayedTimestamp','ArtistID','ArtistName','TrackID','TrackName']\n",
    "dataFormat={'UserID': str, 'PlayedTimestamp': str, 'ArtistID' :str, 'ArtistName': str, 'TrackID': str, 'TrackName': str}\n",
    "newFields = 'FirstPlayed, MinsSinceFirstPlay integer, MinsSincePrevPlay integer, historyID integer'\n",
    "tblMain_SQL = 'CREATE TABLE tblMain (UserID integer, PlayedTimestamp text, ArtistID text, ArtistName text, TrackID text, TrackName text, ' + newFields +')';\n",
    "\n",
    "parse_dates = ['PlayedTimestamp']\n",
    "\n",
    "# Load data from CSV\n",
    "inpData = pd.read_csv(inputFilePath, sep='\\t', error_bad_lines= False,quoting=csv.QUOTE_NONE, header=None,names=colHeadings, dtype=dataFormat,parse_dates=parse_dates)\n",
    "inpData.to_sql('tblInputData', db, flavor='sqlite',\n",
    "                                            schema=None, if_exists='replace', index=True,\n",
    "                                            index_label=None, chunksize=None, dtype=None)\n",
    "\n",
    "# Create tblMain\n",
    "c=db.cursor()\n",
    "sqlStr= 'DROP TABLE IF EXISTS tblMain'\n",
    "c.execute(sqlStr)\n",
    "c.execute(tblMain_SQL)\n",
    "\n",
    "db.close()"
   ]
  },
  {
   "cell_type": "markdown",
   "metadata": {},
   "source": [
    "<a id='Preprocessing'></a>\n",
    "<h3 style=\"background-color:#616161;color:white\">Preprocessing</h3>"
   ]
  },
  {
   "cell_type": "markdown",
   "metadata": {},
   "source": [
    "<h4 style=\"background-color:#616161;color:white\">Create aggregated tables</h4>"
   ]
  },
  {
   "cell_type": "code",
   "execution_count": 3,
   "metadata": {
    "collapsed": false
   },
   "outputs": [],
   "source": [
    "db = sqlite3.connect(dbPath)\n",
    "c = db.cursor()\n",
    "\n",
    "dropCreateTable(c,'tblAgg_UserDailyPlays', 'SELECT Cast(substr(userID,-5) as integer) as userID, date(PlayedTimestamp),count(*) as NumOfPlays, count(Distinct trackID) as NumOfTracks from tblInputData group by userID, date(PlayedTimestamp) ORDER BY NumOfPlays')\n",
    "dropCreateTable(c,'tblAgg_User', 'SELECT Cast(substr(userID,-5) as integer) as userID, min(PlayedTimestamp) as FirstPlay from tblInputData Group by Cast(substr(userID,-5) as integer)')\n",
    "db.close()"
   ]
  },
  {
   "cell_type": "markdown",
   "metadata": {},
   "source": [
    "<h4 style=\"background-color:#616161;color:white\">Load data into tblMain</h4>"
   ]
  },
  {
   "cell_type": "code",
   "execution_count": 4,
   "metadata": {
    "collapsed": false
   },
   "outputs": [],
   "source": [
    "db = sqlite3.connect(dbPath)\n",
    "c = db.cursor()\n",
    "sqlStr =\"SELECT CAST(substr(tblInputData.userID,-5) as integer) as UserID, (strftime('%s',tblInputData.PlayedTimestamp) - strftime('%s',tblAgg_User.FirstPlay))/60 as MinsSinceFirstPlay, tblAgg_User.FirstPlay, PlayedTimestamp, ArtistID, ArtistName, TrackID, TrackName from tblInputData Inner join tblAgg_User ON Cast(substr(tblInputData.userID,-5) as integer) = tblAgg_User.userID order by UserID,MinsSinceFirstPlay\"\n",
    "\n",
    "rowCount = 1\n",
    "userID=0\n",
    "MinsSinceFirstPlay = \"\"\n",
    "for row in c.execute(sqlStr):\n",
    "    \n",
    "    tmp=list(row)\n",
    "    \n",
    "    \n",
    "    if tmp[0] != userID: \n",
    "        # Start of a new user\n",
    "        rowCount = 1\n",
    "        userID = int(row[0])\n",
    "        MinsSinceFirstPlay = tmp[1]\n",
    "        MinsSincePrevPlay = MinsSinceFirstPlay\n",
    "    else:\n",
    "        MinsSincePrevPlay = tmp[1] - MinsSinceFirstPlay\n",
    "        MinsSinceFirstPlay = tmp[1] \n",
    "    \n",
    "    \n",
    "    tmp.append(str(rowCount))\n",
    "    tmp.append(str(MinsSincePrevPlay))\n",
    "    \n",
    "    tmp = ['Null' if v is None else v for v in tmp]\n",
    "    \n",
    "    #tmp = [v.replace(\"\\'S\",\"''S\") if type(v)=='str' else v for v in tmp]\n",
    "    tmp=tuple(tmp)\n",
    "    #insertStr = \"Insert into tblMain (userID, MinsSinceFirstPlay, PlayedTimeStamp,ArtistID, ArtistName, TrackID, TrackName,historyID) Values ({}, {}, {},'{}', '{}', '{}', '{}',{})\".format(t for t in tmp)\n",
    "    t=str(tmp).replace(\"\\\\\\'S\",\"''S\")\n",
    "    \n",
    "    \n",
    "    insertStr = \"Insert into tblMain (userID, MinsSinceFirstPlay, FirstPlayed, PlayedTimeStamp, ArtistID, ArtistName, TrackID, TrackName,historyID, MinsSincePrevPlay) Values \" + t\n",
    "    \n",
    "    d=db.cursor()\n",
    "    \n",
    "    try:\n",
    "        d=db.cursor()\n",
    "        d.execute(insertStr)\n",
    "        rowCount +=1\n",
    "    except:\n",
    "        logging.warning(str(row))\n",
    "        logging.warning(insertStr)\n",
    "        \n",
    "        \n",
    "db.commit()\n",
    "db.close()"
   ]
  },
  {
   "cell_type": "code",
   "execution_count": 5,
   "metadata": {
    "collapsed": true
   },
   "outputs": [],
   "source": [
    "db.close()"
   ]
  },
  {
   "cell_type": "code",
   "execution_count": null,
   "metadata": {
    "collapsed": true
   },
   "outputs": [],
   "source": []
  }
 ],
 "metadata": {
  "anaconda-cloud": {},
  "kernelspec": {
   "display_name": "Python [Root]",
   "language": "python",
   "name": "Python [Root]"
  },
  "language_info": {
   "codemirror_mode": {
    "name": "ipython",
    "version": 3
   },
   "file_extension": ".py",
   "mimetype": "text/x-python",
   "name": "python",
   "nbconvert_exporter": "python",
   "pygments_lexer": "ipython3",
   "version": "3.5.2"
  }
 },
 "nbformat": 4,
 "nbformat_minor": 2
}
