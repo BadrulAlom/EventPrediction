{
 "cells": [
  {
   "cell_type": "markdown",
   "metadata": {},
   "source": [
    "<h1 align=\"center\" style=\"background-color:#616161;color:white\">Tags and Similarities</h1>"
   ]
  },
  {
   "cell_type": "markdown",
   "metadata": {},
   "source": [
    "<h3>Summary</h3>\n",
    "\n",
    "<font color=blue>\n",
    "Load in additional data provided here: https://labrosa.ee.columbia.edu/millionsong/lastfm#getting\n",
    "<br>Tags -  list of user-defined tags for each track ID\n",
    "<br>Similarities - a list of similar songs for ech track ID\n",
    "</font>    "
   ]
  },
  {
   "cell_type": "markdown",
   "metadata": {},
   "source": [
    "<h3 style=\"background-color:#616161;color:white\">0. Code setup</h3>"
   ]
  },
  {
   "cell_type": "code",
   "execution_count": 1,
   "metadata": {
    "collapsed": true
   },
   "outputs": [],
   "source": [
    "import os\n",
    "import sys\n",
    "import pandas as pd\n",
    "import numpy as np\n",
    "import datetime\n",
    "import csv\n",
    "import json\n",
    "import sqlite3\n",
    "from pathlib import Path"
   ]
  },
  {
   "cell_type": "code",
   "execution_count": 2,
   "metadata": {
    "collapsed": false
   },
   "outputs": [],
   "source": [
    "## Parameters you can change\n",
    "\n",
    "# Abs path to settings file\n",
    "root = \"C:/DS/Github/MusicRecommendation\"  # BA, Windows\n",
    "\n",
    "## Import the codebase module\n",
    "fPath = root + \"/1_codemodule\"\n",
    "if fPath not in sys.path: sys.path.append(fPath)\n",
    "\n",
    "import codebase as cb\n",
    "import lastfmCode as fm\n",
    "\n",
    "## Finish setting up\n",
    "os.chdir(root)\n",
    "\n",
    "settingsDict =  cb.loadSettings()\n",
    "\n",
    "# Load data from database\n",
    "dbPath = root + settingsDict['dbPath']\n",
    "fmSimilarDbPath = root + settingsDict['fmSimilarDbPath']\n",
    "fmTagsDbPath = root + settingsDict['fmTagsDbPath']\n",
    "\n",
    "# This command line was used to import from the similarities.db\n",
    "# sqlite3 \"lastfmSimilar.db\" \".dump\" | sqlite3 \"inputDB.db\""
   ]
  },
  {
   "cell_type": "code",
   "execution_count": 13,
   "metadata": {
    "collapsed": false,
    "scrolled": true
   },
   "outputs": [],
   "source": [
    "#fm.getSimilariity(fmSimilarDbPath,'TRRQSYC128F92DF7C8')\n",
    "#fm.getTagsForTrack(fmTagsDbPath,'TRRQSYC128F92DF7C8')\n",
    "#fm.getTracksForTag(fmTagsDbPath,'Acid Smurfs')"
   ]
  },
  {
   "cell_type": "code",
   "execution_count": 12,
   "metadata": {
    "collapsed": false
   },
   "outputs": [
    {
     "ename": "OperationalError",
     "evalue": "unrecognized token: \":\"",
     "output_type": "error",
     "traceback": [
      "\u001b[1;31m\u001b[0m",
      "\u001b[1;31mOperationalError\u001b[0mTraceback (most recent call last)",
      "\u001b[1;32m<ipython-input-12-20649943307b>\u001b[0m in \u001b[0;36m<module>\u001b[1;34m()\u001b[0m\n\u001b[0;32m      1\u001b[0m \u001b[0mcon\u001b[0m \u001b[1;33m=\u001b[0m \u001b[0msqlite3\u001b[0m\u001b[1;33m.\u001b[0m\u001b[0mconnect\u001b[0m\u001b[1;33m(\u001b[0m\u001b[0mdbPath\u001b[0m\u001b[1;33m)\u001b[0m\u001b[1;33m\u001b[0m\u001b[0m\n\u001b[1;32m----> 2\u001b[1;33m \u001b[0mcon\u001b[0m\u001b[1;33m.\u001b[0m\u001b[0mexecute\u001b[0m\u001b[1;33m(\u001b[0m\u001b[1;34m\"ATTACH DATABASE %s AS db2\"\u001b[0m \u001b[1;33m%\u001b[0m \u001b[0mfmSimilarDbPath\u001b[0m\u001b[1;33m)\u001b[0m\u001b[1;33m\u001b[0m\u001b[0m\n\u001b[0m",
      "\u001b[1;31mOperationalError\u001b[0m: unrecognized token: \":\""
     ]
    }
   ],
   "source": [
    "con = sqlite3.connect(dbPath)\n",
    "con.execute(\"ATTACH DATABASE %s AS db2\" % fmSimilarDbPath)\n"
   ]
  },
  {
   "cell_type": "markdown",
   "metadata": {},
   "source": [
    "<h3 style=\"background-color:#616161;color:white\">END</h3>"
   ]
  }
 ],
 "metadata": {
  "anaconda-cloud": {},
  "kernelspec": {
   "display_name": "Python [Root]",
   "language": "python",
   "name": "Python [Root]"
  },
  "language_info": {
   "codemirror_mode": {
    "name": "ipython",
    "version": 3
   },
   "file_extension": ".py",
   "mimetype": "text/x-python",
   "name": "python",
   "nbconvert_exporter": "python",
   "pygments_lexer": "ipython3",
   "version": "3.5.2"
  }
 },
 "nbformat": 4,
 "nbformat_minor": 2
}
