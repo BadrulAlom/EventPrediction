{
 "cells": [
  {
   "cell_type": "markdown",
   "metadata": {},
   "source": [
    "<h1 align=\"center\" style=\"background-color:#616161;color:white\">Outlier Analysis</h1>"
   ]
  },
  {
   "cell_type": "markdown",
   "metadata": {},
   "source": [
    "<h3>Summary</h3>\n",
    "\n",
    "* Two types of analysis was conducted\n",
    "    - Daily LIstening Habits: Analysis of the number of unique tracks vs. num. of plays a user seen on a daily basis\n",
    "    - Histogram of the time period in between song plays"
   ]
  },
  {
   "cell_type": "markdown",
   "metadata": {},
   "source": [
    "<h3 style=\"background-color:#616161;color:white\">0. Code setup</h3>"
   ]
  },
  {
   "cell_type": "code",
   "execution_count": 65,
   "metadata": {
    "collapsed": false
   },
   "outputs": [],
   "source": [
    "import os\n",
    "import sys\n",
    "import pandas as pd\n",
    "import csv\n",
    "import json\n",
    "import sqlite3\n",
    "from bokeh.charts import *\n",
    "from bokeh.sampledata.autompg import autompg as df\n",
    "from bokeh.models import HoverTool, BoxSelectTool,BoxZoomTool,ResetTool\n",
    "from bokeh.models import NumeralTickFormatter\n",
    "\n",
    "\n",
    "## Parameters you can change\n",
    "\n",
    "# Abs path to settings file\n",
    "root = \"C:/DS/Github/MusicRecommendation\"  # BA, Windows\n",
    "\n",
    "\n",
    "## Finish setting up\n",
    "os.chdir(root)\n",
    "## Add the prelim module\n",
    "fPath = root + \"/1_codebase\"\n",
    "if fPath not in sys.path: sys.path.append(fPath)\n",
    "from codebase import *\n",
    "\n",
    "settingsDict =  loadSettings()\n",
    "\n",
    "# Load data from database\n",
    "dbPath = root + settingsDict['dbPath']\n",
    "\n",
    "def getRandomUsers(maxUsers):\n",
    "    db = sqlite3.connect(dbPath)\n",
    "    SQStr =\"SELECT userID FROM tblUser ORDER BY RANDOM() LIMIT \" + maxUsers"
   ]
  },
  {
   "cell_type": "code",
   "execution_count": 74,
   "metadata": {
    "collapsed": false
   },
   "outputs": [],
   "source": [
    "# Add hover to this comma-separated string and see what changes\n",
    "hover = HoverTool(\n",
    "        tooltips=[\n",
    "            (\"index\", \"$index\"),\n",
    "            (\"(x,y)\", \"($x, $y)\"),\n",
    "            (\"userID\", \"@user\"),\n",
    "            (\"PlayedTimestamp\",\"@PlayedTimestamp\"),\n",
    "        ]\n",
    "    )\n",
    "TOOLS = [BoxSelectTool(),BoxZoomTool(), ResetTool(),hover]"
   ]
  },
  {
   "cell_type": "markdown",
   "metadata": {},
   "source": [
    "<h3 style=\"background-color:#616161;color:white\">1. Daily listening habits</h3>"
   ]
  },
  {
   "cell_type": "markdown",
   "metadata": {},
   "source": [
    "<b>Summary</b>\n",
    "* User 21 listens to a high number of unique songs in a day (up to 460)\n",
    "* User 8 listens to around 10-50 songs a day, upto 2300 times a day"
   ]
  },
  {
   "cell_type": "code",
   "execution_count": 76,
   "metadata": {
    "collapsed": false
   },
   "outputs": [
    {
     "ename": "ValueError",
     "evalue": "tool BoxSelectTool(id='a75e43b5-a090-4e6e-8b0f-7d073fe7ff33', ...) to be added already has 'plot' attribute set",
     "output_type": "error",
     "traceback": [
      "\u001b[1;31m\u001b[0m",
      "\u001b[1;31mValueError\u001b[0mTraceback (most recent call last)",
      "\u001b[1;32m<ipython-input-76-556f048a20dd>\u001b[0m in \u001b[0;36m<module>\u001b[1;34m()\u001b[0m\n\u001b[0;32m      5\u001b[0m \u001b[0mdb\u001b[0m\u001b[1;33m.\u001b[0m\u001b[0mclose\u001b[0m\u001b[1;33m(\u001b[0m\u001b[1;33m)\u001b[0m\u001b[1;33m\u001b[0m\u001b[0m\n\u001b[0;32m      6\u001b[0m \u001b[1;33m\u001b[0m\u001b[0m\n\u001b[1;32m----> 7\u001b[1;33m \u001b[0mp\u001b[0m \u001b[1;33m=\u001b[0m \u001b[0mScatter\u001b[0m\u001b[1;33m(\u001b[0m\u001b[0mres\u001b[0m\u001b[1;33m,\u001b[0m \u001b[0mx\u001b[0m\u001b[1;33m=\u001b[0m\u001b[1;34m'NumOfPlays'\u001b[0m\u001b[1;33m,\u001b[0m \u001b[0my\u001b[0m\u001b[1;33m=\u001b[0m\u001b[1;34m'NumOfTracks'\u001b[0m\u001b[1;33m,\u001b[0m \u001b[0mcolor\u001b[0m\u001b[1;33m=\u001b[0m\u001b[1;34m'user'\u001b[0m\u001b[1;33m,\u001b[0m \u001b[0mlegend\u001b[0m\u001b[1;33m=\u001b[0m\u001b[1;32mFalse\u001b[0m\u001b[1;33m,\u001b[0m \u001b[0mtitle\u001b[0m\u001b[1;33m=\u001b[0m\u001b[1;34m\"Daily listening habits of users\"\u001b[0m\u001b[1;33m,\u001b[0m \u001b[0mxlabel\u001b[0m\u001b[1;33m=\u001b[0m\u001b[1;34m\"NumOfPlays\"\u001b[0m\u001b[1;33m,\u001b[0m \u001b[0mylabel\u001b[0m\u001b[1;33m=\u001b[0m\u001b[1;34m\"NumOfTracks\"\u001b[0m\u001b[1;33m,\u001b[0m\u001b[0mtools\u001b[0m\u001b[1;33m=\u001b[0m\u001b[0mTOOLS\u001b[0m\u001b[1;33m)\u001b[0m\u001b[1;33m\u001b[0m\u001b[0m\n\u001b[0m\u001b[0;32m      8\u001b[0m \u001b[0moutput_notebook\u001b[0m\u001b[1;33m(\u001b[0m\u001b[1;33m)\u001b[0m\u001b[1;33m\u001b[0m\u001b[0m\n\u001b[0;32m      9\u001b[0m \u001b[0mshow\u001b[0m\u001b[1;33m(\u001b[0m\u001b[0mp\u001b[0m\u001b[1;33m)\u001b[0m\u001b[1;33m\u001b[0m\u001b[0m\n",
      "\u001b[1;32mC:\\DS\\Installs\\Anaconda3\\lib\\site-packages\\bokeh\\charts\\builders\\scatter_builder.py\u001b[0m in \u001b[0;36mScatter\u001b[1;34m(data, x, y, **kws)\u001b[0m\n\u001b[0;32m     63\u001b[0m     \u001b[0mkws\u001b[0m\u001b[1;33m[\u001b[0m\u001b[1;34m'x'\u001b[0m\u001b[1;33m]\u001b[0m \u001b[1;33m=\u001b[0m \u001b[0mx\u001b[0m\u001b[1;33m\u001b[0m\u001b[0m\n\u001b[0;32m     64\u001b[0m     \u001b[0mkws\u001b[0m\u001b[1;33m[\u001b[0m\u001b[1;34m'y'\u001b[0m\u001b[1;33m]\u001b[0m \u001b[1;33m=\u001b[0m \u001b[0my\u001b[0m\u001b[1;33m\u001b[0m\u001b[0m\n\u001b[1;32m---> 65\u001b[1;33m     \u001b[1;32mreturn\u001b[0m \u001b[0mcreate_and_build\u001b[0m\u001b[1;33m(\u001b[0m\u001b[0mScatterBuilder\u001b[0m\u001b[1;33m,\u001b[0m \u001b[0mdata\u001b[0m\u001b[1;33m,\u001b[0m \u001b[1;33m**\u001b[0m\u001b[0mkws\u001b[0m\u001b[1;33m)\u001b[0m\u001b[1;33m\u001b[0m\u001b[0m\n\u001b[0m\u001b[0;32m     66\u001b[0m \u001b[1;33m\u001b[0m\u001b[0m\n\u001b[0;32m     67\u001b[0m \u001b[1;33m\u001b[0m\u001b[0m\n",
      "\u001b[1;32mC:\\DS\\Installs\\Anaconda3\\lib\\site-packages\\bokeh\\charts\\builder.py\u001b[0m in \u001b[0;36mcreate_and_build\u001b[1;34m(builder_class, *data, **kws)\u001b[0m\n\u001b[0;32m     53\u001b[0m     \u001b[1;31m# create a chart to return, since there isn't one already\u001b[0m\u001b[1;33m\u001b[0m\u001b[1;33m\u001b[0m\u001b[0m\n\u001b[0;32m     54\u001b[0m     \u001b[0mchart_kws\u001b[0m \u001b[1;33m=\u001b[0m \u001b[1;33m{\u001b[0m\u001b[0mk\u001b[0m\u001b[1;33m:\u001b[0m \u001b[0mv\u001b[0m \u001b[1;32mfor\u001b[0m \u001b[0mk\u001b[0m\u001b[1;33m,\u001b[0m \u001b[0mv\u001b[0m \u001b[1;32min\u001b[0m \u001b[0mkws\u001b[0m\u001b[1;33m.\u001b[0m\u001b[0mitems\u001b[0m\u001b[1;33m(\u001b[0m\u001b[1;33m)\u001b[0m \u001b[1;32mif\u001b[0m \u001b[0mk\u001b[0m \u001b[1;32mnot\u001b[0m \u001b[1;32min\u001b[0m \u001b[0mbuilder_props\u001b[0m\u001b[1;33m}\u001b[0m\u001b[1;33m\u001b[0m\u001b[0m\n\u001b[1;32m---> 55\u001b[1;33m     \u001b[0mchart\u001b[0m \u001b[1;33m=\u001b[0m \u001b[0mChart\u001b[0m\u001b[1;33m(\u001b[0m\u001b[1;33m**\u001b[0m\u001b[0mchart_kws\u001b[0m\u001b[1;33m)\u001b[0m\u001b[1;33m\u001b[0m\u001b[0m\n\u001b[0m\u001b[0;32m     56\u001b[0m     \u001b[0mchart\u001b[0m\u001b[1;33m.\u001b[0m\u001b[0madd_builder\u001b[0m\u001b[1;33m(\u001b[0m\u001b[0mbuilder\u001b[0m\u001b[1;33m)\u001b[0m\u001b[1;33m\u001b[0m\u001b[0m\n\u001b[0;32m     57\u001b[0m     \u001b[0mchart\u001b[0m\u001b[1;33m.\u001b[0m\u001b[0mstart_plot\u001b[0m\u001b[1;33m(\u001b[0m\u001b[1;33m)\u001b[0m\u001b[1;33m\u001b[0m\u001b[0m\n",
      "\u001b[1;32mC:\\DS\\Installs\\Anaconda3\\lib\\site-packages\\bokeh\\charts\\chart.py\u001b[0m in \u001b[0;36m__init__\u001b[1;34m(self, *args, **kwargs)\u001b[0m\n\u001b[0;32m    143\u001b[0m \u001b[1;33m\u001b[0m\u001b[0m\n\u001b[0;32m    144\u001b[0m         \u001b[1;32mif\u001b[0m \u001b[0mhasattr\u001b[0m\u001b[1;33m(\u001b[0m\u001b[0mself\u001b[0m\u001b[1;33m,\u001b[0m \u001b[1;34m'_tools'\u001b[0m\u001b[1;33m)\u001b[0m\u001b[1;33m:\u001b[0m\u001b[1;33m\u001b[0m\u001b[0m\n\u001b[1;32m--> 145\u001b[1;33m             \u001b[0mself\u001b[0m\u001b[1;33m.\u001b[0m\u001b[0mcreate_tools\u001b[0m\u001b[1;33m(\u001b[0m\u001b[0mself\u001b[0m\u001b[1;33m.\u001b[0m\u001b[0m_tools\u001b[0m\u001b[1;33m,\u001b[0m \u001b[0mself\u001b[0m\u001b[1;33m.\u001b[0m\u001b[0m_active_drag\u001b[0m\u001b[1;33m,\u001b[0m \u001b[0mself\u001b[0m\u001b[1;33m.\u001b[0m\u001b[0m_active_scroll\u001b[0m\u001b[1;33m,\u001b[0m \u001b[0mself\u001b[0m\u001b[1;33m.\u001b[0m\u001b[0m_active_tap\u001b[0m\u001b[1;33m)\u001b[0m\u001b[1;33m\u001b[0m\u001b[0m\n\u001b[0m\u001b[0;32m    146\u001b[0m \u001b[1;33m\u001b[0m\u001b[0m\n\u001b[0;32m    147\u001b[0m     \u001b[1;32mdef\u001b[0m \u001b[0madd_renderers\u001b[0m\u001b[1;33m(\u001b[0m\u001b[0mself\u001b[0m\u001b[1;33m,\u001b[0m \u001b[0mbuilder\u001b[0m\u001b[1;33m,\u001b[0m \u001b[0mrenderers\u001b[0m\u001b[1;33m)\u001b[0m\u001b[1;33m:\u001b[0m\u001b[1;33m\u001b[0m\u001b[0m\n",
      "\u001b[1;32mC:\\DS\\Installs\\Anaconda3\\lib\\site-packages\\bokeh\\charts\\chart.py\u001b[0m in \u001b[0;36mcreate_tools\u001b[1;34m(self, tools, active_drag, active_scroll, active_tap)\u001b[0m\n\u001b[0;32m    197\u001b[0m             \u001b[1;31m# if no tools customization let's create the default tools\u001b[0m\u001b[1;33m\u001b[0m\u001b[1;33m\u001b[0m\u001b[0m\n\u001b[0;32m    198\u001b[0m             \u001b[0mtool_objs\u001b[0m\u001b[1;33m,\u001b[0m \u001b[0mtool_map\u001b[0m \u001b[1;33m=\u001b[0m \u001b[0m_process_tools_arg\u001b[0m\u001b[1;33m(\u001b[0m\u001b[0mself\u001b[0m\u001b[1;33m,\u001b[0m \u001b[0mtools\u001b[0m\u001b[1;33m)\u001b[0m\u001b[1;33m\u001b[0m\u001b[0m\n\u001b[1;32m--> 199\u001b[1;33m             \u001b[0mself\u001b[0m\u001b[1;33m.\u001b[0m\u001b[0madd_tools\u001b[0m\u001b[1;33m(\u001b[0m\u001b[1;33m*\u001b[0m\u001b[0mtool_objs\u001b[0m\u001b[1;33m)\u001b[0m\u001b[1;33m\u001b[0m\u001b[0m\n\u001b[0m\u001b[0;32m    200\u001b[0m             \u001b[0m_process_active_tools\u001b[0m\u001b[1;33m(\u001b[0m\u001b[0mself\u001b[0m\u001b[1;33m.\u001b[0m\u001b[0mtoolbar\u001b[0m\u001b[1;33m,\u001b[0m \u001b[0mtool_map\u001b[0m\u001b[1;33m,\u001b[0m \u001b[0mself\u001b[0m\u001b[1;33m.\u001b[0m\u001b[0m_active_drag\u001b[0m\u001b[1;33m,\u001b[0m \u001b[0mself\u001b[0m\u001b[1;33m.\u001b[0m\u001b[0m_active_scroll\u001b[0m\u001b[1;33m,\u001b[0m \u001b[0mself\u001b[0m\u001b[1;33m.\u001b[0m\u001b[0m_active_tap\u001b[0m\u001b[1;33m)\u001b[0m\u001b[1;33m\u001b[0m\u001b[0m\n\u001b[0;32m    201\u001b[0m \u001b[1;33m\u001b[0m\u001b[0m\n",
      "\u001b[1;32mC:\\DS\\Installs\\Anaconda3\\lib\\site-packages\\bokeh\\models\\plots.py\u001b[0m in \u001b[0;36madd_tools\u001b[1;34m(self, *tools)\u001b[0m\n\u001b[0;32m    241\u001b[0m         \u001b[1;32mfor\u001b[0m \u001b[0mtool\u001b[0m \u001b[1;32min\u001b[0m \u001b[0mtools\u001b[0m\u001b[1;33m:\u001b[0m\u001b[1;33m\u001b[0m\u001b[0m\n\u001b[0;32m    242\u001b[0m             \u001b[1;32mif\u001b[0m \u001b[0mtool\u001b[0m\u001b[1;33m.\u001b[0m\u001b[0mplot\u001b[0m \u001b[1;32mis\u001b[0m \u001b[1;32mnot\u001b[0m \u001b[1;32mNone\u001b[0m\u001b[1;33m:\u001b[0m\u001b[1;33m\u001b[0m\u001b[0m\n\u001b[1;32m--> 243\u001b[1;33m                 \u001b[1;32mraise\u001b[0m \u001b[0mValueError\u001b[0m\u001b[1;33m(\u001b[0m\u001b[1;34m\"tool %s to be added already has 'plot' attribute set\"\u001b[0m \u001b[1;33m%\u001b[0m \u001b[0mtool\u001b[0m\u001b[1;33m)\u001b[0m\u001b[1;33m\u001b[0m\u001b[0m\n\u001b[0m\u001b[0;32m    244\u001b[0m             \u001b[0mtool\u001b[0m\u001b[1;33m.\u001b[0m\u001b[0mplot\u001b[0m \u001b[1;33m=\u001b[0m \u001b[0mself\u001b[0m\u001b[1;33m\u001b[0m\u001b[0m\n\u001b[0;32m    245\u001b[0m             \u001b[1;32mif\u001b[0m \u001b[0mhasattr\u001b[0m\u001b[1;33m(\u001b[0m\u001b[0mtool\u001b[0m\u001b[1;33m,\u001b[0m \u001b[1;34m'overlay'\u001b[0m\u001b[1;33m)\u001b[0m\u001b[1;33m:\u001b[0m\u001b[1;33m\u001b[0m\u001b[0m\n",
      "\u001b[1;31mValueError\u001b[0m: tool BoxSelectTool(id='a75e43b5-a090-4e6e-8b0f-7d073fe7ff33', ...) to be added already has 'plot' attribute set"
     ]
    }
   ],
   "source": [
    "db = sqlite3.connect(dbPath)\n",
    "\n",
    "sqlStr ='SELECT Cast(substr(userID,-5) as integer) as user,date(PlayedTimestamp) as PlayedTimeStamp ,count(*) as NumOfPlays, count(Distinct trackID) as NumOfTracks from tblInputData group by userID, date(PlayedTimestamp) ORDER BY NumOfPlays'\n",
    "res = pd.read_sql_query(sqlStr, db)\n",
    "db.close()\n",
    "\n",
    "p = Scatter(res, x='NumOfPlays', y='NumOfTracks', color='user', legend=False, title=\"Daily listening habits of users\", xlabel=\"NumOfPlays\", ylabel=\"NumOfTracks\",tools=TOOLS)\n",
    "output_notebook()\n",
    "show(p)"
   ]
  },
  {
   "cell_type": "markdown",
   "metadata": {},
   "source": [
    "<h3 style=\"background-color:#616161;color:white\">2. Interval time</h3>"
   ]
  },
  {
   "cell_type": "code",
   "execution_count": 68,
   "metadata": {
    "collapsed": false
   },
   "outputs": [],
   "source": [
    "reset_output() \n",
    "db = sqlite3.connect(dbPath)\n",
    "sqlStr ='Select userID, (SecsSincePrevPlay/60) as MinsSinceFirstPlay from tblMain order by userID, historyID'\n",
    "res = pd.read_sql_query(sqlStr, db)\n",
    "db.close()"
   ]
  },
  {
   "cell_type": "code",
   "execution_count": 73,
   "metadata": {
    "collapsed": false
   },
   "outputs": [
    {
     "data": {
      "text/html": [
       "\n",
       "    <div class=\"bk-root\">\n",
       "        <a href=\"http://bokeh.pydata.org\" target=\"_blank\" class=\"bk-logo bk-logo-small bk-logo-notebook\"></a>\n",
       "        <span id=\"1ace9a7f-5a93-48fa-914a-9d2f4680f6a4\">Loading BokehJS ...</span>\n",
       "    </div>"
      ]
     },
     "metadata": {},
     "output_type": "display_data"
    },
    {
     "data": {
      "application/javascript": [
       "\n",
       "(function(global) {\n",
       "  function now() {\n",
       "    return new Date();\n",
       "  }\n",
       "\n",
       "  var force = true;\n",
       "\n",
       "  if (typeof (window._bokeh_onload_callbacks) === \"undefined\" || force === true) {\n",
       "    window._bokeh_onload_callbacks = [];\n",
       "    window._bokeh_is_loading = undefined;\n",
       "  }\n",
       "\n",
       "\n",
       "  \n",
       "  if (typeof (window._bokeh_timeout) === \"undefined\" || force === true) {\n",
       "    window._bokeh_timeout = Date.now() + 5000;\n",
       "    window._bokeh_failed_load = false;\n",
       "  }\n",
       "\n",
       "  var NB_LOAD_WARNING = {'data': {'text/html':\n",
       "     \"<div style='background-color: #fdd'>\\n\"+\n",
       "     \"<p>\\n\"+\n",
       "     \"BokehJS does not appear to have successfully loaded. If loading BokehJS from CDN, this \\n\"+\n",
       "     \"may be due to a slow or bad network connection. Possible fixes:\\n\"+\n",
       "     \"</p>\\n\"+\n",
       "     \"<ul>\\n\"+\n",
       "     \"<li>re-rerun `output_notebook()` to attempt to load from CDN again, or</li>\\n\"+\n",
       "     \"<li>use INLINE resources instead, as so:</li>\\n\"+\n",
       "     \"</ul>\\n\"+\n",
       "     \"<code>\\n\"+\n",
       "     \"from bokeh.resources import INLINE\\n\"+\n",
       "     \"output_notebook(resources=INLINE)\\n\"+\n",
       "     \"</code>\\n\"+\n",
       "     \"</div>\"}};\n",
       "\n",
       "  function display_loaded() {\n",
       "    if (window.Bokeh !== undefined) {\n",
       "      var el = document.getElementById(\"1ace9a7f-5a93-48fa-914a-9d2f4680f6a4\");\n",
       "      el.textContent = \"BokehJS \" + Bokeh.version + \" successfully loaded.\";\n",
       "    } else if (Date.now() < window._bokeh_timeout) {\n",
       "      setTimeout(display_loaded, 100)\n",
       "    }\n",
       "  }\n",
       "\n",
       "  function run_callbacks() {\n",
       "    window._bokeh_onload_callbacks.forEach(function(callback) { callback() });\n",
       "    delete window._bokeh_onload_callbacks\n",
       "    console.info(\"Bokeh: all callbacks have finished\");\n",
       "  }\n",
       "\n",
       "  function load_libs(js_urls, callback) {\n",
       "    window._bokeh_onload_callbacks.push(callback);\n",
       "    if (window._bokeh_is_loading > 0) {\n",
       "      console.log(\"Bokeh: BokehJS is being loaded, scheduling callback at\", now());\n",
       "      return null;\n",
       "    }\n",
       "    if (js_urls == null || js_urls.length === 0) {\n",
       "      run_callbacks();\n",
       "      return null;\n",
       "    }\n",
       "    console.log(\"Bokeh: BokehJS not loaded, scheduling load and callback at\", now());\n",
       "    window._bokeh_is_loading = js_urls.length;\n",
       "    for (var i = 0; i < js_urls.length; i++) {\n",
       "      var url = js_urls[i];\n",
       "      var s = document.createElement('script');\n",
       "      s.src = url;\n",
       "      s.async = false;\n",
       "      s.onreadystatechange = s.onload = function() {\n",
       "        window._bokeh_is_loading--;\n",
       "        if (window._bokeh_is_loading === 0) {\n",
       "          console.log(\"Bokeh: all BokehJS libraries loaded\");\n",
       "          run_callbacks()\n",
       "        }\n",
       "      };\n",
       "      s.onerror = function() {\n",
       "        console.warn(\"failed to load library \" + url);\n",
       "      };\n",
       "      console.log(\"Bokeh: injecting script tag for BokehJS library: \", url);\n",
       "      document.getElementsByTagName(\"head\")[0].appendChild(s);\n",
       "    }\n",
       "  };var element = document.getElementById(\"1ace9a7f-5a93-48fa-914a-9d2f4680f6a4\");\n",
       "  if (element == null) {\n",
       "    console.log(\"Bokeh: ERROR: autoload.js configured with elementid '1ace9a7f-5a93-48fa-914a-9d2f4680f6a4' but no matching script tag was found. \")\n",
       "    return false;\n",
       "  }\n",
       "\n",
       "  var js_urls = [\"https://cdn.pydata.org/bokeh/release/bokeh-0.12.5.min.js\", \"https://cdn.pydata.org/bokeh/release/bokeh-widgets-0.12.5.min.js\"];\n",
       "\n",
       "  var inline_js = [\n",
       "    function(Bokeh) {\n",
       "      Bokeh.set_log_level(\"info\");\n",
       "    },\n",
       "    \n",
       "    function(Bokeh) {\n",
       "      \n",
       "    },\n",
       "    \n",
       "    function(Bokeh) {\n",
       "      \n",
       "      document.getElementById(\"1ace9a7f-5a93-48fa-914a-9d2f4680f6a4\").textContent = \"BokehJS is loading...\";\n",
       "    },\n",
       "    function(Bokeh) {\n",
       "      console.log(\"Bokeh: injecting CSS: https://cdn.pydata.org/bokeh/release/bokeh-0.12.5.min.css\");\n",
       "      Bokeh.embed.inject_css(\"https://cdn.pydata.org/bokeh/release/bokeh-0.12.5.min.css\");\n",
       "      console.log(\"Bokeh: injecting CSS: https://cdn.pydata.org/bokeh/release/bokeh-widgets-0.12.5.min.css\");\n",
       "      Bokeh.embed.inject_css(\"https://cdn.pydata.org/bokeh/release/bokeh-widgets-0.12.5.min.css\");\n",
       "    }\n",
       "  ];\n",
       "\n",
       "  function run_inline_js() {\n",
       "    \n",
       "    if ((window.Bokeh !== undefined) || (force === true)) {\n",
       "      for (var i = 0; i < inline_js.length; i++) {\n",
       "        inline_js[i](window.Bokeh);\n",
       "      }if (force === true) {\n",
       "        display_loaded();\n",
       "      }} else if (Date.now() < window._bokeh_timeout) {\n",
       "      setTimeout(run_inline_js, 100);\n",
       "    } else if (!window._bokeh_failed_load) {\n",
       "      console.log(\"Bokeh: BokehJS failed to load within specified timeout.\");\n",
       "      window._bokeh_failed_load = true;\n",
       "    } else if (force !== true) {\n",
       "      var cell = $(document.getElementById(\"1ace9a7f-5a93-48fa-914a-9d2f4680f6a4\")).parents('.cell').data().cell;\n",
       "      cell.output_area.append_execute_result(NB_LOAD_WARNING)\n",
       "    }\n",
       "\n",
       "  }\n",
       "\n",
       "  if (window._bokeh_is_loading === 0) {\n",
       "    console.log(\"Bokeh: BokehJS loaded, going straight to plotting\");\n",
       "    run_inline_js();\n",
       "  } else {\n",
       "    load_libs(js_urls, function() {\n",
       "      console.log(\"Bokeh: BokehJS plotting callback run at\", now());\n",
       "      run_inline_js();\n",
       "    });\n",
       "  }\n",
       "}(this));"
      ]
     },
     "metadata": {},
     "output_type": "display_data"
    },
    {
     "data": {
      "text/html": [
       "\n",
       "\n",
       "    <div class=\"bk-root\">\n",
       "        <div class=\"bk-plotdiv\" id=\"381495b6-44ee-43f2-acc4-2333163a29d2\"></div>\n",
       "    </div>\n",
       "<script type=\"text/javascript\">\n",
       "  \n",
       "  (function(global) {\n",
       "    function now() {\n",
       "      return new Date();\n",
       "    }\n",
       "  \n",
       "    var force = false;\n",
       "  \n",
       "    if (typeof (window._bokeh_onload_callbacks) === \"undefined\" || force === true) {\n",
       "      window._bokeh_onload_callbacks = [];\n",
       "      window._bokeh_is_loading = undefined;\n",
       "    }\n",
       "  \n",
       "  \n",
       "    \n",
       "    if (typeof (window._bokeh_timeout) === \"undefined\" || force === true) {\n",
       "      window._bokeh_timeout = Date.now() + 0;\n",
       "      window._bokeh_failed_load = false;\n",
       "    }\n",
       "  \n",
       "    var NB_LOAD_WARNING = {'data': {'text/html':\n",
       "       \"<div style='background-color: #fdd'>\\n\"+\n",
       "       \"<p>\\n\"+\n",
       "       \"BokehJS does not appear to have successfully loaded. If loading BokehJS from CDN, this \\n\"+\n",
       "       \"may be due to a slow or bad network connection. Possible fixes:\\n\"+\n",
       "       \"</p>\\n\"+\n",
       "       \"<ul>\\n\"+\n",
       "       \"<li>re-rerun `output_notebook()` to attempt to load from CDN again, or</li>\\n\"+\n",
       "       \"<li>use INLINE resources instead, as so:</li>\\n\"+\n",
       "       \"</ul>\\n\"+\n",
       "       \"<code>\\n\"+\n",
       "       \"from bokeh.resources import INLINE\\n\"+\n",
       "       \"output_notebook(resources=INLINE)\\n\"+\n",
       "       \"</code>\\n\"+\n",
       "       \"</div>\"}};\n",
       "  \n",
       "    function display_loaded() {\n",
       "      if (window.Bokeh !== undefined) {\n",
       "        var el = document.getElementById(\"381495b6-44ee-43f2-acc4-2333163a29d2\");\n",
       "        el.textContent = \"BokehJS \" + Bokeh.version + \" successfully loaded.\";\n",
       "      } else if (Date.now() < window._bokeh_timeout) {\n",
       "        setTimeout(display_loaded, 100)\n",
       "      }\n",
       "    }\n",
       "  \n",
       "    function run_callbacks() {\n",
       "      window._bokeh_onload_callbacks.forEach(function(callback) { callback() });\n",
       "      delete window._bokeh_onload_callbacks\n",
       "      console.info(\"Bokeh: all callbacks have finished\");\n",
       "    }\n",
       "  \n",
       "    function load_libs(js_urls, callback) {\n",
       "      window._bokeh_onload_callbacks.push(callback);\n",
       "      if (window._bokeh_is_loading > 0) {\n",
       "        console.log(\"Bokeh: BokehJS is being loaded, scheduling callback at\", now());\n",
       "        return null;\n",
       "      }\n",
       "      if (js_urls == null || js_urls.length === 0) {\n",
       "        run_callbacks();\n",
       "        return null;\n",
       "      }\n",
       "      console.log(\"Bokeh: BokehJS not loaded, scheduling load and callback at\", now());\n",
       "      window._bokeh_is_loading = js_urls.length;\n",
       "      for (var i = 0; i < js_urls.length; i++) {\n",
       "        var url = js_urls[i];\n",
       "        var s = document.createElement('script');\n",
       "        s.src = url;\n",
       "        s.async = false;\n",
       "        s.onreadystatechange = s.onload = function() {\n",
       "          window._bokeh_is_loading--;\n",
       "          if (window._bokeh_is_loading === 0) {\n",
       "            console.log(\"Bokeh: all BokehJS libraries loaded\");\n",
       "            run_callbacks()\n",
       "          }\n",
       "        };\n",
       "        s.onerror = function() {\n",
       "          console.warn(\"failed to load library \" + url);\n",
       "        };\n",
       "        console.log(\"Bokeh: injecting script tag for BokehJS library: \", url);\n",
       "        document.getElementsByTagName(\"head\")[0].appendChild(s);\n",
       "      }\n",
       "    };var element = document.getElementById(\"381495b6-44ee-43f2-acc4-2333163a29d2\");\n",
       "    if (element == null) {\n",
       "      console.log(\"Bokeh: ERROR: autoload.js configured with elementid '381495b6-44ee-43f2-acc4-2333163a29d2' but no matching script tag was found. \")\n",
       "      return false;\n",
       "    }\n",
       "  \n",
       "    var js_urls = [];\n",
       "  \n",
       "    var inline_js = [\n",
       "      function(Bokeh) {\n",
       "        (function() {\n",
       "          var fn = function() {\n",
       "            var docs_json = {\"82574b2f-234c-4f61-a470-780ee6306d11\":{\"roots\":{\"references\":[{\"attributes\":{\"fill_alpha\":{\"field\":\"fill_alpha\"},\"fill_color\":{\"field\":\"color\"},\"height\":{\"field\":\"height\",\"units\":\"data\"},\"line_color\":{\"field\":\"line_color\"},\"width\":{\"field\":\"width\",\"units\":\"data\"},\"x\":{\"field\":\"x\"},\"y\":{\"field\":\"y\"}},\"id\":\"460d5118-345c-45e9-8dcf-ed2a01d97218\",\"type\":\"Rect\"},{\"attributes\":{\"callback\":null,\"column_names\":[\"height\",\"line_alpha\",\"y\",\"x\",\"fill_alpha\",\"line_color\",\"width\",\"label\",\"color\"],\"data\":{\"chart_index\":[\"(87.000000, 90.000000]\"],\"color\":[\"#f22c40\"],\"fill_alpha\":[0.8],\"height\":[8661.0],\"label\":[\"(87.000000, 90.000000]\"],\"line_alpha\":[1.0],\"line_color\":[\"black\"],\"width\":[3.0],\"x\":[\"88.5\"],\"y\":[4330.5]}},\"id\":\"3271b5d3-74b1-4d4a-87fd-a2ba547cde4e\",\"type\":\"ColumnDataSource\"},{\"attributes\":{\"data_source\":{\"id\":\"c35a40be-fe33-4105-892b-eb3213534971\",\"type\":\"ColumnDataSource\"},\"glyph\":{\"id\":\"b5af6628-5e82-4206-8a1f-af7b292e2872\",\"type\":\"Rect\"},\"hover_glyph\":null,\"muted_glyph\":null},\"id\":\"06d01bd5-26b3-401d-ab36-fb9496904b48\",\"type\":\"GlyphRenderer\"},{\"attributes\":{\"data_source\":{\"id\":\"8ff1f810-e631-47a2-994c-a2174c64373b\",\"type\":\"ColumnDataSource\"},\"glyph\":{\"id\":\"9bce34c1-63e3-491a-988c-719ccd6bcfec\",\"type\":\"Rect\"},\"hover_glyph\":null,\"muted_glyph\":null},\"id\":\"3bf02f0c-cc18-49fc-9ffc-4cb72a7cc389\",\"type\":\"GlyphRenderer\"},{\"attributes\":{\"callback\":null,\"column_names\":[\"height\",\"line_alpha\",\"y\",\"x\",\"fill_alpha\",\"line_color\",\"width\",\"label\",\"color\"],\"data\":{\"chart_index\":[\"(78.000000, 81.000000]\"],\"color\":[\"#f22c40\"],\"fill_alpha\":[0.8],\"height\":[7676.0],\"label\":[\"(78.000000, 81.000000]\"],\"line_alpha\":[1.0],\"line_color\":[\"black\"],\"width\":[3.0],\"x\":[\"79.5\"],\"y\":[3838.0]}},\"id\":\"540ff3e0-2fec-43fe-9016-28fddf4b798d\",\"type\":\"ColumnDataSource\"},{\"attributes\":{\"fill_alpha\":{\"field\":\"fill_alpha\"},\"fill_color\":{\"field\":\"color\"},\"height\":{\"field\":\"height\",\"units\":\"data\"},\"line_color\":{\"field\":\"line_color\"},\"width\":{\"field\":\"width\",\"units\":\"data\"},\"x\":{\"field\":\"x\"},\"y\":{\"field\":\"y\"}},\"id\":\"1b08beb7-2178-44e8-be02-5bf773aea238\",\"type\":\"Rect\"},{\"attributes\":{\"axis_label\":\"MinsSinceFirstPlay\",\"formatter\":{\"id\":\"6edb2b1a-1c5f-4b63-87a9-8f87e662bbb4\",\"type\":\"NumeralTickFormatter\"},\"plot\":{\"id\":\"7f0454c6-f8e4-4588-83c8-b822d55e40a8\",\"subtype\":\"Chart\",\"type\":\"Plot\"},\"ticker\":{\"id\":\"9874b7b0-62db-4c65-ad8f-b5fedfd172a4\",\"type\":\"BasicTicker\"}},\"id\":\"c96d6768-10bd-448c-881b-4b4ef790122f\",\"type\":\"LinearAxis\"},{\"attributes\":{\"fill_alpha\":{\"field\":\"fill_alpha\"},\"fill_color\":{\"field\":\"color\"},\"height\":{\"field\":\"height\",\"units\":\"data\"},\"line_color\":{\"field\":\"line_color\"},\"width\":{\"field\":\"width\",\"units\":\"data\"},\"x\":{\"field\":\"x\"},\"y\":{\"field\":\"y\"}},\"id\":\"9bce34c1-63e3-491a-988c-719ccd6bcfec\",\"type\":\"Rect\"},{\"attributes\":{\"location\":\"top_left\",\"plot\":{\"id\":\"7f0454c6-f8e4-4588-83c8-b822d55e40a8\",\"subtype\":\"Chart\",\"type\":\"Plot\"}},\"id\":\"d1cc5ed8-df43-4366-a027-0825bb3e067b\",\"type\":\"Legend\"},{\"attributes\":{\"data_source\":{\"id\":\"007ea4b4-eaa0-42c4-9c3a-185f34cb6737\",\"type\":\"ColumnDataSource\"},\"glyph\":{\"id\":\"2bf1644d-6a13-4aa7-98f4-d4293c459365\",\"type\":\"Rect\"},\"hover_glyph\":null,\"muted_glyph\":null},\"id\":\"5c49ca2f-3f49-48c1-b3f8-5914973a4c2a\",\"type\":\"GlyphRenderer\"},{\"attributes\":{\"fill_alpha\":{\"field\":\"fill_alpha\"},\"fill_color\":{\"field\":\"color\"},\"height\":{\"field\":\"height\",\"units\":\"data\"},\"line_color\":{\"field\":\"line_color\"},\"width\":{\"field\":\"width\",\"units\":\"data\"},\"x\":{\"field\":\"x\"},\"y\":{\"field\":\"y\"}},\"id\":\"97d6282d-c967-4746-a9ae-fb6635e965db\",\"type\":\"Rect\"},{\"attributes\":{\"axis_label\":\"Count( Minssincefirstplay )\",\"formatter\":{\"id\":\"713e1d9f-88c4-4de4-8849-f2b4e90349c8\",\"type\":\"NumeralTickFormatter\"},\"plot\":{\"id\":\"7f0454c6-f8e4-4588-83c8-b822d55e40a8\",\"subtype\":\"Chart\",\"type\":\"Plot\"},\"ticker\":{\"id\":\"fa2ab837-8fa1-485c-a108-b594d1ef4514\",\"type\":\"BasicTicker\"}},\"id\":\"5e89be1d-d9f5-4e88-9cd9-be275ae1c6ae\",\"type\":\"LinearAxis\"},{\"attributes\":{\"fill_alpha\":{\"field\":\"fill_alpha\"},\"fill_color\":{\"field\":\"color\"},\"height\":{\"field\":\"height\",\"units\":\"data\"},\"line_color\":{\"field\":\"line_color\"},\"width\":{\"field\":\"width\",\"units\":\"data\"},\"x\":{\"field\":\"x\"},\"y\":{\"field\":\"y\"}},\"id\":\"09c728ab-b611-4703-9f16-3c707fdf71ee\",\"type\":\"Rect\"},{\"attributes\":{\"data_source\":{\"id\":\"525fbe24-df12-43bd-8d8a-64f26667292c\",\"type\":\"ColumnDataSource\"},\"glyph\":{\"id\":\"b2250a6d-57fe-4369-9512-2e909b9cafc4\",\"type\":\"Rect\"},\"hover_glyph\":null,\"muted_glyph\":null},\"id\":\"4e9b3abb-dc02-4789-885f-dd2cf731c814\",\"type\":\"GlyphRenderer\"},{\"attributes\":{\"fill_alpha\":{\"field\":\"fill_alpha\"},\"fill_color\":{\"field\":\"color\"},\"height\":{\"field\":\"height\",\"units\":\"data\"},\"line_color\":{\"field\":\"line_color\"},\"width\":{\"field\":\"width\",\"units\":\"data\"},\"x\":{\"field\":\"x\"},\"y\":{\"field\":\"y\"}},\"id\":\"4f03b68e-9bc6-482a-be57-01cdef9c27a5\",\"type\":\"Rect\"},{\"attributes\":{\"callback\":null,\"column_names\":[\"height\",\"line_alpha\",\"y\",\"x\",\"fill_alpha\",\"line_color\",\"width\",\"label\",\"color\"],\"data\":{\"chart_index\":[\"(27.000000, 30.000000]\"],\"color\":[\"#f22c40\"],\"fill_alpha\":[0.8],\"height\":[30747.0],\"label\":[\"(27.000000, 30.000000]\"],\"line_alpha\":[1.0],\"line_color\":[\"black\"],\"width\":[3.0],\"x\":[\"28.5\"],\"y\":[15373.5]}},\"id\":\"383124c0-a611-494b-94c7-b9e22e553fa8\",\"type\":\"ColumnDataSource\"},{\"attributes\":{\"data_source\":{\"id\":\"4c52bf27-548b-458d-aa05-e14f72c73f1f\",\"type\":\"ColumnDataSource\"},\"glyph\":{\"id\":\"98faef07-f0e3-46a1-aa1f-bed9b2dda153\",\"type\":\"Rect\"},\"hover_glyph\":null,\"muted_glyph\":null},\"id\":\"b64d743c-a3d4-4d70-834f-3bc202183682\",\"type\":\"GlyphRenderer\"},{\"attributes\":{\"fill_alpha\":{\"field\":\"fill_alpha\"},\"fill_color\":{\"field\":\"color\"},\"height\":{\"field\":\"height\",\"units\":\"data\"},\"line_color\":{\"field\":\"line_color\"},\"width\":{\"field\":\"width\",\"units\":\"data\"},\"x\":{\"field\":\"x\"},\"y\":{\"field\":\"y\"}},\"id\":\"961d452c-5640-4e38-8b6b-341764ea5954\",\"type\":\"Rect\"},{\"attributes\":{\"data_source\":{\"id\":\"f65464d6-223d-468d-93a3-3b7e9d41f1e8\",\"type\":\"ColumnDataSource\"},\"glyph\":{\"id\":\"6ba360a2-40cc-4e91-af71-26676a85c31e\",\"type\":\"Rect\"},\"hover_glyph\":null,\"muted_glyph\":null},\"id\":\"a2f15a52-b706-41f2-bf1c-4a3a8c37561b\",\"type\":\"GlyphRenderer\"},{\"attributes\":{\"data_source\":{\"id\":\"293e8fff-1297-4b5a-af57-10c46d2b44f9\",\"type\":\"ColumnDataSource\"},\"glyph\":{\"id\":\"ac4907bf-b0b8-4ec0-8f72-451ba7110ce9\",\"type\":\"Rect\"},\"hover_glyph\":null,\"muted_glyph\":null},\"id\":\"db456b10-0ed9-47b6-b8ea-ebbd78fcf5e8\",\"type\":\"GlyphRenderer\"},{\"attributes\":{\"data_source\":{\"id\":\"3271b5d3-74b1-4d4a-87fd-a2ba547cde4e\",\"type\":\"ColumnDataSource\"},\"glyph\":{\"id\":\"8f5e353c-9da0-4a6e-ac8d-94e6d6a3f89d\",\"type\":\"Rect\"},\"hover_glyph\":null,\"muted_glyph\":null},\"id\":\"f0542982-efff-4d9f-bb85-067807b3528b\",\"type\":\"GlyphRenderer\"},{\"attributes\":{\"callback\":null,\"column_names\":[\"height\",\"line_alpha\",\"y\",\"x\",\"fill_alpha\",\"line_color\",\"width\",\"label\",\"color\"],\"data\":{\"chart_index\":[\"(36.000000, 39.000000]\"],\"color\":[\"#f22c40\"],\"fill_alpha\":[0.8],\"height\":[19657.0],\"label\":[\"(36.000000, 39.000000]\"],\"line_alpha\":[1.0],\"line_color\":[\"black\"],\"width\":[3.0],\"x\":[\"37.5\"],\"y\":[9828.5]}},\"id\":\"4c52bf27-548b-458d-aa05-e14f72c73f1f\",\"type\":\"ColumnDataSource\"},{\"attributes\":{\"below\":[{\"id\":\"c96d6768-10bd-448c-881b-4b4ef790122f\",\"type\":\"LinearAxis\"}],\"css_classes\":null,\"left\":[{\"id\":\"5e89be1d-d9f5-4e88-9cd9-be275ae1c6ae\",\"type\":\"LinearAxis\"}],\"renderers\":[{\"id\":\"e2a50bf6-f331-49cf-aea8-b59425768f62\",\"type\":\"BoxAnnotation\"},{\"id\":\"c078f2a9-8e32-4233-87d9-4ee9aa57b35f\",\"type\":\"GlyphRenderer\"},{\"id\":\"78c656c7-3fd8-457f-be24-eaa09861504a\",\"type\":\"GlyphRenderer\"},{\"id\":\"e897ec9a-856f-4b4c-8be9-6b66d2473a66\",\"type\":\"GlyphRenderer\"},{\"id\":\"db456b10-0ed9-47b6-b8ea-ebbd78fcf5e8\",\"type\":\"GlyphRenderer\"},{\"id\":\"bb2632e6-b39e-4500-a1a0-ff582c8545a3\",\"type\":\"GlyphRenderer\"},{\"id\":\"dee1a062-1d78-41c1-8a96-fa720ac69de2\",\"type\":\"GlyphRenderer\"},{\"id\":\"8d4d1a87-5e8e-4062-acfd-321baf0f98fc\",\"type\":\"GlyphRenderer\"},{\"id\":\"d31a1e0f-6e97-4d79-a622-d1698676bb7b\",\"type\":\"GlyphRenderer\"},{\"id\":\"73f6e16c-2a43-494b-ba14-b546939ae063\",\"type\":\"GlyphRenderer\"},{\"id\":\"dbab0f1a-261a-4e6d-a1ba-6075925be743\",\"type\":\"GlyphRenderer\"},{\"id\":\"22f89f3c-b423-4ca0-93be-a0c87d19d163\",\"type\":\"GlyphRenderer\"},{\"id\":\"a2f15a52-b706-41f2-bf1c-4a3a8c37561b\",\"type\":\"GlyphRenderer\"},{\"id\":\"b64d743c-a3d4-4d70-834f-3bc202183682\",\"type\":\"GlyphRenderer\"},{\"id\":\"b8dc97a5-4afd-428d-9a2d-e4effb799161\",\"type\":\"GlyphRenderer\"},{\"id\":\"06d01bd5-26b3-401d-ab36-fb9496904b48\",\"type\":\"GlyphRenderer\"},{\"id\":\"cdd0322c-a379-48c1-9712-973665de4d33\",\"type\":\"GlyphRenderer\"},{\"id\":\"4e9b3abb-dc02-4789-885f-dd2cf731c814\",\"type\":\"GlyphRenderer\"},{\"id\":\"5cdc2863-8946-4770-8b07-d722eb22b0c7\",\"type\":\"GlyphRenderer\"},{\"id\":\"3bd26c9a-4ff9-4c44-a49c-bd4d6df7cb19\",\"type\":\"GlyphRenderer\"},{\"id\":\"3bf02f0c-cc18-49fc-9ffc-4cb72a7cc389\",\"type\":\"GlyphRenderer\"},{\"id\":\"da945a13-3919-44f0-be4e-0afbdb24d1a9\",\"type\":\"GlyphRenderer\"},{\"id\":\"83c67432-f651-4ce5-a983-f79721d2db19\",\"type\":\"GlyphRenderer\"},{\"id\":\"5e4d9458-65c4-4a96-aef6-84d8ce31260e\",\"type\":\"GlyphRenderer\"},{\"id\":\"7578d322-2b5a-4518-8397-add7b06b758f\",\"type\":\"GlyphRenderer\"},{\"id\":\"c87bdcd7-24a2-4ad4-9128-0ddc4dc0dbd2\",\"type\":\"GlyphRenderer\"},{\"id\":\"e98c4e8b-29d2-4a40-85ef-67b2a44fd9a2\",\"type\":\"GlyphRenderer\"},{\"id\":\"3ddd1ce2-6718-4550-8954-8c7ac6320b05\",\"type\":\"GlyphRenderer\"},{\"id\":\"5c49ca2f-3f49-48c1-b3f8-5914973a4c2a\",\"type\":\"GlyphRenderer\"},{\"id\":\"6a905d76-bd0a-44c5-8fad-d3cc1542e6fd\",\"type\":\"GlyphRenderer\"},{\"id\":\"f0542982-efff-4d9f-bb85-067807b3528b\",\"type\":\"GlyphRenderer\"},{\"id\":\"d1cc5ed8-df43-4366-a027-0825bb3e067b\",\"type\":\"Legend\"},{\"id\":\"c96d6768-10bd-448c-881b-4b4ef790122f\",\"type\":\"LinearAxis\"},{\"id\":\"5e89be1d-d9f5-4e88-9cd9-be275ae1c6ae\",\"type\":\"LinearAxis\"},{\"id\":\"e24168b9-e5b8-4ffb-be0c-5453e5727c80\",\"type\":\"Grid\"}],\"title\":{\"id\":\"f835dcdd-0e26-4d5c-877f-04e00002f2bf\",\"type\":\"Title\"},\"tool_events\":{\"id\":\"d266b6bc-1c83-47a1-aa4f-eef284d8801a\",\"type\":\"ToolEvents\"},\"toolbar\":{\"id\":\"10566ba6-d537-4a23-8a1c-5025e5fbfd35\",\"type\":\"Toolbar\"},\"x_mapper_type\":\"auto\",\"x_range\":{\"id\":\"7cef59ab-4bfb-451e-b77e-0670b214bfac\",\"type\":\"Range1d\"},\"y_mapper_type\":\"auto\",\"y_range\":{\"id\":\"e0f7f120-bbc0-4c1d-88dd-eaaaf8e3ab60\",\"type\":\"Range1d\"}},\"id\":\"7f0454c6-f8e4-4588-83c8-b822d55e40a8\",\"subtype\":\"Chart\",\"type\":\"Plot\"},{\"attributes\":{\"fill_alpha\":{\"field\":\"fill_alpha\"},\"fill_color\":{\"field\":\"color\"},\"height\":{\"field\":\"height\",\"units\":\"data\"},\"line_color\":{\"field\":\"line_color\"},\"width\":{\"field\":\"width\",\"units\":\"data\"},\"x\":{\"field\":\"x\"},\"y\":{\"field\":\"y\"}},\"id\":\"270fae5b-5898-481a-b0c0-b678d98758e4\",\"type\":\"Rect\"},{\"attributes\":{\"callback\":null,\"column_names\":[\"height\",\"line_alpha\",\"y\",\"x\",\"fill_alpha\",\"line_color\",\"width\",\"label\",\"color\"],\"data\":{\"chart_index\":[\"(84.000000, 87.000000]\"],\"color\":[\"#f22c40\"],\"fill_alpha\":[0.8],\"height\":[6925.0],\"label\":[\"(84.000000, 87.000000]\"],\"line_alpha\":[1.0],\"line_color\":[\"black\"],\"width\":[3.0],\"x\":[\"85.5\"],\"y\":[3462.5]}},\"id\":\"e593ab5f-56a9-4750-8875-cf7d4c1e63b7\",\"type\":\"ColumnDataSource\"},{\"attributes\":{\"fill_alpha\":{\"field\":\"fill_alpha\"},\"fill_color\":{\"field\":\"color\"},\"height\":{\"field\":\"height\",\"units\":\"data\"},\"line_color\":{\"field\":\"line_color\"},\"width\":{\"field\":\"width\",\"units\":\"data\"},\"x\":{\"field\":\"x\"},\"y\":{\"field\":\"y\"}},\"id\":\"ac90be8a-4a5c-4849-a4d4-db03bcd86676\",\"type\":\"Rect\"},{\"attributes\":{\"data_source\":{\"id\":\"e451300a-780b-4338-a335-a79489ab7d3a\",\"type\":\"ColumnDataSource\"},\"glyph\":{\"id\":\"b59a3c16-e84e-4455-9d54-032690db761f\",\"type\":\"Rect\"},\"hover_glyph\":null,\"muted_glyph\":null},\"id\":\"22f89f3c-b423-4ca0-93be-a0c87d19d163\",\"type\":\"GlyphRenderer\"},{\"attributes\":{\"data_source\":{\"id\":\"8fb797bc-d6e7-4cd5-a443-3ad339f63a63\",\"type\":\"ColumnDataSource\"},\"glyph\":{\"id\":\"88aad692-a9d0-4e3f-a699-987f1cdfe3a2\",\"type\":\"Rect\"},\"hover_glyph\":null,\"muted_glyph\":null},\"id\":\"e897ec9a-856f-4b4c-8be9-6b66d2473a66\",\"type\":\"GlyphRenderer\"},{\"attributes\":{\"callback\":null,\"column_names\":[\"height\",\"line_alpha\",\"y\",\"x\",\"fill_alpha\",\"line_color\",\"width\",\"label\",\"color\"],\"data\":{\"chart_index\":[\"(66.000000, 69.000000]\"],\"color\":[\"#f22c40\"],\"fill_alpha\":[0.8],\"height\":[9861.0],\"label\":[\"(66.000000, 69.000000]\"],\"line_alpha\":[1.0],\"line_color\":[\"black\"],\"width\":[3.0],\"x\":[\"67.5\"],\"y\":[4930.5]}},\"id\":\"d7b515a4-f69f-4301-88b3-32d9a84ab1b1\",\"type\":\"ColumnDataSource\"},{\"attributes\":{\"data_source\":{\"id\":\"60c0679f-830f-4a41-9f4b-9ee207a7d840\",\"type\":\"ColumnDataSource\"},\"glyph\":{\"id\":\"d1a1e68f-7561-4f9f-85ee-c9dd022cd505\",\"type\":\"Rect\"},\"hover_glyph\":null,\"muted_glyph\":null},\"id\":\"da945a13-3919-44f0-be4e-0afbdb24d1a9\",\"type\":\"GlyphRenderer\"},{\"attributes\":{\"callback\":null,\"column_names\":[\"height\",\"line_alpha\",\"y\",\"x\",\"fill_alpha\",\"line_color\",\"width\",\"label\",\"color\"],\"data\":{\"chart_index\":[\"(39.000000, 42.000000]\"],\"color\":[\"#f22c40\"],\"fill_alpha\":[0.8],\"height\":[17813.0],\"label\":[\"(39.000000, 42.000000]\"],\"line_alpha\":[1.0],\"line_color\":[\"black\"],\"width\":[3.0],\"x\":[\"40.5\"],\"y\":[8906.5]}},\"id\":\"f8fbbee0-2307-421e-9ade-7bdf58d5b9ee\",\"type\":\"ColumnDataSource\"},{\"attributes\":{\"fill_alpha\":{\"field\":\"fill_alpha\"},\"fill_color\":{\"field\":\"color\"},\"height\":{\"field\":\"height\",\"units\":\"data\"},\"line_color\":{\"field\":\"line_color\"},\"width\":{\"field\":\"width\",\"units\":\"data\"},\"x\":{\"field\":\"x\"},\"y\":{\"field\":\"y\"}},\"id\":\"eb126195-2213-4e97-893d-97bd418aead1\",\"type\":\"Rect\"},{\"attributes\":{\"callback\":null,\"column_names\":[\"height\",\"line_alpha\",\"y\",\"x\",\"fill_alpha\",\"line_color\",\"width\",\"label\",\"color\"],\"data\":{\"chart_index\":[\"(81.000000, 84.000000]\"],\"color\":[\"#f22c40\"],\"fill_alpha\":[0.8],\"height\":[7401.0],\"label\":[\"(81.000000, 84.000000]\"],\"line_alpha\":[1.0],\"line_color\":[\"black\"],\"width\":[3.0],\"x\":[\"82.5\"],\"y\":[3700.5]}},\"id\":\"007ea4b4-eaa0-42c4-9c3a-185f34cb6737\",\"type\":\"ColumnDataSource\"},{\"attributes\":{\"fill_alpha\":{\"field\":\"fill_alpha\"},\"fill_color\":{\"field\":\"color\"},\"height\":{\"field\":\"height\",\"units\":\"data\"},\"line_color\":{\"field\":\"line_color\"},\"width\":{\"field\":\"width\",\"units\":\"data\"},\"x\":{\"field\":\"x\"},\"y\":{\"field\":\"y\"}},\"id\":\"dc6f2131-ba61-48e4-89f2-321fb7765498\",\"type\":\"Rect\"},{\"attributes\":{\"data_source\":{\"id\":\"f6ee8441-882e-439b-8c07-612d34f00fd4\",\"type\":\"ColumnDataSource\"},\"glyph\":{\"id\":\"460d5118-345c-45e9-8dcf-ed2a01d97218\",\"type\":\"Rect\"},\"hover_glyph\":null,\"muted_glyph\":null},\"id\":\"5cdc2863-8946-4770-8b07-d722eb22b0c7\",\"type\":\"GlyphRenderer\"},{\"attributes\":{\"bottom_units\":\"screen\",\"fill_alpha\":{\"value\":0.5},\"fill_color\":{\"value\":\"lightgrey\"},\"left_units\":\"screen\",\"level\":\"overlay\",\"line_alpha\":{\"value\":1.0},\"line_color\":{\"value\":\"black\"},\"line_dash\":[4,4],\"line_width\":{\"value\":2},\"plot\":null,\"render_mode\":\"css\",\"right_units\":\"screen\",\"top_units\":\"screen\"},\"id\":\"e2a50bf6-f331-49cf-aea8-b59425768f62\",\"type\":\"BoxAnnotation\"},{\"attributes\":{\"callback\":null,\"column_names\":[\"height\",\"line_alpha\",\"y\",\"x\",\"fill_alpha\",\"line_color\",\"width\",\"label\",\"color\"],\"data\":{\"chart_index\":[\"(15.000000, 18.000000]\"],\"color\":[\"#f22c40\"],\"fill_alpha\":[0.8],\"height\":[92214.0],\"label\":[\"(15.000000, 18.000000]\"],\"line_alpha\":[1.0],\"line_color\":[\"black\"],\"width\":[3.0],\"x\":[\"16.5\"],\"y\":[46107.0]}},\"id\":\"2e818845-8460-432d-9018-81093b125d79\",\"type\":\"ColumnDataSource\"},{\"attributes\":{\"callback\":null,\"column_names\":[\"height\",\"line_alpha\",\"y\",\"x\",\"fill_alpha\",\"line_color\",\"width\",\"label\",\"color\"],\"data\":{\"chart_index\":[\"(54.000000, 57.000000]\"],\"color\":[\"#f22c40\"],\"fill_alpha\":[0.8],\"height\":[12150.0],\"label\":[\"(54.000000, 57.000000]\"],\"line_alpha\":[1.0],\"line_color\":[\"black\"],\"width\":[3.0],\"x\":[\"55.5\"],\"y\":[6075.0]}},\"id\":\"7587005b-19ec-44a1-a65c-e0f7dfdbf792\",\"type\":\"ColumnDataSource\"},{\"attributes\":{\"plot\":{\"id\":\"7f0454c6-f8e4-4588-83c8-b822d55e40a8\",\"subtype\":\"Chart\",\"type\":\"Plot\"}},\"id\":\"dc3f4b64-df7c-4d60-ad4a-846f6a1923d3\",\"type\":\"ResetTool\"},{\"attributes\":{\"data_source\":{\"id\":\"8d739135-bc5e-4c30-862e-5c94b9f60aae\",\"type\":\"ColumnDataSource\"},\"glyph\":{\"id\":\"e74a7085-dadb-4573-8126-3ff826b33e97\",\"type\":\"Rect\"},\"hover_glyph\":null,\"muted_glyph\":null},\"id\":\"c078f2a9-8e32-4233-87d9-4ee9aa57b35f\",\"type\":\"GlyphRenderer\"},{\"attributes\":{\"callback\":null,\"column_names\":[\"height\",\"line_alpha\",\"y\",\"x\",\"fill_alpha\",\"line_color\",\"width\",\"label\",\"color\"],\"data\":{\"chart_index\":[\"[0.000000, 3.000000]\"],\"color\":[\"#f22c40\"],\"fill_alpha\":[0.8],\"height\":[3866394.0],\"label\":[\"[0.000000, 3.000000]\"],\"line_alpha\":[1.0],\"line_color\":[\"black\"],\"width\":[3.0],\"x\":[\"1.5\"],\"y\":[1933197.0]}},\"id\":\"8d739135-bc5e-4c30-862e-5c94b9f60aae\",\"type\":\"ColumnDataSource\"},{\"attributes\":{\"fill_alpha\":{\"field\":\"fill_alpha\"},\"fill_color\":{\"field\":\"color\"},\"height\":{\"field\":\"height\",\"units\":\"data\"},\"line_color\":{\"field\":\"line_color\"},\"width\":{\"field\":\"width\",\"units\":\"data\"},\"x\":{\"field\":\"x\"},\"y\":{\"field\":\"y\"}},\"id\":\"b59a3c16-e84e-4455-9d54-032690db761f\",\"type\":\"Rect\"},{\"attributes\":{\"fill_alpha\":{\"field\":\"fill_alpha\"},\"fill_color\":{\"field\":\"color\"},\"height\":{\"field\":\"height\",\"units\":\"data\"},\"line_color\":{\"field\":\"line_color\"},\"width\":{\"field\":\"width\",\"units\":\"data\"},\"x\":{\"field\":\"x\"},\"y\":{\"field\":\"y\"}},\"id\":\"b5af6628-5e82-4206-8a1f-af7b292e2872\",\"type\":\"Rect\"},{\"attributes\":{\"callback\":null,\"column_names\":[\"height\",\"line_alpha\",\"y\",\"x\",\"fill_alpha\",\"line_color\",\"width\",\"label\",\"color\"],\"data\":{\"chart_index\":[\"(51.000000, 54.000000]\"],\"color\":[\"#f22c40\"],\"fill_alpha\":[0.8],\"height\":[12909.0],\"label\":[\"(51.000000, 54.000000]\"],\"line_alpha\":[1.0],\"line_color\":[\"black\"],\"width\":[3.0],\"x\":[\"52.5\"],\"y\":[6454.5]}},\"id\":\"f6ee8441-882e-439b-8c07-612d34f00fd4\",\"type\":\"ColumnDataSource\"},{\"attributes\":{\"fill_alpha\":{\"field\":\"fill_alpha\"},\"fill_color\":{\"field\":\"color\"},\"height\":{\"field\":\"height\",\"units\":\"data\"},\"line_color\":{\"field\":\"line_color\"},\"width\":{\"field\":\"width\",\"units\":\"data\"},\"x\":{\"field\":\"x\"},\"y\":{\"field\":\"y\"}},\"id\":\"d1a1e68f-7561-4f9f-85ee-c9dd022cd505\",\"type\":\"Rect\"},{\"attributes\":{\"overlay\":{\"id\":\"e2a50bf6-f331-49cf-aea8-b59425768f62\",\"type\":\"BoxAnnotation\"},\"plot\":{\"id\":\"7f0454c6-f8e4-4588-83c8-b822d55e40a8\",\"subtype\":\"Chart\",\"type\":\"Plot\"}},\"id\":\"0c12ed37-5724-49d4-8a6b-d78e3ff2ea37\",\"type\":\"BoxZoomTool\"},{\"attributes\":{\"fill_alpha\":{\"field\":\"fill_alpha\"},\"fill_color\":{\"field\":\"color\"},\"height\":{\"field\":\"height\",\"units\":\"data\"},\"line_color\":{\"field\":\"line_color\"},\"width\":{\"field\":\"width\",\"units\":\"data\"},\"x\":{\"field\":\"x\"},\"y\":{\"field\":\"y\"}},\"id\":\"6cd45a09-6b8e-4060-9e70-d15a7cb863bd\",\"type\":\"Rect\"},{\"attributes\":{\"plot\":null,\"text\":\"Count of intervals <= 30 days\"},\"id\":\"f835dcdd-0e26-4d5c-877f-04e00002f2bf\",\"type\":\"Title\"},{\"attributes\":{\"data_source\":{\"id\":\"d7b515a4-f69f-4301-88b3-32d9a84ab1b1\",\"type\":\"ColumnDataSource\"},\"glyph\":{\"id\":\"03c74063-e0ca-4997-ab91-3a2299451615\",\"type\":\"Rect\"},\"hover_glyph\":null,\"muted_glyph\":null},\"id\":\"5e4d9458-65c4-4a96-aef6-84d8ce31260e\",\"type\":\"GlyphRenderer\"},{\"attributes\":{\"data_source\":{\"id\":\"a2c196e9-58c9-4b88-b6c8-72a9eb4fbcbc\",\"type\":\"ColumnDataSource\"},\"glyph\":{\"id\":\"97d6282d-c967-4746-a9ae-fb6635e965db\",\"type\":\"Rect\"},\"hover_glyph\":null,\"muted_glyph\":null},\"id\":\"83c67432-f651-4ce5-a983-f79721d2db19\",\"type\":\"GlyphRenderer\"},{\"attributes\":{\"fill_alpha\":{\"field\":\"fill_alpha\"},\"fill_color\":{\"field\":\"color\"},\"height\":{\"field\":\"height\",\"units\":\"data\"},\"line_color\":{\"field\":\"line_color\"},\"width\":{\"field\":\"width\",\"units\":\"data\"},\"x\":{\"field\":\"x\"},\"y\":{\"field\":\"y\"}},\"id\":\"412149d8-422d-4e30-8343-0af2f5f57014\",\"type\":\"Rect\"},{\"attributes\":{\"fill_alpha\":{\"field\":\"fill_alpha\"},\"fill_color\":{\"field\":\"color\"},\"height\":{\"field\":\"height\",\"units\":\"data\"},\"line_color\":{\"field\":\"line_color\"},\"width\":{\"field\":\"width\",\"units\":\"data\"},\"x\":{\"field\":\"x\"},\"y\":{\"field\":\"y\"}},\"id\":\"03c74063-e0ca-4997-ab91-3a2299451615\",\"type\":\"Rect\"},{\"attributes\":{},\"id\":\"d266b6bc-1c83-47a1-aa4f-eef284d8801a\",\"type\":\"ToolEvents\"},{\"attributes\":{\"fill_alpha\":{\"field\":\"fill_alpha\"},\"fill_color\":{\"field\":\"color\"},\"height\":{\"field\":\"height\",\"units\":\"data\"},\"line_color\":{\"field\":\"line_color\"},\"width\":{\"field\":\"width\",\"units\":\"data\"},\"x\":{\"field\":\"x\"},\"y\":{\"field\":\"y\"}},\"id\":\"e74a7085-dadb-4573-8126-3ff826b33e97\",\"type\":\"Rect\"},{\"attributes\":{\"data_source\":{\"id\":\"23106b86-20f4-4d33-8afd-995587d91db4\",\"type\":\"ColumnDataSource\"},\"glyph\":{\"id\":\"09c728ab-b611-4703-9f16-3c707fdf71ee\",\"type\":\"Rect\"},\"hover_glyph\":null,\"muted_glyph\":null},\"id\":\"e98c4e8b-29d2-4a40-85ef-67b2a44fd9a2\",\"type\":\"GlyphRenderer\"},{\"attributes\":{\"callback\":null,\"column_names\":[\"height\",\"line_alpha\",\"y\",\"x\",\"fill_alpha\",\"line_color\",\"width\",\"label\",\"color\"],\"data\":{\"chart_index\":[\"(24.000000, 27.000000]\"],\"color\":[\"#f22c40\"],\"fill_alpha\":[0.8],\"height\":[35974.0],\"label\":[\"(24.000000, 27.000000]\"],\"line_alpha\":[1.0],\"line_color\":[\"black\"],\"width\":[3.0],\"x\":[\"25.5\"],\"y\":[17987.0]}},\"id\":\"3de8b114-4fec-4aaf-91cd-bd944915515d\",\"type\":\"ColumnDataSource\"},{\"attributes\":{\"plot\":{\"id\":\"7f0454c6-f8e4-4588-83c8-b822d55e40a8\",\"subtype\":\"Chart\",\"type\":\"Plot\"}},\"id\":\"3f993859-522f-414f-95c4-5fa9562bae05\",\"type\":\"SaveTool\"},{\"attributes\":{\"data_source\":{\"id\":\"2e818845-8460-432d-9018-81093b125d79\",\"type\":\"ColumnDataSource\"},\"glyph\":{\"id\":\"270fae5b-5898-481a-b0c0-b678d98758e4\",\"type\":\"Rect\"},\"hover_glyph\":null,\"muted_glyph\":null},\"id\":\"dee1a062-1d78-41c1-8a96-fa720ac69de2\",\"type\":\"GlyphRenderer\"},{\"attributes\":{\"data_source\":{\"id\":\"3de8b114-4fec-4aaf-91cd-bd944915515d\",\"type\":\"ColumnDataSource\"},\"glyph\":{\"id\":\"961d452c-5640-4e38-8b6b-341764ea5954\",\"type\":\"Rect\"},\"hover_glyph\":null,\"muted_glyph\":null},\"id\":\"73f6e16c-2a43-494b-ba14-b546939ae063\",\"type\":\"GlyphRenderer\"},{\"attributes\":{\"fill_alpha\":{\"field\":\"fill_alpha\"},\"fill_color\":{\"field\":\"color\"},\"height\":{\"field\":\"height\",\"units\":\"data\"},\"line_color\":{\"field\":\"line_color\"},\"width\":{\"field\":\"width\",\"units\":\"data\"},\"x\":{\"field\":\"x\"},\"y\":{\"field\":\"y\"}},\"id\":\"6ba360a2-40cc-4e91-af71-26676a85c31e\",\"type\":\"Rect\"},{\"attributes\":{\"data_source\":{\"id\":\"c854d900-13d0-459c-a50b-c2f6c65e3cfe\",\"type\":\"ColumnDataSource\"},\"glyph\":{\"id\":\"3dcf7249-357d-49d5-9aab-5b49751375d5\",\"type\":\"Rect\"},\"hover_glyph\":null,\"muted_glyph\":null},\"id\":\"d31a1e0f-6e97-4d79-a622-d1698676bb7b\",\"type\":\"GlyphRenderer\"},{\"attributes\":{},\"id\":\"9874b7b0-62db-4c65-ad8f-b5fedfd172a4\",\"type\":\"BasicTicker\"},{\"attributes\":{\"callback\":null,\"column_names\":[\"height\",\"line_alpha\",\"y\",\"x\",\"fill_alpha\",\"line_color\",\"width\",\"label\",\"color\"],\"data\":{\"chart_index\":[\"(69.000000, 72.000000]\"],\"color\":[\"#f22c40\"],\"fill_alpha\":[0.8],\"height\":[9217.0],\"label\":[\"(69.000000, 72.000000]\"],\"line_alpha\":[1.0],\"line_color\":[\"black\"],\"width\":[3.0],\"x\":[\"70.5\"],\"y\":[4608.5]}},\"id\":\"88511ec8-3f81-4e6e-82dc-e2b0e6379dea\",\"type\":\"ColumnDataSource\"},{\"attributes\":{\"callback\":null,\"column_names\":[\"height\",\"line_alpha\",\"y\",\"x\",\"fill_alpha\",\"line_color\",\"width\",\"label\",\"color\"],\"data\":{\"chart_index\":[\"(42.000000, 45.000000]\"],\"color\":[\"#f22c40\"],\"fill_alpha\":[0.8],\"height\":[16010.0],\"label\":[\"(42.000000, 45.000000]\"],\"line_alpha\":[1.0],\"line_color\":[\"black\"],\"width\":[3.0],\"x\":[\"43.5\"],\"y\":[8005.0]}},\"id\":\"c35a40be-fe33-4105-892b-eb3213534971\",\"type\":\"ColumnDataSource\"},{\"attributes\":{},\"id\":\"fa2ab837-8fa1-485c-a108-b594d1ef4514\",\"type\":\"BasicTicker\"},{\"attributes\":{\"data_source\":{\"id\":\"1d7bbd34-cd1f-494b-a8f6-bbffe2a4966c\",\"type\":\"ColumnDataSource\"},\"glyph\":{\"id\":\"ac90be8a-4a5c-4849-a4d4-db03bcd86676\",\"type\":\"Rect\"},\"hover_glyph\":null,\"muted_glyph\":null},\"id\":\"c87bdcd7-24a2-4ad4-9128-0ddc4dc0dbd2\",\"type\":\"GlyphRenderer\"},{\"attributes\":{\"data_source\":{\"id\":\"383124c0-a611-494b-94c7-b9e22e553fa8\",\"type\":\"ColumnDataSource\"},\"glyph\":{\"id\":\"6cd45a09-6b8e-4060-9e70-d15a7cb863bd\",\"type\":\"Rect\"},\"hover_glyph\":null,\"muted_glyph\":null},\"id\":\"dbab0f1a-261a-4e6d-a1ba-6075925be743\",\"type\":\"GlyphRenderer\"},{\"attributes\":{\"fill_alpha\":{\"field\":\"fill_alpha\"},\"fill_color\":{\"field\":\"color\"},\"height\":{\"field\":\"height\",\"units\":\"data\"},\"line_color\":{\"field\":\"line_color\"},\"width\":{\"field\":\"width\",\"units\":\"data\"},\"x\":{\"field\":\"x\"},\"y\":{\"field\":\"y\"}},\"id\":\"98faef07-f0e3-46a1-aa1f-bed9b2dda153\",\"type\":\"Rect\"},{\"attributes\":{\"data_source\":{\"id\":\"e589ac55-793d-4136-95db-9d90ed80f810\",\"type\":\"ColumnDataSource\"},\"glyph\":{\"id\":\"412149d8-422d-4e30-8343-0af2f5f57014\",\"type\":\"Rect\"},\"hover_glyph\":null,\"muted_glyph\":null},\"id\":\"cdd0322c-a379-48c1-9712-973665de4d33\",\"type\":\"GlyphRenderer\"},{\"attributes\":{\"data_source\":{\"id\":\"7587005b-19ec-44a1-a65c-e0f7dfdbf792\",\"type\":\"ColumnDataSource\"},\"glyph\":{\"id\":\"faadddc0-7c3d-4124-8441-04c3adbbb5c6\",\"type\":\"Rect\"},\"hover_glyph\":null,\"muted_glyph\":null},\"id\":\"3bd26c9a-4ff9-4c44-a49c-bd4d6df7cb19\",\"type\":\"GlyphRenderer\"},{\"attributes\":{\"fill_alpha\":{\"field\":\"fill_alpha\"},\"fill_color\":{\"field\":\"color\"},\"height\":{\"field\":\"height\",\"units\":\"data\"},\"line_color\":{\"field\":\"line_color\"},\"width\":{\"field\":\"width\",\"units\":\"data\"},\"x\":{\"field\":\"x\"},\"y\":{\"field\":\"y\"}},\"id\":\"017d6a89-c09c-4673-8d32-dbce6eb40a72\",\"type\":\"Rect\"},{\"attributes\":{\"plot\":{\"id\":\"7f0454c6-f8e4-4588-83c8-b822d55e40a8\",\"subtype\":\"Chart\",\"type\":\"Plot\"}},\"id\":\"10559cf6-c93e-4f12-8257-b012767e67c6\",\"type\":\"PanTool\"},{\"attributes\":{\"callback\":null,\"column_names\":[\"height\",\"line_alpha\",\"y\",\"x\",\"fill_alpha\",\"line_color\",\"width\",\"label\",\"color\"],\"data\":{\"chart_index\":[\"(3.000000, 6.000000]\"],\"color\":[\"#f22c40\"],\"fill_alpha\":[0.8],\"height\":[11872992.0],\"label\":[\"(3.000000, 6.000000]\"],\"line_alpha\":[1.0],\"line_color\":[\"black\"],\"width\":[3.0],\"x\":[\"4.5\"],\"y\":[5936496.0]}},\"id\":\"40b35d72-f03f-445c-8750-e93273bbdeab\",\"type\":\"ColumnDataSource\"},{\"attributes\":{\"callback\":null,\"end\":92.25,\"start\":-2.25},\"id\":\"7cef59ab-4bfb-451e-b77e-0670b214bfac\",\"type\":\"Range1d\"},{\"attributes\":{\"active_drag\":\"auto\",\"active_scroll\":\"auto\",\"active_tap\":\"auto\",\"tools\":[{\"id\":\"10559cf6-c93e-4f12-8257-b012767e67c6\",\"type\":\"PanTool\"},{\"id\":\"1268976b-b9e2-41e0-92ec-f35124c4b95d\",\"type\":\"WheelZoomTool\"},{\"id\":\"0c12ed37-5724-49d4-8a6b-d78e3ff2ea37\",\"type\":\"BoxZoomTool\"},{\"id\":\"3f993859-522f-414f-95c4-5fa9562bae05\",\"type\":\"SaveTool\"},{\"id\":\"dc3f4b64-df7c-4d60-ad4a-846f6a1923d3\",\"type\":\"ResetTool\"},{\"id\":\"97fdd055-d88d-49fd-9c76-5c1174f7d814\",\"type\":\"HelpTool\"}]},\"id\":\"10566ba6-d537-4a23-8a1c-5025e5fbfd35\",\"type\":\"Toolbar\"},{\"attributes\":{\"data_source\":{\"id\":\"40b35d72-f03f-445c-8750-e93273bbdeab\",\"type\":\"ColumnDataSource\"},\"glyph\":{\"id\":\"4f03b68e-9bc6-482a-be57-01cdef9c27a5\",\"type\":\"Rect\"},\"hover_glyph\":null,\"muted_glyph\":null},\"id\":\"78c656c7-3fd8-457f-be24-eaa09861504a\",\"type\":\"GlyphRenderer\"},{\"attributes\":{\"data_source\":{\"id\":\"9490c0ef-a643-47a8-8b8e-1e72e341a4f8\",\"type\":\"ColumnDataSource\"},\"glyph\":{\"id\":\"9fce9765-3348-4c2c-b084-9afa978163f7\",\"type\":\"Rect\"},\"hover_glyph\":null,\"muted_glyph\":null},\"id\":\"8d4d1a87-5e8e-4062-acfd-321baf0f98fc\",\"type\":\"GlyphRenderer\"},{\"attributes\":{\"plot\":{\"id\":\"7f0454c6-f8e4-4588-83c8-b822d55e40a8\",\"subtype\":\"Chart\",\"type\":\"Plot\"}},\"id\":\"1268976b-b9e2-41e0-92ec-f35124c4b95d\",\"type\":\"WheelZoomTool\"},{\"attributes\":{\"callback\":null,\"column_names\":[\"height\",\"line_alpha\",\"y\",\"x\",\"fill_alpha\",\"line_color\",\"width\",\"label\",\"color\"],\"data\":{\"chart_index\":[\"(75.000000, 78.000000]\"],\"color\":[\"#f22c40\"],\"fill_alpha\":[0.8],\"height\":[8380.0],\"label\":[\"(75.000000, 78.000000]\"],\"line_alpha\":[1.0],\"line_color\":[\"black\"],\"width\":[3.0],\"x\":[\"76.5\"],\"y\":[4190.0]}},\"id\":\"23106b86-20f4-4d33-8afd-995587d91db4\",\"type\":\"ColumnDataSource\"},{\"attributes\":{\"data_source\":{\"id\":\"540ff3e0-2fec-43fe-9016-28fddf4b798d\",\"type\":\"ColumnDataSource\"},\"glyph\":{\"id\":\"eb126195-2213-4e97-893d-97bd418aead1\",\"type\":\"Rect\"},\"hover_glyph\":null,\"muted_glyph\":null},\"id\":\"3ddd1ce2-6718-4550-8954-8c7ac6320b05\",\"type\":\"GlyphRenderer\"},{\"attributes\":{\"fill_alpha\":{\"field\":\"fill_alpha\"},\"fill_color\":{\"field\":\"color\"},\"height\":{\"field\":\"height\",\"units\":\"data\"},\"line_color\":{\"field\":\"line_color\"},\"width\":{\"field\":\"width\",\"units\":\"data\"},\"x\":{\"field\":\"x\"},\"y\":{\"field\":\"y\"}},\"id\":\"b2250a6d-57fe-4369-9512-2e909b9cafc4\",\"type\":\"Rect\"},{\"attributes\":{\"fill_alpha\":{\"field\":\"fill_alpha\"},\"fill_color\":{\"field\":\"color\"},\"height\":{\"field\":\"height\",\"units\":\"data\"},\"line_color\":{\"field\":\"line_color\"},\"width\":{\"field\":\"width\",\"units\":\"data\"},\"x\":{\"field\":\"x\"},\"y\":{\"field\":\"y\"}},\"id\":\"e7403701-05b8-4814-926e-c37026acc76d\",\"type\":\"Rect\"},{\"attributes\":{\"callback\":null,\"column_names\":[\"height\",\"line_alpha\",\"y\",\"x\",\"fill_alpha\",\"line_color\",\"width\",\"label\",\"color\"],\"data\":{\"chart_index\":[\"(12.000000, 15.000000]\"],\"color\":[\"#f22c40\"],\"fill_alpha\":[0.8],\"height\":[162085.0],\"label\":[\"(12.000000, 15.000000]\"],\"line_alpha\":[1.0],\"line_color\":[\"black\"],\"width\":[3.0],\"x\":[\"13.5\"],\"y\":[81042.5]}},\"id\":\"1dfc0a6a-23d5-4f46-9210-5f365cb68a21\",\"type\":\"ColumnDataSource\"},{\"attributes\":{\"fill_alpha\":{\"field\":\"fill_alpha\"},\"fill_color\":{\"field\":\"color\"},\"height\":{\"field\":\"height\",\"units\":\"data\"},\"line_color\":{\"field\":\"line_color\"},\"width\":{\"field\":\"width\",\"units\":\"data\"},\"x\":{\"field\":\"x\"},\"y\":{\"field\":\"y\"}},\"id\":\"8f5e353c-9da0-4a6e-ac8d-94e6d6a3f89d\",\"type\":\"Rect\"},{\"attributes\":{\"callback\":null,\"column_names\":[\"height\",\"line_alpha\",\"y\",\"x\",\"fill_alpha\",\"line_color\",\"width\",\"label\",\"color\"],\"data\":{\"chart_index\":[\"(60.000000, 63.000000]\"],\"color\":[\"#f22c40\"],\"fill_alpha\":[0.8],\"height\":[11054.0],\"label\":[\"(60.000000, 63.000000]\"],\"line_alpha\":[1.0],\"line_color\":[\"black\"],\"width\":[3.0],\"x\":[\"61.5\"],\"y\":[5527.0]}},\"id\":\"60c0679f-830f-4a41-9f4b-9ee207a7d840\",\"type\":\"ColumnDataSource\"},{\"attributes\":{\"data_source\":{\"id\":\"f8fbbee0-2307-421e-9ade-7bdf58d5b9ee\",\"type\":\"ColumnDataSource\"},\"glyph\":{\"id\":\"1b08beb7-2178-44e8-be02-5bf773aea238\",\"type\":\"Rect\"},\"hover_glyph\":null,\"muted_glyph\":null},\"id\":\"b8dc97a5-4afd-428d-9a2d-e4effb799161\",\"type\":\"GlyphRenderer\"},{\"attributes\":{\"plot\":{\"id\":\"7f0454c6-f8e4-4588-83c8-b822d55e40a8\",\"subtype\":\"Chart\",\"type\":\"Plot\"}},\"id\":\"97fdd055-d88d-49fd-9c76-5c1174f7d814\",\"type\":\"HelpTool\"},{\"attributes\":{\"callback\":null,\"column_names\":[\"height\",\"line_alpha\",\"y\",\"x\",\"fill_alpha\",\"line_color\",\"width\",\"label\",\"color\"],\"data\":{\"chart_index\":[\"(57.000000, 60.000000]\"],\"color\":[\"#f22c40\"],\"fill_alpha\":[0.8],\"height\":[11601.0],\"label\":[\"(57.000000, 60.000000]\"],\"line_alpha\":[1.0],\"line_color\":[\"black\"],\"width\":[3.0],\"x\":[\"58.5\"],\"y\":[5800.5]}},\"id\":\"8ff1f810-e631-47a2-994c-a2174c64373b\",\"type\":\"ColumnDataSource\"},{\"attributes\":{},\"id\":\"6edb2b1a-1c5f-4b63-87a9-8f87e662bbb4\",\"type\":\"NumeralTickFormatter\"},{\"attributes\":{\"fill_alpha\":{\"field\":\"fill_alpha\"},\"fill_color\":{\"field\":\"color\"},\"height\":{\"field\":\"height\",\"units\":\"data\"},\"line_color\":{\"field\":\"line_color\"},\"width\":{\"field\":\"width\",\"units\":\"data\"},\"x\":{\"field\":\"x\"},\"y\":{\"field\":\"y\"}},\"id\":\"ac4907bf-b0b8-4ec0-8f72-451ba7110ce9\",\"type\":\"Rect\"},{\"attributes\":{\"callback\":null,\"end\":13060291.200000001},\"id\":\"e0f7f120-bbc0-4c1d-88dd-eaaaf8e3ab60\",\"type\":\"Range1d\"},{\"attributes\":{\"callback\":null,\"column_names\":[\"height\",\"line_alpha\",\"y\",\"x\",\"fill_alpha\",\"line_color\",\"width\",\"label\",\"color\"],\"data\":{\"chart_index\":[\"(33.000000, 36.000000]\"],\"color\":[\"#f22c40\"],\"fill_alpha\":[0.8],\"height\":[22410.0],\"label\":[\"(33.000000, 36.000000]\"],\"line_alpha\":[1.0],\"line_color\":[\"black\"],\"width\":[3.0],\"x\":[\"34.5\"],\"y\":[11205.0]}},\"id\":\"f65464d6-223d-468d-93a3-3b7e9d41f1e8\",\"type\":\"ColumnDataSource\"},{\"attributes\":{\"callback\":null,\"column_names\":[\"height\",\"line_alpha\",\"y\",\"x\",\"fill_alpha\",\"line_color\",\"width\",\"label\",\"color\"],\"data\":{\"chart_index\":[\"(48.000000, 51.000000]\"],\"color\":[\"#f22c40\"],\"fill_alpha\":[0.8],\"height\":[13867.0],\"label\":[\"(48.000000, 51.000000]\"],\"line_alpha\":[1.0],\"line_color\":[\"black\"],\"width\":[3.0],\"x\":[\"49.5\"],\"y\":[6933.5]}},\"id\":\"525fbe24-df12-43bd-8d8a-64f26667292c\",\"type\":\"ColumnDataSource\"},{\"attributes\":{\"fill_alpha\":{\"field\":\"fill_alpha\"},\"fill_color\":{\"field\":\"color\"},\"height\":{\"field\":\"height\",\"units\":\"data\"},\"line_color\":{\"field\":\"line_color\"},\"width\":{\"field\":\"width\",\"units\":\"data\"},\"x\":{\"field\":\"x\"},\"y\":{\"field\":\"y\"}},\"id\":\"3dcf7249-357d-49d5-9aab-5b49751375d5\",\"type\":\"Rect\"},{\"attributes\":{\"fill_alpha\":{\"field\":\"fill_alpha\"},\"fill_color\":{\"field\":\"color\"},\"height\":{\"field\":\"height\",\"units\":\"data\"},\"line_color\":{\"field\":\"line_color\"},\"width\":{\"field\":\"width\",\"units\":\"data\"},\"x\":{\"field\":\"x\"},\"y\":{\"field\":\"y\"}},\"id\":\"faadddc0-7c3d-4124-8441-04c3adbbb5c6\",\"type\":\"Rect\"},{\"attributes\":{\"callback\":null,\"column_names\":[\"height\",\"line_alpha\",\"y\",\"x\",\"fill_alpha\",\"line_color\",\"width\",\"label\",\"color\"],\"data\":{\"chart_index\":[\"(6.000000, 9.000000]\"],\"color\":[\"#f22c40\"],\"fill_alpha\":[0.8],\"height\":[1673248.0],\"label\":[\"(6.000000, 9.000000]\"],\"line_alpha\":[1.0],\"line_color\":[\"black\"],\"width\":[3.0],\"x\":[\"7.5\"],\"y\":[836624.0]}},\"id\":\"8fb797bc-d6e7-4cd5-a443-3ad339f63a63\",\"type\":\"ColumnDataSource\"},{\"attributes\":{\"data_source\":{\"id\":\"1dfc0a6a-23d5-4f46-9210-5f365cb68a21\",\"type\":\"ColumnDataSource\"},\"glyph\":{\"id\":\"e7403701-05b8-4814-926e-c37026acc76d\",\"type\":\"Rect\"},\"hover_glyph\":null,\"muted_glyph\":null},\"id\":\"bb2632e6-b39e-4500-a1a0-ff582c8545a3\",\"type\":\"GlyphRenderer\"},{\"attributes\":{\"callback\":null,\"column_names\":[\"height\",\"line_alpha\",\"y\",\"x\",\"fill_alpha\",\"line_color\",\"width\",\"label\",\"color\"],\"data\":{\"chart_index\":[\"(18.000000, 21.000000]\"],\"color\":[\"#f22c40\"],\"fill_alpha\":[0.8],\"height\":[61545.0],\"label\":[\"(18.000000, 21.000000]\"],\"line_alpha\":[1.0],\"line_color\":[\"black\"],\"width\":[3.0],\"x\":[\"19.5\"],\"y\":[30772.5]}},\"id\":\"9490c0ef-a643-47a8-8b8e-1e72e341a4f8\",\"type\":\"ColumnDataSource\"},{\"attributes\":{\"dimension\":1,\"plot\":{\"id\":\"7f0454c6-f8e4-4588-83c8-b822d55e40a8\",\"subtype\":\"Chart\",\"type\":\"Plot\"},\"ticker\":{\"id\":\"fa2ab837-8fa1-485c-a108-b594d1ef4514\",\"type\":\"BasicTicker\"}},\"id\":\"e24168b9-e5b8-4ffb-be0c-5453e5727c80\",\"type\":\"Grid\"},{\"attributes\":{\"callback\":null,\"column_names\":[\"height\",\"line_alpha\",\"y\",\"x\",\"fill_alpha\",\"line_color\",\"width\",\"label\",\"color\"],\"data\":{\"chart_index\":[\"(63.000000, 66.000000]\"],\"color\":[\"#f22c40\"],\"fill_alpha\":[0.8],\"height\":[10521.0],\"label\":[\"(63.000000, 66.000000]\"],\"line_alpha\":[1.0],\"line_color\":[\"black\"],\"width\":[3.0],\"x\":[\"64.5\"],\"y\":[5260.5]}},\"id\":\"a2c196e9-58c9-4b88-b6c8-72a9eb4fbcbc\",\"type\":\"ColumnDataSource\"},{\"attributes\":{},\"id\":\"713e1d9f-88c4-4de4-8849-f2b4e90349c8\",\"type\":\"NumeralTickFormatter\"},{\"attributes\":{\"callback\":null,\"column_names\":[\"height\",\"line_alpha\",\"y\",\"x\",\"fill_alpha\",\"line_color\",\"width\",\"label\",\"color\"],\"data\":{\"chart_index\":[\"(45.000000, 48.000000]\"],\"color\":[\"#f22c40\"],\"fill_alpha\":[0.8],\"height\":[14840.0],\"label\":[\"(45.000000, 48.000000]\"],\"line_alpha\":[1.0],\"line_color\":[\"black\"],\"width\":[3.0],\"x\":[\"46.5\"],\"y\":[7420.0]}},\"id\":\"e589ac55-793d-4136-95db-9d90ed80f810\",\"type\":\"ColumnDataSource\"},{\"attributes\":{\"callback\":null,\"column_names\":[\"height\",\"line_alpha\",\"y\",\"x\",\"fill_alpha\",\"line_color\",\"width\",\"label\",\"color\"],\"data\":{\"chart_index\":[\"(30.000000, 33.000000]\"],\"color\":[\"#f22c40\"],\"fill_alpha\":[0.8],\"height\":[25848.0],\"label\":[\"(30.000000, 33.000000]\"],\"line_alpha\":[1.0],\"line_color\":[\"black\"],\"width\":[3.0],\"x\":[\"31.5\"],\"y\":[12924.0]}},\"id\":\"e451300a-780b-4338-a335-a79489ab7d3a\",\"type\":\"ColumnDataSource\"},{\"attributes\":{\"data_source\":{\"id\":\"e593ab5f-56a9-4750-8875-cf7d4c1e63b7\",\"type\":\"ColumnDataSource\"},\"glyph\":{\"id\":\"017d6a89-c09c-4673-8d32-dbce6eb40a72\",\"type\":\"Rect\"},\"hover_glyph\":null,\"muted_glyph\":null},\"id\":\"6a905d76-bd0a-44c5-8fad-d3cc1542e6fd\",\"type\":\"GlyphRenderer\"},{\"attributes\":{\"fill_alpha\":{\"field\":\"fill_alpha\"},\"fill_color\":{\"field\":\"color\"},\"height\":{\"field\":\"height\",\"units\":\"data\"},\"line_color\":{\"field\":\"line_color\"},\"width\":{\"field\":\"width\",\"units\":\"data\"},\"x\":{\"field\":\"x\"},\"y\":{\"field\":\"y\"}},\"id\":\"9fce9765-3348-4c2c-b084-9afa978163f7\",\"type\":\"Rect\"},{\"attributes\":{\"callback\":null,\"column_names\":[\"height\",\"line_alpha\",\"y\",\"x\",\"fill_alpha\",\"line_color\",\"width\",\"label\",\"color\"],\"data\":{\"chart_index\":[\"(72.000000, 75.000000]\"],\"color\":[\"#f22c40\"],\"fill_alpha\":[0.8],\"height\":[8583.0],\"label\":[\"(72.000000, 75.000000]\"],\"line_alpha\":[1.0],\"line_color\":[\"black\"],\"width\":[3.0],\"x\":[\"73.5\"],\"y\":[4291.5]}},\"id\":\"1d7bbd34-cd1f-494b-a8f6-bbffe2a4966c\",\"type\":\"ColumnDataSource\"},{\"attributes\":{\"fill_alpha\":{\"field\":\"fill_alpha\"},\"fill_color\":{\"field\":\"color\"},\"height\":{\"field\":\"height\",\"units\":\"data\"},\"line_color\":{\"field\":\"line_color\"},\"width\":{\"field\":\"width\",\"units\":\"data\"},\"x\":{\"field\":\"x\"},\"y\":{\"field\":\"y\"}},\"id\":\"88aad692-a9d0-4e3f-a699-987f1cdfe3a2\",\"type\":\"Rect\"},{\"attributes\":{\"data_source\":{\"id\":\"88511ec8-3f81-4e6e-82dc-e2b0e6379dea\",\"type\":\"ColumnDataSource\"},\"glyph\":{\"id\":\"dc6f2131-ba61-48e4-89f2-321fb7765498\",\"type\":\"Rect\"},\"hover_glyph\":null,\"muted_glyph\":null},\"id\":\"7578d322-2b5a-4518-8397-add7b06b758f\",\"type\":\"GlyphRenderer\"},{\"attributes\":{\"callback\":null,\"column_names\":[\"height\",\"line_alpha\",\"y\",\"x\",\"fill_alpha\",\"line_color\",\"width\",\"label\",\"color\"],\"data\":{\"chart_index\":[\"(21.000000, 24.000000]\"],\"color\":[\"#f22c40\"],\"fill_alpha\":[0.8],\"height\":[46395.0],\"label\":[\"(21.000000, 24.000000]\"],\"line_alpha\":[1.0],\"line_color\":[\"black\"],\"width\":[3.0],\"x\":[\"22.5\"],\"y\":[23197.5]}},\"id\":\"c854d900-13d0-459c-a50b-c2f6c65e3cfe\",\"type\":\"ColumnDataSource\"},{\"attributes\":{\"fill_alpha\":{\"field\":\"fill_alpha\"},\"fill_color\":{\"field\":\"color\"},\"height\":{\"field\":\"height\",\"units\":\"data\"},\"line_color\":{\"field\":\"line_color\"},\"width\":{\"field\":\"width\",\"units\":\"data\"},\"x\":{\"field\":\"x\"},\"y\":{\"field\":\"y\"}},\"id\":\"2bf1644d-6a13-4aa7-98f4-d4293c459365\",\"type\":\"Rect\"},{\"attributes\":{\"callback\":null,\"column_names\":[\"height\",\"line_alpha\",\"y\",\"x\",\"fill_alpha\",\"line_color\",\"width\",\"label\",\"color\"],\"data\":{\"chart_index\":[\"(9.000000, 12.000000]\"],\"color\":[\"#f22c40\"],\"fill_alpha\":[0.8],\"height\":[396239.0],\"label\":[\"(9.000000, 12.000000]\"],\"line_alpha\":[1.0],\"line_color\":[\"black\"],\"width\":[3.0],\"x\":[\"10.5\"],\"y\":[198119.5]}},\"id\":\"293e8fff-1297-4b5a-af57-10c46d2b44f9\",\"type\":\"ColumnDataSource\"}],\"root_ids\":[\"7f0454c6-f8e4-4588-83c8-b822d55e40a8\"]},\"title\":\"Bokeh Application\",\"version\":\"0.12.5\"}};\n",
       "            var render_items = [{\"docid\":\"82574b2f-234c-4f61-a470-780ee6306d11\",\"elementid\":\"381495b6-44ee-43f2-acc4-2333163a29d2\",\"modelid\":\"7f0454c6-f8e4-4588-83c8-b822d55e40a8\"}];\n",
       "            \n",
       "            Bokeh.embed.embed_items(docs_json, render_items);\n",
       "          };\n",
       "          if (document.readyState != \"loading\") fn();\n",
       "          else document.addEventListener(\"DOMContentLoaded\", fn);\n",
       "        })();\n",
       "      },\n",
       "      function(Bokeh) {\n",
       "      }\n",
       "    ];\n",
       "  \n",
       "    function run_inline_js() {\n",
       "      \n",
       "      if ((window.Bokeh !== undefined) || (force === true)) {\n",
       "        for (var i = 0; i < inline_js.length; i++) {\n",
       "          inline_js[i](window.Bokeh);\n",
       "        }if (force === true) {\n",
       "          display_loaded();\n",
       "        }} else if (Date.now() < window._bokeh_timeout) {\n",
       "        setTimeout(run_inline_js, 100);\n",
       "      } else if (!window._bokeh_failed_load) {\n",
       "        console.log(\"Bokeh: BokehJS failed to load within specified timeout.\");\n",
       "        window._bokeh_failed_load = true;\n",
       "      } else if (force !== true) {\n",
       "        var cell = $(document.getElementById(\"381495b6-44ee-43f2-acc4-2333163a29d2\")).parents('.cell').data().cell;\n",
       "        cell.output_area.append_execute_result(NB_LOAD_WARNING)\n",
       "      }\n",
       "  \n",
       "    }\n",
       "  \n",
       "    if (window._bokeh_is_loading === 0) {\n",
       "      console.log(\"Bokeh: BokehJS loaded, going straight to plotting\");\n",
       "      run_inline_js();\n",
       "    } else {\n",
       "      load_libs(js_urls, function() {\n",
       "        console.log(\"Bokeh: BokehJS plotting callback run at\", now());\n",
       "        run_inline_js();\n",
       "      });\n",
       "    }\n",
       "  }(this));\n",
       "</script>"
      ]
     },
     "metadata": {},
     "output_type": "display_data"
    }
   ],
   "source": [
    "usrRes = res.loc[res['MinsSinceFirstPlay'] <= 90]\n",
    "p = Histogram(usrRes['MinsSinceFirstPlay'], title=\"Count of intervals <= 90 minutes\",bins=30)\n",
    "output_notebook()\n",
    "\n",
    "p.yaxis.formatter=NumeralTickFormatter(format=\"0,0\")\n",
    "p.xaxis.formatter=NumeralTickFormatter(format=\"0,0\")\n",
    "show(p)"
   ]
  },
  {
   "cell_type": "code",
   "execution_count": null,
   "metadata": {
    "collapsed": false
   },
   "outputs": [],
   "source": [
    "usrRes = res.loc[res['MinsSinceFirstPlay'] >= 90]\n",
    "p = Histogram(usrRes['MinsSinceFirstPlay'], title=\"Count of intervals > 30 days\", bins=50)\n",
    "output_notebook()\n",
    "\n",
    "p.yaxis.formatter=NumeralTickFormatter(format=\"0,0\")\n",
    "p.xaxis.formatter=NumeralTickFormatter(format=\"0,0\")\n",
    "show(p)"
   ]
  },
  {
   "cell_type": "markdown",
   "metadata": {},
   "source": [
    "<h3 style=\"background-color:#616161;color:white\">3. User History</h3>"
   ]
  },
  {
   "cell_type": "code",
   "execution_count": 78,
   "metadata": {
    "collapsed": false
   },
   "outputs": [],
   "source": [
    "# Select user ID\n",
    "usr = 8\n",
    "\n",
    "reset_output() \n",
    "db = sqlite3.connect(dbPath)\n",
    "sqlStr ='select (SecsSincePrevPlay/60) as MinsSincePrev, historyID, TrackID from tblMain where userID = ' + str(usr)\n",
    "res = pd.read_sql_query(sqlStr, db)\n",
    "db.close()\n"
   ]
  },
  {
   "cell_type": "code",
   "execution_count": null,
   "metadata": {
    "collapsed": true
   },
   "outputs": [],
   "source": [
    "db = sqlite3.connect(dbPath)\n",
    "\n",
    "p = Scatter(res, x='historyID', y='MinsSincePrev', color='TrackID', legend=False, title=\"\", xlabel=\"History\", ylabel=\"NumOfTracks\")\n",
    "output_notebook()\n",
    "show(p)"
   ]
  },
  {
   "cell_type": "markdown",
   "metadata": {},
   "source": [
    "<h3 style=\"background-color:#616161;color:white\">END</h3>"
   ]
  }
 ],
 "metadata": {
  "anaconda-cloud": {},
  "kernelspec": {
   "display_name": "Python [Root]",
   "language": "python",
   "name": "Python [Root]"
  },
  "language_info": {
   "codemirror_mode": {
    "name": "ipython",
    "version": 3
   },
   "file_extension": ".py",
   "mimetype": "text/x-python",
   "name": "python",
   "nbconvert_exporter": "python",
   "pygments_lexer": "ipython3",
   "version": "3.5.2"
  }
 },
 "nbformat": 4,
 "nbformat_minor": 2
}
