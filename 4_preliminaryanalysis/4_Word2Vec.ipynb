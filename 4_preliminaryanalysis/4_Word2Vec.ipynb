{
 "cells": [
  {
   "cell_type": "code",
   "execution_count": 3,
   "metadata": {},
   "outputs": [],
   "source": [
    "# import modules\n",
    "import os\n",
    "import sys\n",
    "import pandas as pd\n",
    "import numpy as np\n",
    "import datetime\n",
    "import csv\n",
    "import json\n",
    "import sqlite3\n",
    "from pathlib import Path\n",
    "from sklearn.manifold import TSNE\n",
    "from sklearn.datasets import fetch_20newsgroups\n",
    "import matplotlib.pyplot as plt\n",
    "import gensim, logging\n",
    "\n",
    "## Parameters you can change\n",
    "\n",
    "# Abs path to settings file\n",
    "#root = \"C:/DS/Github/MusicRecommendation\"  # BA, Windows\n",
    "root = \"/home/badrul/Documents/github/MusicRecommendation\" # BA, Linux\n",
    "\n",
    "## Import the codebase module\n",
    "fPath = root + \"/1_codemodule\"\n",
    "if fPath not in sys.path: sys.path.append(fPath)\n",
    "\n",
    "import coreCode as cb\n",
    "import lastfmCode as fm\n",
    "\n",
    "## Finish setting up\n",
    "os.chdir(root)\n",
    "\n",
    "settingsDict =  cb.loadSettings()\n",
    "\n",
    "dbPath = root + settingsDict['mainDbPath']\n",
    "fmSimilarDbPath = root + settingsDict['fmSimilarDbPath']\n",
    "fmTagsDbPath = root + settingsDict['fmTagsDbPath']\n",
    "trackMetaDbPath = root + settingsDict['trackmetadata']\n",
    "\n",
    "def GenerateWord2VecModel(trainingSetDbPath,threshold,iterations=50):\n",
    "    s = fm.getSimilariityAll(fmSimilarDbPath,threshold)\n",
    "\n",
    "    #s=getDummyData()\n",
    "\n",
    "    # train word2vec\n",
    "    model = gensim.models.Word2Vec(s, min_count=0, iter=iterations,size=100)\n",
    "    model.save(root + '/3_data/song2vec/model')\n",
    "\n",
    "def getDummyData():\n",
    "    return [['Tiger', 'Zebra'], ['Tiger', 'Lion', 'Cheetah'],\n",
    "     ['Orangutan', 'Bonobo', 'Orangutan', 'Chimpanzee'],\n",
    "     ['Dog', 'Cat', 'Mouse'], ['Tiger', 'Rhino'],\n",
    "     ['House', 'Car'], ['Antelope', 'Gazelle'],\n",
    "     ['Zebra', 'Horse'], ['Tiger', 'Lion', 'Leopard'],\n",
    "     ['Cat', 'Mouse'], ['Mouse', 'Hampster', 'Gerbil'],\n",
    "     ['Rhino', 'Zebra'], ['Zebra', 'Antelope'],\n",
    "     ['Tiger', 'Lion'], ['Lion', 'Tiger', 'Giraffe'],\n",
    "     ['Leopard', 'Lion'], ['Leopard', 'Tiger', 'Lion'],\n",
    "     ['Tiger', 'Lion'], ['Tiger', 'Lion'],\n",
    "     ['Car', 'Van'], ['Car', 'Lorry'],\n",
    "     ['Car', 'Van'], ['Car', 'Lorry'],\n",
    "     ['Car', 'Van'], ['Car', 'Lorry']\n",
    "     ]\n",
    "\n",
    "def generateTSNE(V,vocab):\n",
    "    # Generate tsne graph\n",
    "    tsne = TSNE(n_components=2)  # 2 dimensions so we can plot it on an xy chart\n",
    "\n",
    "    X_tsne = tsne.fit_transform(V)\n",
    "\n",
    "    # Join the x,y values with the labels\n",
    "    df = pd.concat([pd.DataFrame(X_tsne),\n",
    "                    pd.Series(vocab)],\n",
    "                   axis=1)\n",
    "\n",
    "    df.columns = ['x', 'y', 'label']\n",
    "\n",
    "    # Create chart\n",
    "    fig = plt.figure()  # Create a canvas for the chart\n",
    "    ax = fig.add_subplot(1, 1, 1)  # Create a 1x1 grid in the the 1st subplot\n",
    "    ax.scatter(df['x'], df['y'])\n",
    "\n",
    "    stepSize = 1\n",
    "    for i, txt in enumerate(df['label']):\n",
    "        if i % stepSize == 0:\n",
    "            ax.annotate(txt, (df['x'].iloc[i], df['y'].iloc[i]))\n",
    "\n",
    "    plt.show()\n",
    "    \n",
    "def w2v_model_accuracy(model,testSet = []):\n",
    "    \n",
    "    accuracy = 0\n",
    "    for s in testSet:\n",
    "        accuracy += model.score(testSet)\n",
    "    \n",
    "    print (accuracy/len[testSet])\n",
    "    \n",
    "    #sum_corr = len(accuracy[-1]['correct'])\n",
    "    #sum_incorr = len(accuracy[-1]['incorrect'])\n",
    "    #total = sum_corr + sum_incorr\n",
    "    #percent = lambda a: a / total * 100\n",
    "    \n",
    "    #print('Total sentences: {}, Correct: {:.2f}%, Incorrect: {:.2f}%'.format(total, percent(sum_corr), percent(sum_incorr)))"
   ]
  },
  {
   "cell_type": "markdown",
   "metadata": {},
   "source": [
    "<h4>Train Word2Vec model </h4>"
   ]
  },
  {
   "cell_type": "code",
   "execution_count": 8,
   "metadata": {
    "collapsed": true
   },
   "outputs": [],
   "source": [
    "# Load data from database\n",
    "\n",
    "# This command line was used to import from the similarities.db\n",
    "# sqlite3 \"lastfmSimilar.db\" \".dump\" | sqlite3 \"inputDB.db\"\n",
    "\n",
    "# Generate Gensim Model\n",
    "#GenerateWord2VecModel(fmSimilarDbPath,0.8,999000)"
   ]
  },
  {
   "cell_type": "markdown",
   "metadata": {},
   "source": [
    "<h4>Test Word2Vec model </h4>"
   ]
  },
  {
   "cell_type": "code",
   "execution_count": 11,
   "metadata": {},
   "outputs": [
    {
     "name": "stderr",
     "output_type": "stream",
     "text": [
      "IOPub data rate exceeded.\n",
      "The notebook server will temporarily stop sending output\n",
      "to the client in order to avoid crashing it.\n",
      "To change this limit, set the config variable\n",
      "`--NotebookApp.iopub_data_rate_limit`.\n"
     ]
    }
   ],
   "source": [
    "s = fm.getSimilariityAll(fmSimilarDbPath,0.8)\n",
    "model = gensim.models.Word2Vec.load(root + '/3_data/song2vec/model')\n",
    "w2v_model_accuracy(model,s)"
   ]
  },
  {
   "cell_type": "code",
   "execution_count": null,
   "metadata": {
    "collapsed": true
   },
   "outputs": [],
   "source": [
    "print ('Tiger & Dog', model.similarity('Tiger','Dog'))\n",
    "print ('Tiger & Lion', model.similarity('Tiger','Lion'))\n",
    "print ('Car & House',model.similarity('Car','House'))\n",
    "print ('Lion & Cat',model.similarity('Lion','Cat'))\n",
    "print ('Car & Van',model.similarity('Car','Van'))\n",
    "\n",
    "\n",
    "### TSNE\n",
    "#numOfDots = 20\n",
    "#vocab = list(model.wv.vocab)  # Get back the tid list\n",
    "#V = model[vocab]            # Get the word2vec vectors\n",
    "\n",
    "#generateTSNE (V,vocab)\n",
    "#s = fm.convertTrackIDTo(trackMetaDbPath,vocab,'title')\n",
    "#generateTSNE (V,s)\n"
   ]
  }
 ],
 "metadata": {
  "kernelspec": {
   "display_name": "Python 3",
   "language": "python",
   "name": "python3"
  },
  "language_info": {
   "codemirror_mode": {
    "name": "ipython",
    "version": 3
   },
   "file_extension": ".py",
   "mimetype": "text/x-python",
   "name": "python",
   "nbconvert_exporter": "python",
   "pygments_lexer": "ipython3",
   "version": "3.6.1"
  }
 },
 "nbformat": 4,
 "nbformat_minor": 2
}
