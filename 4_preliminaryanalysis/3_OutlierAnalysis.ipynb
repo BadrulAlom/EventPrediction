{
 "cells": [
  {
   "cell_type": "markdown",
   "metadata": {},
   "source": [
    "<h1 align=\"center\" style=\"background-color:#616161;color:white\">Outlier Analysis & Cleanup</h1>"
   ]
  },
  {
   "cell_type": "markdown",
   "metadata": {},
   "source": [
    "<h3>Summary</h3>\n",
    "\n",
    "<font color=blue>\n",
    "Two types of analysis was conducted\n",
    "* Daily LIstening Habits: Analysis of the number of unique tracks vs. num. of plays a user seen on a daily basis\n",
    "* Histogram of the time period in between song plays\n",
    "</font>    "
   ]
  },
  {
   "cell_type": "markdown",
   "metadata": {},
   "source": [
    "<h3 style=\"background-color:#616161;color:white\">0. Code setup</h3>"
   ]
  },
  {
   "cell_type": "code",
   "execution_count": 1,
   "metadata": {
    "collapsed": true
   },
   "outputs": [],
   "source": [
    "import os\n",
    "import sys\n",
    "import pandas as pd\n",
    "import numpy as np\n",
    "import datetime\n",
    "import csv\n",
    "import json\n",
    "import sqlite3\n",
    "import matplotlib.mlab as mlab\n",
    "import matplotlib.pyplot as plt\n",
    "\n",
    "from pathlib import Path\n",
    "\n",
    "%matplotlib inline\n",
    "from IPython.core.interactiveshell import InteractiveShell\n",
    "InteractiveShell.ast_node_interactivity = \"all\""
   ]
  },
  {
   "cell_type": "code",
   "execution_count": 4,
   "metadata": {
    "collapsed": false
   },
   "outputs": [],
   "source": [
    "## Parameters you can change\n",
    "\n",
    "# Abs path to settings file\n",
    "root = \"C:/DS/Github/MusicRecommendation\"  # BA, Windows\n",
    "\n",
    "## Import the codebase module\n",
    "fPath = root + \"/1_codemodule\"\n",
    "if fPath not in sys.path: sys.path.append(fPath)\n",
    "import codebase as cb\n",
    "\n",
    "# This is where preliminary analysis output gets stored. Folder with todays date is created.\n",
    "i = datetime.datetime.now()\n",
    "outputPath = root + \"/4_preliminaryanalysis/outputs/%s_%s_%s/\" % (i.day, i.month, i.year) \n",
    "\n",
    "## Finish setting up\n",
    "os.chdir(root)\n",
    "\n",
    "settingsDict =  cb.loadSettings()\n",
    "\n",
    "# Load data from database\n",
    "dbPath = root + settingsDict['dbPath']"
   ]
  },
  {
   "cell_type": "code",
   "execution_count": 5,
   "metadata": {
    "collapsed": true
   },
   "outputs": [],
   "source": [
    "#--------------------- Functions ----------------------------------#\n",
    "def getRandomUsers(maxUsers):\n",
    "    db = sqlite3.connect(dbPath)\n",
    "    SQStr =\"SELECT userID FROM tblUser ORDER BY RANDOM() LIMIT \" + maxUsers"
   ]
  },
  {
   "cell_type": "markdown",
   "metadata": {},
   "source": [
    "<h3 style=\"background-color:#616161;color:white\">1. Generate CSV exports for analysis in visualization software</h3>"
   ]
  },
  {
   "cell_type": "code",
   "execution_count": 7,
   "metadata": {
    "collapsed": false
   },
   "outputs": [
    {
     "data": {
      "text/plain": [
       "<sqlite3.Cursor at 0x1c75a256570>"
      ]
     },
     "execution_count": 7,
     "metadata": {},
     "output_type": "execute_result"
    }
   ],
   "source": [
    "con = sqlite3.connect(dbPath)\n",
    "cur = con.cursor()\n",
    "\n",
    "sqlStr ='SELECT Cast(substr(userID,-5) as integer) as user,date(PlayedTimestamp) as PlayedTimeStamp ,count(*) as NumOfPlays, count(Distinct trackID) as NumOfTracks from tblInputData group by userID, date(PlayedTimestamp) ORDER BY NumOfPlays;'\n",
    "\n",
    "# Export to CSV\n",
    "cur.execute(sqlStr)\n",
    "cb.exportToCSV(cur,outputPath + 'dataset1.csv')\n",
    "\n",
    "con.close()"
   ]
  },
  {
   "cell_type": "markdown",
   "metadata": {},
   "source": [
    "<h3 style=\"background-color:#616161;color:white\">2. Basic analysis</h3>"
   ]
  },
  {
   "cell_type": "code",
   "execution_count": 8,
   "metadata": {
    "collapsed": false
   },
   "outputs": [],
   "source": [
    "con = sqlite3.connect(dbPath)\n",
    "sqlStr ='SELECT Cast(substr(userID,-5) as integer) as user,date(PlayedTimestamp) as PlayedTimeStamp ,count(*) as NumOfPlays, count(Distinct trackID) as NumOfTracks from tblInputData group by userID, date(PlayedTimestamp) ORDER BY NumOfPlays;'\n",
    "\n",
    "# Load into Pandas\n",
    "res = pd.read_sql_query(sqlStr, con)\n",
    "con.close()\n",
    "\n",
    "# Change data types\n",
    "res['user'] = res['user'].astype('str')\n",
    "res['PlayedTimeStamp'] =  pd.to_datetime(res['PlayedTimeStamp'])\n",
    "#res.dtypes"
   ]
  },
  {
   "cell_type": "code",
   "execution_count": null,
   "metadata": {
    "collapsed": false
   },
   "outputs": [],
   "source": [
    "res['PlayedTimeStamp'].describe()"
   ]
  },
  {
   "cell_type": "markdown",
   "metadata": {},
   "source": [
    "<font color=blue>\n",
    "The date range is from 27th April 2009 to 29th Sept 2013 \n",
    "</font>"
   ]
  },
  {
   "cell_type": "code",
   "execution_count": null,
   "metadata": {
    "collapsed": false
   },
   "outputs": [],
   "source": [
    "res['user'].describe()"
   ]
  },
  {
   "cell_type": "markdown",
   "metadata": {},
   "source": [
    "<font color=blue>\n",
    "There are 992 unique users. \n",
    "</font>"
   ]
  },
  {
   "cell_type": "code",
   "execution_count": null,
   "metadata": {
    "collapsed": false
   },
   "outputs": [],
   "source": [
    "res.describe(percentiles = [.5, .95, .99])"
   ]
  },
  {
   "cell_type": "markdown",
   "metadata": {},
   "source": [
    "\n",
    "* <font color=blue>The average number of daily plays was 48, and the average number of unique daily tracks was 35</font>\n",
    "*  <font color=blue>The higest number of daily plays was a very large <b>2862</b></font>\n",
    "*  <font color=blue>The 99th percentile was only 295, so perhaps this makes a good cut-off point</font>"
   ]
  },
  {
   "cell_type": "code",
   "execution_count": null,
   "metadata": {
    "collapsed": false
   },
   "outputs": [],
   "source": [
    "qNumOfPlays = 295\n",
    "\n",
    "res[(res['NumOfPlays'] > qNumOfPlays)].user.nunique()\n",
    "\n",
    "# If you wish to drill down further use this:\n",
    "#res[(res['NumOfPlays'] > qNumOfPlays)].groupby(['user']).count()"
   ]
  },
  {
   "cell_type": "markdown",
   "metadata": {},
   "source": [
    "* <font color=blue>We would be excluding 253 users if we did this - which is a large portion of our 992 unique users.</font>"
   ]
  },
  {
   "cell_type": "code",
   "execution_count": null,
   "metadata": {
    "collapsed": false
   },
   "outputs": [],
   "source": [
    "res.groupby(['user']).mean().describe([.5, .95, .99])"
   ]
  },
  {
   "cell_type": "markdown",
   "metadata": {},
   "source": [
    "* <font color=blue>When we take the average tracks played on a daily basis by user we get a 99th percentile of 208 with the max average being 337.</font>\n",
    "* <font color=blue>The question at this stage is whether we exclude any days where the number of tracks played by a user exceeded a certain threshold (say 295).</font>\n",
    "* <font color=blue>Our analysis suggests that a large portion of users (253 our of 992) did have such excessive plays therefore exlcuding this many users is not an option</font>\n",
    "* <font color=blue>If we average out across thee days then we find the data looks more normal - the max average was 337 tracks, still large but within the bounds of reality.</font>\n",
    "* <font color=blue>Of course why there are some days with excessively high track plays is a mystery. Further analysis did not show any obvious patterns other than user 8 who appeared to be particularly excessive number of plays. </font>"
   ]
  },
  {
   "cell_type": "code",
   "execution_count": null,
   "metadata": {
    "collapsed": false
   },
   "outputs": [],
   "source": [
    "tmp=res[(res['NumOfPlays'] > 800)].groupby(['user']).count()\n",
    "tmp"
   ]
  },
  {
   "cell_type": "code",
   "execution_count": null,
   "metadata": {
    "collapsed": false
   },
   "outputs": [],
   "source": [
    "#res[(res['user'] =='8') & (res['NumOfPlays'] > 500)]\n",
    "res[(res['user'] =='8')].mean()"
   ]
  },
  {
   "cell_type": "markdown",
   "metadata": {},
   "source": [
    "<font color=blue>\n",
    "This analysis plus additional ones done that show user 8 playing songs in very rapid succession for an entire day indicate it may not be a real user and therefore ought to be removed.\n",
    "\n",
    "It is unclear if this is the case for other excessive users however it was decided they would be kept in the analysis.\n",
    "</font>"
   ]
  },
  {
   "cell_type": "markdown",
   "metadata": {},
   "source": [
    "<h3 style=\"background-color:#616161;color:white\">3. Interval time</h3>"
   ]
  },
  {
   "cell_type": "code",
   "execution_count": 9,
   "metadata": {
    "collapsed": false
   },
   "outputs": [],
   "source": [
    "con = sqlite3.connect(dbPath)\n",
    "sqlStr ='Select userID, MinsSincePrevPlay, PlayedTimestamp, historyID from tblMain order by userID, historyID'\n",
    "res = pd.read_sql_query(sqlStr, con)\n",
    "con.close()\n",
    "\n",
    "# Change data types\n",
    "res['UserID'] = res['UserID'].astype('str')\n",
    "res['PlayedTimestamp'] =  pd.to_datetime(res['PlayedTimestamp'])"
   ]
  },
  {
   "cell_type": "code",
   "execution_count": null,
   "metadata": {
    "collapsed": false
   },
   "outputs": [],
   "source": [
    "# Chart 1\n",
    "a=res[(res['MinsSincePrevPlay'] < 30)]\n",
    "b=res[(res['MinsSincePrevPlay'] > 30)]\n",
    "\n",
    "# the histogram of the data\n",
    "n, bins, patches = plt.hist(a['MinsSincePrevPlay'], 30,normed=1)\n",
    "_ = plt.xlabel('Mins since previous play')\n",
    "_ = plt.ylabel('Probability')\n",
    "_ = plt.title('Play interval times less than 30 minutes')\n",
    "plt.grid(True)\n",
    "\n",
    "plt.show()\n",
    "\n",
    "bins = [0,10,30, 60, 120, 240, 480, 960, 1440,2880,4320, 5760, 7200, 8640, 10080]\n",
    "group_names = ['<10min','30 min', '1hr', '2hrs', '4hrs', '8 hrs','16hrs','1day','2days','3days','4days','5days','6days','7days+']\n",
    "categories = pd.cut(res['MinsSincePrevPlay'], bins,labels=group_names)\n",
    "res['categories'] = pd.cut(res['MinsSincePrevPlay'], bins,labels=group_names)\n",
    "res['dayOfWeek'] = res['PlayedTimestamp'].dt.dayofweek\n",
    "\n",
    "pd.value_counts(res['categories'],sort=False)"
   ]
  },
  {
   "cell_type": "markdown",
   "metadata": {},
   "source": [
    "* <font color=blue>As one would expect, the average interval between plays of 4 minutes corresponds to an average length of a song, indicating consequtive listens. It tails off significantly after that.</font>\n",
    "* <font color=blue>Beyond the hour mark we see that 16 hours appears to be unusually popular. Let's see if it's associated with any day of the week</font>"
   ]
  },
  {
   "cell_type": "code",
   "execution_count": null,
   "metadata": {
    "collapsed": false
   },
   "outputs": [],
   "source": [
    "pd.crosstab(res['categories'],res['dayOfWeek'],normalize ='index') # 0 = monday"
   ]
  },
  {
   "cell_type": "markdown",
   "metadata": {},
   "source": [
    "* There does not appear to be any patterns here"
   ]
  },
  {
   "cell_type": "markdown",
   "metadata": {},
   "source": [
    "<h3 style=\"background-color:#616161;color:white\">4. Conclusion</h3>"
   ]
  },
  {
   "cell_type": "markdown",
   "metadata": {},
   "source": [
    "Section 2:\n",
    "* <font color=blue>User 8 appears not to be a valid user and therefore will be removed. </font>\n",
    "* <font color=blue>It is unclear if this is the case for other excessive users however it was decided they would be kept in the analysis. </font>\n",
    "\n",
    "Section 3:\n",
    "* <font color=blue>The vast majority of users listen to songs consequtively as one would expect</font>\n",
    "* <font color=blue>Beyond that the drop-off rate is steep, and particularly drops after the 1 day period</font>\n",
    "* <font color=blue>From a modeling point of view we will classify the data into 3 buckets:</font> \n",
    "    * <font color=blue>'single session' : 10 minutes or under</font>\n",
    "    * <font color=blue>'same day': 24 hours or under</font>\n",
    "    * <font color=blue>'long gap': more than 24 hours</font>\n",
    "* <font color=blue>We will evaluate whether it's better tol have 1 model for all three of these categories or whether two or three models perform better</font>"
   ]
  },
  {
   "cell_type": "markdown",
   "metadata": {},
   "source": [
    "<h3 style=\"background-color:#616161;color:white\">END</h3>"
   ]
  }
 ],
 "metadata": {
  "anaconda-cloud": {},
  "kernelspec": {
   "display_name": "Python [Root]",
   "language": "python",
   "name": "Python [Root]"
  },
  "language_info": {
   "codemirror_mode": {
    "name": "ipython",
    "version": 3
   },
   "file_extension": ".py",
   "mimetype": "text/x-python",
   "name": "python",
   "nbconvert_exporter": "python",
   "pygments_lexer": "ipython3",
   "version": "3.5.2"
  }
 },
 "nbformat": 4,
 "nbformat_minor": 2
}
