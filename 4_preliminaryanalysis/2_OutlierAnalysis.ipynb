{
 "cells": [
  {
   "cell_type": "markdown",
   "metadata": {},
   "source": [
    "<h1 align=\"center\" style=\"background-color:#616161;color:white\">Outlier Analysis & Cleanup</h1>"
   ]
  },
  {
   "cell_type": "markdown",
   "metadata": {},
   "source": [
    "<h3>Summary</h3>\n",
    "\n",
    "* Two types of analysis was conducted\n",
    "    - Daily LIstening Habits: Analysis of the number of unique tracks vs. num. of plays a user seen on a daily basis\n",
    "    - Histogram of the time period in between song plays\n",
    "    "
   ]
  },
  {
   "cell_type": "markdown",
   "metadata": {},
   "source": [
    "<h3 style=\"background-color:#616161;color:white\">0. Code setup</h3>"
   ]
  },
  {
   "cell_type": "code",
   "execution_count": 14,
   "metadata": {
    "collapsed": true
   },
   "outputs": [],
   "source": [
    "import os\n",
    "import sys\n",
    "import pandas as pd\n",
    "import numpy as np\n",
    "import datetime\n",
    "import csv\n",
    "import json\n",
    "import sqlite3\n",
    "from pathlib import Path\n",
    "%matplotlib inline"
   ]
  },
  {
   "cell_type": "code",
   "execution_count": 2,
   "metadata": {
    "collapsed": false
   },
   "outputs": [],
   "source": [
    "## Parameters you can change\n",
    "\n",
    "# Abs path to settings file\n",
    "root = \"C:/DS/Github/MusicRecommendation\"  # BA, Windows\n",
    "i = datetime.datetime.now()\n",
    "outputPath = root + \"/4_preliminaryanalysis/outputs/%s_%s_%s/\" % (i.day, i.month, i.year) \n",
    "\n",
    "## Finish setting up\n",
    "os.chdir(root)\n",
    "## Add the prelim module\n",
    "fPath = root + \"/1_codebase\"\n",
    "if fPath not in sys.path: sys.path.append(fPath)\n",
    "from codebase import *\n",
    "\n",
    "settingsDict =  loadSettings()\n",
    "\n",
    "# Load data from database\n",
    "dbPath = root + settingsDict['dbPath']\n",
    "\n",
    "#--------------------- Functions ----------------------------------#\n",
    "def getRandomUsers(maxUsers):\n",
    "    db = sqlite3.connect(dbPath)\n",
    "    SQStr =\"SELECT userID FROM tblUser ORDER BY RANDOM() LIMIT \" + maxUsers\n",
    "\n",
    "def exportToCSV(cursor, fPath):\n",
    "    \n",
    "    # Check output folder exists\n",
    "    _ensurePathExists(fPath)\n",
    "    \n",
    "    with open(fPath, \"w\", newline='') as csv_file:  # Python 3 version    \n",
    "        csv_writer = csv.writer(csv_file)\n",
    "        csv_writer.writerow([i[0] for i in cursor.description]) # write headers\n",
    "        csv_writer.writerows(cursor)\n",
    "\n",
    "\n",
    "def _ensurePathExists(fPath):\n",
    "    path = Path(fPath)\n",
    "    path.parent.mkdir(parents=True, exist_ok=True) "
   ]
  },
  {
   "cell_type": "markdown",
   "metadata": {},
   "source": [
    "<h3 style=\"background-color:#616161;color:white\">1. Generate CSV exports for analysis in visualization software</h3>"
   ]
  },
  {
   "cell_type": "code",
   "execution_count": 32,
   "metadata": {
    "collapsed": false
   },
   "outputs": [],
   "source": [
    "con = sqlite3.connect(dbPath)\n",
    "cur = con.cursor()\n",
    "\n",
    "sqlStr ='SELECT Cast(substr(userID,-5) as integer) as user,date(PlayedTimestamp) as PlayedTimeStamp ,count(*) as NumOfPlays, count(Distinct trackID) as NumOfTracks from tblInputData group by userID, date(PlayedTimestamp) ORDER BY NumOfPlays;'\n",
    "\n",
    "# Export to CSV\n",
    "cur.execute(sqlStr)\n",
    "exportToCSV(cur,outputPath + 'dataset1.csv')\n",
    "\n",
    "con.close()"
   ]
  },
  {
   "cell_type": "markdown",
   "metadata": {},
   "source": [
    "<h3 style=\"background-color:#616161;color:white\">2. Basic analysis</h3>"
   ]
  },
  {
   "cell_type": "code",
   "execution_count": 41,
   "metadata": {
    "collapsed": false
   },
   "outputs": [],
   "source": [
    "con = sqlite3.connect(dbPath)\n",
    "sqlStr ='SELECT Cast(substr(userID,-5) as integer) as user,date(PlayedTimestamp) as PlayedTimeStamp ,count(*) as NumOfPlays, count(Distinct trackID) as NumOfTracks from tblInputData group by userID, date(PlayedTimestamp) ORDER BY NumOfPlays;'\n",
    "\n",
    "# Load into Pandas\n",
    "res = pd.read_sql_query(sqlStr, con)\n",
    "con.close()\n",
    "\n",
    "# Change data types\n",
    "res['user'] = res['user'].astype('str')\n",
    "res['PlayedTimeStamp'] =  pd.to_datetime(res['PlayedTimeStamp'])\n",
    "#res.dtypes"
   ]
  },
  {
   "cell_type": "code",
   "execution_count": 142,
   "metadata": {
    "collapsed": false
   },
   "outputs": [
    {
     "data": {
      "text/plain": [
       "count                  391475\n",
       "unique                   1589\n",
       "top       2009-04-27 00:00:00\n",
       "freq                      439\n",
       "first     2005-02-14 00:00:00\n",
       "last      2013-09-29 00:00:00\n",
       "Name: PlayedTimeStamp, dtype: object"
      ]
     },
     "execution_count": 142,
     "metadata": {},
     "output_type": "execute_result"
    }
   ],
   "source": [
    "res['PlayedTimeStamp'].describe()"
   ]
  },
  {
   "cell_type": "markdown",
   "metadata": {},
   "source": [
    "* The date range is from 27th April 2009 to 29th Sept 2013 "
   ]
  },
  {
   "cell_type": "code",
   "execution_count": 125,
   "metadata": {
    "collapsed": false
   },
   "outputs": [
    {
     "data": {
      "text/plain": [
       "count     391475\n",
       "unique       992\n",
       "top          833\n",
       "freq        1457\n",
       "Name: user, dtype: object"
      ]
     },
     "execution_count": 125,
     "metadata": {},
     "output_type": "execute_result"
    }
   ],
   "source": [
    "res['user'].describe()"
   ]
  },
  {
   "cell_type": "markdown",
   "metadata": {},
   "source": [
    "* There are 992 unique users. "
   ]
  },
  {
   "cell_type": "code",
   "execution_count": 141,
   "metadata": {
    "collapsed": false
   },
   "outputs": [
    {
     "data": {
      "text/html": [
       "<div>\n",
       "<table border=\"1\" class=\"dataframe\">\n",
       "  <thead>\n",
       "    <tr style=\"text-align: right;\">\n",
       "      <th></th>\n",
       "      <th>NumOfPlays</th>\n",
       "      <th>NumOfTracks</th>\n",
       "    </tr>\n",
       "  </thead>\n",
       "  <tbody>\n",
       "    <tr>\n",
       "      <th>count</th>\n",
       "      <td>391475.000000</td>\n",
       "      <td>391475.000000</td>\n",
       "    </tr>\n",
       "    <tr>\n",
       "      <th>mean</th>\n",
       "      <td>48.919773</td>\n",
       "      <td>35.828385</td>\n",
       "    </tr>\n",
       "    <tr>\n",
       "      <th>std</th>\n",
       "      <td>57.588075</td>\n",
       "      <td>42.043862</td>\n",
       "    </tr>\n",
       "    <tr>\n",
       "      <th>min</th>\n",
       "      <td>1.000000</td>\n",
       "      <td>0.000000</td>\n",
       "    </tr>\n",
       "    <tr>\n",
       "      <th>50%</th>\n",
       "      <td>31.000000</td>\n",
       "      <td>23.000000</td>\n",
       "    </tr>\n",
       "    <tr>\n",
       "      <th>95%</th>\n",
       "      <td>153.000000</td>\n",
       "      <td>112.000000</td>\n",
       "    </tr>\n",
       "    <tr>\n",
       "      <th>99%</th>\n",
       "      <td>295.000000</td>\n",
       "      <td>205.000000</td>\n",
       "    </tr>\n",
       "    <tr>\n",
       "      <th>max</th>\n",
       "      <td>2862.000000</td>\n",
       "      <td>1520.000000</td>\n",
       "    </tr>\n",
       "  </tbody>\n",
       "</table>\n",
       "</div>"
      ],
      "text/plain": [
       "          NumOfPlays    NumOfTracks\n",
       "count  391475.000000  391475.000000\n",
       "mean       48.919773      35.828385\n",
       "std        57.588075      42.043862\n",
       "min         1.000000       0.000000\n",
       "50%        31.000000      23.000000\n",
       "95%       153.000000     112.000000\n",
       "99%       295.000000     205.000000\n",
       "max      2862.000000    1520.000000"
      ]
     },
     "execution_count": 141,
     "metadata": {},
     "output_type": "execute_result"
    }
   ],
   "source": [
    "res.describe(percentiles = [.5, .95, .99])"
   ]
  },
  {
   "cell_type": "markdown",
   "metadata": {},
   "source": [
    "* The average number of daily plays was 48, and the average number of unique daily tracks was 35\n",
    "* The higest number of daily plays was a very large <b>2862</b>\n",
    "* The 99th percentile was only 295, so perhaps this makes a good cut-off point"
   ]
  },
  {
   "cell_type": "code",
   "execution_count": 145,
   "metadata": {
    "collapsed": false
   },
   "outputs": [
    {
     "data": {
      "text/plain": [
       "253"
      ]
     },
     "execution_count": 145,
     "metadata": {},
     "output_type": "execute_result"
    }
   ],
   "source": [
    "qNumOfPlays = 295\n",
    "\n",
    "res[(res['NumOfPlays'] > qNumOfPlays)].user.nunique()\n",
    "\n",
    "# If you wish to drill down further use this:\n",
    "#res[(res['NumOfPlays'] > qNumOfPlays)].groupby(['user']).count()"
   ]
  },
  {
   "cell_type": "markdown",
   "metadata": {},
   "source": [
    "* We would be excluding 253 users if we did this - which is a large portion of our 992 unique users."
   ]
  },
  {
   "cell_type": "code",
   "execution_count": 155,
   "metadata": {
    "collapsed": false
   },
   "outputs": [
    {
     "data": {
      "text/html": [
       "<div>\n",
       "<table border=\"1\" class=\"dataframe\">\n",
       "  <thead>\n",
       "    <tr style=\"text-align: right;\">\n",
       "      <th></th>\n",
       "      <th>NumOfPlays</th>\n",
       "      <th>NumOfTracks</th>\n",
       "    </tr>\n",
       "  </thead>\n",
       "  <tbody>\n",
       "    <tr>\n",
       "      <th>count</th>\n",
       "      <td>992.000000</td>\n",
       "      <td>992.000000</td>\n",
       "    </tr>\n",
       "    <tr>\n",
       "      <th>mean</th>\n",
       "      <td>45.911395</td>\n",
       "      <td>33.153739</td>\n",
       "    </tr>\n",
       "    <tr>\n",
       "      <th>std</th>\n",
       "      <td>36.674290</td>\n",
       "      <td>25.153083</td>\n",
       "    </tr>\n",
       "    <tr>\n",
       "      <th>min</th>\n",
       "      <td>1.000000</td>\n",
       "      <td>0.666667</td>\n",
       "    </tr>\n",
       "    <tr>\n",
       "      <th>50%</th>\n",
       "      <td>35.920913</td>\n",
       "      <td>27.071905</td>\n",
       "    </tr>\n",
       "    <tr>\n",
       "      <th>95%</th>\n",
       "      <td>108.196133</td>\n",
       "      <td>78.911361</td>\n",
       "    </tr>\n",
       "    <tr>\n",
       "      <th>99%</th>\n",
       "      <td>208.585319</td>\n",
       "      <td>142.503486</td>\n",
       "    </tr>\n",
       "    <tr>\n",
       "      <th>max</th>\n",
       "      <td>337.670588</td>\n",
       "      <td>243.470703</td>\n",
       "    </tr>\n",
       "  </tbody>\n",
       "</table>\n",
       "</div>"
      ],
      "text/plain": [
       "       NumOfPlays  NumOfTracks\n",
       "count  992.000000   992.000000\n",
       "mean    45.911395    33.153739\n",
       "std     36.674290    25.153083\n",
       "min      1.000000     0.666667\n",
       "50%     35.920913    27.071905\n",
       "95%    108.196133    78.911361\n",
       "99%    208.585319   142.503486\n",
       "max    337.670588   243.470703"
      ]
     },
     "execution_count": 155,
     "metadata": {},
     "output_type": "execute_result"
    }
   ],
   "source": [
    "res.groupby(['user']).mean().describe([.5, .95, .99])"
   ]
  },
  {
   "cell_type": "markdown",
   "metadata": {},
   "source": [
    "* When we take the average tracks played on a daily basis by user we get a 99th percentile of 208 with the max average being 337\n",
    "* The question at this stage is whether we exclude any days where the number of tracks played by a user exceeded a certain threshold (say 295). \n",
    "* Our analysis suggests that a large portion of users (253 our of 992) did have such excessive plays therefore exlcuding this many users is not an option\n",
    "* If we average out across thee days then we find the data looks more normal - the max average was 337 tracks, still large but within the bounds of reality.\n",
    "* Of course why there are some days with excessively high track plays is a mystery. Further analysis did not show any obvious patterns other than user 8 who appeared to be particularly excessive number of plays "
   ]
  },
  {
   "cell_type": "code",
   "execution_count": 200,
   "metadata": {
    "collapsed": false
   },
   "outputs": [
    {
     "data": {
      "text/html": [
       "<div>\n",
       "<table border=\"1\" class=\"dataframe\">\n",
       "  <thead>\n",
       "    <tr style=\"text-align: right;\">\n",
       "      <th></th>\n",
       "      <th>PlayedTimeStamp</th>\n",
       "      <th>NumOfPlays</th>\n",
       "      <th>NumOfTracks</th>\n",
       "    </tr>\n",
       "    <tr>\n",
       "      <th>user</th>\n",
       "      <th></th>\n",
       "      <th></th>\n",
       "      <th></th>\n",
       "    </tr>\n",
       "  </thead>\n",
       "  <tbody>\n",
       "    <tr>\n",
       "      <th>155</th>\n",
       "      <td>1</td>\n",
       "      <td>1</td>\n",
       "      <td>1</td>\n",
       "    </tr>\n",
       "    <tr>\n",
       "      <th>199</th>\n",
       "      <td>2</td>\n",
       "      <td>2</td>\n",
       "      <td>2</td>\n",
       "    </tr>\n",
       "    <tr>\n",
       "      <th>262</th>\n",
       "      <td>1</td>\n",
       "      <td>1</td>\n",
       "      <td>1</td>\n",
       "    </tr>\n",
       "    <tr>\n",
       "      <th>554</th>\n",
       "      <td>1</td>\n",
       "      <td>1</td>\n",
       "      <td>1</td>\n",
       "    </tr>\n",
       "    <tr>\n",
       "      <th>666</th>\n",
       "      <td>1</td>\n",
       "      <td>1</td>\n",
       "      <td>1</td>\n",
       "    </tr>\n",
       "    <tr>\n",
       "      <th>791</th>\n",
       "      <td>2</td>\n",
       "      <td>2</td>\n",
       "      <td>2</td>\n",
       "    </tr>\n",
       "    <tr>\n",
       "      <th>8</th>\n",
       "      <td>17</td>\n",
       "      <td>17</td>\n",
       "      <td>17</td>\n",
       "    </tr>\n",
       "  </tbody>\n",
       "</table>\n",
       "</div>"
      ],
      "text/plain": [
       "      PlayedTimeStamp  NumOfPlays  NumOfTracks\n",
       "user                                          \n",
       "155                 1           1            1\n",
       "199                 2           2            2\n",
       "262                 1           1            1\n",
       "554                 1           1            1\n",
       "666                 1           1            1\n",
       "791                 2           2            2\n",
       "8                  17          17           17"
      ]
     },
     "execution_count": 200,
     "metadata": {},
     "output_type": "execute_result"
    }
   ],
   "source": [
    "tmp=res[(res['NumOfPlays'] > 800)].groupby(['user']).count()\n",
    "tmp"
   ]
  },
  {
   "cell_type": "code",
   "execution_count": 217,
   "metadata": {
    "collapsed": false
   },
   "outputs": [
    {
     "data": {
      "text/plain": [
       "NumOfPlays     315.550847\n",
       "NumOfTracks     20.084746\n",
       "dtype: float64"
      ]
     },
     "execution_count": 217,
     "metadata": {},
     "output_type": "execute_result"
    }
   ],
   "source": [
    "#res[(res['user'] =='8') & (res['NumOfPlays'] > 500)]\n",
    "res[(res['user'] =='8')].mean()"
   ]
  },
  {
   "cell_type": "markdown",
   "metadata": {},
   "source": [
    "<h3 style=\"background-color:#616161;color:white\">2. Interval time</h3>"
   ]
  },
  {
   "cell_type": "code",
   "execution_count": 5,
   "metadata": {
    "collapsed": false
   },
   "outputs": [
    {
     "data": {
      "text/html": [
       "<div>\n",
       "<table border=\"1\" class=\"dataframe\">\n",
       "  <thead>\n",
       "    <tr style=\"text-align: right;\">\n",
       "      <th></th>\n",
       "      <th>UserID</th>\n",
       "      <th>MinsSincePrevPlay</th>\n",
       "      <th>PlayedTimestamp</th>\n",
       "      <th>historyID</th>\n",
       "    </tr>\n",
       "  </thead>\n",
       "  <tbody>\n",
       "    <tr>\n",
       "      <th>0</th>\n",
       "      <td>1</td>\n",
       "      <td>0</td>\n",
       "      <td>2006-08-13 13:59:20</td>\n",
       "      <td>1</td>\n",
       "    </tr>\n",
       "    <tr>\n",
       "      <th>1</th>\n",
       "      <td>1</td>\n",
       "      <td>4</td>\n",
       "      <td>2006-08-13 14:03:29</td>\n",
       "      <td>2</td>\n",
       "    </tr>\n",
       "    <tr>\n",
       "      <th>2</th>\n",
       "      <td>1</td>\n",
       "      <td>7</td>\n",
       "      <td>2006-08-13 14:10:43</td>\n",
       "      <td>3</td>\n",
       "    </tr>\n",
       "    <tr>\n",
       "      <th>3</th>\n",
       "      <td>1</td>\n",
       "      <td>7</td>\n",
       "      <td>2006-08-13 14:17:40</td>\n",
       "      <td>4</td>\n",
       "    </tr>\n",
       "    <tr>\n",
       "      <th>4</th>\n",
       "      <td>1</td>\n",
       "      <td>1</td>\n",
       "      <td>2006-08-13 14:19:06</td>\n",
       "      <td>5</td>\n",
       "    </tr>\n",
       "    <tr>\n",
       "      <th>5</th>\n",
       "      <td>1</td>\n",
       "      <td>4</td>\n",
       "      <td>2006-08-13 14:23:03</td>\n",
       "      <td>6</td>\n",
       "    </tr>\n",
       "    <tr>\n",
       "      <th>6</th>\n",
       "      <td>1</td>\n",
       "      <td>22</td>\n",
       "      <td>2006-08-13 14:44:23</td>\n",
       "      <td>7</td>\n",
       "    </tr>\n",
       "    <tr>\n",
       "      <th>7</th>\n",
       "      <td>1</td>\n",
       "      <td>10</td>\n",
       "      <td>2006-08-13 14:55:14</td>\n",
       "      <td>8</td>\n",
       "    </tr>\n",
       "    <tr>\n",
       "      <th>8</th>\n",
       "      <td>1</td>\n",
       "      <td>5</td>\n",
       "      <td>2006-08-13 14:59:59</td>\n",
       "      <td>9</td>\n",
       "    </tr>\n",
       "    <tr>\n",
       "      <th>9</th>\n",
       "      <td>1</td>\n",
       "      <td>6</td>\n",
       "      <td>2006-08-13 15:05:20</td>\n",
       "      <td>10</td>\n",
       "    </tr>\n",
       "  </tbody>\n",
       "</table>\n",
       "</div>"
      ],
      "text/plain": [
       "   UserID  MinsSincePrevPlay      PlayedTimestamp  historyID\n",
       "0       1                  0  2006-08-13 13:59:20          1\n",
       "1       1                  4  2006-08-13 14:03:29          2\n",
       "2       1                  7  2006-08-13 14:10:43          3\n",
       "3       1                  7  2006-08-13 14:17:40          4\n",
       "4       1                  1  2006-08-13 14:19:06          5\n",
       "5       1                  4  2006-08-13 14:23:03          6\n",
       "6       1                 22  2006-08-13 14:44:23          7\n",
       "7       1                 10  2006-08-13 14:55:14          8\n",
       "8       1                  5  2006-08-13 14:59:59          9\n",
       "9       1                  6  2006-08-13 15:05:20         10"
      ]
     },
     "execution_count": 5,
     "metadata": {},
     "output_type": "execute_result"
    }
   ],
   "source": [
    "con = sqlite3.connect(dbPath)\n",
    "sqlStr ='Select userID, MinsSincePrevPlay, PlayedTimeStamp, historyID from tblMain order by userID, historyID'\n",
    "res = pd.read_sql_query(sqlStr, con)\n",
    "con.close()\n",
    "\n",
    "# Change data types\n",
    "res['UserID'] = res['UserID'].astype('str')\n",
    "res['PlayedTimeStamp'] =  pd.to_datetime(res['PlayedTimeStamp'])"
   ]
  },
  {
   "cell_type": "code",
   "execution_count": 34,
   "metadata": {
    "collapsed": false
   },
   "outputs": [
    {
     "data": {
      "text/plain": [
       "(0, 200)"
      ]
     },
     "execution_count": 34,
     "metadata": {},
     "output_type": "execute_result"
    },
    {
     "data": {
      "image/png": "[encoded data removed]",
      "text/plain": [
       "<matplotlib.figure.Figure at 0x218fb5c1c18>"
      ]
     },
     "metadata": {},
     "output_type": "display_data"
    }
   ],
   "source": [
    "\n",
    "res_plot = res['MinsSincePrevPlay'].hist()\n",
    "res_plot.set_title(\"Mins since first play\")\n",
    "res_plot.set_xlabel(\"Mins\")\n",
    "res_plot.set_ylabel(\"Log of num of users\")\n",
    "#res_plot.set_yscale('log')\n",
    "res_plot.set_xlim((0,200))\n",
    "\n",
    "#res.describe()"
   ]
  },
  {
   "cell_type": "markdown",
   "metadata": {},
   "source": [
    "* As expected users either listen continuously or they stop in a "
   ]
  },
  {
   "cell_type": "markdown",
   "metadata": {},
   "source": [
    "<h3 style=\"background-color:#616161;color:white\">3. Custom Analysis</h3>"
   ]
  },
  {
   "cell_type": "markdown",
   "metadata": {},
   "source": [
    "<h3 style=\"background-color:#616161;color:white\">END</h3>"
   ]
  }
 ],
 "metadata": {
  "anaconda-cloud": {},
  "kernelspec": {
   "display_name": "Python [Root]",
   "language": "python",
   "name": "Python [Root]"
  },
  "language_info": {
   "codemirror_mode": {
    "name": "ipython",
    "version": 3
   },
   "file_extension": ".py",
   "mimetype": "text/x-python",
   "name": "python",
   "nbconvert_exporter": "python",
   "pygments_lexer": "ipython3",
   "version": "3.5.2"
  }
 },
 "nbformat": 4,
 "nbformat_minor": 2
}
