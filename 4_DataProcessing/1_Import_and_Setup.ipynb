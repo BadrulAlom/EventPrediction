{
 "cells": [
  {
   "cell_type": "markdown",
   "metadata": {},
   "source": [
    "<h1 align=\"center\" style=\"background-color:#616161;color:white\">Import data and setup db</h1>"
   ]
  },
  {
   "cell_type": "code",
   "execution_count": 5,
   "metadata": {},
   "outputs": [],
   "source": [
    "import os\n",
    "import sys\n",
    "import numpy as np\n",
    "import pandas as pd\n",
    "import csv\n",
    "import json\n",
    "import sqlite3\n",
    "import logging\n",
    "\n",
    "## Parameters you can change\n",
    "\n",
    "# Abs path to settings file\n",
    "#root = \"C:/DS/Github/MusicRecommendation\"  # BA, Windows\n",
    "root = \"/home/badrul/git/EventPrediction\"  # BA, Linux\n",
    "#root = \"~/EventPrediction\"  # BA, Aws\n",
    "\n",
    "# Select the dataset to view\n",
    "datasetToUse =\"inputfile_sml\" # inputfile , inputfile_hlf , or inputfile_verysml\n",
    "\n",
    "\n",
    "## Finish setting up\n",
    "os.chdir(root)\n",
    "## Add the prelim module\n",
    "fPath = root + \"/1_codemodule\"\n",
    "if fPath not in sys.path: sys.path.append(fPath)\n",
    "from coreCode import *\n",
    "\n",
    "settingsDict =  loadSettings()\n",
    "dbPath = root + settingsDict['mainDbPath']\n",
    "fmSimilarDbPath = root + settingsDict['fmSimilarDbPath']\n",
    "fmTagsDbPath = root + settingsDict['fmTagsDbPath']\n",
    "trackMetaDbPath = root + settingsDict['trackmetadata']\n",
    "periodGranularity = int(settingsDict['periodGranularity'])\n",
    "inputFilePath = root + settingsDict[datasetToUse]\n",
    "logging.basicConfig(filename= root + '/errlog.log',level=logging.DEBUG)\n",
    "\n",
    "def dropCreateTable(dbCursor,tblName, tblSelect):\n",
    "    sqlStr= 'DROP TABLE IF EXISTS {}'.format(tblName)\n",
    "    dbCursor.execute(sqlStr)\n",
    "\n",
    "    sqlStr =\"CREATE TABLE {}\".format(tblName) + \" AS \" + tblSelect\n",
    "    dbCursor.execute(sqlStr)"
   ]
  },
  {
   "cell_type": "markdown",
   "metadata": {},
   "source": [
    "<a id='Load Data'></a>\n",
    "<h3 style=\"background-color:#616161;color:white\">1. Load Data Into SQLite3</h3>"
   ]
  },
  {
   "cell_type": "code",
   "execution_count": 6,
   "metadata": {},
   "outputs": [
    {
     "name": "stderr",
     "output_type": "stream",
     "text": [
      "/usr/local/lib/python3.5/dist-packages/pandas/io/sql.py:527: FutureWarning: the 'flavor' parameter is deprecated and will be removed in a future version, as 'sqlite' is the only supported option when SQLAlchemy is not installed.\n",
      "  _validate_flavor_parameter(flavor)\n"
     ]
    }
   ],
   "source": [
    "db = sqlite3.connect(dbPath)\n",
    "\n",
    "colHeadings=['UserID','PlayedTimestamp','ArtistID','ArtistName','TrackID','TrackName']\n",
    "dataFormat={'UserID': str, 'PlayedTimestamp': str, 'ArtistID' :str, 'ArtistName': str, 'TrackID': str, 'TrackName': str}\n",
    "\n",
    "parse_dates = ['PlayedTimestamp']\n",
    "\n",
    "# Load data from CSV\n",
    "inpData = pd.read_csv(inputFilePath, sep='\\t', error_bad_lines= False,quoting=csv.QUOTE_NONE, header=None,names=colHeadings, dtype=dataFormat,parse_dates=parse_dates)\n",
    "inpData.to_sql('tblInputData', db, flavor='sqlite',\n",
    "                                            schema=None, if_exists='replace', index=True,\n",
    "                                            index_label=None, chunksize=None, dtype=None)"
   ]
  },
  {
   "cell_type": "markdown",
   "metadata": {},
   "source": [
    "<h3 style=\"background-color:#616161;color:white\">2. Create aggregate / dimension tables</h3>"
   ]
  },
  {
   "cell_type": "code",
   "execution_count": 3,
   "metadata": {
    "collapsed": true
   },
   "outputs": [],
   "source": [
    "db = sqlite3.connect(dbPath)\n",
    "c = db.cursor()\n",
    "\n",
    "dropCreateTable(c,'tblTracks', 'Select TrackID, TrackName, ArtistID, ArtistName from tblInputData group By trackID')\n",
    "dropCreateTable(c,'tblUserDailyPlays', 'SELECT Cast(substr(userID,-5) as integer) as UserID, date(PlayedTimestamp),count(*) as NumOfPlays, count(Distinct trackID) as NumOfTracks from tblInputData group by userID, date(PlayedTimestamp) ORDER BY NumOfPlays')\n",
    "dropCreateTable(c,'tblUsers', 'SELECT Cast(substr(userID,-5) as integer) as userID, min(PlayedTimestamp) as FirstPlay, max(PlayedTimestamp) as LastPlay,0 as TestUser, 0 as TestCutOff from tblInputData Group by Cast(substr(userID,-5) as integer)')\n",
    "db.close()"
   ]
  },
  {
   "cell_type": "markdown",
   "metadata": {},
   "source": [
    "<a id='Preprocessing'></a>\n",
    "<h3 style=\"background-color:#616161;color:white\">3. Main Table</h3>"
   ]
  },
  {
   "cell_type": "code",
   "execution_count": 4,
   "metadata": {
    "collapsed": true
   },
   "outputs": [],
   "source": [
    "db = sqlite3.connect(dbPath)\n",
    "c=db.cursor()\n",
    "\n",
    "newFields = 'FirstPlayed, MinsSinceFirstPlay integer, MinsSincePrevPlay integer, MinsSinceNextPlay integer, historyID integer'\n",
    "\n",
    "# Create tblMain\n",
    "c=db.cursor()\n",
    "c.execute('DROP TABLE IF EXISTS tblMain')\n",
    "tblMain_SQL = 'CREATE TABLE tblMain (UserID integer, PlayedTimestamp text, ArtistID text, TrackID text, ' + newFields +')';\n",
    "\n",
    "c.execute(tblMain_SQL)\n",
    "\n",
    "# Create PlayTimetable\n",
    "c.execute('DROP TABLE IF EXISTS tblPlayTimetable')\n",
    "sqlStr = \"CREATE TABLE 'tblPlayTimetable' ('userID' INTEGER,\"\n",
    "\n",
    "for i in range (1,169):\n",
    "    sqlStr += \"'%s' INTEGER,\" %i \n",
    "    \n",
    "\n",
    "sqlStr +=\"PRIMARY KEY('userID'));\"\n",
    "db = sqlite3.connect(dbPath)\n",
    "c = db.cursor()\n",
    "c.execute(sqlStr)\n",
    "db.commit()\n",
    "db.close()"
   ]
  },
  {
   "cell_type": "markdown",
   "metadata": {},
   "source": [
    "<h4 style=\"background-color:#616161;color:white\">Load data into tblMain</h4>"
   ]
  },
  {
   "cell_type": "code",
   "execution_count": 5,
   "metadata": {
    "collapsed": true
   },
   "outputs": [],
   "source": [
    "db = sqlite3.connect(dbPath)\n",
    "c = db.cursor()\n",
    "sqlStr =\"\"\"SELECT CAST(substr(tblInputData.userID,-5) as integer) as UserID, \n",
    "(strftime('%s',tblInputData.PlayedTimestamp) - strftime('%s',tblUsers.FirstPlay))/60 as MinsSinceFirstPlay, \n",
    "tblUsers.FirstPlay, PlayedTimestamp, \n",
    "ArtistID, TrackID \n",
    "FROM tblInputData \n",
    "INNER JOIN tblUsers ON Cast(substr(tblInputData.userID,-5) as integer) = tblUsers.userID \n",
    "ORDER BY UserID,MinsSinceFirstPlay\"\"\"\n",
    "res =c.execute(sqlStr)"
   ]
  },
  {
   "cell_type": "code",
   "execution_count": 6,
   "metadata": {
    "collapsed": true
   },
   "outputs": [],
   "source": [
    "rowCount = 1\n",
    "userID=0\n",
    "MinsSinceFirstPlay = \"\"\n",
    "\n",
    "d = db.cursor()\n",
    "d.execute('Delete from tblMain')\n",
    "db.commit()\n",
    "\n",
    "for row in res:   \n",
    "    tmp=list(row)\n",
    "    \n",
    "    if tmp[0] != userID:   # Start of a new user\n",
    "        rowCount = 1\n",
    "        userID = int(row[0])\n",
    "        MinsSinceFirstPlay = tmp[1]          \n",
    "        MinsSincePrevPlay = tmp[1]\n",
    "    else:\n",
    "        MinsSincePrevPlay = tmp[1] - MinsSinceFirstPlay\n",
    "        MinsSinceFirstPlay = tmp[1] \n",
    "    \n",
    "    \n",
    "    tmp.append(str(rowCount))\n",
    "    tmp.append(str(MinsSincePrevPlay))\n",
    "    \n",
    "    tmp = ['Null' if v is None else v for v in tmp]\n",
    "    tmp2 = [t.replace(\"\\\\\\'R\",\"''R\") if type(t)=='str' else t for t in tmp] \n",
    "    tmp2 = [t.replace(\"\\\\\\'S\",\"''S\") if type(t)=='str' else t for t in tmp2] \n",
    "    tmp2=str(tuple(tmp2))\n",
    "    \n",
    "    insertStr = \"Insert into tblMain (UserID, MinsSinceFirstPlay, FirstPlayed, PlayedTimeStamp, ArtistID, TrackID, historyID, MinsSincePrevPlay) Values \" + tmp2\n",
    "    try:\n",
    "        d.execute(insertStr)\n",
    "        rowCount +=1\n",
    "    except:\n",
    "        logging.warning(str(row))\n",
    "        logging.warning(insertStr)\n",
    "    \n",
    "    \n",
    "db.commit()\n",
    "db.close()"
   ]
  },
  {
   "cell_type": "code",
   "execution_count": 7,
   "metadata": {
    "collapsed": true
   },
   "outputs": [],
   "source": [
    "db = sqlite3.connect(dbPath)\n",
    "c = db.cursor()\n",
    "SqlStr = \"Update tblMain Set MinsSinceNextPlay = (Select MinsSincePrevPlay from tblMain as b where b.UserID = UserID and b.HistoryID = HistoryID + 1)\"\n",
    "c.execute(SqlStr)\n",
    "db.commit()\n",
    "db.close()"
   ]
  },
  {
   "cell_type": "code",
   "execution_count": 23,
   "metadata": {
    "collapsed": true
   },
   "outputs": [],
   "source": [
    "db = sqlite3.connect(dbPath)\n",
    "c = db.cursor()\n",
    "\n",
    "# Create PlayTimetable\n",
    "c.execute('DROP TABLE IF EXISTS tblPeriod')\n",
    "sqlStr = \"CREATE TABLE 'tblPeriod' ('PeriodID' INTEGER PRIMARY KEY,'PeriodDateTime' Timestamp,'HrsFrom5pm' Integer)\"\n",
    "c.execute(sqlStr)\n",
    "db.close()"
   ]
  },
  {
   "cell_type": "code",
   "execution_count": 9,
   "metadata": {
    "collapsed": true
   },
   "outputs": [],
   "source": [
    "db = sqlite3.connect(dbPath)\n",
    "c = db.cursor()\n",
    "\n",
    "# Create PlayTimetable\n",
    "c.execute('DROP TABLE IF EXISTS tblMain2')\n",
    "sqlStr = \"CREATE TABLE 'tblMain2' ('UserID' INTEGER,'PeriodID' Integer, 'PlayedMusic' Integer)\"\n",
    "c.execute(sqlStr)\n",
    "db.close()"
   ]
  },
  {
   "cell_type": "code",
   "execution_count": 7,
   "metadata": {},
   "outputs": [
    {
     "data": {
      "text/plain": [
       "array([[38, 13, 29, 40, 68, 41,  1,  4, 34, 87]])"
      ]
     },
     "execution_count": 7,
     "metadata": {},
     "output_type": "execute_result"
    }
   ],
   "source": [
    "# Select test users\n",
    "newUsers = 10   # Num of randomly selected users to separate out\n",
    "con = sqlite3.connect(dbPath)\n",
    "\n",
    "# First reset back to 0\n",
    "con.execute(\"Update tblUsers Set TestUser = 0\")\n",
    "con.commit()\n",
    "\n",
    "# Select random users\n",
    "sqlStr= \"SELECT UserID FROM tblUsers Group by UserID ORDER BY RANDOM() LIMIT {}\".format(newUsers)\n",
    "\n",
    "#newUsersList = pd.read_sql_query(sqlStr, con)\n",
    "#for row in newUsersList.itertuples():\n",
    "#    sqlStr = \"Update tblUsers Set TestUser = 1 where UserID = {}\".format(row[1])\n",
    "#    con.execute(sqlStr)\n",
    "\n",
    "newUsersList= [38, 13, 29, 40, 68, 41,  1,  4, 34,  87]\n",
    "for user in newUsersList:\n",
    "    sqlStr = \"Update tblUsers Set TestUser = 1 where UserID = {}\".format(user)\n",
    "    con.execute(sqlStr)\n",
    "\n",
    "    \n",
    "con.commit()\n",
    "con.close()\n",
    "\n",
    "np.array(newUsersList).reshape(1,10)"
   ]
  },
  {
   "cell_type": "code",
   "execution_count": 22,
   "metadata": {},
   "outputs": [
    {
     "name": "stdout",
     "output_type": "stream",
     "text": [
      "ok\n"
     ]
    }
   ],
   "source": [
    "def CreatetblMainAgg():\n",
    "    db = sqlite3.connect(dbPath)\n",
    "    c=db.cursor()\n",
    "\n",
    "    # Create tblMainAgg\n",
    "    c=db.cursor()\n",
    "    c.execute('DROP TABLE IF EXISTS tblMainAgg')\n",
    "    SqlStr = 'CREATE TABLE tblMainAgg (UserID integer, PlayDate text, Timeslot text, PlayedMusic int)';\n",
    "\n",
    "    c.execute(SqlStr)\n",
    "    db.commit()\n",
    "\n",
    "    SqlStr =\"\"\"INSERT INTO tblMainAgg  SELECT M.UserID, \n",
    "    strftime('%Y-%m-%d',P.PeriodDateTime) as playDate,\n",
    "    (strftime('%w',P.PeriodDateTime)+1) || '-' || (strftime('%H',P.PeriodDateTime)) || \"-\" || \n",
    "    (cast(strftime('%M',P.PeriodDateTime) / {} +1 as int)) as Timeslot, \n",
    "    PlayedMusic \n",
    "    FROM tblMain2 as M\n",
    "    INNER JOIN tblPeriod as P ON M.periodID = P.periodID\n",
    "    Group BY userID,playDate,Timeslot\"\"\".format(periodGranularity)\n",
    "\n",
    "    c.execute(SqlStr)\n",
    "    db.commit()\n",
    "    db.close()\n",
    "\n",
    "\n",
    "CreatetblMainAgg()\n",
    "print('ok')"
   ]
  }
 ],
 "metadata": {
  "anaconda-cloud": {},
  "kernelspec": {
   "display_name": "Python 3",
   "language": "python",
   "name": "python3"
  },
  "language_info": {
   "codemirror_mode": {
    "name": "ipython",
    "version": 3
   },
   "file_extension": ".py",
   "mimetype": "text/x-python",
   "name": "python",
   "nbconvert_exporter": "python",
   "pygments_lexer": "ipython3",
   "version": "3.5.2"
  }
 },
 "nbformat": 4,
 "nbformat_minor": 2
}
