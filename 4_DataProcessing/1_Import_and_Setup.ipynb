{
 "cells": [
  {
   "cell_type": "markdown",
   "metadata": {},
   "source": [
    "<h1 align=\"center\" style=\"background-color:#616161;color:white\">Import data and setup db</h1>"
   ]
  },
  {
   "cell_type": "code",
   "execution_count": 3,
   "metadata": {
    "collapsed": false
   },
   "outputs": [],
   "source": [
    "import os\n",
    "import sys\n",
    "import pandas as pd\n",
    "import csv\n",
    "import json\n",
    "import sqlite3\n",
    "import logging\n",
    "\n",
    "## Parameters you can change\n",
    "\n",
    "# Abs path to settings file\n",
    "root = \"C:/DS/Github/MusicRecommendation\"  # BA, Windows\n",
    "#root = \"/home/badrul/Documents/github/MusicRecommendation\"  # BA, Linux\n",
    "\n",
    "# Select the dataset to view\n",
    "datasetToUse =\"inputfile_sml\" # inputfile , inputfile_sml , or inputfile_verysml\n",
    "\n",
    "\n",
    "## Finish setting up\n",
    "os.chdir(root)\n",
    "## Add the prelim module\n",
    "fPath = root + \"/1_codemodule\"\n",
    "if fPath not in sys.path: sys.path.append(fPath)\n",
    "from coreCode import *\n",
    "\n",
    "settingsDict =  loadSettings()\n",
    "inputFilePath = root + settingsDict[datasetToUse]\n",
    "dbPath = root + settingsDict['mainDbPath']\n",
    "logging.basicConfig(filename='C:\\DS\\Github\\MusicRecommendation\\errlog.log',level=logging.DEBUG)\n",
    "\n",
    "def dropCreateTable(dbCursor,tblName, tblSelect):\n",
    "    sqlStr= 'DROP TABLE IF EXISTS {}'.format(tblName)\n",
    "    dbCursor.execute(sqlStr)\n",
    "\n",
    "    sqlStr =\"CREATE TABLE {}\".format(tblName) + \" AS \" + tblSelect\n",
    "    dbCursor.execute(sqlStr)"
   ]
  },
  {
   "cell_type": "markdown",
   "metadata": {},
   "source": [
    "<a id='Load Data'></a>\n",
    "<h3 style=\"background-color:#616161;color:white\">1. Load Data Into SQLite3</h3>"
   ]
  },
  {
   "cell_type": "code",
   "execution_count": 2,
   "metadata": {
    "collapsed": false
   },
   "outputs": [
    {
     "name": "stderr",
     "output_type": "stream",
     "text": [
      "C:\\DS\\Installs\\Anaconda3\\lib\\site-packages\\pandas\\io\\sql.py:527: FutureWarning: the 'flavor' parameter is deprecated and will be removed in a future version, as 'sqlite' is the only supported option when SQLAlchemy is not installed.\n",
      "  _validate_flavor_parameter(flavor)\n"
     ]
    }
   ],
   "source": [
    "db = sqlite3.connect(dbPath)\n",
    "\n",
    "colHeadings=['UserID','PlayedTimestamp','ArtistID','ArtistName','TrackID','TrackName']\n",
    "dataFormat={'UserID': str, 'PlayedTimestamp': str, 'ArtistID' :str, 'ArtistName': str, 'TrackID': str, 'TrackName': str}\n",
    "\n",
    "parse_dates = ['PlayedTimestamp']\n",
    "\n",
    "# Load data from CSV\n",
    "inpData = pd.read_csv(inputFilePath, sep='\\t', error_bad_lines= False,quoting=csv.QUOTE_NONE, header=None,names=colHeadings, dtype=dataFormat,parse_dates=parse_dates)\n",
    "inpData.to_sql('tblInputData', db, flavor='sqlite',\n",
    "                                            schema=None, if_exists='replace', index=True,\n",
    "                                            index_label=None, chunksize=None, dtype=None)"
   ]
  },
  {
   "cell_type": "markdown",
   "metadata": {},
   "source": [
    "<h3 style=\"background-color:#616161;color:white\">2. Create aggregate / dimension tables</h3>"
   ]
  },
  {
   "cell_type": "code",
   "execution_count": 3,
   "metadata": {
    "collapsed": false
   },
   "outputs": [],
   "source": [
    "db = sqlite3.connect(dbPath)\n",
    "c = db.cursor()\n",
    "\n",
    "dropCreateTable(c,'tblTracks', 'Select TrackID, TrackName, ArtistID, ArtistName from tblInputData group By trackID')\n",
    "dropCreateTable(c,'tblUserDailyPlays', 'SELECT Cast(substr(userID,-5) as integer) as UserID, date(PlayedTimestamp),count(*) as NumOfPlays, count(Distinct trackID) as NumOfTracks from tblInputData group by userID, date(PlayedTimestamp) ORDER BY NumOfPlays')\n",
    "dropCreateTable(c,'tblUsers', 'SELECT Cast(substr(userID,-5) as integer) as userID, min(PlayedTimestamp) as FirstPlay, max(PlayedTimestamp) as LastPlay,0 as TestUser, 0 as TestCutOff from tblInputData Group by Cast(substr(userID,-5) as integer)')\n",
    "db.close()"
   ]
  },
  {
   "cell_type": "markdown",
   "metadata": {},
   "source": [
    "<a id='Preprocessing'></a>\n",
    "<h3 style=\"background-color:#616161;color:white\">3. Main Table</h3>"
   ]
  },
  {
   "cell_type": "code",
   "execution_count": 4,
   "metadata": {
    "collapsed": false
   },
   "outputs": [],
   "source": [
    "db = sqlite3.connect(dbPath)\n",
    "c=db.cursor()\n",
    "\n",
    "newFields = 'FirstPlayed, MinsSinceFirstPlay integer, MinsSincePrevPlay integer, MinsSinceNextPlay integer, historyID integer'\n",
    "\n",
    "# Create tblMain\n",
    "c=db.cursor()\n",
    "c.execute('DROP TABLE IF EXISTS tblMain')\n",
    "tblMain_SQL = 'CREATE TABLE tblMain (UserID integer, PlayedTimestamp text, ArtistID text, TrackID text, ' + newFields +')';\n",
    "\n",
    "c.execute(tblMain_SQL)\n",
    "\n",
    "# Create PlayTimetable\n",
    "c.execute('DROP TABLE IF EXISTS tblPlayTimetable')\n",
    "sqlStr = \"CREATE TABLE 'tblPlayTimetable' ('userID' INTEGER,\"\n",
    "\n",
    "for i in range (1,169):\n",
    "    sqlStr += \"'%s' INTEGER,\" %i \n",
    "    \n",
    "\n",
    "sqlStr +=\"PRIMARY KEY('userID'));\"\n",
    "db = sqlite3.connect(dbPath)\n",
    "c = db.cursor()\n",
    "c.execute(sqlStr)\n",
    "db.commit()\n",
    "db.close()"
   ]
  },
  {
   "cell_type": "markdown",
   "metadata": {},
   "source": [
    "<h4 style=\"background-color:#616161;color:white\">Load data into tblMain</h4>"
   ]
  },
  {
   "cell_type": "code",
   "execution_count": 5,
   "metadata": {
    "collapsed": false
   },
   "outputs": [],
   "source": [
    "db = sqlite3.connect(dbPath)\n",
    "c = db.cursor()\n",
    "sqlStr =\"\"\"SELECT CAST(substr(tblInputData.userID,-5) as integer) as UserID, \n",
    "(strftime('%s',tblInputData.PlayedTimestamp) - strftime('%s',tblUsers.FirstPlay))/60 as MinsSinceFirstPlay, \n",
    "tblUsers.FirstPlay, PlayedTimestamp, \n",
    "ArtistID, TrackID \n",
    "FROM tblInputData \n",
    "INNER JOIN tblUsers ON Cast(substr(tblInputData.userID,-5) as integer) = tblUsers.userID \n",
    "ORDER BY UserID,MinsSinceFirstPlay\"\"\"\n",
    "res =c.execute(sqlStr)"
   ]
  },
  {
   "cell_type": "code",
   "execution_count": 6,
   "metadata": {
    "collapsed": false
   },
   "outputs": [],
   "source": [
    "rowCount = 1\n",
    "userID=0\n",
    "MinsSinceFirstPlay = \"\"\n",
    "\n",
    "d = db.cursor()\n",
    "d.execute('Delete from tblMain')\n",
    "db.commit()\n",
    "\n",
    "for row in res:   \n",
    "    tmp=list(row)\n",
    "    \n",
    "    if tmp[0] != userID:   # Start of a new user\n",
    "        rowCount = 1\n",
    "        userID = int(row[0])\n",
    "        MinsSinceFirstPlay = tmp[1]          \n",
    "        MinsSincePrevPlay = tmp[1]\n",
    "    else:\n",
    "        MinsSincePrevPlay = tmp[1] - MinsSinceFirstPlay\n",
    "        MinsSinceFirstPlay = tmp[1] \n",
    "    \n",
    "    \n",
    "    tmp.append(str(rowCount))\n",
    "    tmp.append(str(MinsSincePrevPlay))\n",
    "    \n",
    "    tmp = ['Null' if v is None else v for v in tmp]\n",
    "    tmp2 = [t.replace(\"\\\\\\'R\",\"''R\") if type(t)=='str' else t for t in tmp] \n",
    "    tmp2 = [t.replace(\"\\\\\\'S\",\"''S\") if type(t)=='str' else t for t in tmp2] \n",
    "    tmp2=str(tuple(tmp2))\n",
    "    \n",
    "    insertStr = \"Insert into tblMain (UserID, MinsSinceFirstPlay, FirstPlayed, PlayedTimeStamp, ArtistID, TrackID, historyID, MinsSincePrevPlay) Values \" + tmp2\n",
    "    try:\n",
    "        d.execute(insertStr)\n",
    "        rowCount +=1\n",
    "    except:\n",
    "        logging.warning(str(row))\n",
    "        logging.warning(insertStr)\n",
    "    \n",
    "    \n",
    "db.commit()\n",
    "db.close()"
   ]
  },
  {
   "cell_type": "code",
   "execution_count": 7,
   "metadata": {
    "collapsed": true
   },
   "outputs": [],
   "source": [
    "db = sqlite3.connect(dbPath)\n",
    "c = db.cursor()\n",
    "SqlStr = \"Update tblMain Set MinsSinceNextPlay = (Select MinsSincePrevPlay from tblMain as b where b.UserID = UserID and b.HistoryID = HistoryID + 1)\"\n",
    "c.execute(SqlStr)\n",
    "db.commit()\n",
    "db.close()"
   ]
  },
  {
   "cell_type": "code",
   "execution_count": 7,
   "metadata": {
    "collapsed": true
   },
   "outputs": [],
   "source": [
    "db = sqlite3.connect(dbPath)\n",
    "c = db.cursor()\n",
    "\n",
    "# Create PlayTimetable\n",
    "c.execute('DROP TABLE IF EXISTS tblPeriod')\n",
    "sqlStr = \"CREATE TABLE 'tblPeriod' ('PeriodID' INTEGER PRIMARY KEY,'PeriodDateTime' Timestamp,'HrsFrom6pm' Integer)\"\n",
    "c.execute(sqlStr)\n",
    "db.close()"
   ]
  },
  {
   "cell_type": "code",
   "execution_count": 5,
   "metadata": {
    "collapsed": false
   },
   "outputs": [],
   "source": [
    "db = sqlite3.connect(dbPath)\n",
    "c = db.cursor()\n",
    "\n",
    "# Create PlayTimetable\n",
    "c.execute('DROP TABLE IF EXISTS tblMain2')\n",
    "sqlStr = \"CREATE TABLE 'tblMain2' ('UserID' INTEGER,'PeriodID' Integer, 'PlayedMusic' Integer)\"\n",
    "c.execute(sqlStr)\n",
    "db.close()"
   ]
  },
  {
   "cell_type": "code",
   "execution_count": null,
   "metadata": {
    "collapsed": true
   },
   "outputs": [],
   "source": []
  }
 ],
 "metadata": {
  "anaconda-cloud": {},
  "kernelspec": {
   "display_name": "Python [Root]",
   "language": "python",
   "name": "Python [Root]"
  },
  "language_info": {
   "codemirror_mode": {
    "name": "ipython",
    "version": 3
   },
   "file_extension": ".py",
   "mimetype": "text/x-python",
   "name": "python",
   "nbconvert_exporter": "python",
   "pygments_lexer": "ipython3",
   "version": "3.5.2"
  }
 },
 "nbformat": 4,
 "nbformat_minor": 2
}
