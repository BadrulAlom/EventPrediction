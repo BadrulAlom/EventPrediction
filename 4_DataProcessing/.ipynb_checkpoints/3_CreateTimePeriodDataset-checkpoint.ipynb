{
 "cells": [
  {
   "cell_type": "markdown",
   "metadata": {},
   "source": [
    "<h1 align=\"center\" style=\"background-color:#616161;color:white\">Create Time Period Dataset</h1>"
   ]
  },
  {
   "cell_type": "markdown",
   "metadata": {},
   "source": [
    "<div style=\"background-color:white; color:#008000; font-family: 'Courier New, Monospace;font-weight: bold\">Input Parameters</div>"
   ]
  },
  {
   "cell_type": "code",
   "execution_count": 9,
   "metadata": {
    "collapsed": true
   },
   "outputs": [],
   "source": [
    "# Root path\n",
    "#root = \"C:/DS/Github/MusicRecommendation\"  # BA, Windows\n",
    "root = \"/home/badrul/git/EventPrediction\"  # BA, Linux\n"
   ]
  },
  {
   "cell_type": "markdown",
   "metadata": {},
   "source": [
    "<div style=\"background-color:white; color:#008000; font-family: 'Courier New, Monospace;font-weight: bold\">Import Libraries</div>"
   ]
  },
  {
   "cell_type": "markdown",
   "metadata": {},
   "source": [
    "<code>Standard code used in every page. Not all of these libraries are used here.</code>"
   ]
  },
  {
   "cell_type": "code",
   "execution_count": 10,
   "metadata": {
    "collapsed": true
   },
   "outputs": [],
   "source": [
    "# Core\n",
    "import numpy as np\n",
    "import pandas as pd\n",
    "from IPython.core.debugger import Tracer    # Used for debugging\n",
    "import logging\n",
    "\n",
    "# File and database management\n",
    "import csv\n",
    "import os\n",
    "import sys\n",
    "import json\n",
    "import sqlite3\n",
    "from pathlib import Path\n",
    "\n",
    "# Date/Time\n",
    "import datetime\n",
    "#import time\n",
    "#from pendulum import Pendulum\n",
    "\n",
    "# Visualization\n",
    "#from ggplot import *                        # Preferred vis tool\n",
    "import matplotlib.pyplot as plt             # Quick viz tool\n",
    "%matplotlib inline\n",
    "\n",
    "# Data science (comment out if not needed)\n",
    "#from sklearn.manifold import TSNE\n",
    "from sklearn.metrics import roc_curve, auc\n",
    "\n",
    "# Misc\n",
    "import random\n",
    "\n",
    "#-------------- Custom Libs -----------------#\n",
    "os.chdir(root)\n",
    "\n",
    "# Import the codebase module\n",
    "fPath = root + \"/1_codemodule\"\n",
    "if fPath not in sys.path: sys.path.append(fPath)\n",
    "\n",
    "# Custom Libs\n",
    "import coreCode as cc\n",
    "import lastfmCode as fm"
   ]
  },
  {
   "cell_type": "markdown",
   "metadata": {
    "collapsed": true
   },
   "source": [
    "<div style=\"background-color:#white; color:#008000; font-family: 'Courier New, Monospace;font-weight: bold\">Declare Functions</div>"
   ]
  },
  {
   "cell_type": "code",
   "execution_count": 11,
   "metadata": {
    "collapsed": true
   },
   "outputs": [],
   "source": [
    "# Function definition\n",
    "\n",
    "### Not in use ###\n",
    "#def toTimeSlot(dt, PeriodGranularity):\n",
    "#    # If you change this, be sure to changne it further down too\n",
    "#    return str(int(dt.strftime('%w'))+1) +dt.strftime('-%H-') + str(int((int(dt.strftime('%M'))/PeriodGranularity+1)))\n"
   ]
  },
  {
   "cell_type": "markdown",
   "metadata": {},
   "source": [
    "<div style=\"background-color:#white; color:#008000; font-family: 'Courier New, Monospace;font-weight: bold\">Load settings</div>"
   ]
  },
  {
   "cell_type": "code",
   "execution_count": 12,
   "metadata": {
    "collapsed": true
   },
   "outputs": [],
   "source": [
    "settingsDict =  cc.loadSettings()\n",
    "dbPath = root + settingsDict['mainDbPath']\n",
    "fmSimilarDbPath = root + settingsDict['fmSimilarDbPath']\n",
    "fmTagsDbPath = root + settingsDict['fmTagsDbPath']\n",
    "trackMetaDbPath = root + settingsDict['trackmetadata']\n",
    "periodGranularity = int(settingsDict['periodGranularity'])"
   ]
  },
  {
   "cell_type": "markdown",
   "metadata": {},
   "source": [
    "<h3 style=\"background-color:#616161;color:white\">1. Convert data into a more usable form</h3>\n",
    "\n",
    "Here were \"fill in the blanks\" - for every period where the user did not listen to data a row of data is inserted.\n",
    "\n",
    "As part of start and end dates for every period, at the granularity level specified above, is setup.\n"
   ]
  },
  {
   "cell_type": "markdown",
   "metadata": {},
   "source": [
    "<div style=\"background-color:#white; color:#008000; font-family: 'Courier New, Monospace;font-weight: bold\">Populate tblPeriod</div>"
   ]
  },
  {
   "cell_type": "code",
   "execution_count": 13,
   "metadata": {
    "scrolled": true
   },
   "outputs": [
    {
     "name": "stdout",
     "output_type": "stream",
     "text": [
      "Ok\n"
     ]
    }
   ],
   "source": [
    "con = sqlite3.connect(dbPath)\n",
    "cur = con.cursor()\n",
    "\n",
    "SQLStr = \"Select PlayedTimestamp from tblMain\"\n",
    "tblMain = pd.read_sql_query(SQLStr, con)\n",
    "tblMain.PlayedTimestamp = pd.to_datetime(tblMain.PlayedTimestamp)\n",
    "\n",
    "startDT = tblMain.PlayedTimestamp.min()\n",
    "endDT = tblMain.PlayedTimestamp.max()\n",
    "\n",
    "# This is the main line. Makes a call to code stored in the core module.\n",
    "dtArray = cc.createDateTimeRange(startDT,endDT, periodGranularity)\n",
    "\n",
    "# Save to db and create the 'HrsFrom6pm' field too\n",
    "cur.execute('Delete from tblPeriod')\n",
    "for idx, dt in enumerate(dtArray):\n",
    "    HrsFrom5pm = abs(int(dt.strftime('%H')) - 17)\n",
    "    SqlStr=\"INSERT INTO tblPeriod (PeriodID, PeriodDateTime, HrsFrom5pm) VALUES ({},'{}',{})\".format(idx, dt,HrsFrom5pm)\n",
    "    cur.execute(SqlStr)\n",
    "\n",
    "con.commit()\n",
    "con.close()\n",
    "print('Ok')"
   ]
  },
  {
   "cell_type": "markdown",
   "metadata": {},
   "source": [
    "<div style=\"background-color:#white; color:#008000; font-family: 'Courier New, Monospace;font-weight: bold\">Read in  tblPeriod, tblMain, and tblUser.</div>"
   ]
  },
  {
   "cell_type": "code",
   "execution_count": 14,
   "metadata": {},
   "outputs": [
    {
     "name": "stdout",
     "output_type": "stream",
     "text": [
      "Ok\n"
     ]
    }
   ],
   "source": [
    "con = sqlite3.connect(dbPath)\n",
    "cur = con.cursor()\n",
    "\n",
    "### Read tblPeriod, tblMain, and tblUser. These will be re-used later too.\n",
    "\n",
    "# tblPeriod\n",
    "SQLStr = \"Select * from tblPeriod\"\n",
    "tblPeriod = pd.read_sql_query(SQLStr, con)\n",
    "tblPeriod.PeriodDateTime = pd.to_datetime(tblPeriod.PeriodDateTime)\n",
    "\n",
    "# tblUser\n",
    "SQLStr = \"Select UserID as UserID, FirstPlay, LastPlay, TestUser from tblUsers\"\n",
    "tblUser = pd.read_sql_query(SQLStr, con)\n",
    "tblUser.FirstPlay = pd.to_datetime(tblUser.FirstPlay)\n",
    "tblUser.LastPlay = pd.to_datetime(tblUser.LastPlay)\n",
    "# Bring in the PeriodID into tblUsers for the First and Last play\n",
    "idx = tblPeriod.PeriodDateTime.searchsorted(tblUser['FirstPlay'].values)\n",
    "tblUser['FirstPlayPeriodID'] = idx\n",
    "idx = tblPeriod.PeriodDateTime.searchsorted(tblUser['LastPlay'].values)\n",
    "tblUser['LastPlayPeriodID'] = idx\n",
    "\n",
    "# tblMain\n",
    "SQLStr = \"Select UserID, PlayedTimestamp from tblMain\"\n",
    "tblMain = pd.read_sql_query(SQLStr, con)\n",
    "tblMain.PlayedTimestamp = pd.to_datetime(tblMain.PlayedTimestamp)\n",
    "# Bring in the PeriodID into tblMain\n",
    "idx = tblPeriod.PeriodDateTime.searchsorted(tblMain['PlayedTimestamp'].values)\n",
    "tblMain['PeriodID'] = idx\n",
    "\n",
    "# Drop the timetamp col and just use periodID\n",
    "tblMain=tblMain.groupby(['UserID','PeriodID']).count().reset_index()\n",
    "\n",
    "con.close()\n",
    "print('Ok')"
   ]
  },
  {
   "cell_type": "markdown",
   "metadata": {},
   "source": [
    "<div style=\"background-color:#white; color:#008000; font-family: 'Courier New, Monospace;font-weight: bold\">Create a table that has both the original 'plays' + 'non-plays', utilizing the periods defined previously</div>"
   ]
  },
  {
   "cell_type": "code",
   "execution_count": null,
   "metadata": {},
   "outputs": [],
   "source": [
    "con = sqlite3.connect(dbPath)\n",
    "cur = con.cursor()\n",
    "\n",
    "SqlStr = \"Delete from tblMain2\"\n",
    "cur.execute(SqlStr)\n",
    "con.commit()\n",
    "\n",
    "for row in tblUser.itertuples():\n",
    "    m = tblMain[tblMain.UserID == row.UserID]\n",
    "    for pid in range (row.FirstPlayPeriodID,row.LastPlayPeriodID):\n",
    "        # Check if the user listened to music in this period\n",
    "        playedMusic = m[m.PeriodID == pid]\n",
    "        playedMusic = (len(playedMusic) > 0) *1\n",
    "        SqlStr=\"Insert into tblMain2 (UserID, PeriodID, PlayedMusic) Values ({},{},{})\".format(row.UserID, pid,playedMusic)\n",
    "        cur.execute(SqlStr)    \n",
    "\n",
    "\n",
    "## Use this if you wish to test for just one user instead\n",
    "#row = tblUser.iloc[0]\n",
    "#m = tblMain[tblMain.UserID == row.UserID]\n",
    "#for pid in range (row.FirstPlayPeriodID,row.LastPlayPeriodID):\n",
    "    # Check if the user listened to music in this period\n",
    "#    playedMusic = m[m.PeriodID == pid]\n",
    "#    playedMusic = (len(playedMusic) > 0) *1\n",
    "#    SqlStr=\"Insert into tblMain2 (UserID, PeriodID, PlayedMusic) Values ({},{},{})\".format(row.UserID, pid,playedMusic)\n",
    "#    cur.execute(SqlStr)    \n",
    "\n",
    "con.commit()\n",
    "con.close()\n",
    "print('Ok')"
   ]
  },
  {
   "cell_type": "markdown",
   "metadata": {},
   "source": [
    "<div style=\"background-color:#white; color:#008000; font-family: 'Courier New, Monospace;font-weight: bold\">Manual/offline checks have to be done but here we do a quick plot</div>"
   ]
  },
  {
   "cell_type": "code",
   "execution_count": null,
   "metadata": {},
   "outputs": [],
   "source": [
    "# Some quick checks\n",
    "con = sqlite3.connect(dbPath)\n",
    "SQLStr = \"Select * from tblMain2\"\n",
    "tblMain2 = pd.read_sql_query(SQLStr, con)\n",
    "con.close()\n",
    "\n",
    "tblMain2.head(20)"
   ]
  },
  {
   "cell_type": "code",
   "execution_count": null,
   "metadata": {},
   "outputs": [],
   "source": [
    "a=tblMain2[0:336].plot.scatter('PeriodID', 'PlayedMusic')\n",
    "a.set_title('1 week period')"
   ]
  },
  {
   "cell_type": "markdown",
   "metadata": {},
   "source": [
    "<h3 style=\"background-color:#616161;color:white\">2. Create monthly time-series data</h3>"
   ]
  },
  {
   "cell_type": "code",
   "execution_count": 17,
   "metadata": {},
   "outputs": [
    {
     "name": "stdout",
     "output_type": "stream",
     "text": [
      "Processing user 1 of 97\n",
      "Processing user 2 of 97\n",
      "Processing user 3 of 97\n",
      "Processing user 4 of 97\n",
      "Processing user 5 of 97\n",
      "Processing user 6 of 97\n",
      "Processing user 7 of 97\n",
      "Processing user 8 of 97\n",
      "Processing user 9 of 97\n",
      "Processing user 10 of 97\n",
      "Processing user 11 of 97\n",
      "Processing user 12 of 97\n",
      "Processing user 13 of 97\n",
      "Processing user 14 of 97\n",
      "Processing user 15 of 97\n",
      "Processing user 16 of 97\n",
      "Processing user 17 of 97\n",
      "Processing user 18 of 97\n",
      "Processing user 19 of 97\n",
      "Processing user 20 of 97\n",
      "Processing user 21 of 97\n",
      "Processing user 22 of 97\n",
      "Processing user 23 of 97\n",
      "Processing user 24 of 97\n",
      "Processing user 25 of 97\n",
      "Processing user 26 of 97\n",
      "Processing user 27 of 97\n",
      "Processing user 28 of 97\n",
      "Processing user 29 of 97\n",
      "Processing user 30 of 97\n",
      "Processing user 31 of 97\n",
      "Processing user 32 of 97\n",
      "Processing user 33 of 97\n",
      "Processing user 34 of 97\n",
      "Processing user 35 of 97\n",
      "Processing user 36 of 97\n",
      "Processing user 37 of 97\n",
      "Processing user 38 of 97\n",
      "Processing user 39 of 97\n",
      "Processing user 40 of 97\n",
      "Processing user 41 of 97\n",
      "Processing user 42 of 97\n",
      "Processing user 43 of 97\n",
      "Processing user 44 of 97\n",
      "Processing user 45 of 97\n",
      "Processing user 46 of 97\n",
      "Processing user 47 of 97\n",
      "Processing user 48 of 97\n",
      "Processing user 49 of 97\n",
      "Processing user 50 of 97\n",
      "Processing user 51 of 97\n",
      "Processing user 52 of 97\n",
      "Processing user 53 of 97\n",
      "Processing user 54 of 97\n",
      "Processing user 55 of 97\n",
      "Processing user 56 of 97\n",
      "Processing user 57 of 97\n",
      "Processing user 58 of 97\n",
      "Processing user 59 of 97\n",
      "Processing user 60 of 97\n",
      "Processing user 61 of 97\n",
      "Processing user 62 of 97\n",
      "Processing user 63 of 97\n",
      "Processing user 64 of 97\n",
      "Processing user 65 of 97\n",
      "Processing user 66 of 97\n",
      "Processing user 67 of 97\n",
      "Processing user 68 of 97\n",
      "Processing user 69 of 97\n",
      "Processing user 70 of 97\n",
      "Processing user 71 of 97\n",
      "Processing user 72 of 97\n",
      "Processing user 73 of 97\n",
      "Processing user 74 of 97\n",
      "Processing user 75 of 97\n",
      "Processing user 76 of 97\n",
      "Processing user 77 of 97\n",
      "Processing user 78 of 97\n",
      "Processing user 79 of 97\n",
      "Processing user 80 of 97\n",
      "Processing user 81 of 97\n",
      "Processing user 82 of 97\n",
      "Processing user 83 of 97\n",
      "Processing user 84 of 97\n",
      "Processing user 85 of 97\n",
      "Processing user 86 of 97\n",
      "Processing user 87 of 97\n",
      "Processing user 88 of 97\n",
      "Processing user 89 of 97\n",
      "Processing user 90 of 97\n",
      "Processing user 91 of 97\n",
      "Processing user 92 of 97\n",
      "Processing user 93 of 97\n",
      "Processing user 94 of 97\n",
      "Processing user 95 of 97\n",
      "Processing user 96 of 97\n",
      "Processing user 97 of 97\n",
      "Ok\n"
     ]
    }
   ],
   "source": [
    "# Good for report: Select strftime('%H',PlayedTimestamp) as H, count(*) as C from tblMain group by H order by C\n",
    "\n",
    "con = sqlite3.connect(dbPath)\n",
    "c = con.cursor()\n",
    "\n",
    "# Create tblTimeSeriesData\n",
    "c.execute('DROP TABLE IF EXISTS tblTimeSeriesData')\n",
    "sqlStr = \"CREATE TABLE 'tblTimeSeriesData' ('PeriodID' Integer, 'UserID' Integer, 'HrsFrom5pm' Integer, 'isSun' Integer, 'isMon' Integer, 'isTue' Integer, 'isWed' Integer, 'isThu' Integer, 'isFri' Integer, 'isSat' Integer, 't' integer, 't1' Integer, 't2' Integer,'t3' Integer,'t4' Integer,'t5' Integer,'t10' Integer,'t12hrs' Integer,'t23_5hrs' Integer,'t24hrs' Integer,'t24_5hrs' Integer,'t1wk' Integer,'t2wks' Integer,'t3wks' Integer,'t4wks' Integer)\"\n",
    "c.execute(sqlStr)\n",
    "\n",
    "# Go through each user\n",
    "for row in tblUser.itertuples():\n",
    "    print('Processing user {} of {}'.format(row.UserID, tblUser.shape[0]))\n",
    "    userID = row.UserID\n",
    "    # Bring back the data for that user\n",
    "    SQLStr = \"Select * from tblMain2 where UserID = {} order by PeriodID\".format(userID)\n",
    "    tblMain2 = pd.read_sql_query(SQLStr, con)\n",
    "    tblMain2.sort_values('PeriodID')\n",
    "    tblMain2.set_index('PeriodID',inplace = True)\n",
    "\n",
    "    minPeriodID = tblMain2.index.min()\n",
    "    maxPeriodID = tblMain2.index.max()\n",
    "    periodsInMonth = int(60/periodGranularity)*24*7*4\n",
    "    \n",
    "    # Go through all the periods for this user and turn into time-series data\n",
    "    for i in range(minPeriodID+periodsInMonth,maxPeriodID):\n",
    "        \n",
    "        periodDt = tblPeriod[tblPeriod.PeriodID == i].PeriodDateTime\n",
    "        HrsFrom5pm = int(tblPeriod[tblPeriod.PeriodID == i].HrsFrom5pm)\n",
    "        dayOfWk = int(periodDt.dt.strftime('%w'))\n",
    "        isSun = (dayOfWk ==0)*1\n",
    "        isMon = (dayOfWk ==1)*1\n",
    "        isTue = (dayOfWk ==2)*1\n",
    "        isWed = (dayOfWk ==3)*1\n",
    "        isThu = (dayOfWk ==4)*1\n",
    "        isFri = (dayOfWk ==5)*1\n",
    "        isSat = (dayOfWk ==6)*1\n",
    "\n",
    "        t =int(tblMain2.loc[i].PlayedMusic)\n",
    "        t1 = int(tblMain2.loc[i-1].PlayedMusic)\n",
    "        t2 = int(tblMain2.loc[i-2].PlayedMusic)\n",
    "        t3 = int(tblMain2.loc[i-3].PlayedMusic)\n",
    "        t4 = int(tblMain2.loc[ i-4].PlayedMusic)\n",
    "        t5 = int(tblMain2.loc[i-5].PlayedMusic)\n",
    "        t10 = int(tblMain2.loc[i-10].PlayedMusic)\n",
    "        \n",
    "        t12hrs = int(tblMain2.loc[i-int(60/periodGranularity)*12].PlayedMusic)   \n",
    "        t23_5hrs = int(tblMain2.loc[i-int(60/periodGranularity)*23.5].PlayedMusic)\n",
    "        t24hrs = int(tblMain2.loc[i-int(60/periodGranularity)*24].PlayedMusic)\n",
    "        t24_5hrs = int(tblMain2.loc[i-int(60/periodGranularity)*24.5].PlayedMusic)\n",
    "        t1wk = int(tblMain2.loc[i-int(60/periodGranularity)*168].PlayedMusic)\n",
    "        t2wks = int(tblMain2.loc[i-int(60/periodGranularity)*336].PlayedMusic)\n",
    "        t3wks = int(tblMain2.loc[i-int(60/periodGranularity)*504].PlayedMusic)\n",
    "        t4wks = int(tblMain2.loc[i-int(60/periodGranularity)*672].PlayedMusic)\n",
    "\n",
    "        SqlStr = \"Insert into tblTimeSeriesData (PeriodID, UserID, HrsFrom5pm, isSun,isMon,isTue,isWed,isThu,isFri,isSat,t,t1,t2,t3,t4,t5,t10,t12hrs,t23_5hrs, t24hrs, t24_5hrs, t1wk,t2wks,t3wks,t4wks) Values ({},{},{},{},{},{},{},{},{},{},{},{},{},{},{},{},{},{},{},{},{},{},{},{},{})\".format(i,userID,HrsFrom5pm,isSun,isMon,isTue,isWed,isThu,isFri,isSat,t,t1,t2,t3,t4,t5,t10,t12hrs,t23_5hrs,t24hrs,t24_5hrs,t1wk,t2wks,t3wks,t4wks)\n",
    "        c.execute(SqlStr)\n",
    "\n",
    "con.commit()\n",
    "con.close()\n",
    "print('Ok')"
   ]
  },
  {
   "cell_type": "code",
   "execution_count": null,
   "metadata": {},
   "outputs": [],
   "source": [
    "con.commit()\n",
    "con.close()\n",
    "print('Ok')"
   ]
  },
  {
   "cell_type": "code",
   "execution_count": null,
   "metadata": {
    "collapsed": true
   },
   "outputs": [],
   "source": []
  }
 ],
 "metadata": {
  "anaconda-cloud": {},
  "kernelspec": {
   "display_name": "Python 3",
   "language": "python",
   "name": "python3"
  },
  "language_info": {
   "codemirror_mode": {
    "name": "ipython",
    "version": 3
   },
   "file_extension": ".py",
   "mimetype": "text/x-python",
   "name": "python",
   "nbconvert_exporter": "python",
   "pygments_lexer": "ipython3",
   "version": "3.5.2"
  }
 },
 "nbformat": 4,
 "nbformat_minor": 1
}
