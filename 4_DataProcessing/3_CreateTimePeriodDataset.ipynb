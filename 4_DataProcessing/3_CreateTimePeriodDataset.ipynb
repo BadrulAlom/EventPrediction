{
 "cells": [
  {
   "cell_type": "markdown",
   "metadata": {},
   "source": [
    "<h1 align=\"center\" style=\"background-color:#616161;color:white\">Create Time Period Dataset</h1>"
   ]
  },
  {
   "cell_type": "markdown",
   "metadata": {},
   "source": [
    "<div style=\"background-color:white; color:#008000; font-family: 'Courier New, Monospace;font-weight: bold\">Input Parameters</div>"
   ]
  },
  {
   "cell_type": "code",
   "execution_count": 1,
   "metadata": {
    "collapsed": true
   },
   "outputs": [],
   "source": [
    "PeriodGranularity = 30 # E.g. 15, 30, 60. Represents the num of minutes from one time period to the next. Max allowed = 60.\n",
    "\n",
    "# Root path\n",
    "root = \"C:/DS/Github/MusicRecommendation\"  # BA, Windows\n",
    "#root = \"/home/badrul/Documents/github/MusicRecommendation\" # BA, Linux"
   ]
  },
  {
   "cell_type": "markdown",
   "metadata": {},
   "source": [
    "<div style=\"background-color:white; color:#008000; font-family: 'Courier New, Monospace;font-weight: bold\">Import Libraries</div>"
   ]
  },
  {
   "cell_type": "code",
   "execution_count": 2,
   "metadata": {
    "collapsed": false
   },
   "outputs": [],
   "source": [
    "# Core\n",
    "import numpy as np\n",
    "import pandas as pd\n",
    "from IPython.core.debugger import Tracer    # Used for debugging\n",
    "import logging\n",
    "\n",
    "# File and database management\n",
    "import csv\n",
    "import os\n",
    "import sys\n",
    "import json\n",
    "import sqlite3\n",
    "from pathlib import Path\n",
    "\n",
    "# Date/Time\n",
    "import datetime\n",
    "#import time\n",
    "from pendulum import Pendulum\n",
    "\n",
    "# Visualization\n",
    "#from ggplot import *                        # Preferred vis tool\n",
    "import matplotlib.pyplot as plt             # Quick viz tool\n",
    "%matplotlib inline\n",
    "\n",
    "# Data science (comment out if not needed)\n",
    "#from sklearn.manifold import TSNE\n",
    "from sklearn.metrics import roc_curve, auc\n",
    "\n",
    "# Misc\n",
    "import random\n",
    "\n",
    "#-------------- Custom Libs -----------------#\n",
    "os.chdir(root)\n",
    "\n",
    "# Import the codebase module\n",
    "fPath = root + \"/1_codemodule\"\n",
    "if fPath not in sys.path: sys.path.append(fPath)\n",
    "\n",
    "# Custom Libs\n",
    "import coreCode as cc\n",
    "import lastfmCode as fm"
   ]
  },
  {
   "cell_type": "markdown",
   "metadata": {
    "collapsed": true
   },
   "source": [
    "<div style=\"background-color:#white; color:#008000; font-family: 'Courier New, Monospace;font-weight: bold\">Declare Functions</div>"
   ]
  },
  {
   "cell_type": "code",
   "execution_count": 3,
   "metadata": {
    "collapsed": false
   },
   "outputs": [],
   "source": [
    "# Function definition\n",
    "\n",
    "### Not in use ###\n",
    "#def toTimeSlot(dt, PeriodGranularity):\n",
    "#    # If you change this, be sure to changne it further down too\n",
    "#    return str(int(dt.strftime('%w'))+1) +dt.strftime('-%H-') + str(int((int(dt.strftime('%M'))/PeriodGranularity+1)))\n"
   ]
  },
  {
   "cell_type": "markdown",
   "metadata": {},
   "source": [
    "<div style=\"background-color:#white; color:#008000; font-family: 'Courier New, Monospace;font-weight: bold\">Load settings</div>"
   ]
  },
  {
   "cell_type": "code",
   "execution_count": 4,
   "metadata": {
    "collapsed": true
   },
   "outputs": [],
   "source": [
    "settingsDict =  cc.loadSettings()\n",
    "dbPath = root + settingsDict['mainDbPath']\n",
    "fmSimilarDbPath = root + settingsDict['fmSimilarDbPath']\n",
    "fmTagsDbPath = root + settingsDict['fmTagsDbPath']\n",
    "trackMetaDbPath = root + settingsDict['trackmetadata']"
   ]
  },
  {
   "cell_type": "markdown",
   "metadata": {},
   "source": [
    "<h3 style=\"background-color:#616161;color:white\">1. Convert data into a more usable form</h3>\n",
    "\n",
    "Here were \"fill in the blanks\" - for every period where the user did not listen to data a row of data is inserted.\n",
    "\n",
    "As part of start and end dates for every period, at the granularity level specified above, is setup.\n"
   ]
  },
  {
   "cell_type": "markdown",
   "metadata": {},
   "source": [
    "<div style=\"background-color:#white; color:#008000; font-family: 'Courier New, Monospace;font-weight: bold\">Setup tblPeriod</div>"
   ]
  },
  {
   "cell_type": "code",
   "execution_count": 5,
   "metadata": {
    "collapsed": false,
    "scrolled": true
   },
   "outputs": [],
   "source": [
    "con = sqlite3.connect(dbPath)\n",
    "cur = con.cursor()\n",
    "\n",
    "SQLStr = \"Select PlayedTimestamp from tblMain\"\n",
    "tblMain = pd.read_sql_query(SQLStr, con)\n",
    "tblMain.PlayedTimestamp = pd.to_datetime(tblMain.PlayedTimestamp)\n",
    "\n",
    "startDT = tblMain.PlayedTimestamp.min()\n",
    "endDT = tblMain.PlayedTimestamp.max()\n",
    "\n",
    "# This is the main line. Makes a call to code stored in the core module.\n",
    "dtArray = cc.createDateTimeRange(startDT,endDT, PeriodGranularity)\n",
    "\n",
    "# Save to db and create the 'HrsFrom6pm' field too\n",
    "cur.execute('Delete from tblPeriod')\n",
    "for idx, dt in enumerate(dtArray):\n",
    "    HrsFrom6pm = abs(int(dt.strftime('%H')) - 18)\n",
    "    SqlStr=\"INSERT INTO tblPeriod (PeriodID, PeriodDateTime, HrsFrom6pm) VALUES ({},'{}',{})\".format(idx, dt,HrsFrom6pm)\n",
    "    cur.execute(SqlStr)\n",
    "\n",
    "con.commit()\n",
    "con.close()"
   ]
  },
  {
   "cell_type": "markdown",
   "metadata": {},
   "source": [
    "<div style=\"background-color:#white; color:#008000; font-family: 'Courier New, Monospace;font-weight: bold\">Read in  tblPeriod, tblMain, and tblUser.</div>"
   ]
  },
  {
   "cell_type": "code",
   "execution_count": 6,
   "metadata": {
    "collapsed": false
   },
   "outputs": [],
   "source": [
    "con = sqlite3.connect(dbPath)\n",
    "cur = con.cursor()\n",
    "\n",
    "### Read tblPeriod, tblMain, and tblUser. These will be re-used later too.\n",
    "\n",
    "# tblPeriod\n",
    "SQLStr = \"Select * from tblPeriod\"\n",
    "tblPeriod = pd.read_sql_query(SQLStr, con)\n",
    "tblPeriod.PeriodDateTime = pd.to_datetime(tblPeriod.PeriodDateTime)\n",
    "\n",
    "# tblUser\n",
    "SQLStr = \"Select UserID as UserID, FirstPlay, LastPlay, TestUser from tblUsers\"\n",
    "tblUser = pd.read_sql_query(SQLStr, con)\n",
    "tblUser.FirstPlay = pd.to_datetime(tblUser.FirstPlay)\n",
    "tblUser.LastPlay = pd.to_datetime(tblUser.LastPlay)\n",
    "# Bring in the PeriodID into tblUsers for the First and Last play\n",
    "idx = tblPeriod.PeriodDateTime.searchsorted(tblUser['FirstPlay'].values)\n",
    "tblUser['FirstPlayPeriodID'] = idx\n",
    "idx = tblPeriod.PeriodDateTime.searchsorted(tblUser['LastPlay'].values)\n",
    "tblUser['LastPlayPeriodID'] = idx\n",
    "\n",
    "# tblMain\n",
    "SQLStr = \"Select UserID, PlayedTimestamp from tblMain\"\n",
    "tblMain = pd.read_sql_query(SQLStr, con)\n",
    "tblMain.PlayedTimestamp = pd.to_datetime(tblMain.PlayedTimestamp)\n",
    "# Bring in the PeriodID into tblMain\n",
    "idx = tblPeriod.PeriodDateTime.searchsorted(tblMain['PlayedTimestamp'].values)\n",
    "tblMain['PeriodID'] = idx\n",
    "\n",
    "# Drop the timetamp col and just use periodID\n",
    "tblMain=tblMain.groupby(['UserID','PeriodID']).count().reset_index()\n",
    "\n",
    "con.close()"
   ]
  },
  {
   "cell_type": "markdown",
   "metadata": {},
   "source": [
    "<div style=\"background-color:#white; color:#008000; font-family: 'Courier New, Monospace;font-weight: bold\">Create a table that has both the original 'plays' + 'non-plays', utilizing the periods defined previously</div>"
   ]
  },
  {
   "cell_type": "code",
   "execution_count": 7,
   "metadata": {
    "collapsed": true
   },
   "outputs": [],
   "source": [
    "con = sqlite3.connect(dbPath)\n",
    "cur = con.cursor()\n",
    "\n",
    "SqlStr = \"Delete from tblMain2\"\n",
    "cur.execute(SqlStr)\n",
    "con.commit()\n",
    "\n",
    "for row in tblUser.itertuples():\n",
    "    m = tblMain[tblMain.UserID == row.UserID]\n",
    "    for pid in range (row.FirstPlayPeriodID,row.LastPlayPeriodID):\n",
    "        # Check if the user listened to music in this period\n",
    "        playedMusic = m[m.PeriodID == pid]\n",
    "        playedMusic = (len(playedMusic) > 0) *1\n",
    "        SqlStr=\"Insert into tblMain2 (UserID, PeriodID, PlayedMusic) Values ({},{},{})\".format(row.UserID, pid,playedMusic)\n",
    "        cur.execute(SqlStr)    \n",
    "\n",
    "\n",
    "## Use this if you wish to test for just one user instead\n",
    "#row = tblUser.iloc[0]\n",
    "#m = tblMain[tblMain.UserID == row.UserID]\n",
    "#for pid in range (row.FirstPlayPeriodID,row.LastPlayPeriodID):\n",
    "    # Check if the user listened to music in this period\n",
    "#    playedMusic = m[m.PeriodID == pid]\n",
    "#    playedMusic = (len(playedMusic) > 0) *1\n",
    "#    SqlStr=\"Insert into tblMain2 (UserID, PeriodID, PlayedMusic) Values ({},{},{})\".format(row.UserID, pid,playedMusic)\n",
    "#    cur.execute(SqlStr)    \n",
    "\n",
    "con.commit()\n",
    "con.close()"
   ]
  },
  {
   "cell_type": "markdown",
   "metadata": {},
   "source": [
    "<div style=\"background-color:#white; color:#008000; font-family: 'Courier New, Monospace;font-weight: bold\">Manual/offline checks have to be done but here we do a quick plot</div>"
   ]
  },
  {
   "cell_type": "code",
   "execution_count": 8,
   "metadata": {
    "collapsed": false
   },
   "outputs": [
    {
     "data": {
      "text/html": [
       "<div>\n",
       "<style>\n",
       "    .dataframe thead tr:only-child th {\n",
       "        text-align: right;\n",
       "    }\n",
       "\n",
       "    .dataframe thead th {\n",
       "        text-align: left;\n",
       "    }\n",
       "\n",
       "    .dataframe tbody tr th {\n",
       "        vertical-align: top;\n",
       "    }\n",
       "</style>\n",
       "<table border=\"1\" class=\"dataframe\">\n",
       "  <thead>\n",
       "    <tr style=\"text-align: right;\">\n",
       "      <th></th>\n",
       "      <th>UserID</th>\n",
       "      <th>PeriodID</th>\n",
       "      <th>PlayedMusic</th>\n",
       "    </tr>\n",
       "  </thead>\n",
       "  <tbody>\n",
       "    <tr>\n",
       "      <th>0</th>\n",
       "      <td>1</td>\n",
       "      <td>23200</td>\n",
       "      <td>1</td>\n",
       "    </tr>\n",
       "    <tr>\n",
       "      <th>1</th>\n",
       "      <td>1</td>\n",
       "      <td>23201</td>\n",
       "      <td>1</td>\n",
       "    </tr>\n",
       "    <tr>\n",
       "      <th>2</th>\n",
       "      <td>1</td>\n",
       "      <td>23202</td>\n",
       "      <td>1</td>\n",
       "    </tr>\n",
       "    <tr>\n",
       "      <th>3</th>\n",
       "      <td>1</td>\n",
       "      <td>23203</td>\n",
       "      <td>1</td>\n",
       "    </tr>\n",
       "    <tr>\n",
       "      <th>4</th>\n",
       "      <td>1</td>\n",
       "      <td>23204</td>\n",
       "      <td>1</td>\n",
       "    </tr>\n",
       "    <tr>\n",
       "      <th>5</th>\n",
       "      <td>1</td>\n",
       "      <td>23205</td>\n",
       "      <td>1</td>\n",
       "    </tr>\n",
       "    <tr>\n",
       "      <th>6</th>\n",
       "      <td>1</td>\n",
       "      <td>23206</td>\n",
       "      <td>1</td>\n",
       "    </tr>\n",
       "    <tr>\n",
       "      <th>7</th>\n",
       "      <td>1</td>\n",
       "      <td>23207</td>\n",
       "      <td>1</td>\n",
       "    </tr>\n",
       "    <tr>\n",
       "      <th>8</th>\n",
       "      <td>1</td>\n",
       "      <td>23208</td>\n",
       "      <td>1</td>\n",
       "    </tr>\n",
       "    <tr>\n",
       "      <th>9</th>\n",
       "      <td>1</td>\n",
       "      <td>23209</td>\n",
       "      <td>0</td>\n",
       "    </tr>\n",
       "    <tr>\n",
       "      <th>10</th>\n",
       "      <td>1</td>\n",
       "      <td>23210</td>\n",
       "      <td>0</td>\n",
       "    </tr>\n",
       "    <tr>\n",
       "      <th>11</th>\n",
       "      <td>1</td>\n",
       "      <td>23211</td>\n",
       "      <td>0</td>\n",
       "    </tr>\n",
       "    <tr>\n",
       "      <th>12</th>\n",
       "      <td>1</td>\n",
       "      <td>23212</td>\n",
       "      <td>0</td>\n",
       "    </tr>\n",
       "    <tr>\n",
       "      <th>13</th>\n",
       "      <td>1</td>\n",
       "      <td>23213</td>\n",
       "      <td>0</td>\n",
       "    </tr>\n",
       "    <tr>\n",
       "      <th>14</th>\n",
       "      <td>1</td>\n",
       "      <td>23214</td>\n",
       "      <td>0</td>\n",
       "    </tr>\n",
       "    <tr>\n",
       "      <th>15</th>\n",
       "      <td>1</td>\n",
       "      <td>23215</td>\n",
       "      <td>0</td>\n",
       "    </tr>\n",
       "    <tr>\n",
       "      <th>16</th>\n",
       "      <td>1</td>\n",
       "      <td>23216</td>\n",
       "      <td>0</td>\n",
       "    </tr>\n",
       "    <tr>\n",
       "      <th>17</th>\n",
       "      <td>1</td>\n",
       "      <td>23217</td>\n",
       "      <td>0</td>\n",
       "    </tr>\n",
       "    <tr>\n",
       "      <th>18</th>\n",
       "      <td>1</td>\n",
       "      <td>23218</td>\n",
       "      <td>0</td>\n",
       "    </tr>\n",
       "    <tr>\n",
       "      <th>19</th>\n",
       "      <td>1</td>\n",
       "      <td>23219</td>\n",
       "      <td>0</td>\n",
       "    </tr>\n",
       "  </tbody>\n",
       "</table>\n",
       "</div>"
      ],
      "text/plain": [
       "    UserID  PeriodID  PlayedMusic\n",
       "0        1     23200            1\n",
       "1        1     23201            1\n",
       "2        1     23202            1\n",
       "3        1     23203            1\n",
       "4        1     23204            1\n",
       "5        1     23205            1\n",
       "6        1     23206            1\n",
       "7        1     23207            1\n",
       "8        1     23208            1\n",
       "9        1     23209            0\n",
       "10       1     23210            0\n",
       "11       1     23211            0\n",
       "12       1     23212            0\n",
       "13       1     23213            0\n",
       "14       1     23214            0\n",
       "15       1     23215            0\n",
       "16       1     23216            0\n",
       "17       1     23217            0\n",
       "18       1     23218            0\n",
       "19       1     23219            0"
      ]
     },
     "execution_count": 8,
     "metadata": {},
     "output_type": "execute_result"
    }
   ],
   "source": [
    "# Some quick checks\n",
    "con = sqlite3.connect(dbPath)\n",
    "SQLStr = \"Select * from tblMain2\"\n",
    "tblMain2 = pd.read_sql_query(SQLStr, con)\n",
    "con.close()\n",
    "\n",
    "tblMain2.head(20)"
   ]
  },
  {
   "cell_type": "code",
   "execution_count": 9,
   "metadata": {
    "collapsed": false
   },
   "outputs": [
    {
     "data": {
      "text/plain": [
       "<matplotlib.text.Text at 0x20ef358bbe0>"
      ]
     },
     "execution_count": 9,
     "metadata": {},
     "output_type": "execute_result"
    },
    {
     "data": {
      "image/png": "[encoded data removed]",
      "text/plain": [
       "<matplotlib.figure.Figure at 0x20ef5b0b390>"
      ]
     },
     "metadata": {},
     "output_type": "display_data"
    }
   ],
   "source": [
    "a=tblMain2[0:336].plot.scatter('PeriodID', 'PlayedMusic')\n",
    "a.set_title('1 week period')"
   ]
  },
  {
   "cell_type": "markdown",
   "metadata": {
    "collapsed": false
   },
   "source": [
    "<h3 style=\"background-color:#616161;color:white\">2. Create monthly time-series data</h3>"
   ]
  },
  {
   "cell_type": "code",
   "execution_count": 17,
   "metadata": {
    "collapsed": false
   },
   "outputs": [],
   "source": [
    "# Good for report: Select strftime('%H',PlayedTimestamp) as H, count(*) as C from tblMain group by H order by C\n",
    "\n",
    "con = sqlite3.connect(dbPath)\n",
    "c = con.cursor()\n",
    "\n",
    "# Create tblTimeSeriesData\n",
    "c.execute('DROP TABLE IF EXISTS tblTimeSeriesData')\n",
    "sqlStr = \"CREATE TABLE 'tblTimeSeriesData' ('UserID' INTEGER, HrsFrom6pm Integer, isSun Integer, isMon Integer, isTue Integer, isWed Integer, isThu Integer, isFri Integer, isSat Integer, 't' integer, 't1' Integer, 't2' Integer,'t3' Integer,'t4' Integer,'t5' Integer,'t10' Integer,'t12hrs' Integer,'t24hrs' Integer,'t1wk' Integer,'t2wks' Integer,'t3wks' Integer,'t4wks' Integer)\"\n",
    "c.execute(sqlStr)\n",
    "\n",
    "# Go through each user\n",
    "for row in tblUser.itertuples():\n",
    "    userID = row.UserID\n",
    "    # Bring back the data for that user\n",
    "    SQLStr = \"Select * from tblMain2 where UserID = {} order by PeriodID\".format(userID)\n",
    "    tblMain2 = pd.read_sql_query(SQLStr, con)\n",
    "    tblMain2.sort_values('PeriodID')\n",
    "    tblMain2.set_index('PeriodID',inplace = True)\n",
    "\n",
    "    minPeriodID = tblMain2.index.min()\n",
    "    maxPeriodID = tblMain2.index.max()\n",
    "    periodsInMonth = int(60/PeriodGranularity)*24*7*4\n",
    "    \n",
    "    # Go through all the periods for this user and turn into time-series data\n",
    "    for i in range(minPeriodID+periodsInMonth,maxPeriodID):\n",
    "        \n",
    "        periodDt = tblPeriod[tblPeriod.PeriodID == i].PeriodDateTime\n",
    "        hrsFrom6pm = int(tblPeriod[tblPeriod.PeriodID == i].HrsFrom6pm)\n",
    "        dayOfWk = int(periodDt.dt.strftime('%w'))\n",
    "        isSun = (dayOfWk ==0)*1\n",
    "        isMon = (dayOfWk ==1)*1\n",
    "        isTue = (dayOfWk ==2)*1\n",
    "        isWed = (dayOfWk ==3)*1\n",
    "        isThu = (dayOfWk ==4)*1\n",
    "        isFri = (dayOfWk ==5)*1\n",
    "        isSat = (dayOfWk ==6)*1\n",
    "\n",
    "        t =int(tblMain2.loc[i].PlayedMusic)\n",
    "        t1 = int(tblMain2.loc[i-1].PlayedMusic)\n",
    "        t2 = int(tblMain2.loc[i-2].PlayedMusic)\n",
    "        t3 = int(tblMain2.loc[i-3].PlayedMusic)\n",
    "        t4 = int(tblMain2.loc[i-4].PlayedMusic)\n",
    "        t5 = int(tblMain2.loc[i-5].PlayedMusic)\n",
    "        t10 = int(tblMain2.loc[i-10].PlayedMusic)\n",
    "        \n",
    "        t12hrs = int(tblMain2.loc[i-int(60/PeriodGranularity)*12].PlayedMusic)   \n",
    "        t24hrs = int(tblMain2.loc[i-int(60/PeriodGranularity)*24].PlayedMusic)\n",
    "        t1wk = int(tblMain2.loc[i-int(60/PeriodGranularity)*168].PlayedMusic)\n",
    "        t2wks = int(tblMain2.loc[i-int(60/PeriodGranularity)*336].PlayedMusic)\n",
    "        t3wks = int(tblMain2.loc[i-int(60/PeriodGranularity)*504].PlayedMusic)\n",
    "        t4wks = int(tblMain2.loc[i-int(60/PeriodGranularity)*672].PlayedMusic)\n",
    "\n",
    "        SqlStr = \"Insert into tblTimeSeriesData (UserID, HrsFrom6pm, isSun,isMon,isTue,isWed,isThu,isFri,isSat,t,t1,t2,t3,t4,t5,t10,t12hrs,t24hrs,t1wk,t2wks,t3wks,t4wks) Values ({},{},{},{},{},{},{},{},{},{},{},{},{},{},{},{},{},{},{},{},{},{})\".format(userID,hrsFrom6pm,isSun,isMon,isTue,isWed,isThu,isFri,isSat,t,t1,t2,t3,t4,t5,t10,t12hrs,t24hrs,t1wk,t2wks,t3wks,t4wks)\n",
    "        c.execute(SqlStr)\n",
    "\n",
    "con.commit()\n",
    "con.close()"
   ]
  }
 ],
 "metadata": {
  "anaconda-cloud": {},
  "kernelspec": {
   "display_name": "Python [Root]",
   "language": "python",
   "name": "Python [Root]"
  },
  "language_info": {
   "codemirror_mode": {
    "name": "ipython",
    "version": 3
   },
   "file_extension": ".py",
   "mimetype": "text/x-python",
   "name": "python",
   "nbconvert_exporter": "python",
   "pygments_lexer": "ipython3",
   "version": "3.5.2"
  }
 },
 "nbformat": 4,
 "nbformat_minor": 0
}
