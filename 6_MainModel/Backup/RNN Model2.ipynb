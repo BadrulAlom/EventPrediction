{
 "cells": [
  {
   "cell_type": "markdown",
   "metadata": {},
   "source": [
    "<h1 align=\"center\" style=\"background-color:#616161;color:white\">RNN Model</h1>\n",
    "\n",
    "Adapted from: https://github.com/aymericdamien/TensorFlow-Examples/blob/master/examples/3_NeuralNetworks/recurrent_network.py"
   ]
  },
  {
   "cell_type": "markdown",
   "metadata": {},
   "source": [
    "<h3 style=\"background-color:#616161;color:white\">0. Setup</h3>"
   ]
  },
  {
   "cell_type": "markdown",
   "metadata": {},
   "source": [
    "<div style=\"background-color:white; color:#008000; font-family: 'Courier New, Monospace;font-weight: bold\">Input Parameters</div>"
   ]
  },
  {
   "cell_type": "code",
   "execution_count": null,
   "metadata": {
    "collapsed": true
   },
   "outputs": [],
   "source": [
    "# Root path\n",
    "#root = \"C:/DS/Github/MusicRecommendation\"  # BA, Windows\n",
    "root = \"/home/badrul/git/EventPrediction\" # BA, Linux"
   ]
  },
  {
   "cell_type": "markdown",
   "metadata": {},
   "source": [
    "<div style=\"background-color:white; color:#008000; font-family: 'Courier New, Monospace;font-weight: bold\">Common Libraries</div>"
   ]
  },
  {
   "cell_type": "code",
   "execution_count": null,
   "metadata": {
    "collapsed": true
   },
   "outputs": [],
   "source": [
    "# Core\n",
    "import numpy as np\n",
    "import pandas as pd\n",
    "from IPython.core.debugger import Tracer    # Used for debugging\n",
    "import logging\n",
    "from random import *\n",
    "\n",
    "# File and database management\n",
    "import csv\n",
    "import os\n",
    "import sys\n",
    "import json\n",
    "import sqlite3\n",
    "from pathlib import Path\n",
    "\n",
    "# Date/Time\n",
    "import datetime\n",
    "import time\n",
    "#from datetime import timedelta # Deprecated\n",
    "\n",
    "# Visualization\n",
    "import matplotlib.pyplot as plt             # Quick\n",
    "%matplotlib inline\n",
    "\n",
    "# Misc\n",
    "import random\n",
    "\n",
    "#-------------- Custom Libs -----------------#\n",
    "os.chdir(root)\n",
    "\n",
    "# Import the codebase module\n",
    "fPath = root + \"/1_codemodule\"\n",
    "if fPath not in sys.path: sys.path.append(fPath)\n",
    "\n",
    "# Custom Libs\n",
    "import coreCode as cc\n",
    "import lastfmCode as fm"
   ]
  },
  {
   "cell_type": "markdown",
   "metadata": {},
   "source": [
    "<div style=\"background-color:white; color:#008000; font-family: 'Courier New, Monospace;font-weight: bold\">Page Specific Libraries</div>"
   ]
  },
  {
   "cell_type": "code",
   "execution_count": 3,
   "metadata": {
    "collapsed": true
   },
   "outputs": [],
   "source": [
    "# Data science (comment out if not needed)\n",
    "#from sklearn.manifold import TSNE\n",
    "import tensorflow as tf\n",
    "from tensorflow.contrib import rnn\n",
    "from tensorflow.python.framework import ops\n",
    "ops.reset_default_graph()\n",
    "from sklearn import metrics\n",
    "from sklearn import preprocessing"
   ]
  },
  {
   "cell_type": "markdown",
   "metadata": {},
   "source": [
    "<div style=\"background-color:#white; color:#008000; font-family: 'Courier New, Monospace;font-weight: bold\">Declare Functions</div>"
   ]
  },
  {
   "cell_type": "code",
   "execution_count": 4,
   "metadata": {
    "collapsed": true
   },
   "outputs": [],
   "source": [
    "fieldList=\"t, UserID, HrsFrom5pm, isSun,isMon,isTue,isWed,isThu,isFri,isSat,t1,t2,t3,t4,t5,t10,t12hrs,t23_5hrs,t24hrs,t24_5hrs,t1wk,t2wks,t3wks,t4wks\"\n",
    "\n",
    "def getTrainAndTestData():\n",
    "    con = sqlite3.connect(dbPath)\n",
    "    c = con.cursor()\n",
    "\n",
    "    # Get list of UserIDs \n",
    "    users = pd.read_sql_query(\"Select UserID from tblUsers Where tblUsers.TestUser = 0\",con)\n",
    "\n",
    "    trainDf=pd.DataFrame(columns=[fieldList])  # Create an emmpty df\n",
    "    testDf=pd.DataFrame(columns=[fieldList])  # Create an emmpty df\n",
    "    periodsInAMonth=int(60/periodGranularity)*24*7*4\n",
    "\n",
    "    totalRows=0\n",
    "    \n",
    "    for user in users.itertuples():\n",
    "        \n",
    "        # Get training dataset\n",
    "        SqlStr=\"SELECT {} from tblTimeSeriesData where UserID = {}\".format(fieldList,user.userID)\n",
    "        df = pd.read_sql_query(SqlStr, con)\n",
    "        \n",
    "        if len(df)>int(periodsInAMonth*3):  # user must have at least 3 months worth of data\n",
    "            totalRows += len(df)\n",
    "    \n",
    "            # Cut-off 1\n",
    "            k = random.randint(periodsInAMonth, len(df))\n",
    "\n",
    "            testDf = testDf.append(df.iloc[k:k+periodsInAMonth])[df.columns.tolist()]\n",
    "\n",
    "            tmp = df.drop(df.index[k:k+periodsInAMonth])\n",
    "\n",
    "            # Cut-off 2\n",
    "            k = random.randint(periodsInAMonth, len(tmp))\n",
    "            testDf = testDf.append(tmp.iloc[k:k+periodsInAMonth])[df.columns.tolist()]\n",
    "            trainDf = trainDf.append(tmp.drop(tmp.index[k:k+periodsInAMonth]))[df.columns.tolist()]\n",
    "        else:\n",
    "            print('Skipping user {} as not enough periods ({})'.format(user.userID,len(df)))\n",
    "    \n",
    "    if len(trainDf)+len(testDf) == totalRows:\n",
    "        print('Ok')\n",
    "    else:\n",
    "        print(\"Incorrect. Total Rows = {}. TestDf+TrainDf rows = {}+{}={}\".format(totalRows,len(testDf),len(trainDf),len(testDf)+len(trainDf)))\n",
    "        \n",
    "    return trainDf, testDf\n",
    "\n",
    "def getHiddenTestUsers(firstNPerc=1.0):\n",
    "    con = sqlite3.connect(dbPath)\n",
    "    c = con.cursor()\n",
    "\n",
    "    # Get list of UserIDs \n",
    "    users = pd.read_sql_query(\"Select UserID from tblUsers Where tblUsers.TestUser = 1\",con)\n",
    "\n",
    "    #fieldList=\"t, PeriodID, UserID, HrsFrom6pm, isSun,isMon,isTue,isWed,isThu,isFri,isSat,t1,t2,t3,t4,t5,t10,t12hrs,t24hrs,t1wk,t2wks,t3wks,t4wks\"\n",
    "    testDf=pd.DataFrame(columns=[fieldList])  # Create an emmpty df\n",
    "    periodsInAMonth=int(60/periodGranularity)*24*7*4\n",
    "\n",
    "    totalRows=0\n",
    "    \n",
    "    for user in users.itertuples():\n",
    "        # Get training dataset\n",
    "        \n",
    "        SqlStr=\"SELECT {} from tblTimeSeriesData where UserID = {}\".format(fieldList + \",PeriodID\",user.userID)    \n",
    "        df = pd.read_sql_query(SqlStr, con)\n",
    "        df[\"PeriodID\"] = df[\"PeriodID\"].astype(int)\n",
    "        df.sort_values(['PeriodID'])\n",
    "        totalRows += len(df)\n",
    "        # Caluclate period cutt-off\n",
    "        cutoff = int(len(df)*firstNPerc)\n",
    "        testDf = testDf.append(df.iloc[0:cutoff])[df.columns.tolist()]\n",
    "    \n",
    "    testDf[\"PeriodID\"] =  testDf[\"PeriodID\"].astype(int)\n",
    "    testDf[\"UserID\"] =  testDf[\"UserID\"].astype(int)\n",
    "    testDf.sort_values(['UserID','PeriodID'], inplace=True)\n",
    "    return testDf\n"
   ]
  },
  {
   "cell_type": "markdown",
   "metadata": {},
   "source": [
    "<div style=\"background-color:#white; color:#008000; font-family: 'Courier New, Monospace;font-weight: bold\">Load settings</div>"
   ]
  },
  {
   "cell_type": "code",
   "execution_count": 5,
   "metadata": {
    "collapsed": true
   },
   "outputs": [],
   "source": [
    "settingsDict =  cc.loadSettings()\n",
    "dbPath = root + settingsDict['mainDbPath']\n",
    "fmSimilarDbPath = root + settingsDict['fmSimilarDbPath']\n",
    "fmTagsDbPath = root + settingsDict['fmTagsDbPath']\n",
    "trackMetaDbPath = root + settingsDict['trackmetadata']\n",
    "periodGranularity = int(settingsDict['periodGranularity'])"
   ]
  },
  {
   "cell_type": "markdown",
   "metadata": {},
   "source": [
    "<h3 style=\"background-color:#616161;color:white\">1. Load data</h3>"
   ]
  },
  {
   "cell_type": "code",
   "execution_count": 13,
   "metadata": {
    "collapsed": true
   },
   "outputs": [],
   "source": [
    "# Train Data\n",
    "trainDf,testDf = getTrainAndTestData()\n",
    "xTrain = trainDf.drop(['t','t1','t2','t3','t4','t5','t10','t12hrs','t23_5hrs','t24hrs','t24_5hrs'], 1).values\n",
    "yTrain_onehot = pd.get_dummies(trainDf['t']).values.astype(float) # One-Hot version\n",
    "\n",
    "# Test data\n",
    "xTest= testDf.drop(['t','UserID','t1','t2','t3','t4','t5','t10','t12hrs','t23_5hrs','t24hrs','t24_5hrs'], 1).values\n",
    "yTest = testDf['t'].values.astype(int)\n",
    "#yTest = np.array([1 if y==1 else -1 for y in y_vals_test])\n",
    "yTest=yTest.reshape(len(yTest),1)\n",
    "\n",
    "# One-Hot version\n",
    "yTest_onehot = pd.get_dummies(testDf['t']).values.astype(float)\n",
    "\n",
    "# Get hidden users data\n",
    "testDf = getHiddenTestUsers(firstNPerc=0.5)  # Get the first half of everyones history\n",
    "xTest2= testDf.drop(['t','UserID','t1','t2','t3','t4','t5','t10','t12hrs','t23_5hrs','t24hrs','t24_5hrs','PeriodID'], 1).values\n",
    "yTest2 = testDf['t'].values.astype(int)\n",
    "yTest2=yTest2.reshape(len(yTest2),1)\n",
    "\n",
    "# One-Hot version\n",
    "yTest2_onehot = pd.get_dummies(testDf['t']).values.astype(float)"
   ]
  },
  {
   "cell_type": "markdown",
   "metadata": {},
   "source": [
    "<div style=\"background-color:#white; color:#008000; font-family: 'Courier New, Monospace;font-weight: bold\">Confirm dimensions</div>"
   ]
  },
  {
   "cell_type": "code",
   "execution_count": 14,
   "metadata": {},
   "outputs": [
    {
     "data": {
      "text/plain": [
       "((3516965, 13), (3516965, 2))"
      ]
     },
     "execution_count": 14,
     "metadata": {},
     "output_type": "execute_result"
    }
   ],
   "source": [
    "np.shape(xTrain),np.shape(yTrain_onehot)"
   ]
  },
  {
   "cell_type": "code",
   "execution_count": 15,
   "metadata": {},
   "outputs": [
    {
     "data": {
      "text/plain": [
       "((240862, 13), (240862, 1), (240862, 2))"
      ]
     },
     "execution_count": 15,
     "metadata": {},
     "output_type": "execute_result"
    }
   ],
   "source": [
    "np.shape(xTest), np.shape( yTest),np.shape(yTest_onehot)"
   ]
  },
  {
   "cell_type": "markdown",
   "metadata": {},
   "source": [
    "<h3 style=\"background-color:#616161;color:white\">3. RNN Model</h3>"
   ]
  },
  {
   "cell_type": "markdown",
   "metadata": {},
   "source": [
    "<div style=\"background-color:#white; color:#008000; font-family: 'Courier New, Monospace;font-weight: bold\">Define the model</div>"
   ]
  },
  {
   "cell_type": "code",
   "execution_count": null,
   "metadata": {
    "collapsed": true
   },
   "outputs": [],
   "source": [
    "# Key parameters\n",
    "batch_rows = 1344\n",
    "batch_depth = 1\n",
    "hiddenLayers =128\n",
    "learning_rate =0.001\n",
    "training_iteration = 1\n",
    "global x, y,optimizer,model"
   ]
  },
  {
   "cell_type": "code",
   "execution_count": 17,
   "metadata": {},
   "outputs": [
    {
     "data": {
      "text/plain": [
       "(<tf.Tensor 'add:0' shape=(?, 2) dtype=float32>,\n",
       " <tf.Tensor 'Mean_1:0' shape=() dtype=float32>,\n",
       " <tf.Operation 'Adam' type=NoOp>)"
      ]
     },
     "execution_count": 17,
     "metadata": {},
     "output_type": "execute_result"
    }
   ],
   "source": [
    "def RNN(x, weights, biases,batch_depth,hiddenLayers):\n",
    "\n",
    "    # Prepare data shape to match `rnn` function requirements\n",
    "    # Current data input shape: (batch_size, n_steps, n_input)\n",
    "    # Required shape: 'n_steps' tensors list of shape (batch_size, n_input)\n",
    "    \n",
    "    # Unstack to get a list of 'n_steps' tensors of shape (batch_size, n_input)\n",
    "    x = tf.unstack(x, batch_depth, 1)\n",
    "\n",
    "    # Define a lstm cell with tensorflow\n",
    "    lstm_cell = rnn.BasicLSTMCell(hiddenLayers, forget_bias=1.0)\n",
    "\n",
    "    # Get lstm cell output\n",
    "    outputs, states = rnn.static_rnn(lstm_cell, x, dtype=tf.float32)\n",
    "\n",
    "    # Linear activation, using rnn inner loop last output\n",
    "    return tf.matmul(outputs[-1], weights['out']) + biases['out']\n",
    "\n",
    "def buildGraph(_batchX_cols, _batchY_cols, _batch_rows = 24, _batch_depth = 7, _hiddenLayers =128,_learning_rate =0.001):\n",
    "    tf.reset_default_graph()\n",
    "    global x,y,optimizer\n",
    "    # Define input variables:\n",
    "    x = tf.placeholder(\"float\", [None, batch_depth, batchX_cols])\n",
    "    y = tf.placeholder(\"float\", [None, batchY_cols])\n",
    "\n",
    "    # Define weights:\n",
    "    weights = {\n",
    "        'out': tf.Variable(tf.random_normal([hiddenLayers, batchY_cols]))\n",
    "    }\n",
    "    biases = {\n",
    "        'out': tf.Variable(tf.random_normal([batchY_cols]))\n",
    "    }\n",
    "\n",
    "    # Define main model:\n",
    "    model = RNN(x, weights, biases,batch_depth,hiddenLayers)\n",
    "\n",
    "    # Define accuracy\n",
    "    correct_pred = tf.equal(tf.argmax(model,1), tf.argmax(y,1))\n",
    "    accuracy = tf.reduce_mean(tf.cast(correct_pred, tf.float32))\n",
    "    \n",
    "    # Define loss and optimizer\n",
    "    cost = tf.reduce_mean(tf.nn.softmax_cross_entropy_with_logits(logits=model, labels=y))\n",
    "    optimizer = tf.train.AdamOptimizer(learning_rate=learning_rate).minimize(cost)\n",
    "    return model, cost, optimizer\n",
    "\n",
    "batchX_cols=np.shape(xTrain)[1]\n",
    "batchY_cols=np.shape(yTrain_onehot)[1]\n",
    "buildGraph(batchX_cols, batchY_cols, _batch_rows = batch_rows, _batch_depth = batch_depth, _hiddenLayers =hiddenLayers,_learning_rate =learning_rate)"
   ]
  },
  {
   "cell_type": "markdown",
   "metadata": {},
   "source": [
    "<div style=\"background-color:#white; color:#008000; font-family: 'Courier New, Monospace;font-weight: bold\">Train the model</div>\n",
    "\n",
    "<h4>def trainSequence</h4>\n",
    "* Takes a a list of data in which the lis is ordered in a sequential way and turns it into a cube of data for RNNs (rows x depth x columns)\n",
    "* rows are what you may think of as batch size. It's the max that we feed into the model at any time.\n",
    "* for each batch,the depth (aka time_steps) represents a lead training example (say row n of the original seq)  and the preceding examples that will be linked to it in the RNN (see RNN literature)\n",
    "* columns are the number of feature columns\n",
    "* Here's the important thing. As this is sequential data (presumably time) we want to give each entry of our sequentiual\n",
    " list the chance to be the 'leader'. So for each training example i, we will read in i-1, i-2 ... i-depth to form one slice of the cube then move onto i-2 and repeat for the next slice, stacking them up on top till we reach our rows (i.e. batch size) limit\n",
    "* And to be even more explicit - this means almost all rows in our origianl sequence will be used more than once as a 'leader' of their own slice as well as a 'follower' in other slices\n",
    "    \n",
    "     How we do this in code:\n",
    "     \n",
    "     S = Training data with x rows and y columns\n",
    "     Iterate, i,through S from top to bottom. Leader = row i\n",
    "    \n",
    "         for each leader, \n",
    "             grab their followers (i+1 .. i+24) and reshape from a 24 by 1 by y matrix, into 1 by 24 by y \n",
    "             add the slice onto cube\n",
    "             if cube_size has reached the bach_rows limit, transmit the cube to the RNN model and reset cube\n",
    "         move onto the next i\n"
   ]
  },
  {
   "cell_type": "markdown",
   "metadata": {},
   "source": [
    "<div style=\"background-color:#white; color:#008000; font-family: 'Courier New, Monospace;font-weight: bold\">Test hidden periods</div>"
   ]
  },
  {
   "cell_type": "code",
   "execution_count": null,
   "metadata": {
    "collapsed": true
   },
   "outputs": [],
   "source": [
    "def testSequence(X, Y, sess,batch_rows = 7, batch_depth=48):     \n",
    "    totalRows = int(X.shape[0])\n",
    "    cube_x=[]\n",
    "    cube_y=[]\n",
    "    predictions=[]\n",
    "    print(batch_depth,batch_rows)\n",
    "    for leaderPos in range(0+batch_depth,batch_rows):\n",
    "        print(2)\n",
    "        # Scan through each minibatch and turn it into slices for the cube\n",
    "        slice_x = X[leaderPos-batch_depth : leaderPos].reshape(1,batch_depth,-1)\n",
    "        slice_y = Y[leaderPos-batch_depth : leaderPos].reshape(1,batch_depth,-1)  \n",
    "        print(2)\n",
    "        if len(cube_x) == 0:\n",
    "            cube_x=slice_x\n",
    "            cube_y=slice_y\n",
    "        else:\n",
    "            \n",
    "            cube_x=np.append(cube_x,slice_x, axis=0)\n",
    "            cube_y=np.append(cube_y,slice_y, axis=0)\n",
    "        print(3)\n",
    "        if np.shape(cube_x)[0] == batch_rows:\n",
    "            p= 1*sess.run(model, feed_dict={x: batch_xs, y: batch_ys})\n",
    "            if predictions == []:\n",
    "                predictions = p\n",
    "            else:\n",
    "                predictions= np.append(predictions,p,axis=0)\n",
    "            \n",
    "            cube_x =[]\n",
    "            cube_y =[]\n",
    "    return predictions\n",
    "\n",
    "predictions = testSequence(xTest,yTest_onehot,sess,batch_rows=7,batch_depth=24)\n",
    "print (\"Test Finished!\")"
   ]
  },
  {
   "cell_type": "code",
   "execution_count": null,
   "metadata": {
    "collapsed": true
   },
   "outputs": [],
   "source": [
    "def getTestPredictions(X,Y):\n",
    "    predictions=[]\n",
    "    # Testing cycle\n",
    "    total_batch = int(len(X)/batch_rows)\n",
    "\n",
    "    if np.mod(len(X),batch_rows) != 0:\n",
    "        # tf requires consistent inputs so need to pad\n",
    "        rowsToPad=batch_size-np.mod(len(X),batch_rows)\n",
    "        padRows=np.zeros([rowsToPad,X.shape[1]])\n",
    "        X = np.append(X,padRows,axis=0)\n",
    "\n",
    "        padRows=np.zeros([rowsToPad,Y.shape[1]])\n",
    "        Y = np.append(Y,padRows,axis=0)\n",
    "        total_batch += 1\n",
    "\n",
    "    # Loop over all batches\n",
    "    for i in range(total_batch):\n",
    "        Tracer()()\n",
    "        batch_xs = X[i*batch_size:(i*batch_rows)+batch_rows]\n",
    "        batch_ys = Y[i*batch_size:(i*batch_rows)+batch_rows]                \n",
    "        \n",
    "        test_len = np.shape(batch_xs)[0]\n",
    "        \n",
    "        batch_xs = batch_xs[:test_len].reshape((-1, batch_depth, np.shape(batch_xs)[1]))\n",
    "        batch_ys = batch_ys[:test_len]\n",
    "\n",
    "        p= 1*sess.run(pred, feed_dict={x: batch_xs, y: batch_ys})\n",
    "        if predictions == []:\n",
    "            predictions = p\n",
    "        else:\n",
    "            predictions= np.append(predictions,p,axis=0)\n",
    "        \n",
    "              \n",
    "    n=len(predictions)-rowsToPad\n",
    "    predictions=predictions[0:n]\n",
    "    predictions = np.argmax(predictions,1)\n",
    "    return predictions\n",
    "\n",
    "getTestPredictions(xTrain,yTrain_onehot)"
   ]
  },
  {
   "cell_type": "markdown",
   "metadata": {},
   "source": [
    "<div style=\"background-color:#white; color:#008000; font-family: 'Courier New, Monospace;font-weight: bold\">Test hidden periods</div>"
   ]
  },
  {
   "cell_type": "code",
   "execution_count": null,
   "metadata": {
    "collapsed": true
   },
   "outputs": [],
   "source": [
    "predictions = getTestPredictions(xTest,yTest_onehot)\n",
    "print(metrics.classification_report(yTest,predictions))  # Need to feed it yTest not yTest_OneHot here\n",
    "print(metrics.confusion_matrix(yTest,predictions))\n",
    "print(\"* Precision = labelled as x / how many were actually x in the ones that were labelled\")\n",
    "print(\"* Recall = labelled as x / how many were actually x in the dataset\")"
   ]
  },
  {
   "cell_type": "code",
   "execution_count": null,
   "metadata": {
    "collapsed": true
   },
   "outputs": [],
   "source": [
    "predictions = getTestPredictions(xTest2,yTest2_onehot)\n",
    "print(metrics.classification_report(yTest2,predictions))  # Need to feed it yTest not yTest_OneHot here\n",
    "print(metrics.confusion_matrix(yTest2,predictions))\n",
    "print(\"* Precision = labelled as x / how many were actually x in the ones that were labelled\")\n",
    "print(\"* Recall = labelled as x / how many were actually x in the dataset\")"
   ]
  },
  {
   "cell_type": "code",
   "execution_count": 27,
   "metadata": {},
   "outputs": [
    {
     "name": "stdout",
     "output_type": "stream",
     "text": [
      "Iteration 0\n",
      "  Just processed row number 1679 of 3516965. 0.0%\n",
      "  Just processed row number 3023 of 3516965. 0.0%\n",
      "  Just processed row number 4367 of 3516965. 0.0%\n",
      "  Just processed row number 5711 of 3516965. 0.0%\n",
      "  Just processed row number 7055 of 3516965. 0.0%\n",
      "  Just processed row number 8399 of 3516965. 0.0%\n",
      "  Just processed row number 9743 of 3516965. 0.0%\n",
      "  Just processed row number 11087 of 3516965. 0.0%\n",
      "  Just processed row number 12431 of 3516965. 0.0%\n",
      "  Just processed row number 13775 of 3516965. 0.0%\n",
      "  Just processed row number 15119 of 3516965. 0.0%\n",
      "  Just processed row number 16463 of 3516965. 0.0%\n",
      "  Just processed row number 17807 of 3516965. 0.01%\n",
      "  Just processed row number 19151 of 3516965. 0.01%\n",
      "  Just processed row number 20495 of 3516965. 0.01%\n",
      "  Just processed row number 21839 of 3516965. 0.01%\n",
      "  Just processed row number 23183 of 3516965. 0.01%\n",
      "  Just processed row number 24527 of 3516965. 0.01%\n",
      "  Just processed row number 25871 of 3516965. 0.01%\n",
      "  Just processed row number 27215 of 3516965. 0.01%\n",
      "  Just processed row number 28559 of 3516965. 0.01%\n",
      "  Just processed row number 29903 of 3516965. 0.01%\n",
      "  Just processed row number 31247 of 3516965. 0.01%\n",
      "  Just processed row number 32591 of 3516965. 0.01%\n",
      "  Just processed row number 33935 of 3516965. 0.01%\n",
      "  Just processed row number 35279 of 3516965. 0.01%\n",
      "  Just processed row number 36623 of 3516965. 0.01%\n",
      "  Just processed row number 37967 of 3516965. 0.01%\n",
      "  Just processed row number 39311 of 3516965. 0.01%\n",
      "  Just processed row number 40655 of 3516965. 0.01%\n",
      "  Just processed row number 41999 of 3516965. 0.01%\n",
      "  Just processed row number 43343 of 3516965. 0.01%\n",
      "  Just processed row number 44687 of 3516965. 0.01%\n",
      "  Just processed row number 46031 of 3516965. 0.01%\n",
      "  Just processed row number 47375 of 3516965. 0.01%\n",
      "  Just processed row number 48719 of 3516965. 0.01%\n",
      "  Just processed row number 50063 of 3516965. 0.01%\n",
      "  Just processed row number 51407 of 3516965. 0.01%\n",
      "  Just processed row number 52751 of 3516965. 0.01%\n",
      "  Just processed row number 54095 of 3516965. 0.02%\n",
      "  Just processed row number 55439 of 3516965. 0.02%\n",
      "  Just processed row number 56783 of 3516965. 0.02%\n",
      "  Just processed row number 58127 of 3516965. 0.02%\n",
      "  Just processed row number 59471 of 3516965. 0.02%\n",
      "  Just processed row number 60815 of 3516965. 0.02%\n",
      "  Just processed row number 62159 of 3516965. 0.02%\n",
      "  Just processed row number 63503 of 3516965. 0.02%\n",
      "  Just processed row number 64847 of 3516965. 0.02%\n",
      "  Just processed row number 66191 of 3516965. 0.02%\n",
      "  Just processed row number 67535 of 3516965. 0.02%\n",
      "  Just processed row number 68879 of 3516965. 0.02%\n",
      "  Just processed row number 70223 of 3516965. 0.02%\n",
      "  Just processed row number 71567 of 3516965. 0.02%\n",
      "  Just processed row number 72911 of 3516965. 0.02%\n",
      "  Just processed row number 74255 of 3516965. 0.02%\n",
      "  Just processed row number 75599 of 3516965. 0.02%\n",
      "  Just processed row number 76943 of 3516965. 0.02%\n",
      "  Just processed row number 78287 of 3516965. 0.02%\n",
      "  Just processed row number 79631 of 3516965. 0.02%\n",
      "  Just processed row number 80975 of 3516965. 0.02%\n",
      "  Just processed row number 82319 of 3516965. 0.02%\n",
      "  Just processed row number 83663 of 3516965. 0.02%\n",
      "  Just processed row number 85007 of 3516965. 0.02%\n",
      "  Just processed row number 86351 of 3516965. 0.02%\n",
      "  Just processed row number 87695 of 3516965. 0.02%\n",
      "  Just processed row number 89039 of 3516965. 0.03%\n",
      "  Just processed row number 90383 of 3516965. 0.03%\n",
      "  Just processed row number 91727 of 3516965. 0.03%\n",
      "  Just processed row number 93071 of 3516965. 0.03%\n",
      "  Just processed row number 94415 of 3516965. 0.03%\n",
      "  Just processed row number 95759 of 3516965. 0.03%\n",
      "  Just processed row number 97103 of 3516965. 0.03%\n",
      "  Just processed row number 98447 of 3516965. 0.03%\n",
      "  Just processed row number 99791 of 3516965. 0.03%\n",
      "  Just processed row number 101135 of 3516965. 0.03%\n",
      "  Just processed row number 102479 of 3516965. 0.03%\n",
      "  Just processed row number 103823 of 3516965. 0.03%\n",
      "  Just processed row number 105167 of 3516965. 0.03%\n",
      "  Just processed row number 106511 of 3516965. 0.03%\n",
      "  Just processed row number 107855 of 3516965. 0.03%\n",
      "  Just processed row number 109199 of 3516965. 0.03%\n",
      "  Just processed row number 110543 of 3516965. 0.03%\n",
      "  Just processed row number 111887 of 3516965. 0.03%\n",
      "  Just processed row number 113231 of 3516965. 0.03%\n",
      "  Just processed row number 114575 of 3516965. 0.03%\n",
      "  Just processed row number 115919 of 3516965. 0.03%\n",
      "  Just processed row number 117263 of 3516965. 0.03%\n",
      "  Just processed row number 118607 of 3516965. 0.03%\n",
      "  Just processed row number 119951 of 3516965. 0.03%\n",
      "  Just processed row number 121295 of 3516965. 0.03%\n",
      "  Just processed row number 122639 of 3516965. 0.03%\n",
      "  Just processed row number 123983 of 3516965. 0.04%\n",
      "  Just processed row number 125327 of 3516965. 0.04%\n",
      "  Just processed row number 126671 of 3516965. 0.04%\n",
      "  Just processed row number 128015 of 3516965. 0.04%\n",
      "  Just processed row number 129359 of 3516965. 0.04%\n",
      "  Just processed row number 130703 of 3516965. 0.04%\n",
      "  Just processed row number 132047 of 3516965. 0.04%\n",
      "  Just processed row number 133391 of 3516965. 0.04%\n",
      "  Just processed row number 134735 of 3516965. 0.04%\n",
      "  Just processed row number 136079 of 3516965. 0.04%\n",
      "  Just processed row number 137423 of 3516965. 0.04%\n",
      "  Just processed row number 138767 of 3516965. 0.04%\n",
      "  Just processed row number 140111 of 3516965. 0.04%\n",
      "  Just processed row number 141455 of 3516965. 0.04%\n",
      "  Just processed row number 142799 of 3516965. 0.04%\n",
      "  Just processed row number 144143 of 3516965. 0.04%\n",
      "  Just processed row number 145487 of 3516965. 0.04%\n",
      "  Just processed row number 146831 of 3516965. 0.04%\n",
      "  Just processed row number 148175 of 3516965. 0.04%\n",
      "  Just processed row number 149519 of 3516965. 0.04%\n",
      "  Just processed row number 150863 of 3516965. 0.04%\n",
      "  Just processed row number 152207 of 3516965. 0.04%\n",
      "  Just processed row number 153551 of 3516965. 0.04%\n",
      "  Just processed row number 154895 of 3516965. 0.04%\n",
      "  Just processed row number 156239 of 3516965. 0.04%\n",
      "  Just processed row number 157583 of 3516965. 0.04%\n",
      "  Just processed row number 158927 of 3516965. 0.05%\n",
      "  Just processed row number 160271 of 3516965. 0.05%\n",
      "  Just processed row number 161615 of 3516965. 0.05%\n",
      "  Just processed row number 162959 of 3516965. 0.05%\n",
      "  Just processed row number 164303 of 3516965. 0.05%\n",
      "  Just processed row number 165647 of 3516965. 0.05%\n",
      "  Just processed row number 166991 of 3516965. 0.05%\n",
      "  Just processed row number 168335 of 3516965. 0.05%\n",
      "  Just processed row number 169679 of 3516965. 0.05%\n",
      "  Just processed row number 171023 of 3516965. 0.05%\n",
      "  Just processed row number 172367 of 3516965. 0.05%\n",
      "  Just processed row number 173711 of 3516965. 0.05%\n",
      "  Just processed row number 175055 of 3516965. 0.05%\n",
      "  Just processed row number 176399 of 3516965. 0.05%\n",
      "  Just processed row number 177743 of 3516965. 0.05%\n",
      "  Just processed row number 179087 of 3516965. 0.05%\n",
      "  Just processed row number 180431 of 3516965. 0.05%\n",
      "  Just processed row number 181775 of 3516965. 0.05%\n",
      "  Just processed row number 183119 of 3516965. 0.05%\n",
      "  Just processed row number 184463 of 3516965. 0.05%\n",
      "  Just processed row number 185807 of 3516965. 0.05%\n",
      "  Just processed row number 187151 of 3516965. 0.05%\n",
      "  Just processed row number 188495 of 3516965. 0.05%\n",
      "  Just processed row number 189839 of 3516965. 0.05%\n",
      "  Just processed row number 191183 of 3516965. 0.05%\n",
      "  Just processed row number 192527 of 3516965. 0.05%\n",
      "  Just processed row number 193871 of 3516965. 0.06%\n",
      "  Just processed row number 195215 of 3516965. 0.06%\n",
      "  Just processed row number 196559 of 3516965. 0.06%\n",
      "  Just processed row number 197903 of 3516965. 0.06%\n",
      "  Just processed row number 199247 of 3516965. 0.06%\n",
      "  Just processed row number 200591 of 3516965. 0.06%\n",
      "  Just processed row number 201935 of 3516965. 0.06%\n",
      "  Just processed row number 203279 of 3516965. 0.06%\n",
      "  Just processed row number 204623 of 3516965. 0.06%\n",
      "  Just processed row number 205967 of 3516965. 0.06%\n",
      "  Just processed row number 207311 of 3516965. 0.06%\n",
      "  Just processed row number 208655 of 3516965. 0.06%\n",
      "  Just processed row number 209999 of 3516965. 0.06%\n",
      "  Just processed row number 211343 of 3516965. 0.06%\n"
     ]
    },
    {
     "name": "stdout",
     "output_type": "stream",
     "text": [
      "  Just processed row number 212687 of 3516965. 0.06%\n",
      "  Just processed row number 214031 of 3516965. 0.06%\n",
      "  Just processed row number 215375 of 3516965. 0.06%\n",
      "  Just processed row number 216719 of 3516965. 0.06%\n",
      "  Just processed row number 218063 of 3516965. 0.06%\n",
      "  Just processed row number 219407 of 3516965. 0.06%\n"
     ]
    },
    {
     "ename": "KeyboardInterrupt",
     "evalue": "",
     "output_type": "error",
     "traceback": [
      "\u001b[0;31m---------------------------------------------------------------------------\u001b[0m",
      "\u001b[0;31mKeyboardInterrupt\u001b[0m                         Traceback (most recent call last)",
      "\u001b[0;32m<ipython-input-27-ff9c8578ce53>\u001b[0m in \u001b[0;36m<module>\u001b[0;34m()\u001b[0m\n\u001b[1;32m     38\u001b[0m \u001b[0;32mfor\u001b[0m \u001b[0miteration\u001b[0m \u001b[0;32min\u001b[0m \u001b[0mrange\u001b[0m\u001b[0;34m(\u001b[0m\u001b[0mtraining_iteration\u001b[0m\u001b[0;34m)\u001b[0m\u001b[0;34m:\u001b[0m\u001b[0;34m\u001b[0m\u001b[0m\n\u001b[1;32m     39\u001b[0m     \u001b[0mprint\u001b[0m\u001b[0;34m(\u001b[0m\u001b[0;34m\"Iteration {}\"\u001b[0m\u001b[0;34m.\u001b[0m\u001b[0mformat\u001b[0m\u001b[0;34m(\u001b[0m\u001b[0miteration\u001b[0m\u001b[0;34m)\u001b[0m\u001b[0;34m)\u001b[0m\u001b[0;34m\u001b[0m\u001b[0m\n\u001b[0;32m---> 40\u001b[0;31m     \u001b[0mtrainSequence\u001b[0m\u001b[0;34m(\u001b[0m\u001b[0mxTrain\u001b[0m\u001b[0;34m,\u001b[0m\u001b[0myTrain_onehot\u001b[0m\u001b[0;34m,\u001b[0m\u001b[0msess\u001b[0m\u001b[0;34m,\u001b[0m\u001b[0mbatch_rows\u001b[0m\u001b[0;34m,\u001b[0m\u001b[0mbatch_depth\u001b[0m\u001b[0;34m)\u001b[0m  \u001b[0;31m# This is the main line\u001b[0m\u001b[0;34m\u001b[0m\u001b[0m\n\u001b[0m\u001b[1;32m     41\u001b[0m \u001b[0;34m\u001b[0m\u001b[0m\n\u001b[1;32m     42\u001b[0m     \u001b[0;31m#if iteration % display_step == 0:\u001b[0m\u001b[0;34m\u001b[0m\u001b[0;34m\u001b[0m\u001b[0m\n",
      "\u001b[0;32m<ipython-input-27-ff9c8578ce53>\u001b[0m in \u001b[0;36mtrainSequence\u001b[0;34m(X, Y, sess, batch_row, batch_depth)\u001b[0m\n\u001b[1;32m     26\u001b[0m             \u001b[0;31m#Tracer()()\u001b[0m\u001b[0;34m\u001b[0m\u001b[0;34m\u001b[0m\u001b[0m\n\u001b[1;32m     27\u001b[0m \u001b[0;34m\u001b[0m\u001b[0m\n\u001b[0;32m---> 28\u001b[0;31m             \u001b[0msess\u001b[0m\u001b[0;34m.\u001b[0m\u001b[0mrun\u001b[0m\u001b[0;34m(\u001b[0m\u001b[0moptimizer\u001b[0m\u001b[0;34m,\u001b[0m \u001b[0mfeed_dict\u001b[0m\u001b[0;34m=\u001b[0m\u001b[0;34m{\u001b[0m\u001b[0mx\u001b[0m\u001b[0;34m:\u001b[0m \u001b[0mcube_x\u001b[0m\u001b[0;34m,\u001b[0m \u001b[0my\u001b[0m\u001b[0;34m:\u001b[0m \u001b[0mcube_y\u001b[0m\u001b[0;34m}\u001b[0m\u001b[0;34m)\u001b[0m\u001b[0;34m\u001b[0m\u001b[0m\n\u001b[0m\u001b[1;32m     29\u001b[0m             \u001b[0mprint\u001b[0m\u001b[0;34m(\u001b[0m\u001b[0;34m'  Just processed row number {} of {}. {}%'\u001b[0m\u001b[0;34m.\u001b[0m\u001b[0mformat\u001b[0m\u001b[0;34m(\u001b[0m\u001b[0mleaderPos\u001b[0m\u001b[0;34m,\u001b[0m\u001b[0mnp\u001b[0m\u001b[0;34m.\u001b[0m\u001b[0mshape\u001b[0m\u001b[0;34m(\u001b[0m\u001b[0mX\u001b[0m\u001b[0;34m)\u001b[0m\u001b[0;34m[\u001b[0m\u001b[0;36m0\u001b[0m\u001b[0;34m]\u001b[0m\u001b[0;34m,\u001b[0m\u001b[0mround\u001b[0m\u001b[0;34m(\u001b[0m\u001b[0mleaderPos\u001b[0m\u001b[0;34m/\u001b[0m\u001b[0mnp\u001b[0m\u001b[0;34m.\u001b[0m\u001b[0mshape\u001b[0m\u001b[0;34m(\u001b[0m\u001b[0mX\u001b[0m\u001b[0;34m)\u001b[0m\u001b[0;34m[\u001b[0m\u001b[0;36m0\u001b[0m\u001b[0;34m]\u001b[0m\u001b[0;34m,\u001b[0m\u001b[0;36m2\u001b[0m\u001b[0;34m)\u001b[0m\u001b[0;34m)\u001b[0m\u001b[0;34m)\u001b[0m\u001b[0;34m\u001b[0m\u001b[0m\n\u001b[1;32m     30\u001b[0m             \u001b[0mcube_x\u001b[0m \u001b[0;34m=\u001b[0m\u001b[0;34m[\u001b[0m\u001b[0;34m]\u001b[0m\u001b[0;34m\u001b[0m\u001b[0m\n",
      "\u001b[0;32m~/.local/lib/python3.5/site-packages/tensorflow/python/client/session.py\u001b[0m in \u001b[0;36mrun\u001b[0;34m(self, fetches, feed_dict, options, run_metadata)\u001b[0m\n\u001b[1;32m    787\u001b[0m     \u001b[0;32mtry\u001b[0m\u001b[0;34m:\u001b[0m\u001b[0;34m\u001b[0m\u001b[0m\n\u001b[1;32m    788\u001b[0m       result = self._run(None, fetches, feed_dict, options_ptr,\n\u001b[0;32m--> 789\u001b[0;31m                          run_metadata_ptr)\n\u001b[0m\u001b[1;32m    790\u001b[0m       \u001b[0;32mif\u001b[0m \u001b[0mrun_metadata\u001b[0m\u001b[0;34m:\u001b[0m\u001b[0;34m\u001b[0m\u001b[0m\n\u001b[1;32m    791\u001b[0m         \u001b[0mproto_data\u001b[0m \u001b[0;34m=\u001b[0m \u001b[0mtf_session\u001b[0m\u001b[0;34m.\u001b[0m\u001b[0mTF_GetBuffer\u001b[0m\u001b[0;34m(\u001b[0m\u001b[0mrun_metadata_ptr\u001b[0m\u001b[0;34m)\u001b[0m\u001b[0;34m\u001b[0m\u001b[0m\n",
      "\u001b[0;32m~/.local/lib/python3.5/site-packages/tensorflow/python/client/session.py\u001b[0m in \u001b[0;36m_run\u001b[0;34m(self, handle, fetches, feed_dict, options, run_metadata)\u001b[0m\n\u001b[1;32m    995\u001b[0m     \u001b[0;32mif\u001b[0m \u001b[0mfinal_fetches\u001b[0m \u001b[0;32mor\u001b[0m \u001b[0mfinal_targets\u001b[0m\u001b[0;34m:\u001b[0m\u001b[0;34m\u001b[0m\u001b[0m\n\u001b[1;32m    996\u001b[0m       results = self._do_run(handle, final_targets, final_fetches,\n\u001b[0;32m--> 997\u001b[0;31m                              feed_dict_string, options, run_metadata)\n\u001b[0m\u001b[1;32m    998\u001b[0m     \u001b[0;32melse\u001b[0m\u001b[0;34m:\u001b[0m\u001b[0;34m\u001b[0m\u001b[0m\n\u001b[1;32m    999\u001b[0m       \u001b[0mresults\u001b[0m \u001b[0;34m=\u001b[0m \u001b[0;34m[\u001b[0m\u001b[0;34m]\u001b[0m\u001b[0;34m\u001b[0m\u001b[0m\n",
      "\u001b[0;32m~/.local/lib/python3.5/site-packages/tensorflow/python/client/session.py\u001b[0m in \u001b[0;36m_do_run\u001b[0;34m(self, handle, target_list, fetch_list, feed_dict, options, run_metadata)\u001b[0m\n\u001b[1;32m   1130\u001b[0m     \u001b[0;32mif\u001b[0m \u001b[0mhandle\u001b[0m \u001b[0;32mis\u001b[0m \u001b[0;32mNone\u001b[0m\u001b[0;34m:\u001b[0m\u001b[0;34m\u001b[0m\u001b[0m\n\u001b[1;32m   1131\u001b[0m       return self._do_call(_run_fn, self._session, feed_dict, fetch_list,\n\u001b[0;32m-> 1132\u001b[0;31m                            target_list, options, run_metadata)\n\u001b[0m\u001b[1;32m   1133\u001b[0m     \u001b[0;32melse\u001b[0m\u001b[0;34m:\u001b[0m\u001b[0;34m\u001b[0m\u001b[0m\n\u001b[1;32m   1134\u001b[0m       return self._do_call(_prun_fn, self._session, handle, feed_dict,\n",
      "\u001b[0;32m~/.local/lib/python3.5/site-packages/tensorflow/python/client/session.py\u001b[0m in \u001b[0;36m_do_call\u001b[0;34m(self, fn, *args)\u001b[0m\n\u001b[1;32m   1137\u001b[0m   \u001b[0;32mdef\u001b[0m \u001b[0m_do_call\u001b[0m\u001b[0;34m(\u001b[0m\u001b[0mself\u001b[0m\u001b[0;34m,\u001b[0m \u001b[0mfn\u001b[0m\u001b[0;34m,\u001b[0m \u001b[0;34m*\u001b[0m\u001b[0margs\u001b[0m\u001b[0;34m)\u001b[0m\u001b[0;34m:\u001b[0m\u001b[0;34m\u001b[0m\u001b[0m\n\u001b[1;32m   1138\u001b[0m     \u001b[0;32mtry\u001b[0m\u001b[0;34m:\u001b[0m\u001b[0;34m\u001b[0m\u001b[0m\n\u001b[0;32m-> 1139\u001b[0;31m       \u001b[0;32mreturn\u001b[0m \u001b[0mfn\u001b[0m\u001b[0;34m(\u001b[0m\u001b[0;34m*\u001b[0m\u001b[0margs\u001b[0m\u001b[0;34m)\u001b[0m\u001b[0;34m\u001b[0m\u001b[0m\n\u001b[0m\u001b[1;32m   1140\u001b[0m     \u001b[0;32mexcept\u001b[0m \u001b[0merrors\u001b[0m\u001b[0;34m.\u001b[0m\u001b[0mOpError\u001b[0m \u001b[0;32mas\u001b[0m \u001b[0me\u001b[0m\u001b[0;34m:\u001b[0m\u001b[0;34m\u001b[0m\u001b[0m\n\u001b[1;32m   1141\u001b[0m       \u001b[0mmessage\u001b[0m \u001b[0;34m=\u001b[0m \u001b[0mcompat\u001b[0m\u001b[0;34m.\u001b[0m\u001b[0mas_text\u001b[0m\u001b[0;34m(\u001b[0m\u001b[0me\u001b[0m\u001b[0;34m.\u001b[0m\u001b[0mmessage\u001b[0m\u001b[0;34m)\u001b[0m\u001b[0;34m\u001b[0m\u001b[0m\n",
      "\u001b[0;32m~/.local/lib/python3.5/site-packages/tensorflow/python/client/session.py\u001b[0m in \u001b[0;36m_run_fn\u001b[0;34m(session, feed_dict, fetch_list, target_list, options, run_metadata)\u001b[0m\n\u001b[1;32m   1119\u001b[0m         return tf_session.TF_Run(session, options,\n\u001b[1;32m   1120\u001b[0m                                  \u001b[0mfeed_dict\u001b[0m\u001b[0;34m,\u001b[0m \u001b[0mfetch_list\u001b[0m\u001b[0;34m,\u001b[0m \u001b[0mtarget_list\u001b[0m\u001b[0;34m,\u001b[0m\u001b[0;34m\u001b[0m\u001b[0m\n\u001b[0;32m-> 1121\u001b[0;31m                                  status, run_metadata)\n\u001b[0m\u001b[1;32m   1122\u001b[0m \u001b[0;34m\u001b[0m\u001b[0m\n\u001b[1;32m   1123\u001b[0m     \u001b[0;32mdef\u001b[0m \u001b[0m_prun_fn\u001b[0m\u001b[0;34m(\u001b[0m\u001b[0msession\u001b[0m\u001b[0;34m,\u001b[0m \u001b[0mhandle\u001b[0m\u001b[0;34m,\u001b[0m \u001b[0mfeed_dict\u001b[0m\u001b[0;34m,\u001b[0m \u001b[0mfetch_list\u001b[0m\u001b[0;34m)\u001b[0m\u001b[0;34m:\u001b[0m\u001b[0;34m\u001b[0m\u001b[0m\n",
      "\u001b[0;31mKeyboardInterrupt\u001b[0m: "
     ]
    }
   ],
   "source": [
    "#Archive\n",
    "\n",
    "# We want to predict time-stamp t, using last 7 days worth of features, feeding the data in, in batches of a 1 month\n",
    "# In half-hourly model, 7 days = 2*24*7 = 336. Batch depth = 336 .    # 1 month = 1344\n",
    "# So shape needed is 1344 x 7 x features. \n",
    "\n",
    "def trainSequence(X, Y, sess,batch_row, batch_depth):     \n",
    "    totalRows = int(X.shape[0])\n",
    "    cube_x=[]\n",
    "    cube_y=[]\n",
    "    \n",
    "    \n",
    "    for leaderPos in range(0+batch_depth,np.shape(X)[0]):\n",
    "        # Scan through each minibatch and turn it into slices for the cube\n",
    "        slice_x = X[leaderPos-batch_depth : leaderPos].reshape(1,batch_depth,-1)\n",
    "        slice_y = Y[leaderPos].reshape(1,-1)\n",
    "        \n",
    "        if len(cube_x) == 0:\n",
    "            cube_x=slice_x\n",
    "            cube_y=slice_y\n",
    "        else:\n",
    "            \n",
    "            cube_x=np.append(cube_x,slice_x, axis=0)\n",
    "            cube_y=np.append(cube_y,slice_y, axis=0)\n",
    "        \n",
    "        if np.shape(cube_x)[0] == batch_rows:\n",
    "            # Process then reset cube\n",
    "            #Tracer()()\n",
    "            \n",
    "            sess.run(optimizer, feed_dict={x: cube_x, y: cube_y})\n",
    "            print('  Just processed row number {} of {}. {}%'.format(leaderPos,np.shape(X)[0],round(leaderPos/np.shape(X)[0],2)))\n",
    "            cube_x =[]\n",
    "            cube_y =[]\n",
    "        \n",
    "                    \n",
    "# Training cycle\n",
    "sess = tf.Session()\n",
    "init = tf.global_variables_initializer()\n",
    "sess.run(init)\n",
    "for iteration in range(training_iteration):\n",
    "    print(\"Iteration {}\".format(iteration))\n",
    "    trainSequence(xTrain,yTrain_onehot,sess,batch_rows,batch_depth)  # This is the main line\n",
    "    \n",
    "    #if iteration % display_step == 0:\n",
    "    #    # Calculate train accuracy\n",
    "    #    i = randint(1, total_batch)  # Randomly select a batch\n",
    "    #    batch_x = xTrain[i*batch_size:(i*batch_size)+batch_size]\n",
    "    #    batch_y = yTrain_onehot[i*batch_size:(i*batch_size)+batch_size]                        \n",
    "    #    batch_x = batch_x.reshape((batch_size, n_steps, n_input))        \n",
    "\n",
    "    #    acc = sess.run(accuracy, feed_dict={x: batch_x, y: batch_y})\n",
    "    #    loss = sess.run(cost, feed_dict={x: batch_x, y: batch_y})\n",
    "    #    # Calculate loss\n",
    "    #    print (\"Iter {}. Minibatch Loss={:.6f}\".format(iteration, loss) + \", Training Accuracy= \" + \"{:.5f}\".format(acc))\n",
    "\n",
    "print (\"Optimization Finished!\")"
   ]
  }
 ],
 "metadata": {
  "anaconda-cloud": {},
  "kernelspec": {
   "display_name": "Python 3",
   "language": "python",
   "name": "python3"
  },
  "language_info": {
   "codemirror_mode": {
    "name": "ipython",
    "version": 3
   },
   "file_extension": ".py",
   "mimetype": "text/x-python",
   "name": "python",
   "nbconvert_exporter": "python",
   "pygments_lexer": "ipython3",
   "version": "3.5.2"
  }
 },
 "nbformat": 4,
 "nbformat_minor": 1
}
