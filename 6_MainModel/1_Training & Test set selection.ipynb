{
 "cells": [
  {
   "cell_type": "markdown",
   "metadata": {},
   "source": [
    "<h1 align=\"center\" style=\"background-color:#616161;color:white\">Training and Test Set Selection</h1>\n",
    "\n",
    "There will be two types of assessments: \n",
    "* Predicting what and when known users would like to listen to next\n",
    "* Predicting what and when previously unknown users would like to listen to next\n",
    "\n",
    "<b>Predicting next action of a known user:</b>\n",
    "* For every user 3 randomly selected time slots will be chosen from the last 10% of their listening history\n",
    "    * A timeslot in the 10-30 minute interval range. This is to assess\n",
    "    * A timeslot in the 12 hours+ interval range\n",
    "    * A timeslot in the 10minutes + interval range. This is to act as a control sample to assess whether the interval range do make a difference in prediction.\n",
    "    \n",
    "<b>Unknown users sample:</b>\n",
    "* 10 users will be randomly selected and separated out to be used in evaluating unknown users"
   ]
  },
  {
   "cell_type": "markdown",
   "metadata": {},
   "source": [
    "<h3 style=\"background-color:#616161;color:white\">0. Setup code</h3>"
   ]
  },
  {
   "cell_type": "code",
   "execution_count": 6,
   "metadata": {},
   "outputs": [],
   "source": [
    "# import modules\n",
    "%matplotlib inline\n",
    "import os\n",
    "import sys\n",
    "import numpy as np\n",
    "import pandas as pd\n",
    "import datetime\n",
    "import csv\n",
    "import json\n",
    "import random\n",
    "import sqlite3\n",
    "from pathlib import Path\n",
    "from sklearn.manifold import TSNE\n",
    "from sklearn.datasets import fetch_20newsgroups\n",
    "import matplotlib.pyplot as plt\n",
    "#import gensim, logging\n",
    "\n",
    "## Parameters you can change\n",
    "\n",
    "# Abs path to settings file\n",
    "#root = \"C:/DS/Github/MusicRecommendation\"  # BA, Windows\n",
    "root = \"/home/badrul/git/EventPrediction\"  # BA, Linux\n",
    "\n",
    "## Import the codebase module\n",
    "fPath = root + \"/1_codemodule\"\n",
    "if fPath not in sys.path: sys.path.append(fPath)\n",
    "\n",
    "import coreCode as cb\n",
    "import lastfmCode as fm\n",
    "\n",
    "## Finish setting up\n",
    "os.chdir(root)\n",
    "\n",
    "settingsDict =  cb.loadSettings()\n",
    "\n",
    "dbPath = root + settingsDict['mainDbPath']\n",
    "fmSimilarDbPath = root + settingsDict['fmSimilarDbPath']\n",
    "fmTagsDbPath = root + settingsDict['fmTagsDbPath']\n",
    "trackMetaDbPath = root + settingsDict['trackmetadata']\n"
   ]
  },
  {
   "cell_type": "markdown",
   "metadata": {},
   "source": [
    "<h3 style=\"background-color:#616161;color:white\">1. Model Parameters</h3>"
   ]
  },
  {
   "cell_type": "code",
   "execution_count": 7,
   "metadata": {
    "collapsed": true
   },
   "outputs": [],
   "source": [
    "# Eval 1: Adapting to new users\n",
    "newUsers = 10   # Num of randomly selected users to separate out of eval 2\n",
    "\n",
    "# Eval 2: Random periods\n",
    "randomPeriods = 2 # Num of random periods per user"
   ]
  },
  {
   "cell_type": "markdown",
   "metadata": {},
   "source": [
    "<h3 style=\"background-color:#616161;color:white\">2. Eval I: Select random periods</h3>"
   ]
  },
  {
   "cell_type": "code",
   "execution_count": 5,
   "metadata": {},
   "outputs": [
    {
     "ename": "NameError",
     "evalue": "name 'StartIntervalTime' is not defined",
     "output_type": "error",
     "traceback": [
      "\u001b[0;31m---------------------------------------------------------------------------\u001b[0m",
      "\u001b[0;31mNameError\u001b[0m                                 Traceback (most recent call last)",
      "\u001b[0;32m<ipython-input-5-ced2b3120374>\u001b[0m in \u001b[0;36m<module>\u001b[0;34m()\u001b[0m\n\u001b[0;32m----> 1\u001b[0;31m \u001b[0msqlStr\u001b[0m \u001b[0;34m=\u001b[0m \u001b[0;34m\"Select UserID, historyID from tblMain where MinsSincePrevPlay > {} Group by UserID, historyID\"\u001b[0m\u001b[0;34m.\u001b[0m\u001b[0mformat\u001b[0m\u001b[0;34m(\u001b[0m\u001b[0mStartIntervalTime\u001b[0m\u001b[0;34m)\u001b[0m\u001b[0;34m\u001b[0m\u001b[0m\n\u001b[0m\u001b[1;32m      2\u001b[0m \u001b[0mcon\u001b[0m \u001b[0;34m=\u001b[0m \u001b[0msqlite3\u001b[0m\u001b[0;34m.\u001b[0m\u001b[0mconnect\u001b[0m\u001b[0;34m(\u001b[0m\u001b[0mdbPath\u001b[0m\u001b[0;34m)\u001b[0m\u001b[0;34m\u001b[0m\u001b[0m\n\u001b[1;32m      3\u001b[0m \u001b[0mdf\u001b[0m \u001b[0;34m=\u001b[0m \u001b[0mpd\u001b[0m\u001b[0;34m.\u001b[0m\u001b[0mread_sql_query\u001b[0m\u001b[0;34m(\u001b[0m\u001b[0msqlStr\u001b[0m\u001b[0;34m,\u001b[0m \u001b[0mcon\u001b[0m\u001b[0;34m)\u001b[0m\u001b[0;34m\u001b[0m\u001b[0m\n\u001b[1;32m      4\u001b[0m \u001b[0mdfUsers\u001b[0m \u001b[0;34m=\u001b[0m \u001b[0mdf\u001b[0m\u001b[0;34m[\u001b[0m\u001b[0;34m'UserID'\u001b[0m\u001b[0;34m]\u001b[0m\u001b[0;34m.\u001b[0m\u001b[0munique\u001b[0m\u001b[0;34m(\u001b[0m\u001b[0;34m)\u001b[0m\u001b[0;34m\u001b[0m\u001b[0m\n\u001b[1;32m      5\u001b[0m \u001b[0;34m\u001b[0m\u001b[0m\n",
      "\u001b[0;31mNameError\u001b[0m: name 'StartIntervalTime' is not defined"
     ]
    }
   ],
   "source": [
    "sqlStr = \"Select UserID, historyID from tblMain where MinsSincePrevPlay > {} Group by UserID, historyID\".format(StartIntervalTime)\n",
    "con = sqlite3.connect(dbPath)\n",
    "df = pd.read_sql_query(sqlStr, con)\n",
    "dfUsers = df['UserID'].unique()\n",
    "\n",
    "\n",
    "for userID in dfUsers:   # userID is the df index\n",
    "    # Filter df or each user\n",
    "    df2 = df[df.UserID == userID]\n",
    "    s = df2.shape\n",
    "    cutoff=random.randint(0, s[0])\n",
    "    sqlStr = \"Update tblUsers set Testcutoff = {} where userID = {}\".format(cutoff,userID)\n",
    "    try:\n",
    "        con.execute(sqlStr)\n",
    "        \n",
    "    except:\n",
    "        con.close()\n",
    "        print(sqlStr)\n",
    "        print (\"Unexpected error:\", sys.exc_info()[0])\n",
    "        raise\n",
    "    \n",
    "    \n",
    "con.commit()\n",
    "con.close()"
   ]
  },
  {
   "cell_type": "markdown",
   "metadata": {},
   "source": [
    "<h3 style=\"background-color:#616161;color:white\">3. Eval II: Select random 'new users'</h3>"
   ]
  },
  {
   "cell_type": "code",
   "execution_count": 8,
   "metadata": {},
   "outputs": [],
   "source": [
    "con = sqlite3.connect(dbPath)\n",
    "\n",
    "# First reset back to 0\n",
    "con.execute(\"Update tblUsers Set TestUser = 0\")\n",
    "con.commit()\n",
    "\n",
    "# Select random users\n",
    "sqlStr= \"SELECT UserID FROM tblUsers Group by UserID ORDER BY RANDOM() LIMIT {}\".format(newUsers+1)\n",
    "\n",
    "#newUsersList = pd.read_sql_query(sqlStr, con)\n",
    "#for row in newUsersList.itertuples():\n",
    "#    sqlStr = \"Update tblUsers Set TestUser = 1 where UserID = {}\".format(row[1])\n",
    "#    con.execute(sqlStr)\n",
    "\n",
    "newUsersList= [93,59,132,142,887, 543,571, 639, 525, 820, 813]\n",
    "for user in newUsersList:\n",
    "    sqlStr = \"Update tblUsers Set TestUser = 1 where UserID = {}\".format(user)\n",
    "    con.execute(sqlStr)\n",
    "\n",
    "    \n",
    "con.commit()\n",
    "con.close()"
   ]
  },
  {
   "cell_type": "code",
   "execution_count": null,
   "metadata": {},
   "outputs": [],
   "source": [
    "newUsersList"
   ]
  },
  {
   "cell_type": "code",
   "execution_count": null,
   "metadata": {
    "collapsed": true
   },
   "outputs": [],
   "source": []
  }
 ],
 "metadata": {
  "anaconda-cloud": {},
  "kernelspec": {
   "display_name": "Python 3",
   "language": "python",
   "name": "python3"
  },
  "language_info": {
   "codemirror_mode": {
    "name": "ipython",
    "version": 3
   },
   "file_extension": ".py",
   "mimetype": "text/x-python",
   "name": "python",
   "nbconvert_exporter": "python",
   "pygments_lexer": "ipython3",
   "version": "3.5.2"
  }
 },
 "nbformat": 4,
 "nbformat_minor": 2
}
