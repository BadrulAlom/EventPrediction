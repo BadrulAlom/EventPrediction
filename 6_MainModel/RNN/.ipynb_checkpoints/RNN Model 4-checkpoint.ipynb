{
 "cells": [
  {
   "cell_type": "markdown",
   "metadata": {},
   "source": [
    "<h1 align=\"center\" style=\"background-color:#616161;color:white\">RNN Model 4</h1>\n",
    "\n",
    "Adapted from: https://github.com/aymericdamien/TensorFlow-Examples/blob/master/examples/3_NeuralNetworks/recurrent_network.py"
   ]
  },
  {
   "cell_type": "markdown",
   "metadata": {},
   "source": [
    "<h3 style=\"background-color:#616161;color:white\">0. Setup</h3>"
   ]
  },
  {
   "cell_type": "markdown",
   "metadata": {},
   "source": [
    "<div style=\"background-color:white; color:#008000; font-family: 'Courier New, Monospace;font-weight: bold\">Input Parameters</div>"
   ]
  },
  {
   "cell_type": "code",
   "execution_count": 1,
   "metadata": {
    "collapsed": true,
    "scrolled": true
   },
   "outputs": [],
   "source": [
    "# Root path\n",
    "#root = \"C:/DS/Github/MusicRecommendation\"  # BA, Windows\n",
    "root = \"/home/badrul/git/EventPrediction\" # BA, Linux"
   ]
  },
  {
   "cell_type": "markdown",
   "metadata": {},
   "source": [
    "<div style=\"background-color:white; color:#008000; font-family: 'Courier New, Monospace;font-weight: bold\">Common Libraries</div>"
   ]
  },
  {
   "cell_type": "code",
   "execution_count": 2,
   "metadata": {
    "collapsed": true,
    "scrolled": true
   },
   "outputs": [],
   "source": [
    "# Core\n",
    "import numpy as np\n",
    "import pandas as pd\n",
    "from IPython.core.debugger import Tracer    # Used for debugging\n",
    "import logging\n",
    "from random import *\n",
    "\n",
    "# File and database management\n",
    "import csv\n",
    "import os\n",
    "import sys\n",
    "import json\n",
    "import sqlite3\n",
    "from pathlib import Path\n",
    "\n",
    "# Date/Time\n",
    "import datetime\n",
    "import time\n",
    "#from datetime import timedelta # Deprecated\n",
    "\n",
    "# Visualization\n",
    "import matplotlib.pyplot as plt             # Quick\n",
    "%matplotlib inline\n",
    "\n",
    "# Misc\n",
    "import random\n",
    "import importlib\n",
    "import warnings\n",
    "warnings.filterwarnings('ignore')\n",
    "import logging\n",
    "logging.basicConfig(filename='RNN.log',level=logging.DEBUG)\n",
    "\n",
    "#-------------- Custom Libs -----------------#\n",
    "os.chdir(root)\n",
    "\n",
    "# Import the codebase module\n",
    "fPath = root + \"/1_codemodule\"\n",
    "if fPath not in sys.path: sys.path.append(fPath)\n",
    "\n",
    "# Custom Libs\n",
    "import coreCode as cc\n",
    "import lastfmCode as fm"
   ]
  },
  {
   "cell_type": "markdown",
   "metadata": {},
   "source": [
    "<div style=\"background-color:white; color:#008000; font-family: 'Courier New, Monospace;font-weight: bold\">Page Specific Libraries</div>"
   ]
  },
  {
   "cell_type": "code",
   "execution_count": 3,
   "metadata": {
    "collapsed": true,
    "scrolled": true
   },
   "outputs": [],
   "source": [
    "# Data science (comment out if not needed)\n",
    "#from sklearn.manifold import TSNE\n",
    "import tensorflow as tf\n",
    "from tensorflow.contrib import rnn\n",
    "from tensorflow.python.framework import ops\n",
    "ops.reset_default_graph()\n",
    "from sklearn import metrics\n",
    "from sklearn import preprocessing"
   ]
  },
  {
   "cell_type": "markdown",
   "metadata": {},
   "source": [
    "<div style=\"background-color:#white; color:#008000; font-family: 'Courier New, Monospace;font-weight: bold\">Load settings</div>"
   ]
  },
  {
   "cell_type": "code",
   "execution_count": 4,
   "metadata": {
    "collapsed": true,
    "scrolled": true
   },
   "outputs": [],
   "source": [
    "settingsDict =  cc.loadSettings()\n",
    "dbPath = root + settingsDict['mainDbPath_sml']\n",
    "fmSimilarDbPath = root + settingsDict['fmSimilarDbPath']\n",
    "fmTagsDbPath = root + settingsDict['fmTagsDbPath']\n",
    "trackMetaDbPath = root + settingsDict['trackmetadata']\n",
    "periodGranularity = int(settingsDict['periodGranularity'])"
   ]
  },
  {
   "cell_type": "markdown",
   "metadata": {},
   "source": [
    "<div style=\"background-color:#white; color:#008000; font-family: 'Courier New, Monospace;font-weight: bold\">Set parameters</div>"
   ]
  },
  {
   "cell_type": "code",
   "execution_count": 5,
   "metadata": {
    "collapsed": true
   },
   "outputs": [],
   "source": [
    "# Model setup\n",
    "loadFromSave = False\n",
    "n_steps = 1 # timesteps\n",
    "n_hidden = 160 # hidden layer num of features\n",
    "n_classes = 2\n",
    "batch_size = 336\n",
    "learning_rate = 0.002\n",
    "cellType = \"BasicLSTMCell\"  # Choose: TimeFreqLSTMCell BasicLSTMCell\n",
    "\n",
    "#fieldList=\"UserID, t, HrsFrom5pm, isSun,isMon,isTue,isWed,isThu,isFri,isSat, t1,t2,t3,t4,t5,t10,t12hrs,t23_5hrs,t24hrs,t24_5hrs,t1wk,t2wks,t3wks,t4wks\"\n",
    "fieldList=\"UserID, t, HrsFrom6pm, isSun,isMon,isTue,isWed,isThu,isFri,isSat, t10,t12hrs,t24hrs,t1wk,t2wks,t3wks,t4wks\"\n",
    "\n",
    "# Training parameters\n",
    "training_iterations = 5\n",
    "sample_iteration = 1\n",
    "display_step = 5\n",
    "userSample =1\n",
    "timeStepSkip =4"
   ]
  },
  {
   "cell_type": "markdown",
   "metadata": {},
   "source": [
    "<h3 style=\"background-color:#616161;color:white\">1. Build Model</h3>"
   ]
  },
  {
   "cell_type": "code",
   "execution_count": 6,
   "metadata": {
    "collapsed": true,
    "scrolled": true
   },
   "outputs": [],
   "source": [
    "def RNN(x, weights, biases,n_steps):\n",
    "    # Current data input shape: (batch_size, n_steps, n_input)\n",
    "    # Required shape: 'n_steps' tensors list of shape (batch_size, n_input)\n",
    "    \n",
    "    # Unstack to get a list of 'n_steps' tensors of shape (batch_size, n_input)\n",
    "    x = tf.unstack(x, 336, 0)  # See https://stackoverflow.com/questions/45278276/tensorflow-lstm-dropout-implementation-shape-problems/45279243#45279243\n",
    "    \n",
    "    # Define a lstm cell with tensorflow\n",
    "    #lstm_cell = rnn.BasicLSTMCell(n_hidden, forget_bias=1.0)\n",
    "    if cellType == \"BasicLSTMCell\":\n",
    "        lstm_cell = rnn.BasicLSTMCell(n_hidden, forget_bias=1.0)\n",
    "        outputs, states = rnn.static_rnn(lstm_cell, x, dtype=tf.float32)\n",
    "    elif cellType == \"TimeFreqLSTMCell\":\n",
    "        lstm_cell =rnn.TimeFreqLSTMCell(n_hidden, use_peepholes=True, feature_size= 22, forget_bias=1.0)\n",
    "        outputs, states = rnn.static_rnn(lstm_cell, x, dtype=tf.float32)\n",
    "    elif cellType == \"GridLSTMCell\":\n",
    "        lstm_cell =rnn.GridLSTMCell(n_hidden, forget_bias=1.0)\n",
    "        outputs, states = rnn.static_rnn(lstm_cell, x, dtype=tf.float32)        \n",
    "    else:\n",
    "        print(\"Did not recognize {}\".format(cellType))\n",
    "    # Get lstm cell output\n",
    "    \n",
    "\n",
    "    # Linear activation, using rnn inner loop last output\n",
    "    return tf.matmul(outputs[-1], weights['out']) + biases['out']\n",
    "\n",
    "def buildGraph(n_steps,n_input):\n",
    "    global x, y, pred, cost, optimizer,accuracy\n",
    "    \n",
    "    tf.reset_default_graph()\n",
    "    # tf Graph input\n",
    "    \n",
    "    x = tf.placeholder(\"float\", [None, n_steps, n_input])\n",
    "    y = tf.placeholder(\"float\", [None, n_classes])\n",
    "\n",
    "    # Define weights\n",
    "    weights = {\n",
    "        'out': tf.Variable(tf.random_normal([n_hidden, n_classes]))\n",
    "    }\n",
    "    biases = {\n",
    "        'out': tf.Variable(tf.random_normal([n_classes]))\n",
    "    }\n",
    "\n",
    "    pred = RNN(x, weights, biases,n_steps)  # We only want the last item in the predictions\n",
    "    cost = tf.reduce_mean(tf.nn.softmax_cross_entropy_with_logits(logits=pred, labels=y))\n",
    "    optimizer = tf.train.AdamOptimizer(learning_rate=learning_rate).minimize(cost)\n",
    "    \n",
    "    # Evaluate model\n",
    "    correct_pred = tf.equal(tf.argmax(pred,1), tf.argmax(y,1))\n",
    "    accuracy = tf.reduce_mean(tf.cast(correct_pred, tf.float32))"
   ]
  },
  {
   "cell_type": "code",
   "execution_count": 7,
   "metadata": {
    "collapsed": true,
    "scrolled": true
   },
   "outputs": [],
   "source": [
    "n_input = len(fieldList.split(\",\"))-2 # -2 as we drop UserID and t\n",
    "\n",
    "# Build graph\n",
    "buildGraph(n_steps,n_input = n_input)\n",
    "# Initializing the variables\n",
    "sess = tf.Session()\n",
    "init = tf.global_variables_initializer()\n",
    "saver = tf.train.Saver()\n",
    "if loadFromSave:\n",
    "    saver.restore(sess,'./3_Data/saves/model.ckpt')\n",
    "else:\n",
    "    sess.run(init)"
   ]
  },
  {
   "cell_type": "markdown",
   "metadata": {},
   "source": [
    "<h3 style=\"background-color:#616161;color:white\">2. Train Model</h3>"
   ]
  },
  {
   "cell_type": "code",
   "execution_count": null,
   "metadata": {
    "collapsed": true,
    "scrolled": true
   },
   "outputs": [],
   "source": [
    "# Launch the graph\n",
    "def trainModel(_X, _Y, sess,training_iterations = 5):\n",
    "    # Training cycle\n",
    "    l=np.shape(_X)[0]\n",
    "    for i in range(training_iterations):\n",
    "        if (training_iterations % 10) == 0: print(\"Now on iteration {}\".format(i))\n",
    "        #logging.info(\"Now on iteration {}\".format(i))\n",
    "        # Loop over all rows in order of earliest to latest\n",
    "        for pos in range(0+batch_size, l,timeStepSkip):\n",
    "            if (pos % 10000) == 0: \n",
    "                #print(\"Now on pos {} of {} ({}%)\".format(pos,l,round((pos/l)*100,2)))\n",
    "                logging.info(\"Now on pos {} of {} ({}%)\".format(pos,l,round((pos/l)*100,2)))\n",
    "            \n",
    "            # For each row, collect the previous batch_size num of rows\n",
    "            batch_x = _X[pos-batch_size:pos]\n",
    "            #batch_y = _Y[pos-batch_size:pos]                        \n",
    "            batch_y = _Y[pos]                        \n",
    "            #if np.mod(len(batch_x),batch_size) == 0:batch_x, batch_y, _ = cc.padRows(batch_x, batch_y, batch_size)\n",
    "            batch_x = batch_x.reshape((batch_size, n_steps, n_input))  # Rehsape into 3d, even though n_steps is 1            \n",
    "    \n",
    "            batch_y = batch_y.reshape((-1, n_classes))  # Rehsape into 3d, even though n_steps is 1            \n",
    "            \n",
    "            sess.run(optimizer, feed_dict={x: batch_x, y: batch_y})\n",
    "    \n",
    "        # Calculate train accuracy\n",
    "        pos = randint(0+batch_size, l)  # Randomly select a pos in the current dataset\n",
    "        # Copied from above\n",
    "        batch_x = _X[pos-batch_size:pos]\n",
    "        batch_y = _Y[pos]                        \n",
    "        batch_x = batch_x.reshape((batch_size, n_steps, n_input))  # Rehsape into 3d, even though n_steps is 1            \n",
    "        batch_y = batch_y.reshape((-1, n_classes))  # Rehsape into 3d, even though n_steps is 1            \n",
    "\n",
    "        # Calculate loss & accuracy\n",
    "        acc = sess.run(accuracy, feed_dict={x: batch_x, y: batch_y})\n",
    "        loss = sess.run(cost, feed_dict={x: batch_x, y: batch_y})\n",
    "        print (\"Iter {}. Minibatch Loss={:.6f}\".format(iteration, loss) + \", Training Accuracy= \" + \"{:.5f}\".format(acc))"
   ]
  },
  {
   "cell_type": "code",
   "execution_count": null,
   "metadata": {
    "collapsed": true,
    "scrolled": true
   },
   "outputs": [],
   "source": [
    "training_iterations =10  # 20\n",
    "sample_iteration = 10\n",
    "display_step = 5\n",
    "userSample =20\n",
    "\n",
    "for s in range(sample_iteration):\n",
    "    print('Now processing sample {}'.format(s))\n",
    "    logging.info('Now processing sample {}'.format(s))\n",
    "    users=cc.getUsers(dbPath).sample(userSample)\n",
    "    for usr in users.itertuples():\n",
    "        print('Now processing User {}'.format(usr.userID))\n",
    "        logging.info('Now processing User {}'.format(usr.userID))\n",
    "        xTrain, yTrain_onehot, xTest, yTest_onehot = cc.getHiddenPeriodsData(dbPath,fieldList,oneHot=True,periodGranularity=periodGranularity,userIDs=[usr.userID])\n",
    "        \n",
    "        if xTrain is not None:\n",
    "            if np.shape(yTrain_onehot)[1] !=1:  # Results have to have both 0's and 1's in them\n",
    "                trainModel(xTrain, yTrain_onehot, sess,training_iterations)\n",
    "        saver.save(sess,\"./3_Data/saves/model.ckpt\")\n",
    "print('Ok')"
   ]
  },
  {
   "cell_type": "markdown",
   "metadata": {},
   "source": [
    "<h3 style=\"background-color:#616161;color:white\">3. Test Model</h3>"
   ]
  },
  {
   "cell_type": "code",
   "execution_count": null,
   "metadata": {
    "collapsed": true,
    "scrolled": true
   },
   "outputs": [],
   "source": [
    "def TestPredictions(X,Y):\n",
    "    predictions=[]\n",
    "    l=np.shape(X)[0]\n",
    "    \n",
    "    # Testing cycle\n",
    "    print(\"Now testing {} rows\".format(l))\n",
    "    logging.info(\"Now testing {} rows\".format(l))\n",
    "    \n",
    "    # Pad rows at the beginning so we can get a prediction for every entry\n",
    "    padX=np.zeros([batch_size-1,X.shape[1]])\n",
    "    Y = Y.reshape(-1,n_classes)\n",
    "    padY=np.zeros([batch_size-1,n_classes])\n",
    "    \n",
    "    X = np.append(padX, X, axis=0)\n",
    "    Y = np.append(padY, Y, axis=0)\n",
    "    l=np.shape(X)[0]  # Update length\n",
    "    \n",
    "    # Loop over all rows in order of earliest to lates\n",
    "    \n",
    "    for pos in range(batch_size, l+1):\n",
    "        \n",
    "        if (pos % 20000) == 0: \n",
    "                print(\"Now on pos {} of {} ({}%)\".format(pos,l,round((pos/l)*100,2)))\n",
    "                logging.info(\"Now on pos {} of {} ({}%)\".format(pos,l,round((pos/l)*100,2)))\n",
    "        \n",
    "        # For each row, bring up the history of length bath size\n",
    "        _x = X[pos-batch_size:pos].reshape((batch_size, n_steps, n_input))  # Rehsape into 3d, even though n_steps is 1            \n",
    "        _y = Y[pos-batch_size:pos]                        \n",
    "    \n",
    "        # Predict!\n",
    "        p = 1*sess.run(pred, feed_dict={x: _x, y: _y})[-1]\n",
    "        p=p.reshape(-1,n_classes)\n",
    "        \n",
    "        if predictions == []:\n",
    "            predictions = p\n",
    "        else:\n",
    "            predictions= np.append(predictions,p,axis=0)\n",
    "             \n",
    "    # Remove padding and return predictions\n",
    "    predictions = np.argmax(predictions,1)\n",
    "    \n",
    "    return predictions"
   ]
  },
  {
   "cell_type": "markdown",
   "metadata": {},
   "source": [
    "<div style=\"background-color:#white; color:#008000; font-family: 'Courier New, Monospace;font-weight: bold\">Test hidden periods</div>"
   ]
  },
  {
   "cell_type": "code",
   "execution_count": null,
   "metadata": {
    "collapsed": true
   },
   "outputs": [],
   "source": [
    "print('Hidden Periods\\n')\n",
    "print (\"Cell type= {}, learning_rate = {}, Iterations = {}, batch size = {}, Steps = {}, Hidden Layers = {}, Classes = {}\\n\".format(cellType,learning_rate,training_iterations,batch_size, n_steps ,n_hidden,n_classes))\n",
    "\n",
    "predictions = TestPredictions(xTrain,yTrain_onehot)\n",
    "\n",
    "print(metrics.classification_report(yTrain_onehot[:,1],predictions))  # Need to feed it yTest not yTest_OneHot here\n",
    "print(metrics.confusion_matrix(yTrain_onehot[:,1],predictions))\n",
    "np.shape(predictions), np.shape(yTrain_onehot),np.shape(xTrain)"
   ]
  },
  {
   "cell_type": "markdown",
   "metadata": {},
   "source": [
    "<div style=\"background-color:#white; color:#008000; font-family: 'Courier New, Monospace;font-weight: bold\">Test hidden users</div>"
   ]
  },
  {
   "cell_type": "code",
   "execution_count": null,
   "metadata": {
    "collapsed": true,
    "scrolled": true
   },
   "outputs": [],
   "source": [
    "# Get hidden users\n",
    "users=cc.getUsers(dbPath).sample(2)\n",
    "u=users.userID.values\n",
    "_,_,xTest, yTest_onehot = cc.getHiddenPeriodsData(dbPath,fieldList,oneHot=True,periodGranularity=periodGranularity,userIDs=u)\n",
    "print ('{} users selected for testing. Total rows {}'.format(len(u), len(xTest)))\n",
    "\n",
    "xTest2, yTest2_onehot, testDf2 = cc.getHiddenUsersData(dbPath,fieldList,oneHot= True,firstNPerc=0.5,periodGranularity=periodGranularity)"
   ]
  },
  {
   "cell_type": "code",
   "execution_count": null,
   "metadata": {
    "collapsed": true,
    "scrolled": true
   },
   "outputs": [],
   "source": [
    "print('\\nHidden Users')\n",
    "predictions = getTestPredictions(xTest2,yTest2_onehot)\n",
    "print(metrics.classification_report(yTest2_onehot[:,1],predictions))  # Need to feed it yTest not yTest_OneHot here\n",
    "print(np.shape(xTest2),np.shape(yTest2_onehot))"
   ]
  },
  {
   "cell_type": "markdown",
   "metadata": {},
   "source": [
    "<h3 style=\"background-color:#616161;color:white\">Appendices</h3>"
   ]
  },
  {
   "cell_type": "markdown",
   "metadata": {},
   "source": [
    "<h4 style=\"background-color:#616161;color:white\">Results</h4>"
   ]
  },
  {
   "cell_type": "code",
   "execution_count": null,
   "metadata": {
    "collapsed": true,
    "scrolled": true
   },
   "outputs": [],
   "source": [
    "def load_data(seq_len, normalise_window):\n",
    "    f = open(\"sinwave.csv\", 'rb').read()\n",
    "    data = f.decode().split('\\n')\n",
    "\n",
    "    sequence_length = seq_len + 1\n",
    "    result = []\n",
    "    for index in range(len(data) - sequence_length):\n",
    "        result.append(data[index: index + sequence_length])\n",
    "\n",
    "    result = np.array(result)\n",
    "\n",
    "    row = round(0.9 * result.shape[0])\n",
    "    train = result[:int(row), :]\n",
    "    np.random.shuffle(train)\n",
    "    x_train = train[:, :-1]\n",
    "    y_train = train[:, -1]\n",
    "    x_test = result[int(row):, :-1]\n",
    "    y_test = result[int(row):, -1]\n",
    "\n",
    "    x_train = np.reshape(x_train, (x_train.shape[0], x_train.shape[1], 1))\n",
    "    x_test = np.reshape(x_test, (x_test.shape[0], x_test.shape[1], 1))  \n",
    "\n",
    "    return [x_train, y_train, x_test, y_test]\n",
    "\n",
    "seq_len = 1\n",
    "xdTrain, ydTrain, Xd_test, yd_test = load_data(seq_len, True)"
   ]
  },
  {
   "cell_type": "code",
   "execution_count": null,
   "metadata": {
    "collapsed": true,
    "scrolled": false
   },
   "outputs": [],
   "source": [
    "# Dummy test\n",
    "n_steps = 1 # timesteps\n",
    "n_hidden = 160 # hidden layer num of features\n",
    "n_classes = 1\n",
    "batch_size = 20 #1344\n",
    "training_iterations=100\n",
    "learning_rate = 0.001\n",
    "cellType = \"BasicLSTMCell\"  # Choose: TimeFreqLSTMCell BasicLSTMCell\n",
    "\n",
    "#fieldList=\"UserID, t, HrsFrom5pm, isSun,isMon,isTue,isWed,isThu,isFri,isSat, t1,t2,t3,t4,t5,t10,t12hrs,t23_5hrs,t24hrs,t24_5hrs,t1wk,t2wks,t3wks,t4wks\"\n",
    "fieldList=\"UserID, t, HrsFrom6pm, isSun,isMon,isTue,isWed,isThu,isFri,isSat, t10,t12hrs,t24hrs,t1wk,t2wks,t3wks,t4wks\"\n",
    "n_input = 1\n",
    "\n",
    "# Build graph\n",
    "buildGraph(n_steps,n_input = n_input)\n",
    "# Initializing the variables\n",
    "sess = tf.Session()\n",
    "init = tf.global_variables_initializer()\n",
    "sess.run(init)\n",
    "\n",
    "trainModel(xdTrain,ydTrain,sess,training_iterations)\n",
    "\n",
    "xdDummy = xdTrain.reshape(-1,1)\n",
    "predictions = getTestPredictions(xdTrain,ydTrain)\n",
    "print(metrics.classification_report(ydTrain[:,1],predictions))  # Need to feed it yTest not yTest_OneHot here"
   ]
  },
  {
   "cell_type": "code",
   "execution_count": null,
   "metadata": {
    "collapsed": true
   },
   "outputs": [],
   "source": []
  }
 ],
 "metadata": {
  "anaconda-cloud": {},
  "kernelspec": {
   "display_name": "Python 3",
   "language": "python",
   "name": "python3"
  },
  "language_info": {
   "codemirror_mode": {
    "name": "ipython",
    "version": 3
   },
   "file_extension": ".py",
   "mimetype": "text/x-python",
   "name": "python",
   "nbconvert_exporter": "python",
   "pygments_lexer": "ipython3",
   "version": "3.5.2"
  }
 },
 "nbformat": 4,
 "nbformat_minor": 1
}
