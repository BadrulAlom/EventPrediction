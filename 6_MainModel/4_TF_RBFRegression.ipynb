{
 "cells": [
  {
   "cell_type": "markdown",
   "metadata": {},
   "source": [
    "<h1 align=\"center\" style=\"background-color:#616161;color:white\">Linear Regression with RBF</h1>"
   ]
  },
  {
   "cell_type": "markdown",
   "metadata": {},
   "source": [
    "<h3 style=\"background-color:#616161;color:white\">0. Setup</h3>"
   ]
  },
  {
   "cell_type": "markdown",
   "metadata": {},
   "source": [
    "<div style=\"background-color:white; color:#008000; font-family: 'Courier New, Monospace;font-weight: bold\">Input Parameters</div>"
   ]
  },
  {
   "cell_type": "code",
   "execution_count": 12,
   "metadata": {
    "collapsed": true
   },
   "outputs": [],
   "source": [
    "# Root path\n",
    "#root = \"C:/DS/Github/MusicRecommendation\"  # BA, Windows\n",
    "root = \"/home/badrul/git/EventPrediction\" # BA, Linux"
   ]
  },
  {
   "cell_type": "markdown",
   "metadata": {},
   "source": [
    "<div style=\"background-color:white; color:#008000; font-family: 'Courier New, Monospace;font-weight: bold\">Common Libraries</div>"
   ]
  },
  {
   "cell_type": "code",
   "execution_count": 13,
   "metadata": {
    "collapsed": true
   },
   "outputs": [],
   "source": [
    "# Core\n",
    "import numpy as np\n",
    "import pandas as pd\n",
    "from IPython.core.debugger import Tracer    # Used for debugging\n",
    "import logging\n",
    "\n",
    "# File and database management\n",
    "import csv\n",
    "import os\n",
    "import sys\n",
    "import json\n",
    "import sqlite3\n",
    "from pathlib import Path\n",
    "\n",
    "# Date/Time\n",
    "import datetime\n",
    "import time\n",
    "#from datetime import timedelta # Deprecated\n",
    "\n",
    "# Visualization\n",
    "import matplotlib.pyplot as plt             # Quick\n",
    "%matplotlib inline\n",
    "\n",
    "# Misc\n",
    "import random\n",
    "from importlib import reload\n",
    "#reload(cc)\n",
    "\n",
    "#-------------- Custom Libs -----------------#\n",
    "os.chdir(root)\n",
    "\n",
    "# Import the codebase module\n",
    "fPath = root + \"/1_codemodule\"\n",
    "if fPath not in sys.path: sys.path.append(fPath)\n",
    "\n",
    "# Custom Libs\n",
    "import coreCode as cc\n",
    "import lastfmCode as fm"
   ]
  },
  {
   "cell_type": "markdown",
   "metadata": {},
   "source": [
    "<div style=\"background-color:white; color:#008000; font-family: 'Courier New, Monospace;font-weight: bold\">Page Specific Libraries</div>"
   ]
  },
  {
   "cell_type": "code",
   "execution_count": 8,
   "metadata": {
    "collapsed": true
   },
   "outputs": [],
   "source": [
    "# Data science (comment out if not needed)\n",
    "#from sklearn.manifold import TSNE\n",
    "import tensorflow as tf\n",
    "from tensorflow.python.framework import ops\n",
    "ops.reset_default_graph()\n",
    "from sklearn import metrics\n",
    "from sklearn import preprocessing"
   ]
  },
  {
   "cell_type": "markdown",
   "metadata": {},
   "source": [
    "<div style=\"background-color:#white; color:#008000; font-family: 'Courier New, Monospace;font-weight: bold\">Load settings</div>"
   ]
  },
  {
   "cell_type": "code",
   "execution_count": 9,
   "metadata": {
    "collapsed": true
   },
   "outputs": [],
   "source": [
    "settingsDict =  cc.loadSettings()\n",
    "dbPath = root + settingsDict['mainDbPath_sml']\n",
    "fmSimilarDbPath = root + settingsDict['fmSimilarDbPath']\n",
    "fmTagsDbPath = root + settingsDict['fmTagsDbPath']\n",
    "trackMetaDbPath = root + settingsDict['trackmetadata']\n",
    "periodGranularity = int(settingsDict['periodGranularity'])"
   ]
  },
  {
   "cell_type": "markdown",
   "metadata": {},
   "source": [
    "<h3 style=\"background-color:#616161;color:white\">1. Load data</h3>"
   ]
  },
  {
   "cell_type": "code",
   "execution_count": 18,
   "metadata": {},
   "outputs": [
    {
     "name": "stdout",
     "output_type": "stream",
     "text": [
      "Skipping user 73 as not enough periods (1882)\n",
      "Skipping user 97 as not enough periods (0)\n"
     ]
    }
   ],
   "source": [
    "fieldList=\"t, UserID, HrsFrom5pm, isSun,isMon,isTue,isWed,isThu,isFri,isSat,t1,t2,t3,t4,t5,t10,t12hrs, t23_5hrs, t24hrs, t24_5hrs, t1wk,t2wks,t3wks,t4wks\"\n",
    "tblName='tblTimeSeriesData'\n",
    "xTrain, yTrain, xTest, yTest = cc.getHiddenPeriodsData(dbPath,tblName, fieldList,oneHot=False,periodGranularity=periodGranularity)\n",
    "#xTest2, yTest2,testDf2 = cc.getHiddenUsersData(dbPath, fieldList,oneHot=False,firstNPerc=0.5,periodGranularity=periodGranularity)"
   ]
  },
  {
   "cell_type": "markdown",
   "metadata": {},
   "source": [
    "<div style=\"background-color:#white; color:#008000; font-family: 'Courier New, Monospace;font-weight: bold\">Confirm dimensions</div>"
   ]
  },
  {
   "cell_type": "code",
   "execution_count": 19,
   "metadata": {},
   "outputs": [
    {
     "data": {
      "text/plain": [
       "((3555325, 22), (3555325, 1))"
      ]
     },
     "execution_count": 19,
     "metadata": {},
     "output_type": "execute_result"
    }
   ],
   "source": [
    "np.shape(xTrain), np.shape( yTrain)"
   ]
  },
  {
   "cell_type": "code",
   "execution_count": 59,
   "metadata": {},
   "outputs": [
    {
     "data": {
      "text/plain": [
       "((2688, 22), (2688, 1))"
      ]
     },
     "execution_count": 59,
     "metadata": {},
     "output_type": "execute_result"
    }
   ],
   "source": [
    "np.shape(xTest), np.shape( yTest)"
   ]
  },
  {
   "cell_type": "markdown",
   "metadata": {},
   "source": [
    "<h3 style=\"background-color:#616161;color:white\">3. Model Three: Logistic Regression with RBF Kernel</h3>"
   ]
  },
  {
   "cell_type": "code",
   "execution_count": 21,
   "metadata": {},
   "outputs": [
    {
     "name": "stdout",
     "output_type": "stream",
     "text": [
      "Ok\n"
     ]
    }
   ],
   "source": [
    "# Set parameters\n",
    "learning_rate = 0.01\n",
    "display_step = 2\n",
    "\n",
    "batch_size=2000\n",
    "    \n",
    "numOfFeatures=np.shape(xTrain)[1] # 784 for MNIST\n",
    "numOfClasses=1\n",
    "    \n",
    "# TF graph input\n",
    "x = tf.placeholder(\"float\", [None, numOfFeatures]) # mnist data image of shape 28*28=784\n",
    "y = tf.placeholder(\"float\", [None, numOfClasses]) # 0-9 digits recognition => 10 classes\n",
    "prediction_grid = tf.placeholder(shape=[None, 1], dtype=tf.float32)   # Only needed for a 1d problem - see later on\n",
    "\n",
    "# Create a model\n",
    "\n",
    "# Set model weights\n",
    "W = tf.Variable(tf.zeros([numOfFeatures, numOfClasses]))\n",
    "#b = tf.Variable(tf.zeros([numOfClasses]))\n",
    "# Create variables for svm\n",
    "b = tf.Variable(tf.random_normal(shape=[1,batch_size]))   # *****Should this be 20 , batch_size?*****\n",
    "\n",
    "# Define RBF Kernel: https://stackoverflow.com/questions/37362258/creating-a-radial-basis-function-kernel-matrix-in-matlab\n",
    "# Gaussian (RBF) training function\n",
    "gamma = tf.constant(-50.0)\n",
    "dist = tf.reshape(tf.reduce_sum(tf.square(x), 1), [-1,1])\n",
    "sq_dists = tf.add(tf.subtract(dist, tf.multiply(2., tf.matmul(x, tf.transpose(x)))), tf.transpose(dist))\n",
    "RBFKernel = tf.exp(tf.multiply(gamma, tf.abs(sq_dists)))\n",
    "\n",
    "\n",
    "# ******This is the code for if you are using an input grid to test out lots of x values. Not going to use this for multi-dim\n",
    "#rB = tf.reshape(tf.reduce_sum(tf.square(prediction_grid), 1),[-1,1]) \n",
    "#sq_distPred = tf.add(tf.subtract(distPred, tf.multiply(2., tf.matmul(x, tf.transpose(prediction_grid)))), tf.transpose(rB))\n",
    "# *****Instead we will use the same kernel as above. \n",
    "\n",
    "prediction_output = tf.matmul(tf.multiply(tf.transpose(x),b), RBFKernel)\n",
    "prediction = tf.reshape(prediction_output-tf.reduce_mean(prediction_output),[-1,1])\n",
    "accuracy = tf.reduce_mean(tf.cast(tf.equal(tf.squeeze(prediction), tf.squeeze(y)), tf.float32))\n",
    "\n",
    "##### Compute cost function\n",
    "\n",
    "first_term = tf.reduce_sum(b)   # sum all elements together\n",
    "bsq = tf.matmul(tf.transpose(b), b)    # b^2\n",
    "ysq = tf.matmul(y, tf.transpose(y))  # y^2\n",
    "second_term = tf.reduce_sum(tf.multiply(RBFKernel, tf.multiply(bsq, ysq)))\n",
    "cost_function = tf.negative(tf.subtract(first_term, second_term))\n",
    "\n",
    "optimizer = tf.train.GradientDescentOptimizer(learning_rate).minimize(cost_function)\n",
    "print('Ok')"
   ]
  },
  {
   "cell_type": "markdown",
   "metadata": {},
   "source": [
    "<div style=\"background-color:#white; color:#008000; font-family: 'Courier New, Monospace;font-weight: bold\">Train the model</div>"
   ]
  },
  {
   "cell_type": "code",
   "execution_count": 22,
   "metadata": {},
   "outputs": [
    {
     "name": "stdout",
     "output_type": "stream",
     "text": [
      "2017-08-10 19:21:05 Iteration: 0001 cost= -4583.466073401\n",
      "2017-08-10 19:29:04 Iteration: 0002 cost= -5343.813674953\n",
      "2017-08-10 19:37:44 Iteration: 0003 cost= -5345.464782200\n",
      "2017-08-10 19:45:49 Iteration: 0004 cost= -5345.495898108\n",
      "2017-08-10 19:54:06 Iteration: 0005 cost= -5345.497127466\n",
      "2017-08-10 19:54:06 Training completed!\n"
     ]
    }
   ],
   "source": [
    "training_iteration = 5\n",
    "\n",
    "# Launch the graph\n",
    "sess = tf.Session()\n",
    "\n",
    "# Initializing the variables\n",
    "init = tf.global_variables_initializer()\n",
    "sess.run(init)\n",
    "\n",
    "# Training cycle\n",
    "for iteration in range(training_iteration):\n",
    "    avg_cost = 0.\n",
    "    total_batch = int(len(xTrain)/batch_size)\n",
    "\n",
    "    # Loop over all batches\n",
    "    for i in range(total_batch):\n",
    "        batch_xs = xTrain[i*batch_size:(i*batch_size)+batch_size]\n",
    "        batch_ys = yTrain[i*batch_size:(i*batch_size)+batch_size]                \n",
    "\n",
    "        # Fit training using batch data\n",
    "        sess.run(optimizer, feed_dict={x: batch_xs, y: batch_ys})\n",
    "        # Compute average loss\n",
    "        avg_cost += sess.run(cost_function, feed_dict={x: batch_xs, y: batch_ys})/total_batch\n",
    "\n",
    "    # Display logs per iteration step\n",
    "    #if iteration % display_step == 0:\n",
    "    print (datetime.datetime.now().strftime('%Y-%m-%d %H:%M:%S') + \" Iteration:\", '%04d' % (iteration + 1), \"cost=\", \"{:.9f}\".format(avg_cost))\n",
    "\n",
    "print (datetime.datetime.now().strftime('%Y-%m-%d %H:%M:%S') + \" Training completed!\")\n"
   ]
  },
  {
   "cell_type": "markdown",
   "metadata": {},
   "source": [
    "<div style=\"background-color:#white; color:#008000; font-family: 'Courier New, Monospace;font-weight: bold\">Test Hidden Periods</div>"
   ]
  },
  {
   "cell_type": "code",
   "execution_count": 23,
   "metadata": {},
   "outputs": [
    {
     "name": "stdout",
     "output_type": "stream",
     "text": [
      "             precision    recall  f1-score   support\n",
      "\n",
      "        0.0       0.92      0.92      0.92    206577\n",
      "        1.0       0.07      0.07      0.07     18975\n",
      "\n",
      "avg / total       0.84      0.85      0.85    225552\n",
      "\n",
      "* Precision = labelled as x / how many were actually x in the ones that were labelled\n",
      "* Recall = labelled as x / how many were actually x in the dataset\n",
      "0.0 Did not play music. 1.0 = Played muisc\r\n"
     ]
    }
   ],
   "source": [
    "predictions=[]\n",
    "# Testing cycle\n",
    "total_batch = int(len(xTest)/batch_size)\n",
    "\n",
    "if np.mod(len(xTest),batch_size) != 0:\n",
    "    # tf requires consistent inputs so need to pad\n",
    "    rowsToPad=batch_size-np.mod(len(xTest),batch_size)\n",
    "    padRows=np.zeros([rowsToPad,xTest.shape[1]])\n",
    "    xTest = np.append(xTest,padRows,axis=0)\n",
    "    padRows=np.zeros([rowsToPad,yTest.shape[1]])\n",
    "    yTest = np.append(yTest,padRows,axis=0)\n",
    "    total_batch += 1\n",
    " \n",
    "# Loop over all batches\n",
    "for i in range(total_batch):\n",
    "    batch_xs = xTest[i*batch_size:(i*batch_size)+batch_size]\n",
    "    batch_ys = yTest[i*batch_size:(i*batch_size)+batch_size]                \n",
    "\n",
    "    p=1*sess.run(tf.greater_equal(prediction, 0.5),feed_dict={x: batch_xs,y: batch_ys})\n",
    "    predictions= np.append(predictions,p)\n",
    "\n",
    "n=len(xTest)-rowsToPad\n",
    "xTest=xTest[0:n]\n",
    "yTest=yTest[0:n]\n",
    "predictions=predictions[0:n]\n",
    "\n",
    "print(metrics.classification_report(yTest,predictions))\n",
    "#print(metrics.confusion_matrix(yTest,predictions))\n",
    "print(\"* Precision = labelled as x / how many were actually x in the ones that were labelled\")\n",
    "print(\"* Recall = labelled as x / how many were actually x in the dataset\")\n",
    "print (\"0.0 Did not play music. 1.0 = Played muisc\\r\")"
   ]
  },
  {
   "cell_type": "markdown",
   "metadata": {},
   "source": [
    "<div style=\"background-color:#white; color:#008000; font-family: 'Courier New, Monospace;font-weight: bold\">Test Hidden Users</div>"
   ]
  },
  {
   "cell_type": "code",
   "execution_count": 57,
   "metadata": {},
   "outputs": [],
   "source": [
    "def predict_TestSet(xTest,yTest):\n",
    "    predictions=[]\n",
    "    total_batch = int(len(xTest)/batch_size)\n",
    "\n",
    "    if np.mod(len(xTest),batch_size) != 0:\n",
    "        # tf requires consistent inputs so need to pad\n",
    "        rowsToPad=batch_size-np.mod(len(xTest),batch_size)\n",
    "        padRows=np.zeros([rowsToPad,xTest.shape[1]])\n",
    "        xTest = np.append(xTest,padRows,axis=0)\n",
    "        padRows=np.zeros([rowsToPad,yTest.shape[1]])\n",
    "        yTest = np.append(yTest,padRows,axis=0)\n",
    "        total_batch += 1\n",
    "\n",
    "    # Loop over all batches\n",
    "    for i in range(total_batch):\n",
    "        batch_xs = xTest[i*batch_size:(i*batch_size)+batch_size]\n",
    "        batch_ys = yTest[i*batch_size:(i*batch_size)+batch_size]                \n",
    "\n",
    "        p=1*sess.run(tf.greater_equal(prediction, 0.5),feed_dict={x: batch_xs,y: batch_ys})\n",
    "        predictions= np.append(predictions,p)\n",
    "\n",
    "    n=len(xTest)-rowsToPad\n",
    "    xTest=xTest[0:n]\n",
    "    yTest=yTest[0:n]\n",
    "    predictions=predictions[0:n]\n",
    "\n",
    "    print(metrics.classification_report(yTest,predictions))\n",
    "    print(\"* Precision = labelled as x / how many were actually x in the ones that were labelled\")\n",
    "    print(\"* Recall = labelled as x / how many were actually x in the dataset\\r\")\n",
    "    print (\"0.0 Did not play music. 1.0 = Played muisc\\r\")\n",
    "\n",
    "    return yTest,predictions\n",
    "#print(metrics.confusion_matrix(yTest2,predictions))\n",
    "    #print (\"\\rConfusion matrix:\")"
   ]
  },
  {
   "cell_type": "code",
   "execution_count": 58,
   "metadata": {
    "scrolled": false
   },
   "outputs": [
    {
     "name": "stdout",
     "output_type": "stream",
     "text": [
      " #### Test data test ###\n",
      "             precision    recall  f1-score   support\n",
      "\n",
      "        0.0       0.84      0.62      0.72      4508\n",
      "        1.0       0.16      0.38      0.23       868\n",
      "\n",
      "avg / total       0.73      0.59      0.64      5376\n",
      "\n",
      "* Precision = labelled as x / how many were actually x in the ones that were labelled\n",
      "* Recall = labelled as x / how many were actually x in the dataset\n",
      "0.0 Did not play music. 1.0 = Played muisc\n",
      "             precision    recall  f1-score   support\n",
      "\n",
      "        0.0       0.83      0.61      0.70      4317\n",
      "        1.0       0.23      0.48      0.31      1059\n",
      "\n",
      "avg / total       0.71      0.58      0.62      5376\n",
      "\n",
      "* Precision = labelled as x / how many were actually x in the ones that were labelled\n",
      "* Recall = labelled as x / how many were actually x in the dataset\n",
      "0.0 Did not play music. 1.0 = Played muisc\n"
     ]
    },
    {
     "name": "stderr",
     "output_type": "stream",
     "text": [
      "/usr/local/lib/python3.5/dist-packages/ipykernel_launcher.py:12: DeprecationWarning: elementwise == comparison failed; this will raise an error in the future.\n",
      "  if sys.path[0] == '':\n"
     ]
    },
    {
     "name": "stdout",
     "output_type": "stream",
     "text": [
      "             precision    recall  f1-score   support\n",
      "\n",
      "        0.0       0.93      0.64      0.76      4816\n",
      "        1.0       0.16      0.59      0.25       560\n",
      "\n",
      "avg / total       0.85      0.63      0.70      5376\n",
      "\n",
      "* Precision = labelled as x / how many were actually x in the ones that were labelled\n",
      "* Recall = labelled as x / how many were actually x in the dataset\n",
      "0.0 Did not play music. 1.0 = Played muisc\n",
      "             precision    recall  f1-score   support\n",
      "\n",
      "        0.0       0.96      0.60      0.74      5012\n",
      "        1.0       0.10      0.62      0.17       364\n",
      "\n",
      "avg / total       0.90      0.60      0.70      5376\n",
      "\n",
      "* Precision = labelled as x / how many were actually x in the ones that were labelled\n",
      "* Recall = labelled as x / how many were actually x in the dataset\n",
      "0.0 Did not play music. 1.0 = Played muisc\n",
      "             precision    recall  f1-score   support\n",
      "\n",
      "        0.0       0.84      0.58      0.69      4677\n",
      "        1.0       0.08      0.25      0.12       699\n",
      "\n",
      "avg / total       0.74      0.54      0.61      5376\n",
      "\n",
      "* Precision = labelled as x / how many were actually x in the ones that were labelled\n",
      "* Recall = labelled as x / how many were actually x in the dataset\n",
      "0.0 Did not play music. 1.0 = Played muisc\n",
      "             precision    recall  f1-score   support\n",
      "\n",
      "        0.0       0.96      0.62      0.76      5121\n",
      "        1.0       0.06      0.46      0.10       255\n",
      "\n",
      "avg / total       0.92      0.62      0.72      5376\n",
      "\n",
      "* Precision = labelled as x / how many were actually x in the ones that were labelled\n",
      "* Recall = labelled as x / how many were actually x in the dataset\n",
      "0.0 Did not play music. 1.0 = Played muisc\n",
      "             precision    recall  f1-score   support\n",
      "\n",
      "        0.0       0.98      0.61      0.75      5132\n",
      "        1.0       0.08      0.74      0.15       244\n",
      "\n",
      "avg / total       0.94      0.62      0.73      5376\n",
      "\n",
      "* Precision = labelled as x / how many were actually x in the ones that were labelled\n",
      "* Recall = labelled as x / how many were actually x in the dataset\n",
      "0.0 Did not play music. 1.0 = Played muisc\n",
      "             precision    recall  f1-score   support\n",
      "\n",
      "        0.0       0.71      0.57      0.63      4008\n",
      "        1.0       0.20      0.32      0.25      1368\n",
      "\n",
      "avg / total       0.58      0.51      0.54      5376\n",
      "\n",
      "* Precision = labelled as x / how many were actually x in the ones that were labelled\n",
      "* Recall = labelled as x / how many were actually x in the dataset\n",
      "0.0 Did not play music. 1.0 = Played muisc\n",
      "             precision    recall  f1-score   support\n",
      "\n",
      "        0.0       0.76      0.58      0.66      4246\n",
      "        1.0       0.17      0.32      0.22      1130\n",
      "\n",
      "avg / total       0.64      0.52      0.56      5376\n",
      "\n",
      "* Precision = labelled as x / how many were actually x in the ones that were labelled\n",
      "* Recall = labelled as x / how many were actually x in the dataset\n",
      "0.0 Did not play music. 1.0 = Played muisc\n",
      "             precision    recall  f1-score   support\n",
      "\n",
      "        0.0       0.76      0.30      0.43      2299\n",
      "        1.0       0.10      0.44      0.16       389\n",
      "\n",
      "avg / total       0.66      0.32      0.39      2688\n",
      "\n",
      "* Precision = labelled as x / how many were actually x in the ones that were labelled\n",
      "* Recall = labelled as x / how many were actually x in the dataset\n",
      "0.0 Did not play music. 1.0 = Played muisc\n",
      "(51072,) (51072,)\n",
      "             precision    recall  f1-score   support\n",
      "\n",
      "        0.0       0.86      0.59      0.70     44136\n",
      "        1.0       0.14      0.41      0.20      6936\n",
      "\n",
      "avg / total       0.76      0.56      0.63     51072\n",
      "\n"
     ]
    }
   ],
   "source": [
    "# Test dataset\n",
    "print(' #### Test data test ###')\n",
    "totalLabels =[]\n",
    "totalPred = []\n",
    "# Hidden data test\n",
    "users=cc.getUsers(dbPath,testUserEquals = 1)\n",
    "for usr in users.itertuples():\n",
    "    _,_,xTest, yTest = cc.getHiddenPeriodsData(dbPath,tblName,fieldList,oneHot=False,periodGranularity=periodGranularity,userIDs=[usr.userID])\n",
    "    while (sum(yTest[1]) == 0): \n",
    "        _,_,xTest, yTest = cc.getHiddenPeriodsData(dbPath,tblName,fieldList,oneHot=False,periodGranularity=periodGranularity,userIDs=u)\n",
    "    \n",
    "    if totalLabels ==[]:\n",
    "        totalLabels, totalPred = predict_TestSet(xTest, yTest)\n",
    "    else:\n",
    "        l,p =predict_TestSet(xTest, yTest)\n",
    "        totalLabels = np.append(totalLabels,l)\n",
    "        totalPred = np.append(totalPred,p)\n",
    "\n",
    "print(np.shape(totalLabels),np.shape(totalPred))    \n",
    "print(metrics.classification_report(totalLabels,totalPred))  # Need to feed it yTest not yTest_OneHot here"
   ]
  },
  {
   "cell_type": "code",
   "execution_count": null,
   "metadata": {
    "scrolled": false
   },
   "outputs": [],
   "source": [
    "df=pd.DataFrame({'UserID': testDf2.UserID.values, 'Actual':yTest2.reshape(-1,), 'Predicted':predictions.tolist()})\n",
    "df['Period'] = df.index\n",
    "df['Correct'] = (df['Actual'] == df['Predicted'])*1\n",
    "df1 = df[df.Actual==1]\n",
    "df1.set_index(['UserID','Period'],inplace=True)\n",
    "\n",
    "df1= df1.assign(**{'Cum Correct': df1.groupby(level=0)[\"Correct\"].cumsum()})\n",
    "df1= df1.assign(**{'Cum Total': df1.groupby(level=0)[\"Actual\"].cumsum()})\n",
    "df1= df1.assign(**{'Cumulative %': df1.groupby(level=0)[\"Correct\"].cumsum()/df1.groupby(level=0)[\"Actual\"].cumsum()})\n",
    "\n",
    "for u in df1.index.get_level_values(0).unique():\n",
    "    tmp=df1.loc[u].head(5000)\n",
    "    ax=tmp.plot(y='Cumulative %',title='Correct Play event predictions. User {}'.format(u),figsize=(7,4),x=(tmp.index.values - min(tmp.index.values)))\n",
    "    ax.set_ylabel(\"Cum. Correct %\")\n",
    "    ax.set_xlabel(\"Period (30 min intervals)\")"
   ]
  },
  {
   "cell_type": "code",
   "execution_count": null,
   "metadata": {
    "scrolled": true
   },
   "outputs": [],
   "source": [
    "df[df.Predicted == 1]"
   ]
  },
  {
   "cell_type": "markdown",
   "metadata": {},
   "source": [
    "<h3 style=\"background-color:#616161;color:white\">4. My notes - please ignore</h3>"
   ]
  },
  {
   "cell_type": "markdown",
   "metadata": {},
   "source": [
    "Source: \n",
    "https://github.com/nfmcclure/tensorflow_cookbook/blob/master/04_Support_Vector_Machines/04_Working_with_Kernels/04_svm_kernels.ipynb\n",
    "\n",
    "https://github.com/nfmcclure/tensorflow_cookbook/blob/master/04_Support_Vector_Machines/04_Working_with_Kernels/04_svm_kernels.py\n",
    "\n",
    "\n",
    "Good resouorces: \n",
    "* http://mccormickml.com/2014/02/26/kernel-regression/\n",
    "* http://www.cc.gatech.edu/~isbell/tutorials/rbf-intro.pdf\n",
    "* http://perso.telecom-paristech.fr/~clemenco/Projets_ENPC_files/kernel-log-regression-svm-boosting.pdf\n",
    "\n",
    "Notes:\n",
    "$$P(y_t == 1) = b + \\sum_i w_i \\int RBF(t'; t-t_i, sigma_I) dt$$\n",
    "\n",
    "$$f(x)=b+\n",
    "\\sum^N_{i=1}w_iRBF(x,x_i)$$\n",
    "\n",
    "Where $w_i$ are the parameters of the linear regression and $t_i$,sigma_i are the parameters of the kernel (which can be optimised jointly or via CV). Then, for example, you could have t_i = [1 hour, 1 day, 1 week] and sigma_d = [10min, 1hour, 12hours]. That way it would give a real-valued score to all tracks played around 1 hour +-10min ago, around 1 day +-1hour ago, etc.\n",
    "\n",
    "This is a good reference: http://www.robots.ox.ac.uk/~az/lectures/ml/lect3.pdf\n",
    "$$x = test data$$\n",
    "$$x_i = train data$$\n",
    "$$rA = x_i^2$$\n",
    "$$rB=x^2$$\n",
    "$$\\gamma ||(x_i^2 -(x_i  x)^2 + x^2)||$$\n",
    "\n",
    "Note following how this is 'the exact same thing as above' or how it relates to the RBF formulas I see in the pdf ref\n",
    "\n",
    "\n",
    "\n",
    "The whole trick is based on the fact that you want to compute matrix $K_ij = K(x_i, x_j) = f(||x_i - x_j||^2)$ in an efficient manner. Matrix computations are based on dot products, thus multiplications, not on norm of a difference. If you do not want to use loops (and in languages like matlab or R you do not want to) you have to figure out how to express this $||x_i - x_j||^2$ using matrix operations, thus:\n",
    "\n",
    "$$||x_i - x_j||^2 = <x_i - x_j, x_i - x_j> \n",
    "                = <x_i, x_i> - <x_i, x_j> - <x_j, x_i> + <x_j, x_j>\n",
    "                = ||x_i||^2 - 2<x_i, x_j> + ||x_j||^2$$\n",
    "\n",
    "and this is exactly what is implemented\n",
    "\n",
    "First they take square of your data, as $||x_i||^2 = \\sum _a x_i_a^2$\n",
    "\n",
    "nms = $sum(X'.^2)$;\n",
    "\n",
    "next they use multiplication with vector of ones to compute the sum opertion getting\n",
    "\n",
    "nms'*ones(1,n)\n",
    "\n",
    "which is vector of ||x_i||^2's, and analogously vector of ||x_j||^2's is\n",
    "\n",
    "ones(n,1)*nms\n",
    "\n",
    "and finally they compose using decomposition I wrote before, thus\n",
    "\n",
    "-nms'*ones(1,n) -ones(n,1)*nms + 2*X*X')\n",
    "\n",
    "is just a matrix A_ij = - ||x_i - x_j ||^2\n",
    "\n",
    "In your case, you want to have division by 2sigma^2, thus just put it under the exp, after taking previous arugment in brackets, like\n",
    "\n",
    "Ks = exp(-(nms'*ones(1,n) -ones(n,1)*nms + 2*X*X')/(2*sigma^2));\n",
    "\n"
   ]
  },
  {
   "cell_type": "code",
   "execution_count": null,
   "metadata": {
    "collapsed": true
   },
   "outputs": [],
   "source": []
  }
 ],
 "metadata": {
  "anaconda-cloud": {},
  "kernelspec": {
   "display_name": "Python 3",
   "language": "python",
   "name": "python3"
  },
  "language_info": {
   "codemirror_mode": {
    "name": "ipython",
    "version": 3
   },
   "file_extension": ".py",
   "mimetype": "text/x-python",
   "name": "python",
   "nbconvert_exporter": "python",
   "pygments_lexer": "ipython3",
   "version": "3.5.2"
  }
 },
 "nbformat": 4,
 "nbformat_minor": 1
}
