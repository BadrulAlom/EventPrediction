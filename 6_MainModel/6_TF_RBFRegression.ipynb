{
 "cells": [
  {
   "cell_type": "markdown",
   "metadata": {},
   "source": [
    "<h1 align=\"center\" style=\"background-color:#616161;color:white\">Linear Regression with SVM</h1>\n",
    "\n",
    "Adapted from: https://github.com/nfmcclure/tensorflow_cookbook/tree/master/04_Support_Vector_Machines/03_Reduction_to_Linear_Regression\n"
   ]
  },
  {
   "cell_type": "markdown",
   "metadata": {},
   "source": [
    "<h3 style=\"background-color:#616161;color:white\">0. Setup</h3>"
   ]
  },
  {
   "cell_type": "markdown",
   "metadata": {},
   "source": [
    "<div style=\"background-color:white; color:#008000; font-family: 'Courier New, Monospace;font-weight: bold\">Input Parameters</div>"
   ]
  },
  {
   "cell_type": "code",
   "execution_count": 1,
   "metadata": {
    "collapsed": true
   },
   "outputs": [],
   "source": [
    "# Root path\n",
    "#root = \"C:/DS/Github/MusicRecommendation\"  # BA, Windows\n",
    "root = \"/home/badrul/git/EventPrediction\" # BA, Linux"
   ]
  },
  {
   "cell_type": "markdown",
   "metadata": {},
   "source": [
    "<div style=\"background-color:white; color:#008000; font-family: 'Courier New, Monospace;font-weight: bold\">Common Libraries</div>"
   ]
  },
  {
   "cell_type": "code",
   "execution_count": 2,
   "metadata": {
    "collapsed": true
   },
   "outputs": [],
   "source": [
    "# Core\n",
    "import numpy as np\n",
    "import pandas as pd\n",
    "from IPython.core.debugger import Tracer    # Used for debugging\n",
    "import logging\n",
    "\n",
    "# File and database management\n",
    "import csv\n",
    "import os\n",
    "import sys\n",
    "import json\n",
    "import sqlite3\n",
    "from pathlib import Path\n",
    "\n",
    "# Date/Time\n",
    "import datetime\n",
    "import time\n",
    "#from datetime import timedelta # Deprecated\n",
    "\n",
    "# Visualization\n",
    "import matplotlib.pyplot as plt             # Quick\n",
    "%matplotlib inline\n",
    "\n",
    "# Misc\n",
    "import random\n",
    "\n",
    "#-------------- Custom Libs -----------------#\n",
    "os.chdir(root)\n",
    "\n",
    "# Import the codebase module\n",
    "fPath = root + \"/1_codemodule\"\n",
    "if fPath not in sys.path: sys.path.append(fPath)\n",
    "\n",
    "# Custom Libs\n",
    "import coreCode as cc\n",
    "import lastfmCode as fm"
   ]
  },
  {
   "cell_type": "markdown",
   "metadata": {},
   "source": [
    "<div style=\"background-color:white; color:#008000; font-family: 'Courier New, Monospace;font-weight: bold\">Page Specific Libraries</div>"
   ]
  },
  {
   "cell_type": "code",
   "execution_count": 3,
   "metadata": {
    "collapsed": true
   },
   "outputs": [],
   "source": [
    "# Data science (comment out if not needed)\n",
    "#from sklearn.manifold import TSNE\n",
    "import tensorflow as tf\n",
    "from tensorflow.python.framework import ops\n",
    "ops.reset_default_graph()\n",
    "from sklearn import metrics\n",
    "from sklearn import preprocessing"
   ]
  },
  {
   "cell_type": "markdown",
   "metadata": {},
   "source": [
    "<div style=\"background-color:#white; color:#008000; font-family: 'Courier New, Monospace;font-weight: bold\">Declare Functions</div>"
   ]
  },
  {
   "cell_type": "code",
   "execution_count": 4,
   "metadata": {
    "collapsed": true
   },
   "outputs": [],
   "source": [
    "def getTrainAndTestData():\n",
    "    con = sqlite3.connect(dbPath)\n",
    "    c = con.cursor()\n",
    "\n",
    "    # Get list of UserIDs \n",
    "    users = pd.read_sql_query(\"Select UserID from tblUsers Where tblUsers.TestUser = 0\",con)\n",
    "\n",
    "    fieldList=\"t, UserID, HrsFrom6pm, isSun,isMon,isTue,isWed,isThu,isFri,isSat,t1,t2,t3,t4,t5,t10,t12hrs,t24hrs,t1wk,t2wks,t3wks,t4wks\"\n",
    "    trainDf=pd.DataFrame(columns=[fieldList])  # Create an emmpty df\n",
    "    testDf=pd.DataFrame(columns=[fieldList])  # Create an emmpty df\n",
    "    periodsInAMonth=int(60/periodGranularity)*24*7*4\n",
    "\n",
    "    totalRows=0\n",
    "    \n",
    "    for user in users.itertuples():\n",
    "        # Get training dataset\n",
    "        SqlStr=\"SELECT {} from tblTimeSeriesData where UserID = {}\".format(fieldList,user.userID)\n",
    "        df = pd.read_sql_query(SqlStr, con)\n",
    "        totalRows += len(df)\n",
    "    \n",
    "        # Cut-off 1\n",
    "        k = random.randint(periodsInAMonth, len(df))\n",
    "        #Tracer()()  -- for debugging purposes\n",
    "        testDf = testDf.append(df.iloc[k:k+periodsInAMonth])[df.columns.tolist()]\n",
    "\n",
    "        tmp = df.drop(df.index[k:k+periodsInAMonth])\n",
    "\n",
    "        # Cut-off 2\n",
    "        k = random.randint(periodsInAMonth, len(tmp))\n",
    "        testDf = testDf.append(tmp.iloc[k:k+periodsInAMonth])[df.columns.tolist()]\n",
    "        trainDf = trainDf.append(tmp.drop(tmp.index[k:k+periodsInAMonth]))[df.columns.tolist()]\n",
    "\n",
    "    if len(trainDf)+len(testDf) == totalRows:\n",
    "        print('Ok')\n",
    "    else:\n",
    "        print(\"Incorrect. Total Rows = {}. TestDf+TrainDf rows = {}+{}={}\".format(totalRows,len(testDf),len(trainDf),len(testDf)+len(trainDf)))\n",
    "        \n",
    "    return trainDf, testDf\n",
    "\n",
    "def getHiddenTestUsers(firstNPerc=1.0):\n",
    "    con = sqlite3.connect(dbPath)\n",
    "    c = con.cursor()\n",
    "\n",
    "    # Get list of UserIDs \n",
    "    users = pd.read_sql_query(\"Select UserID from tblUsers Where tblUsers.TestUser = 1\",con)\n",
    "\n",
    "    fieldList=\"t, PeriodID, UserID, HrsFrom6pm, isSun,isMon,isTue,isWed,isThu,isFri,isSat,t1,t2,t3,t4,t5,t10,t12hrs,t24hrs,t1wk,t2wks,t3wks,t4wks\"\n",
    "    testDf=pd.DataFrame(columns=[fieldList])  # Create an emmpty df\n",
    "    periodsInAMonth=int(60/periodGranularity)*24*7*4\n",
    "\n",
    "    totalRows=0\n",
    "    \n",
    "    for user in users.itertuples():\n",
    "        # Get training dataset\n",
    "        SqlStr=\"SELECT {} from tblTimeSeriesData where UserID = {}\".format(fieldList,user.userID)\n",
    "    \n",
    "        df = pd.read_sql_query(SqlStr, con)\n",
    "        df[\"PeriodID\"] = df[\"PeriodID\"].astype(int)\n",
    "        df.sort_values(['PeriodID'])\n",
    "        totalRows += len(df)\n",
    "        # Caluclate period cutt-off\n",
    "        cutoff = int(len(df)*firstNPerc)\n",
    "        testDf = testDf.append(df.iloc[0:cutoff])[df.columns.tolist()]\n",
    " \n",
    "    testDf[\"PeriodID\"] =  testDf[\"PeriodID\"].astype(int)\n",
    "    testDf[\"UserID\"] =  testDf[\"UserID\"].astype(int)\n",
    "    testDf.sort_values(['UserID','PeriodID'], inplace=True)\n",
    "    return testDf\n"
   ]
  },
  {
   "cell_type": "markdown",
   "metadata": {},
   "source": [
    "<div style=\"background-color:#white; color:#008000; font-family: 'Courier New, Monospace;font-weight: bold\">Load settings</div>"
   ]
  },
  {
   "cell_type": "code",
   "execution_count": 5,
   "metadata": {
    "collapsed": true
   },
   "outputs": [],
   "source": [
    "settingsDict =  cc.loadSettings()\n",
    "dbPath = root + settingsDict['mainDbPath']\n",
    "fmSimilarDbPath = root + settingsDict['fmSimilarDbPath']\n",
    "fmTagsDbPath = root + settingsDict['fmTagsDbPath']\n",
    "trackMetaDbPath = root + settingsDict['trackmetadata']\n",
    "periodGranularity = int(settingsDict['periodGranularity'])"
   ]
  },
  {
   "cell_type": "markdown",
   "metadata": {},
   "source": [
    "<h3 style=\"background-color:#616161;color:white\">1. Load data</h3>"
   ]
  },
  {
   "cell_type": "code",
   "execution_count": 6,
   "metadata": {},
   "outputs": [
    {
     "name": "stdout",
     "output_type": "stream",
     "text": [
      "Ok\n"
     ]
    }
   ],
   "source": [
    "trainDf,testDf = getTrainAndTestData()\n",
    "\n",
    "#trainDf['t'].replace(to_replace='0', value='-1', inplace=True)\n",
    "#testDf['t'].replace(to_replace='0', value='-1', inplace=True)\n",
    "xTrain = trainDf.drop(['t','UserID'], 1).values\n",
    "yTrain = trainDf['t'].values.astype(int)\n",
    "# Change the 0's to -1\n",
    "#yTrain = np.array([1 if y==1 else -1 for y in yTrain])\n",
    "yTrain =yTrain.reshape(len(yTrain),1)\n",
    "\n",
    "# Test data\n",
    "xTest= testDf.drop(['t','UserID'], 1).values\n",
    "yTest = testDf['t'].values.astype(int)\n",
    "#yTrain_test = np.array([1 if y==1 else -1 for y in yTrain_test])\n",
    "yTest=yTest.reshape(len(yTest),1)\n",
    "\n",
    "\n",
    "# One-Hot version\n",
    "yTrain_onehot = pd.get_dummies(trainDf['t']).values.astype(float)\n",
    "# One-Hot version\n",
    "yTest_onehot = pd.get_dummies(testDf['t']).values.astype(float)"
   ]
  },
  {
   "cell_type": "markdown",
   "metadata": {},
   "source": [
    "<div style=\"background-color:#white; color:#008000; font-family: 'Courier New, Monospace;font-weight: bold\">Confirm dimensions</div>"
   ]
  },
  {
   "cell_type": "code",
   "execution_count": 7,
   "metadata": {},
   "outputs": [
    {
     "data": {
      "text/plain": [
       "((1355016, 20), (1355016, 1), (1355016, 2))"
      ]
     },
     "execution_count": 7,
     "metadata": {},
     "output_type": "execute_result"
    }
   ],
   "source": [
    "numOfFeatures = np.shape(xTrain)[1]\n",
    "np.shape(xTrain),np.shape(yTrain),np.shape(yTrain_onehot)"
   ]
  },
  {
   "cell_type": "code",
   "execution_count": 8,
   "metadata": {},
   "outputs": [
    {
     "data": {
      "text/plain": [
       "((82771, 20), (82771, 1), (82771, 2))"
      ]
     },
     "execution_count": 8,
     "metadata": {},
     "output_type": "execute_result"
    }
   ],
   "source": [
    "np.shape(xTest), np.shape( yTest),np.shape(yTest_onehot)"
   ]
  },
  {
   "cell_type": "markdown",
   "metadata": {},
   "source": [
    "<h3 style=\"background-color:#616161;color:white\">3. Model Three: Logistic Regression with RBF Kernel</h3>"
   ]
  },
  {
   "cell_type": "code",
   "execution_count": 9,
   "metadata": {},
   "outputs": [
    {
     "name": "stdout",
     "output_type": "stream",
     "text": [
      "Ok\n"
     ]
    }
   ],
   "source": [
    "# Set parameters\n",
    "learning_rate = 0.01\n",
    "training_iteration = 1\n",
    "display_step = 2\n",
    "\n",
    "batch_size=2000\n",
    "    \n",
    "numOfFeatures=20 # 784 for MNIST\n",
    "numOfClasses=1\n",
    "    \n",
    "# TF graph input\n",
    "x = tf.placeholder(\"float\", [None, numOfFeatures]) # mnist data image of shape 28*28=784\n",
    "y = tf.placeholder(\"float\", [None, numOfClasses]) # 0-9 digits recognition => 10 classes\n",
    "prediction_grid = tf.placeholder(shape=[None, 1], dtype=tf.float32)   # Only needed for a 1d problem - see later on\n",
    "\n",
    "# Create a model\n",
    "\n",
    "# Set model weights\n",
    "W = tf.Variable(tf.zeros([numOfFeatures, numOfClasses]))\n",
    "#b = tf.Variable(tf.zeros([numOfClasses]))\n",
    "# Create variables for svm\n",
    "b = tf.Variable(tf.random_normal(shape=[1,batch_size]))   # *****Should this be 20 , batch_size?*****\n",
    "\n",
    "# Define RBF Kernel: https://stackoverflow.com/questions/37362258/creating-a-radial-basis-function-kernel-matrix-in-matlab\n",
    "# Gaussian (RBF) training function\n",
    "gamma = tf.constant(-50.0)\n",
    "dist = tf.reshape(tf.reduce_sum(tf.square(x), 1), [-1,1])\n",
    "sq_dists = tf.add(tf.subtract(dist, tf.multiply(2., tf.matmul(x, tf.transpose(x)))), tf.transpose(dist))\n",
    "RBFKernel = tf.exp(tf.multiply(gamma, tf.abs(sq_dists)))\n",
    "\n",
    "\n",
    "# ******This is the code for if you are using an input grid to test out lots of x values. Not going to use this for multi-dim\n",
    "#rB = tf.reshape(tf.reduce_sum(tf.square(prediction_grid), 1),[-1,1]) \n",
    "#sq_distPred = tf.add(tf.subtract(distPred, tf.multiply(2., tf.matmul(x, tf.transpose(prediction_grid)))), tf.transpose(rB))\n",
    "# *****Instead we will use the same kernel as above. \n",
    "\n",
    "prediction_output = tf.matmul(tf.multiply(tf.transpose(y),b), RBFKernel)\n",
    "prediction = tf.reshape(prediction_output-tf.reduce_mean(prediction_output),[-1,1])\n",
    "accuracy = tf.reduce_mean(tf.cast(tf.equal(tf.squeeze(prediction), tf.squeeze(y)), tf.float32))\n",
    "\n",
    "##### Compute cost function\n",
    "\n",
    "first_term = tf.reduce_sum(b)   # sum all elements together\n",
    "bsq = tf.matmul(tf.transpose(b), b)    # b^2\n",
    "ysq = tf.matmul(y, tf.transpose(y))  # y^2\n",
    "second_term = tf.reduce_sum(tf.multiply(RBFKernel, tf.multiply(bsq, ysq)))\n",
    "cost_function = tf.negative(tf.subtract(first_term, second_term))\n",
    "\n",
    "optimizer = tf.train.GradientDescentOptimizer(learning_rate).minimize(cost_function)\n",
    "print('Ok')"
   ]
  },
  {
   "cell_type": "markdown",
   "metadata": {},
   "source": [
    "<div style=\"background-color:#white; color:#008000; font-family: 'Courier New, Monospace;font-weight: bold\">Train the model</div>"
   ]
  },
  {
   "cell_type": "code",
   "execution_count": 10,
   "metadata": {},
   "outputs": [
    {
     "name": "stdout",
     "output_type": "stream",
     "text": [
      "Training completed!\n"
     ]
    }
   ],
   "source": [
    "# Launch the graph\n",
    "sess = tf.Session()\n",
    "\n",
    "# Initializing the variables\n",
    "init = tf.global_variables_initializer()\n",
    "sess.run(init)\n",
    "\n",
    "# Training cycle\n",
    "for iteration in range(training_iteration):\n",
    "    avg_cost = 0.\n",
    "    total_batch = int(len(xTrain)/batch_size)\n",
    "\n",
    "    # Loop over all batches\n",
    "    for i in range(total_batch):\n",
    "        batch_xs = xTrain[i*batch_size:(i*batch_size)+batch_size]\n",
    "        batch_ys = yTrain[i*batch_size:(i*batch_size)+batch_size]                \n",
    "\n",
    "        # Fit training using batch data\n",
    "        sess.run(optimizer, feed_dict={x: batch_xs, y: batch_ys})\n",
    "        # Compute average loss\n",
    "        avg_cost += sess.run(cost_function, feed_dict={x: batch_xs, y: batch_ys})/total_batch\n",
    "\n",
    "    # Display logs per eiteration step\n",
    "    #if iteration % display_step == 0:\n",
    "    #    print (\"Iteration:\", '%04d' % (iteration + 1), \"cost=\", \"{:.9f}\".format(avg_cost))\n",
    "\n",
    "print (\"Training completed!\")\n"
   ]
  },
  {
   "cell_type": "markdown",
   "metadata": {},
   "source": [
    "<div style=\"background-color:#white; color:#008000; font-family: 'Courier New, Monospace;font-weight: bold\">Test Hidden Periods</div>"
   ]
  },
  {
   "cell_type": "code",
   "execution_count": 11,
   "metadata": {},
   "outputs": [
    {
     "name": "stdout",
     "output_type": "stream",
     "text": [
      "             precision    recall  f1-score   support\n",
      "\n",
      "        0.0       1.00      0.95      0.98     73972\n",
      "        1.0       0.71      1.00      0.83      8799\n",
      "\n",
      "avg / total       0.97      0.96      0.96     82771\n",
      "\n",
      "[[70465  3507]\n",
      " [    3  8796]]\n",
      "* Precision = labelled as x / how many were actually x in the ones that were labelled\n",
      "* Recall = labelled as x / how many were actually x in the dataset\n"
     ]
    }
   ],
   "source": [
    "predictions=[]\n",
    "# Testing cycle\n",
    "total_batch = int(len(xTest)/batch_size)\n",
    "\n",
    "if np.mod(len(xTest),batch_size) != 0:\n",
    "    # tf requires consistent inputs so need to pad\n",
    "    rowsToPad=batch_size-np.mod(len(xTest),batch_size)\n",
    "    padRows=np.zeros([rowsToPad,xTest.shape[1]])\n",
    "    xTest = np.append(xTest,padRows,axis=0)\n",
    "    padRows=np.zeros([rowsToPad,yTest.shape[1]])\n",
    "    yTest = np.append(yTest,padRows,axis=0)\n",
    "    total_batch += 1\n",
    " \n",
    "# Loop over all batches\n",
    "for i in range(total_batch):\n",
    "    batch_xs = xTest[i*batch_size:(i*batch_size)+batch_size]\n",
    "    batch_ys = yTest[i*batch_size:(i*batch_size)+batch_size]                \n",
    "\n",
    "    p=1*sess.run(tf.greater_equal(prediction, 0.5),feed_dict={x: batch_xs,y: batch_ys})\n",
    "    predictions= np.append(predictions,p)\n",
    "\n",
    "n=len(xTest)-rowsToPad\n",
    "xTest=xTest[0:n]\n",
    "yTest=yTest[0:n]\n",
    "predictions=predictions[0:n]\n",
    "\n",
    "print(metrics.classification_report(yTest,predictions))\n",
    "print(metrics.confusion_matrix(yTest,predictions))\n",
    "print(\"* Precision = labelled as x / how many were actually x in the ones that were labelled\")\n",
    "print(\"* Recall = labelled as x / how many were actually x in the dataset\")"
   ]
  },
  {
   "cell_type": "markdown",
   "metadata": {},
   "source": [
    "<div style=\"background-color:#white; color:#008000; font-family: 'Courier New, Monospace;font-weight: bold\">Test Hidden Users</div>"
   ]
  },
  {
   "cell_type": "code",
   "execution_count": 12,
   "metadata": {},
   "outputs": [
    {
     "name": "stdout",
     "output_type": "stream",
     "text": [
      "             precision    recall  f1-score   support\n",
      "\n",
      "        0.0       1.00      0.96      0.98    212565\n",
      "        1.0       0.68      1.00      0.81     17617\n",
      "\n",
      "avg / total       0.98      0.96      0.97    230182\n",
      "\n",
      "[[204209   8356]\n",
      " [     5  17612]]\n",
      "* Precision = labelled as x / how many were actually x in the ones that were labelled\n",
      "* Recall = labelled as x / how many were actually x in the dataset\n"
     ]
    }
   ],
   "source": [
    "# Get data\n",
    "testDf2 = getHiddenTestUsers(firstNPerc=0.5)  # Get the first half of everyones history\n",
    "xTest = testDf2.drop(['t','UserID','PeriodID'], 1).values\n",
    "yTest = testDf2['t'].values.astype(int)\n",
    "yTest=yTest.reshape(len(yTest),1)\n",
    "\n",
    "predictions=[]\n",
    "total_batch = int(len(xTest)/batch_size)\n",
    "\n",
    "if np.mod(len(xTest),batch_size) != 0:\n",
    "    # tf requires consistent inputs so need to pad\n",
    "    rowsToPad=batch_size-np.mod(len(xTest),batch_size)\n",
    "    padRows=np.zeros([rowsToPad,xTest.shape[1]])\n",
    "    xTest = np.append(xTest,padRows,axis=0)\n",
    "    padRows=np.zeros([rowsToPad,yTest.shape[1]])\n",
    "    yTest = np.append(yTest,padRows,axis=0)\n",
    "    total_batch += 1\n",
    " \n",
    "# Loop over all batches\n",
    "for i in range(total_batch):\n",
    "    batch_xs = xTest[i*batch_size:(i*batch_size)+batch_size]\n",
    "    batch_ys = yTest[i*batch_size:(i*batch_size)+batch_size]                \n",
    "\n",
    "    p=1*sess.run(tf.greater_equal(prediction, 0.5),feed_dict={x: batch_xs,y: batch_ys})\n",
    "    predictions= np.append(predictions,p)\n",
    "\n",
    "n=len(xTest)-rowsToPad\n",
    "xTest=xTest[0:n]\n",
    "yTest=yTest[0:n]\n",
    "predictions=predictions[0:n]\n",
    "\n",
    "print(metrics.classification_report(yTest,predictions))\n",
    "print(metrics.confusion_matrix(yTest,predictions))\n",
    "print(\"* Precision = labelled as x / how many were actually x in the ones that were labelled\")\n",
    "print(\"* Recall = labelled as x / how many were actually x in the dataset\")"
   ]
  },
  {
   "cell_type": "markdown",
   "metadata": {},
   "source": [
    "<div style=\"background-color:#white; color:#008000; font-family: 'Courier New, Monospace;font-weight: bold\">Notes on RBF</div>"
   ]
  },
  {
   "cell_type": "markdown",
   "metadata": {},
   "source": [
    "Source: \n",
    "https://github.com/nfmcclure/tensorflow_cookbook/blob/master/04_Support_Vector_Machines/04_Working_with_Kernels/04_svm_kernels.ipynb\n",
    "\n",
    "https://github.com/nfmcclure/tensorflow_cookbook/blob/master/04_Support_Vector_Machines/04_Working_with_Kernels/04_svm_kernels.py\n",
    "\n",
    "\n",
    "Good resouorces: \n",
    "* http://mccormickml.com/2014/02/26/kernel-regression/\n",
    "* http://www.cc.gatech.edu/~isbell/tutorials/rbf-intro.pdf\n",
    "* http://perso.telecom-paristech.fr/~clemenco/Projets_ENPC_files/kernel-log-regression-svm-boosting.pdf\n",
    "\n",
    "Notes:\n",
    "$$P(y_t == 1) = b + \\sum_i w_i \\int RBF(t'; t-t_i, sigma_I) dt$$\n",
    "\n",
    "$$f(x)=b+\n",
    "\\sum^N_{i=1}w_iRBF(x,x_i)$$\n",
    "\n",
    "Where $w_i$ are the parameters of the linear regression and $t_i$,sigma_i are the parameters of the kernel (which can be optimised jointly or via CV). Then, for example, you could have t_i = [1 hour, 1 day, 1 week] and sigma_d = [10min, 1hour, 12hours]. That way it would give a real-valued score to all tracks played around 1 hour +-10min ago, around 1 day +-1hour ago, etc.\n",
    "\n",
    "This is a good reference: http://www.robots.ox.ac.uk/~az/lectures/ml/lect3.pdf\n",
    "$$x = test data$$\n",
    "$$x_i = train data$$\n",
    "$$rA = x_i^2$$\n",
    "$$rB=x^2$$\n",
    "$$\\gamma ||(x_i^2 -(x_i  x)^2 + x^2)||$$\n",
    "\n",
    "Note following how this is 'the exact same thing as above' or how it relates to the RBF formulas I see in the pdf ref\n",
    "\n",
    "\n",
    "\n",
    "The whole trick is based on the fact that you want to compute matrix $K_ij = K(x_i, x_j) = f(||x_i - x_j||^2)$ in an efficient manner. Matrix computations are based on dot products, thus multiplications, not on norm of a difference. If you do not want to use loops (and in languages like matlab or R you do not want to) you have to figure out how to express this $||x_i - x_j||^2$ using matrix operations, thus:\n",
    "\n",
    "$$||x_i - x_j||^2 = <x_i - x_j, x_i - x_j> \n",
    "                = <x_i, x_i> - <x_i, x_j> - <x_j, x_i> + <x_j, x_j>\n",
    "                = ||x_i||^2 - 2<x_i, x_j> + ||x_j||^2$$\n",
    "\n",
    "and this is exactly what is implemented\n",
    "\n",
    "First they take square of your data, as $||x_i||^2 = \\sum _a x_i_a^2$\n",
    "\n",
    "nms = $sum(X'.^2)$;\n",
    "\n",
    "next they use multiplication with vector of ones to compute the sum opertion getting\n",
    "\n",
    "nms'*ones(1,n)\n",
    "\n",
    "which is vector of ||x_i||^2's, and analogously vector of ||x_j||^2's is\n",
    "\n",
    "ones(n,1)*nms\n",
    "\n",
    "and finally they compose using decomposition I wrote before, thus\n",
    "\n",
    "-nms'*ones(1,n) -ones(n,1)*nms + 2*X*X')\n",
    "\n",
    "is just a matrix A_ij = - ||x_i - x_j ||^2\n",
    "\n",
    "In your case, you want to have division by 2sigma^2, thus just put it under the exp, after taking previous arugment in brackets, like\n",
    "\n",
    "Ks = exp(-(nms'*ones(1,n) -ones(n,1)*nms + 2*X*X')/(2*sigma^2));\n",
    "\n"
   ]
  }
 ],
 "metadata": {
  "anaconda-cloud": {},
  "kernelspec": {
   "display_name": "Python 3",
   "language": "python",
   "name": "python3"
  },
  "language_info": {
   "codemirror_mode": {
    "name": "ipython",
    "version": 3
   },
   "file_extension": ".py",
   "mimetype": "text/x-python",
   "name": "python",
   "nbconvert_exporter": "python",
   "pygments_lexer": "ipython3",
   "version": "3.5.2"
  }
 },
 "nbformat": 4,
 "nbformat_minor": 1
}
