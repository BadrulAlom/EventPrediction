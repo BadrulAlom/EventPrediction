{
 "cells": [
  {
   "cell_type": "code",
   "execution_count": null,
   "metadata": {
    "collapsed": true
   },
   "outputs": [],
   "source": [
    "s = fm.getSimilariityAll(fmSimilarDbPath,0.8)\n",
    "model = gensim.models.Word2Vec.load(root + '/3_data/song2vec/model')\n",
    "w2v_model_accuracy(model,s)\n",
    "\n",
    "print ('Tiger & Dog', model.similarity('Tiger','Dog'))\n",
    "print ('Tiger & Lion', model.similarity('Tiger','Lion'))\n",
    "print ('Car & House',model.similarity('Car','House'))\n",
    "print ('Lion & Cat',model.similarity('Lion','Cat'))\n",
    "print ('Car & Van',model.similarity('Car','Van'))\n",
    "\n",
    "\n",
    "### TSNE\n",
    "#numOfDots = 20\n",
    "#vocab = list(model.wv.vocab)  # Get back the tid list\n",
    "#V = model[vocab]            # Get the word2vec vectors\n",
    "\n",
    "#generateTSNE (V,vocab)\n",
    "#s = fm.convertTrackIDTo(trackMetaDbPath,vocab,'title')\n",
    "#generateTSNE (V,s)\n"
   ]
  }
 ],
 "metadata": {
  "kernelspec": {
   "display_name": "Python 3",
   "language": "python",
   "name": "python3"
  },
  "language_info": {
   "codemirror_mode": {
    "name": "ipython",
    "version": 3
   },
   "file_extension": ".py",
   "mimetype": "text/x-python",
   "name": "python",
   "nbconvert_exporter": "python",
   "pygments_lexer": "ipython3",
   "version": "3.6.1"
  }
 },
 "nbformat": 4,
 "nbformat_minor": 2
}
