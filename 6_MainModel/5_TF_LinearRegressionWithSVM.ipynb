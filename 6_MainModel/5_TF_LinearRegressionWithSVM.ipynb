{
 "cells": [
  {
   "cell_type": "markdown",
   "metadata": {},
   "source": [
    "<h1 align=\"center\" style=\"background-color:#616161;color:white\">Linear Regression with SVM</h1>\n",
    "\n",
    "Adapted from: https://github.com/nfmcclure/tensorflow_cookbook/tree/master/04_Support_Vector_Machines/03_Reduction_to_Linear_Regression\n"
   ]
  },
  {
   "cell_type": "markdown",
   "metadata": {},
   "source": [
    "<h3 style=\"background-color:#616161;color:white\">0. Setup</h3>"
   ]
  },
  {
   "cell_type": "markdown",
   "metadata": {},
   "source": [
    "<div style=\"background-color:white; color:#008000; font-family: 'Courier New, Monospace;font-weight: bold\">Input Parameters</div>"
   ]
  },
  {
   "cell_type": "code",
   "execution_count": 1,
   "metadata": {
    "collapsed": true
   },
   "outputs": [],
   "source": [
    "PeriodGranularity = 30 # E.g. 15, 30, 60\n",
    "# Train / Test split\n",
    "newUsers = 10   # Num of randomly selected users to separate out of eval 2\n",
    "rndPeriods = 3 # Num of random periods from each use to select\n",
    "rndPeriodsLength = int(60/PeriodGranularity) * 24 * 7 * 4     # How long the random test period should cover\n",
    "\n",
    "# Root path\n",
    "#root = \"C:/DS/Github/MusicRecommendation\"  # BA, Windows\n",
    "root = \"/home/badrul/Documents/git/MusicRecommendation\" # BA, Linux"
   ]
  },
  {
   "cell_type": "markdown",
   "metadata": {},
   "source": [
    "<div style=\"background-color:white; color:#008000; font-family: 'Courier New, Monospace;font-weight: bold\">Common Libraries</div>"
   ]
  },
  {
   "cell_type": "code",
   "execution_count": 2,
   "metadata": {
    "collapsed": true
   },
   "outputs": [],
   "source": [
    "# Core\n",
    "import numpy as np\n",
    "import pandas as pd\n",
    "from IPython.core.debugger import Tracer    # Used for debugging\n",
    "import logging\n",
    "\n",
    "# File and database management\n",
    "import csv\n",
    "import os\n",
    "import sys\n",
    "import json\n",
    "import sqlite3\n",
    "from pathlib import Path\n",
    "\n",
    "# Date/Time\n",
    "import datetime\n",
    "import time\n",
    "#from datetime import timedelta # Deprecated\n",
    "\n",
    "# Visualization\n",
    "import matplotlib.pyplot as plt             # Quick\n",
    "%matplotlib inline\n",
    "\n",
    "# Misc\n",
    "import random\n",
    "\n",
    "#-------------- Custom Libs -----------------#\n",
    "os.chdir(root)\n",
    "\n",
    "# Import the codebase module\n",
    "fPath = root + \"/1_codemodule\"\n",
    "if fPath not in sys.path: sys.path.append(fPath)\n",
    "\n",
    "# Custom Libs\n",
    "import coreCode as cc\n",
    "import lastfmCode as fm"
   ]
  },
  {
   "cell_type": "markdown",
   "metadata": {},
   "source": [
    "<div style=\"background-color:white; color:#008000; font-family: 'Courier New, Monospace;font-weight: bold\">Page Specific Libraries</div>"
   ]
  },
  {
   "cell_type": "code",
   "execution_count": 3,
   "metadata": {
    "collapsed": true
   },
   "outputs": [],
   "source": [
    "# Data science (comment out if not needed)\n",
    "#from sklearn.manifold import TSNE\n",
    "import tensorflow as tf\n",
    "from tensorflow.python.framework import ops\n",
    "ops.reset_default_graph()\n",
    "from sklearn import metrics\n",
    "from sklearn import preprocessing"
   ]
  },
  {
   "cell_type": "markdown",
   "metadata": {},
   "source": [
    "<div style=\"background-color:#white; color:#008000; font-family: 'Courier New, Monospace;font-weight: bold\">Declare Functions</div>"
   ]
  },
  {
   "cell_type": "code",
   "execution_count": null,
   "metadata": {
    "collapsed": true
   },
   "outputs": [],
   "source": []
  },
  {
   "cell_type": "markdown",
   "metadata": {},
   "source": [
    "<div style=\"background-color:#white; color:#008000; font-family: 'Courier New, Monospace;font-weight: bold\">Load settings</div>"
   ]
  },
  {
   "cell_type": "code",
   "execution_count": 4,
   "metadata": {
    "collapsed": true
   },
   "outputs": [],
   "source": [
    "settingsDict =  cc.loadSettings()\n",
    "dbPath = root + settingsDict['mainDbPath']\n",
    "fmSimilarDbPath = root + settingsDict['fmSimilarDbPath']\n",
    "fmTagsDbPath = root + settingsDict['fmTagsDbPath']\n",
    "trackMetaDbPath = root + settingsDict['trackmetadata']"
   ]
  },
  {
   "cell_type": "markdown",
   "metadata": {},
   "source": [
    "<h3 style=\"background-color:#616161;color:white\">1. Load data</h3>"
   ]
  },
  {
   "cell_type": "code",
   "execution_count": 5,
   "metadata": {},
   "outputs": [
    {
     "name": "stdout",
     "output_type": "stream",
     "text": [
      "Ok\n"
     ]
    }
   ],
   "source": [
    "def getTrainAndTestData():\n",
    "    con = sqlite3.connect(dbPath)\n",
    "    c = con.cursor()\n",
    "\n",
    "    # Get list of UserIDs \n",
    "    trainUsers = pd.read_sql_query(\"Select UserID from tblUsers Where tblUsers.TestUser = 0\",con)\n",
    "\n",
    "    fieldList=\"t, UserID, HrsFrom6pm, isSun,isMon,isTue,isWed,isThu,isFri,isSat,t1,t2,t3,t4,t5,t10,t12hrs,t24hrs,t1wk,t2wks,t3wks,t4wks\"\n",
    "    trainDf=pd.DataFrame(columns=[fieldList])  # Create an emmpty df\n",
    "    testDf=pd.DataFrame(columns=[fieldList])  # Create an emmpty df\n",
    "    periodsInAMonth=int(60/PeriodGranularity)*24*7*4\n",
    "\n",
    "    totalRows=0\n",
    "    \n",
    "    for user in trainUsers.itertuples():\n",
    "        # Get training dataset\n",
    "        SqlStr=\"SELECT {} from tblTimeSeriesData where UserID = {}\".format(fieldList,user.userID)\n",
    "        df = pd.read_sql_query(SqlStr, con)\n",
    "        totalRows += len(df)\n",
    "    \n",
    "        # Cut-off 1\n",
    "        k = random.randint(periodsInAMonth, len(df))\n",
    "        #Tracer()()  -- for debugging purposes\n",
    "        testDf = testDf.append(df.iloc[k:k+periodsInAMonth])[df.columns.tolist()]\n",
    "\n",
    "        tmp = df.drop(df.index[k:k+periodsInAMonth])\n",
    "\n",
    "        # Cut-off 2\n",
    "        k = random.randint(periodsInAMonth, len(tmp))\n",
    "        testDf = testDf.append(tmp.iloc[k:k+periodsInAMonth])[df.columns.tolist()]\n",
    "        trainDf = trainDf.append(tmp.drop(tmp.index[k:k+periodsInAMonth]))[df.columns.tolist()]\n",
    "\n",
    "    if len(trainDf)+len(testDf) == totalRows:\n",
    "        print('Ok')\n",
    "    else:\n",
    "        print(\"Incorrect. Total Rows = {}. TestDf+TrainDf rows = {}+{}={}\".format(totalRows,len(testDf),len(trainDf),len(testDf)+len(trainDf)))\n",
    "        \n",
    "    return trainDf, testDf\n",
    "\n",
    "trainDf,testDf = getTrainAndTestData()\n",
    "\n",
    "#trainDf = trainDf.iloc[0:2000]\n",
    "#testDf = testDf.iloc[0:2000]\n",
    "\n",
    "trainDf['t'].replace(to_replace='0', value='-1', inplace=True)\n",
    "testDf['t'].replace(to_replace='0', value='-1', inplace=True)\n",
    "x_vals = trainDf.drop(['t','UserID'], 1).values\n",
    "y_vals = trainDf['t'].values.astype(int)\n",
    "\n",
    "# Change the 0's to -1\n",
    "y_vals = np.array([1 if y==1 else -1 for y in y_vals])\n",
    "y_vals =y_vals.reshape(len(y_vals),1)\n",
    "\n",
    "# One-Hot version\n",
    "y_vals_onehot = pd.get_dummies(trainDf['t']).values.astype(float)\n",
    "\n",
    "# Test data\n",
    "x_vals_test= testDf.drop(['t','UserID'], 1).values\n",
    "y_vals_test = testDf['t'].values.astype(int)\n",
    "y_vals_test = np.array([1 if y==1 else -1 for y in y_vals_test])\n",
    "y_vals_test=y_vals_test.reshape(len(y_vals_test),1)\n",
    "\n",
    "# One-Hot version\n",
    "y_vals_test_onehot = pd.get_dummies(testDf['t']).values.astype(float)"
   ]
  },
  {
   "cell_type": "markdown",
   "metadata": {},
   "source": [
    "<div style=\"background-color:#white; color:#008000; font-family: 'Courier New, Monospace;font-weight: bold\">Confirm dimensions</div>"
   ]
  },
  {
   "cell_type": "code",
   "execution_count": 6,
   "metadata": {},
   "outputs": [
    {
     "data": {
      "text/plain": [
       "((937173, 20), (937173, 1), (937173, 2))"
      ]
     },
     "execution_count": 6,
     "metadata": {},
     "output_type": "execute_result"
    }
   ],
   "source": [
    "numOfFeatures = np.shape(x_vals)[1]\n",
    "np.shape(x_vals),np.shape(y_vals),np.shape(y_vals_onehot)"
   ]
  },
  {
   "cell_type": "code",
   "execution_count": 7,
   "metadata": {},
   "outputs": [
    {
     "data": {
      "text/plain": [
       "((55650, 20), (55650, 1), (55650, 2))"
      ]
     },
     "execution_count": 7,
     "metadata": {},
     "output_type": "execute_result"
    }
   ],
   "source": [
    "np.shape(x_vals_test), np.shape( y_vals_test),np.shape(y_vals_test_onehot)"
   ]
  },
  {
   "cell_type": "markdown",
   "metadata": {},
   "source": [
    "<h3 style=\"background-color:#616161;color:white\">2. Model One: Standard Logistic Regression</h3>\n",
    "\n",
    "Adapted from: https://blog.altoros.com/using-logistic-and-softmax-regression-in-tensorflow.html"
   ]
  },
  {
   "cell_type": "code",
   "execution_count": 8,
   "metadata": {},
   "outputs": [
    {
     "name": "stdout",
     "output_type": "stream",
     "text": [
      "Iteration: 0001 cost= 0.352965117\n",
      "Iteration: 0003 cost= 0.308893840\n",
      "Iteration: 0005 cost= 0.278644631\n",
      "Iteration: 0007 cost= 0.255437842\n",
      "Iteration: 0009 cost= 0.237516905\n",
      "Iteration: 0011 cost= 0.223548399\n",
      "Iteration: 0013 cost= 0.212534204\n",
      "Iteration: 0015 cost= 0.203736897\n",
      "Iteration: 0017 cost= 0.196615376\n",
      "Iteration: 0019 cost= 0.190773271\n",
      "Iteration: 0021 cost= 0.185919295\n",
      "Iteration: 0023 cost= 0.181838122\n",
      "Iteration: 0025 cost= 0.178368805\n",
      "Iteration: 0027 cost= 0.175389979\n",
      "Iteration: 0029 cost= 0.172808978\n",
      "Tuning completed!\n",
      "Accuracy: 0.939299\n",
      "             precision    recall  f1-score   support\n",
      "\n",
      "          0       0.95      0.98      0.97     50472\n",
      "          1       0.76      0.51      0.61      5178\n",
      "\n",
      "avg / total       0.93      0.94      0.93     55650\n",
      "\n",
      "[[49647   825]\n",
      " [ 2553  2625]]\n",
      "* Precision = labelled as x / how many were actually x in the ones that were labelled\n",
      "* Recall = labelled as x / how many were actually x in the dataset\n"
     ]
    }
   ],
   "source": [
    "mnistMode = False\n",
    "   \n",
    "# Set parameters\n",
    "learning_rate = 0.01\n",
    "training_iteration = 30\n",
    "display_step = 2\n",
    "\n",
    "if mnistMode:\n",
    "    # Import MINST data\n",
    "    from tensorflow.examples.tutorials.mnist import input_data\n",
    "    mnist = input_data.read_data_sets(\"MNIST_data/\", one_hot=True)\n",
    "    batch_size = 100\n",
    "    numOfFeatures=784 # 784 for MNIST\n",
    "    numOfClasses=10\n",
    "else:\n",
    "    batch_size = max(int(np.size(y_vals)/100),50)\n",
    "    numOfFeatures=20 # 784 for MNIST\n",
    "    numOfClasses=2\n",
    "    \n",
    "# TF graph input\n",
    "x = tf.placeholder(\"float\", [None, numOfFeatures]) # mnist data image of shape 28*28=784\n",
    "y = tf.placeholder(\"float\", [None, numOfClasses]) # 0-9 digits recognition => 10 classes\n",
    "\n",
    "# Create a model\n",
    "\n",
    "# Set model weights\n",
    "W = tf.Variable(tf.zeros([numOfFeatures, numOfClasses]))\n",
    "b = tf.Variable(tf.zeros([numOfClasses]))\n",
    "\n",
    "# Construct a linear model\n",
    "model = tf.nn.softmax(tf.matmul(x, W) + b) # Softmax\n",
    "m=tf.matmul(x, W) + b\n",
    "\n",
    "### Minimize error using cross entropy cost function ##\n",
    "\n",
    "# This is a flippin nightmare due to incorrect versions online.\n",
    "# This is wrong never use it: https://stackoverflow.com/questions/33712178/tensorflow-nan-bug\n",
    "# cost_function = -tf.reduce_sum(y*tf.log(model)*1)\n",
    "\n",
    "# This works but is numerically unstable: https://www.tensorflow.org/get_started/mnist/beginners#training\n",
    "# cost_function = tf.reduce_mean(-tf.reduce_sum(y * tf.log(model), reduction_indices=[1]))\n",
    "\n",
    "# This is the correct method: https://github.com/tensorflow/tensorflow/blob/r1.2/tensorflow/examples/tutorials/mnist/mnist_softmax.py\n",
    "cost_function = tf.reduce_mean(tf.nn.softmax_cross_entropy_with_logits(labels=y, logits=m))\n",
    "\n",
    "# Gradient Descent\n",
    "optimizer = tf.train.GradientDescentOptimizer(learning_rate).minimize(cost_function)\n",
    "\n",
    "# Initializing the variables\n",
    "init = tf.global_variables_initializer()\n",
    "\n",
    "# Launch the graph\n",
    "with tf.Session() as sess:\n",
    "    sess.run(init)\n",
    "\n",
    "    # Training cycle\n",
    "    for iteration in range(training_iteration):\n",
    "        avg_cost = 0.\n",
    "        if mnistMode:\n",
    "            total_batch = int(mnist.train.num_examples/batch_size)\n",
    "        else:\n",
    "            total_batch = int(len(x_vals)/batch_size)\n",
    "        \n",
    "        # Loop over all batches\n",
    "        for i in range(total_batch):\n",
    "            if mnistMode:\n",
    "                batch_xs, batch_ys = mnist.train.next_batch(batch_size)\n",
    "            else:\n",
    "                batch_xs = x_vals[i*batch_size:(i*batch_size)+batch_size]\n",
    "                batch_ys = y_vals_onehot[i*batch_size:(i*batch_size)+batch_size]                \n",
    "            \n",
    "            # Fit training using batch data\n",
    "            sess.run(optimizer, feed_dict={x: batch_xs, y: batch_ys})\n",
    "            # Compute average loss\n",
    "            avg_cost += sess.run(cost_function, feed_dict={x: batch_xs, y: batch_ys})/total_batch\n",
    "        # Display logs per eiteration step\n",
    "        if iteration % display_step == 0:\n",
    "            print (\"Iteration:\", '%04d' % (iteration + 1), \"cost=\", \"{:.9f}\".format(avg_cost))\n",
    "\n",
    "    print (\"Tuning completed!\")\n",
    "\n",
    "    # Evaluation function\n",
    "    \n",
    "    preds=tf.argmax(model, 1)\n",
    "    correct_prediction = tf.equal(preds, tf.argmax(y, 1))   \n",
    "    accuracy = tf.reduce_mean(tf.cast(correct_prediction, \"float\"))\n",
    "    \n",
    "    # Test the model\n",
    "    if mnistMode:\n",
    "        print (\"Accuracy:\", accuracy.eval({x: mnist.test.images, y: mnist.test.labels}))\n",
    "    else:\n",
    "        print (\"Accuracy:\", accuracy.eval({x: x_vals_test, y: y_vals_test_onehot}))   \n",
    "        # Get predictions\n",
    "        predictions= sess.run(tf.argmax(model, 1),feed_dict={x: x_vals_test})\n",
    "\n",
    "        print(metrics.classification_report(np.argmax(y_vals_test_onehot,1),predictions))\n",
    "        print(metrics.confusion_matrix(np.argmax(y_vals_test_onehot,1),predictions))\n",
    "        print(\"* Precision = labelled as x / how many were actually x in the ones that were labelled\")\n",
    "        print(\"* Recall = labelled as x / how many were actually x in the dataset\")"
   ]
  },
  {
   "cell_type": "markdown",
   "metadata": {},
   "source": [
    "<h3 style=\"background-color:#616161;color:white\">3. Model Two: SVM Regression Model</h3>"
   ]
  },
  {
   "cell_type": "code",
   "execution_count": 9,
   "metadata": {},
   "outputs": [
    {
     "name": "stdout",
     "output_type": "stream",
     "text": [
      "-----------\n",
      "Generation: 50\n",
      "Train Loss = 1.90308\n",
      "Test Loss = 1.93949\n",
      "-----------\n",
      "Generation: 100\n",
      "Train Loss = 2.05598\n",
      "Test Loss = 2.08809\n",
      "-----------\n",
      "Generation: 150\n",
      "Train Loss = 1.86781\n",
      "Test Loss = 1.89594\n",
      "-----------\n",
      "Generation: 200\n",
      "Train Loss = 1.54174\n",
      "Test Loss = 1.56739\n",
      "-----------\n",
      "Generation: 250\n",
      "Train Loss = 1.55054\n",
      "Test Loss = 1.57303\n",
      "-----------\n",
      "Generation: 300\n",
      "Train Loss = 1.48287\n",
      "Test Loss = 1.50295\n",
      "-----------\n",
      "Generation: 350\n",
      "Train Loss = 1.76014\n",
      "Test Loss = 1.77682\n",
      "-----------\n",
      "Generation: 400\n",
      "Train Loss = 1.60384\n",
      "Test Loss = 1.61963\n",
      "-----------\n",
      "Generation: 450\n",
      "Train Loss = 1.01567\n",
      "Test Loss = 1.03249\n",
      "-----------\n",
      "Generation: 500\n",
      "Train Loss = 1.87646\n",
      "Test Loss = 1.88987\n",
      "             precision    recall  f1-score   support\n",
      "\n",
      "         -1       0.91      0.99      0.95     50472\n",
      "          1       0.37      0.04      0.07      5178\n",
      "\n",
      "avg / total       0.86      0.90      0.87     55650\n",
      "\n",
      "[[50113   359]\n",
      " [ 4963   215]]\n",
      "* Precision = labelled as x / how many were actually x in the ones that were labelled\n",
      "* Recall = labelled as x / how many were actually x in the dataset\n"
     ]
    }
   ],
   "source": [
    "# SVM Regression\n",
    "#----------------------------------\n",
    "#\n",
    "# This function shows how to use TensorFlow to\n",
    "# solve support vector regression. We are going\n",
    "# to find the line that has the maximum margin\n",
    "# which INCLUDES as many points as possible\n",
    "#\n",
    "from tensorflow.python.framework import ops\n",
    "ops.reset_default_graph()\n",
    "\n",
    "# Create graph\n",
    "sess = tf.Session()\n",
    "\n",
    "# Declare batch size\n",
    "batch_size = 500\n",
    "\n",
    "# Initialize placeholders\n",
    "x_data = tf.placeholder(shape=[None, numOfFeatures], dtype=tf.float32)\n",
    "y_target = tf.placeholder(shape=[None, 1], dtype=tf.float32)\n",
    "\n",
    "# Create variables for linear regression\n",
    "W = tf.Variable(tf.random_normal(shape=[numOfFeatures,1]))  # Weight vector\n",
    "b = tf.Variable(tf.random_normal(shape=[1,1]))              # Constant\n",
    "\n",
    "# Declare model operations\n",
    "model_output = tf.add(tf.matmul(x_data, W), b)\n",
    "prediction = tf.sign(model_output)\n",
    "\n",
    "# Declare loss function\n",
    "# = max(0, abs(target - predicted) + epsilon)\n",
    "# 1/2 margin width parameter = epsilon\n",
    "epsilon = tf.constant([0.1])\n",
    "\n",
    "# Margin term in loss - only anything a greater error than epsilon should count towards the loss: http://cs.adelaide.edu.au/~chhshen/teaching/ML_SVR.pdf\n",
    "loss = tf.reduce_mean(tf.maximum(0., tf.subtract(tf.abs(tf.subtract(model_output, y_target)), epsilon)))\n",
    "\n",
    "# Declare optimizer\n",
    "my_opt = tf.train.GradientDescentOptimizer(0.075)\n",
    "train_step = my_opt.minimize(loss)\n",
    "\n",
    "# Initialize variables\n",
    "init = tf.global_variables_initializer()\n",
    "sess.run(init)\n",
    "\n",
    "# Training loop\n",
    "train_loss = []\n",
    "test_loss = []\n",
    "\n",
    "# Train\n",
    "for i in range(500):\n",
    "    # Select a batch of train data and train\n",
    "    rand_index = np.random.choice(len(x_vals), size=batch_size)  \n",
    "    rand_x = x_vals[rand_index]\n",
    "    rand_y = y_vals[rand_index]\n",
    "    sess.run(train_step, feed_dict={x_data: rand_x, y_target: rand_y})\n",
    "    \n",
    "    # Monitor the loss on the test data\n",
    "    temp_train_loss = sess.run(loss, feed_dict={x_data: x_vals, y_target: y_vals})\n",
    "    train_loss.append(temp_train_loss)\n",
    "    \n",
    "    temp_test_loss = sess.run(loss, feed_dict={x_data: x_vals_test, y_target: y_vals_test})\n",
    "    test_loss.append(temp_test_loss)\n",
    "    if (i+1)%50==0:\n",
    "        print('-----------')\n",
    "        print('Generation: ' + str(i+1))\n",
    "        #print('A = ' + str(sess.run(W)) + ' b = ' + str(sess.run(b)))\n",
    "        print('Train Loss = ' + str(temp_train_loss))\n",
    "        print('Test Loss = ' + str(temp_test_loss))\n",
    "\n",
    "# Evaluate\n",
    "output=sess.run(model_output, feed_dict={x_data: x_vals_test})\n",
    "test_predictions = sess.run(prediction, feed_dict={x_data: x_vals_test})\n",
    "\n",
    "print(metrics.classification_report(y_vals_test,test_predictions))\n",
    "print(metrics.confusion_matrix(y_vals_test,test_predictions))\n",
    "print(\"* Precision = labelled as x / how many were actually x in the ones that were labelled\")\n",
    "print(\"* Recall = labelled as x / how many were actually x in the dataset\")"
   ]
  },
  {
   "cell_type": "markdown",
   "metadata": {},
   "source": [
    "<h3 style=\"background-color:#616161;color:white\">3. Model Three: Logistic Regression with RBF Kernel</h3>"
   ]
  },
  {
   "cell_type": "markdown",
   "metadata": {},
   "source": [
    "Good resouorces: \n",
    "* http://mccormickml.com/2014/02/26/kernel-regression/\n",
    "* http://www.cc.gatech.edu/~isbell/tutorials/rbf-intro.pdf\n",
    "* http://perso.telecom-paristech.fr/~clemenco/Projets_ENPC_files/kernel-log-regression-svm-boosting.pdf\n",
    "\n",
    "Notes:\n",
    "$$P(y_t == 1) = const + \\sum_d w_d \\int RBF(t'; t-t_d, sigma_d) dt$$\n",
    "\n",
    "Where $w_d$ are the parameters of the linear regression and $t_d$,sigma_d are the parameters of the kernel (which can be optimised jointly or via CV). Then, for example, you could have t_d = [1 hour, 1 day, 1 week] and sigma_d = [10min, 1hour, 12hours]. That way it would give a real-valued score to all tracks played around 1 hour +-10min ago, around 1 day +-1hour ago, etc.\n"
   ]
  },
  {
   "cell_type": "code",
   "execution_count": null,
   "metadata": {
    "collapsed": true
   },
   "outputs": [],
   "source": []
  }
 ],
 "metadata": {
  "anaconda-cloud": {},
  "kernelspec": {
   "display_name": "Python 3",
   "language": "python",
   "name": "python3"
  },
  "language_info": {
   "codemirror_mode": {
    "name": "ipython",
    "version": 3
   },
   "file_extension": ".py",
   "mimetype": "text/x-python",
   "name": "python",
   "nbconvert_exporter": "python",
   "pygments_lexer": "ipython3",
   "version": "3.5.3"
  }
 },
 "nbformat": 4,
 "nbformat_minor": 1
}
