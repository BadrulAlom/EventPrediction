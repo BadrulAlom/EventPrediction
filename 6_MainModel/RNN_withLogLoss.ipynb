{
 "cells": [
  {
   "cell_type": "markdown",
   "metadata": {},
   "source": [
    "<h1 align=\"center\" style=\"background-color:#616161;color:white\">RNN Model with logloss</h1>"
   ]
  },
  {
   "cell_type": "markdown",
   "metadata": {},
   "source": [
    "<h3 style=\"background-color:#616161;color:white\">0. Setup</h3>"
   ]
  },
  {
   "cell_type": "markdown",
   "metadata": {},
   "source": [
    "<div style=\"background-color:white; color:#008000; font-family: 'Courier New, Monospace;font-weight: bold\">Input Parameters</div>"
   ]
  },
  {
   "cell_type": "code",
   "execution_count": 1,
   "metadata": {
    "collapsed": true,
    "scrolled": true
   },
   "outputs": [],
   "source": [
    "# Root path\n",
    "#root = \"C:/DS/Github/MusicRecommendation\"  # BA, Windows\n",
    "root = \"/home/badrul/git/EventPrediction\" # BA, Linux"
   ]
  },
  {
   "cell_type": "markdown",
   "metadata": {},
   "source": [
    "<div style=\"background-color:white; color:#008000; font-family: 'Courier New, Monospace;font-weight: bold\">Common Libraries</div>"
   ]
  },
  {
   "cell_type": "code",
   "execution_count": 2,
   "metadata": {
    "scrolled": true
   },
   "outputs": [
    {
     "name": "stdout",
     "output_type": "stream",
     "text": [
      "Ok\n"
     ]
    }
   ],
   "source": [
    "# Core\n",
    "import numpy as np\n",
    "import pandas as pd\n",
    "from IPython.core.debugger import Tracer    # Used for debugging\n",
    "import logging\n",
    "from random import *\n",
    "\n",
    "# File and database management\n",
    "import csv\n",
    "import os\n",
    "import sys\n",
    "import json\n",
    "import sqlite3\n",
    "from pathlib import Path\n",
    "\n",
    "# Date/Time\n",
    "import datetime\n",
    "import time\n",
    "#from datetime import timedelta # Deprecated\n",
    "\n",
    "# Visualization\n",
    "import matplotlib.pyplot as plt             # Quick\n",
    "%matplotlib inline\n",
    "\n",
    "# Misc\n",
    "import random\n",
    "import importlib\n",
    "import warnings\n",
    "warnings.filterwarnings('ignore')\n",
    "import logging\n",
    "logging.basicConfig(filename='RNN.log',level=logging.DEBUG)\n",
    "\n",
    "#-------------- Custom Libs -----------------#\n",
    "os.chdir(root)\n",
    "\n",
    "# Import the codebase module\n",
    "fPath = root + \"/1_Codemodule\"\n",
    "if fPath not in sys.path: sys.path.append(fPath)\n",
    "\n",
    "# Custom Libs\n",
    "import coreCode as cc\n",
    "import lastfmCode as fm\n",
    "print ('Ok')"
   ]
  },
  {
   "cell_type": "markdown",
   "metadata": {},
   "source": [
    "<div style=\"background-color:white; color:#008000; font-family: 'Courier New, Monospace;font-weight: bold\">Page Specific Libraries</div>"
   ]
  },
  {
   "cell_type": "code",
   "execution_count": 3,
   "metadata": {
    "scrolled": true
   },
   "outputs": [
    {
     "name": "stdout",
     "output_type": "stream",
     "text": [
      "Ok\n"
     ]
    }
   ],
   "source": [
    "# Data science (comment out if not needed)\n",
    "#from sklearn.manifold import TSNE\n",
    "import tensorflow as tf\n",
    "from tensorflow.contrib import rnn\n",
    "from tensorflow.python.framework import ops\n",
    "ops.reset_default_graph()\n",
    "from sklearn import metrics\n",
    "from sklearn import preprocessing\n",
    "print ('Ok')"
   ]
  },
  {
   "cell_type": "markdown",
   "metadata": {},
   "source": [
    "<div style=\"background-color:#white; color:#008000; font-family: 'Courier New, Monospace;font-weight: bold\">Load settings</div>"
   ]
  },
  {
   "cell_type": "code",
   "execution_count": 4,
   "metadata": {
    "scrolled": true
   },
   "outputs": [
    {
     "name": "stdout",
     "output_type": "stream",
     "text": [
      "Ok\n"
     ]
    }
   ],
   "source": [
    "settingsDict =  cc.loadSettings()\n",
    "dbPath = root + settingsDict['mainDbPath_sml']\n",
    "fmSimilarDbPath = root + settingsDict['fmSimilarDbPath']\n",
    "fmTagsDbPath = root + settingsDict['fmTagsDbPath']\n",
    "trackMetaDbPath = root + settingsDict['trackmetadata']\n",
    "periodGranularity = int(settingsDict['periodGranularity'])\n",
    "print ('Ok')"
   ]
  },
  {
   "cell_type": "markdown",
   "metadata": {},
   "source": [
    "<h3 style=\"background-color:#616161;color:white\">1. Build Model</h3>"
   ]
  },
  {
   "cell_type": "code",
   "execution_count": 5,
   "metadata": {
    "collapsed": true,
    "scrolled": true
   },
   "outputs": [],
   "source": [
    "def RNN(x, weights, biases,n_steps):\n",
    "    # Current data input shape: (batchRows, n_steps, n_input)\n",
    "    # Required shape: 'n_steps' tensors list of shape (batchRows, n_input)\n",
    "    \n",
    "    # Unstack to get a list of 'n_steps' tensors of shape (batchRows, n_input)\n",
    "    x = tf.unstack(x, n_steps, 1)  # See https://stackoverflow.com/questions/45278276/tensorflow-lstm-dropout-implementation-shape-problems/45279243#45279243\n",
    "    \n",
    "    # Define a lstm cell with tensorflow\n",
    "    if cellType == \"LSTMCell\":\n",
    "        stacked_rnn=[]\n",
    "        for i in range(n_layers):\n",
    "            stacked_rnn.append(tf.nn.rnn_cell.LSTMCell(num_units=n_hidden, forget_bias=1., state_is_tuple=True))\n",
    "        multiRNNCell = tf.nn.rnn_cell.MultiRNNCell(cells=stacked_rnn, state_is_tuple=True)\n",
    "        outputs, states = rnn.static_rnn(multiRNNCell, x, dtype=tf.float32)\n",
    "        \n",
    "                \n",
    "        #lstm_cell = rnn.BasicLSTMCell(num_units=n_hidden, forget_bias=1.0)\n",
    "        #outputs, states = rnn.static_rnn(lstm_cell, x, dtype=tf.float32)\n",
    "    \n",
    "    elif cellType == \"TimeFreqLSTMCell\":\n",
    "        lstm_cell =rnn.TimeFreqLSTMCell(n_hidden, use_peepholes=True, feature_size= 22, forget_bias=1.0)\n",
    "        outputs, states = rnn.static_rnn(lstm_cell, x, dtype=tf.float32)\n",
    "    elif cellType == \"GridLSTMCell\":\n",
    "        lstm_cell =rnn.GridLSTMCell(n_hidden, forget_bias=1.0)\n",
    "        outputs, states = rnn.static_rnn(lstm_cell, x, dtype=tf.float32)        \n",
    "    else:\n",
    "        print(\"Did not recognize {}\".format(cellType))\n",
    "    # Get lstm cell output\n",
    "    \n",
    "\n",
    "    # Linear activation, using rnn inner loop last output\n",
    "    return tf.matmul(outputs[-1], weights['out']) + biases['out']"
   ]
  },
  {
   "cell_type": "code",
   "execution_count": 6,
   "metadata": {},
   "outputs": [
    {
     "name": "stdout",
     "output_type": "stream",
     "text": [
      "Ok\n"
     ]
    }
   ],
   "source": [
    "def _buildGraph(n_steps,n_input, n_weighting):\n",
    "    global x, y, _pred, _predProb, _logloss, _logits, _prob, _weights, _cost, optimizer, _accuracy,_correct_pred\n",
    "    \n",
    "    tf.reset_default_graph()\n",
    "    # tf Graph input\n",
    "    x = tf.placeholder(\"float\", [None, n_steps, n_input])\n",
    "    y = tf.placeholder(\"float\", [None,n_classes])\n",
    "    \n",
    "    # Define weights\n",
    "    weights = {'out': tf.Variable(tf.random_normal([n_hidden, n_classes]))}\n",
    "    biases = {'out': tf.Variable(tf.random_normal([n_classes]))}\n",
    "\n",
    "    # Evaluate model\n",
    "    _logits = RNN(x, weights, biases,n_steps)\n",
    "    _prob = tf.sigmoid(_logits)\n",
    "    \n",
    "    # Loss function\n",
    "    _weights = tf.add(1,tf.multiply(tf.cast(tf.equal(y,1),'int32'),n_weighting))\n",
    "    _logloss =tf.losses.log_loss(predictions=_prob, labels=y,epsilon=0.00001, weights=_weights)\n",
    "    _cost = tf.reduce_mean(_logloss)\n",
    "    \n",
    "    optimizer = tf.train.AdamOptimizer(learning_rate=learning_rate).minimize(_cost)\n",
    "    \n",
    "    _predProb =tf.sigmoid(_logits)  # Convert to proper probs\n",
    "    _pred =tf.round(_predProb)  # Take the highest prob\n",
    "    _correct_pred = tf.equal(_pred, y)\n",
    "    _accuracy = tf.reduce_mean(tf.cast(_correct_pred, tf.float32))\n",
    "print('Ok')"
   ]
  },
  {
   "cell_type": "code",
   "execution_count": 7,
   "metadata": {
    "collapsed": true,
    "scrolled": true
   },
   "outputs": [],
   "source": [
    "def ResetModel():\n",
    "    try:\n",
    "        sess.close()\n",
    "        tf.reset_default_graph()\n",
    "    except NameError:\n",
    "        return\n",
    "    \n",
    "def initializeModel(n_steps,n_input,n_weighting,loadFromSave):\n",
    "    global sess\n",
    "\n",
    "    # Build graph\n",
    "    _buildGraph(n_steps,n_input,n_weighting)\n",
    "\n",
    "    # Initializing the variables\n",
    "\n",
    "    init = tf.global_variables_initializer()\n",
    "    saver = tf.train.Saver()\n",
    "    sess = tf.Session() # Has tome come after init\n",
    "    if loadFromSave:\n",
    "        saver.restore(sess,'./3_Data/saves/model.ckpt')\n",
    "    else:\n",
    "        sess.run(init)\n",
    "    print('Model initialized')"
   ]
  },
  {
   "cell_type": "markdown",
   "metadata": {},
   "source": [
    "<h3 style=\"background-color:#616161;color:white\">2. Model Training Functions</h3>"
   ]
  },
  {
   "cell_type": "code",
   "execution_count": 8,
   "metadata": {
    "scrolled": true
   },
   "outputs": [
    {
     "name": "stdout",
     "output_type": "stream",
     "text": [
      "Ok\n"
     ]
    }
   ],
   "source": [
    "def randomSelectFromData(_X, _Y,_batchRows = 10, numOfSamples =1):\n",
    "    \n",
    "    # Num of periods = batch size\n",
    "    \n",
    "    # Training cycle\n",
    "    \n",
    "    XCols=np.shape(_X)[1]\n",
    "    YCols=np.shape(_Y)[1]\n",
    "    depth = n_steps\n",
    "    \n",
    "    totalRows=np.shape(_X)[0]\n",
    "    # Select random periods (ones where we will always get enough history to go with it)\n",
    "    periodsList = random.sample(range(batchRows+depth, totalRows), _batchRows)\n",
    "    \n",
    "    # Debugging...\n",
    "    #for i in range(_batchRows -1):\n",
    "    #    periodsList[i+1]=periodsList[i]-1\n",
    "    \n",
    "    # Pre-Initialize batch arrays\n",
    "    batch_x=np.zeros([_batchRows,depth,XCols])\n",
    "    batch_y=np.zeros([_batchRows])\n",
    "\n",
    "    batch_row =0\n",
    "    \n",
    "    for periodPos in periodsList:            \n",
    "        # Log every so often \n",
    "        if (periodPos % 1) == 0: \n",
    "            timeNow =str(datetime.datetime.now())\n",
    "            #print(\"{} Now adding random period {} into batch_row {}. ({}%)\".format(timeNow,idx1,batch_row, round((batch_row/_batchRows)*100,2)))\n",
    "            #logging.info(\"{} Now adding random period {} into batch_row ({}%)\".format(timeNow, idx1,batch_row, round((batch_row/_batchRows)*100,2)))\n",
    "\n",
    "        batch_x[batch_row] = _X[periodPos-depth:periodPos].reshape(1,depth,XCols)\n",
    "        batch_y[batch_row] = _Y[periodPos]\n",
    "        batch_row +=1\n",
    "        \n",
    "    return batch_x, batch_y\n",
    "print ('Ok')"
   ]
  },
  {
   "cell_type": "code",
   "execution_count": 9,
   "metadata": {},
   "outputs": [
    {
     "name": "stdout",
     "output_type": "stream",
     "text": [
      "Ok\n"
     ]
    }
   ],
   "source": [
    "##############################################\n",
    "###           MODEL 1    Train             ###\n",
    "##############################################\n",
    "def trainModel_1(batch_x, batch_y): \n",
    "    \n",
    "    batch_y = np.reshape(batch_y,[-1,1])\n",
    "    sess.run(optimizer, feed_dict={x: batch_x, y: batch_y})\n",
    "    cost = sess.run(_cost,feed_dict={x: batch_x, y: batch_y})\n",
    "    acc = sess.run(_accuracy, feed_dict={x: batch_x, y: batch_y})\n",
    "    \n",
    "    debugMode = False\n",
    "    \n",
    "    if debugMode:\n",
    "        # Calculate loss & accuracy\n",
    "        logloss= sess.run(_logloss,feed_dict={x: batch_x, y: batch_y})\n",
    "        prob= sess.run(_prob,feed_dict={x: batch_x, y: batch_y})\n",
    "\n",
    "        weights= sess.run(_weights, feed_dict={x: batch_x, y: batch_y})\n",
    "        logits= sess.run(_logits, feed_dict={x: batch_x, y: batch_y})\n",
    "        #weights= sess.run(lossW, feed_dict={x: batch_x, y: batch_y})\n",
    "        #crosent= sess.run(tmp, feed_dict={x: batch_x, y: batch_y})\n",
    "        print (\"Logits:\")\n",
    "        print (logits)\n",
    "        print(\"Prob\")\n",
    "        print(prob)\n",
    "        print (\"Y\")\n",
    "        print (batch_y)\n",
    "        print (\"LossWeight\")\n",
    "        print (weights)\n",
    "        #print (\"CrossEnt\")\n",
    "        #print (crosent)\n",
    "        print (\"Log Loss\")\n",
    "        print (logloss)\n",
    "        print (\"\\nCost: {}\".format(cost))\n",
    "        Tracer()()\n",
    "    return cost, acc\n",
    "print('Ok')"
   ]
  },
  {
   "cell_type": "markdown",
   "metadata": {},
   "source": [
    "<h3 style=\"background-color:#616161;color:white\">3. Model Testing Functions</h3>"
   ]
  },
  {
   "cell_type": "code",
   "execution_count": 10,
   "metadata": {
    "collapsed": true
   },
   "outputs": [],
   "source": [
    "# Launch the graph\n",
    "def TestPredictions1(_X, _Y, sess, _batchRows = 10, testPeriods = None):\n",
    "    # Training cycle\n",
    "    totalRows=np.shape(_X)[0]\n",
    "    XCols=np.shape(_X)[1]\n",
    "    YCols=_Y\n",
    "    depth = n_steps\n",
    "    \n",
    "    # If no test periods were provided generate your own\n",
    "    if testPeriods is None:\n",
    "        # Select periods where we will always get enough history to go with it\n",
    "        \n",
    "        testPeriods = random.sample(range(batchRows+depth, totalRows), _batchRows)\n",
    "    else:\n",
    "        testPeriods = testPeriods + batchRows+depth-1\n",
    "        _batchRows = len(testPeriods)\n",
    "     \n",
    "    # Pre-Initialize batch arrays\n",
    "    batch_x=np.zeros([_batchRows,depth,XCols])\n",
    "    batch_y=np.zeros([_batchRows])\n",
    "\n",
    "    batch_row =0\n",
    "    for idx1 in testPeriods:            \n",
    "        if (idx1 % 1) == 0: \n",
    "            timeNow =str(datetime.datetime.now())\n",
    "            #print(\"{} Now testing on period {} ({}%)\".format(timeNow,idx1,round((batch_row/_batchRows)*100,2)))\n",
    "            logging.info(\"{} Now testing period {} ({}%)\".format(timeNow, idx1,round((batch_row/_batchRows)*100,2)))\n",
    "\n",
    "        batch_x[batch_row] = _X[idx1-depth:idx1].reshape(1,depth,XCols)\n",
    "        batch_y[batch_row] = _Y[idx1]\n",
    "        batch_row +=1\n",
    "    \n",
    "    print (\"Processed {}\".format(_batchRows))\n",
    "    # Predict for this period\n",
    "    batch_y=np.reshape(batch_y,[-1,1])\n",
    "    prob = sess.run(_predProb, feed_dict={x: batch_x, y: batch_y})\n",
    "    predictions = sess.run(_pred, feed_dict={x: batch_x, y: batch_y})\n",
    "    \n",
    "    return predictions, batch_y\n",
    "\n"
   ]
  },
  {
   "cell_type": "markdown",
   "metadata": {},
   "source": [
    "<div style=\"background-color:#white; color:#008000; font-family: 'Courier New, Monospace;font-weight: bold\">Test hidden periods</div>"
   ]
  },
  {
   "cell_type": "code",
   "execution_count": 11,
   "metadata": {
    "collapsed": true
   },
   "outputs": [],
   "source": [
    "def TestHiddenPeriods(hiddenTestPeriods=50, useTestData = False):\n",
    "\n",
    "    print('{} Hidden Periods\\n'.format(hiddenTestPeriods))\n",
    "    print (\"Cell type= {}, learning_rate = {}, Iterations = {}, batch size = {}, Steps = {}, Hidden Layers = {}, Classes = {}\\n\".format(cellType,learning_rate,samplesPerUser,batch_size, n_steps ,n_hidden,n_classes))\n",
    "\n",
    "    if useTestData == False:\n",
    "        predictions,labels = TestPredictions1(xTrain,yTrain,sess,numOfPeriods=hiddenTestPeriods)\n",
    "    else:\n",
    "        predictions,labels = TestPredictions1(xTest,yTest,sess,numOfPeriods=hiddenTestPeriods)\n",
    "    \n",
    "    print(np.shape(labels),np.shape(predictions))    \n",
    "    print(metrics.classification_report(labels,predictions))  # Need to feed it yTest not yTest_OneHot here\n",
    "    return labels, predictions"
   ]
  },
  {
   "cell_type": "code",
   "execution_count": 24,
   "metadata": {
    "collapsed": true,
    "scrolled": false
   },
   "outputs": [],
   "source": [
    "def TrainModel(printOnBatchIteration=True,printOnSampleIteration=1,enableLogging=False, _saveModel=False):\n",
    "    \n",
    "    counter =0 # Used to keep track of every iteration. (Does not loop back to 0).\n",
    "    batch_y=[]\n",
    "    batch_x=[]\n",
    "    \n",
    "    loss=np.zeros([user_iteration*samplesPerUser*batch_Iterations+3])\n",
    "    acc=np.zeros([user_iteration*samplesPerUser*batch_Iterations+3])\n",
    "    \n",
    "    \n",
    "    trainUsers=(cc.getUsers(dbPath,testUserFlag=0))  # Get list of users\n",
    "    np.random.shuffle(trainUsers)\n",
    "\n",
    "    for userCount in range(user_iteration):  # Iterate through user selection\n",
    "        # Get user data\n",
    "        userID = int(trainUsers[userCount]) # Randomly select 1 user\n",
    "        xTrain, yTrain, xTest, yTest = cc.SelectUserData_TrainTest(dbPath,tblName,fieldList,userIDs=[userID],oneHot=False,periodGranularity=periodGranularity)\n",
    "        #yTrain=(xTrain[:,0]==0)*(xTrain[:,1]==0)*(xTrain[:,2]==0)*(xTrain[:,3]==0)*yTrain\n",
    "        #yTest=(xTest[:,0]==0)*(xTest[:,1]==0)*(xTest[:,2]==0)*(xTest[:,3]==0)*yTest\n",
    "        \n",
    "        if xTrain is not None: # Make sure we have data\n",
    "            for i in range(samplesPerUser):  # Num of mini-batches\n",
    "                \n",
    "                # Randomly select from the train data\n",
    "                batch_x, batch_y = randomSelectFromData(xTrain, yTrain, _batchRows=batchRows)\n",
    "                \n",
    "                #print ('Num of play events in batch: {}'.format(sum(batch_y)))\n",
    "                \n",
    "                for j in range(batch_Iterations): # Num of timetrainModel_1s to iterate over the batch\n",
    "                    loss[counter],acc[counter] =trainModel_1(batch_x,batch_y)\n",
    "                    \n",
    "                    if printOnBatchIteration:\n",
    "                        timeNow =datetime.datetime.now().strftime('%D %H:%M:%S')\n",
    "                        print(\"  User {} Mini-batch {} Iteration {} Loss={:.6f}, Training Accuracy={:.5f}\".format(userCount,i, j, loss[counter], acc[counter]))\n",
    "                        if enableLogging: logging.info(s)\n",
    "                    counter+=1\n",
    "\n",
    "                \n",
    "                if i % printOnSampleIteration == 0 or i==samplesPerUser:\n",
    "                    # Sample results\n",
    "                    batch_y = np.reshape(batch_y,[-1,1])\n",
    "                    predictions = sess.run(_pred, feed_dict={x: batch_x, y: batch_y})\n",
    "                    logits= sess.run(_logits, feed_dict={x: batch_x, y: batch_y})\n",
    "                    prob= sess.run(_predProb, feed_dict={x: batch_x, y: batch_y})                    \n",
    "                    \n",
    "                    prec,rec, _, _ = metrics.precision_recall_fscore_support(batch_y,predictions, average='binary')\n",
    "                    timeNow =datetime.datetime.now().strftime('%D %H:%M:%S')\n",
    "                    \n",
    "                    s='{} Sample {} of {}. Precision {} .Recall {} .Loss {:.{prec}f} .Accuracy {:.{prec}f}'.format(timeNow, i, samplesPerUser,np.round(prec,3),np.round(rec,3),loss[counter-1],acc[counter-1],prec=4)\n",
    "                    print(s)\n",
    "                    if enableLogging: logging.info(s)\n",
    "                    \n",
    "            # End of user training - Perform test\n",
    "            xTest, yTest = randomSelectFromData(xTest, yTest, _batchRows=batchRows, numOfSamples=2)\n",
    "            yTest = np.reshape(yTest,[-1,1])\n",
    "            predictions = sess.run(_pred, feed_dict={x: xTest, y: yTest})\n",
    "            logits= sess.run(_logits, feed_dict={x: xTest, y: yTest})\n",
    "            prob= sess.run(_predProb, feed_dict={x: xTest, y: yTest})                    \n",
    "\n",
    "            prec,rec, _, _ = metrics.precision_recall_fscore_support(yTest,predictions, average='binary')\n",
    "            \n",
    "            timeNow =datetime.datetime.now().strftime('%D %H:%M:%S')\n",
    "            s='{} User {} of {}, UserID {}, Total plays {}, Precision {}, Recall {}'.format(timeNow, userCount,user_iteration,userID,sum(yTrain),np.round(prec,3),np.round(rec,3))\n",
    "            print(s)\n",
    "            if enableLogging: logging.info(s)\n",
    "            print(metrics.classification_report(yTest,predictions))  # Need to feed it yTest not yTest_OneHot here\n",
    "            \n",
    "            if _saveModel:\n",
    "                saver = tf.train.Saver()\n",
    "                saver.save(sess,\"./3_Data/saves/model.ckpt\")"
   ]
  },
  {
   "cell_type": "code",
   "execution_count": 17,
   "metadata": {
    "collapsed": true,
    "scrolled": false
   },
   "outputs": [],
   "source": [
    "### Code needs tidying up\n",
    "\n",
    "def TestModel(_samples):\n",
    "    userLabels=[]\n",
    "    userPred=[]\n",
    "    totalLabels = []\n",
    "    totalPred = []\n",
    "    avLoss =0\n",
    "    avAcc =0\n",
    "    \n",
    "    \n",
    "    users=cc.getUsers(dbPath,testUserFlag = 1)  # Get all test users\n",
    "\n",
    "    prec= np.zeros(len(users))\n",
    "    rec = np.zeros(len(users))\n",
    "    \n",
    "    usrCount = 0\n",
    "    for usr in users: # For each test user    \n",
    "        # Select all data for each user\n",
    "        xTest, yTest = cc.SelectTestUserData(dbPath,tblName,fieldList,userIDs=usr,oneHot=False,periodGranularity=periodGranularity)\n",
    "        #yTest=(xTest[:,0]==0)*(xTest[:,1]==0)*(x[Test:,2]==0)*(xTest[:,3]==0)*y  # Only keep first plays\n",
    "        if xTest is not None:\n",
    "            for i in range(_samples):  # Select 10 random batches\n",
    "                batch_x, batch_y = randomSelectFromData(xTest, yTest, _batchRows=batchRows)\n",
    "                batch_y = np.reshape(batch_y,[-1,1])\n",
    "                p = sess.run(_pred, feed_dict={x: batch_x, y: batch_y})\n",
    "                \n",
    "                loss = sess.run(_cost,feed_dict={x: batch_x, y: batch_y})\n",
    "                acc = sess.run(_accuracy, feed_dict={x: batch_x, y: batch_y})\n",
    "                avLoss+=loss\n",
    "                avAcc+=acc\n",
    "\n",
    "                if userLabels == []:\n",
    "                    userLabels= batch_y\n",
    "                    userPred = p\n",
    "                else:\n",
    "                    userLabels = np.append(userLabels,batch_y)\n",
    "                    userPred = np.append(userPred,p)\n",
    "        \n",
    "        prec[usrCount],rec[usrCount], _, _ = metrics.precision_recall_fscore_support(userLabels,userPred, average='binary')\n",
    "        #print('User {} of {}, Av loss {}, Av acc {}, Precision {}, Recall {}'.format(usrCount , len(users), np.round(avLoss/10,3), np.round(avAcc/10,3), np.round(prec[usrCount],3),np.round(rec[usrCount],3)))\n",
    "        avLoss=0\n",
    "        avAcc = 0\n",
    "        if totalLabels ==[]:\n",
    "            totalLabels = userLabels\n",
    "            totalPred = userPred\n",
    "        else:\n",
    "            totalLabels = np.append(totalLabels,userLabels)\n",
    "            totalPred = np.append(totalPred,userPred)\n",
    "        usrCount+=1                \n",
    "    \n",
    "    pMn=round(prec.mean(),3)\n",
    "    pSd=round(prec.std(),3)\n",
    "    rMn=round(rec.mean(),3)\n",
    "    rSd=round(rec.std(),3)\n",
    "    print(metrics.classification_report(totalLabels,totalPred))  # Need to feed it yTest not yTest_OneHot here\n",
    "    print (\"Overall Test Results: Av. precision {} +/- {}, Av. recall {}+/{},\".format(pMn,pSd,rMn,rSd))\n",
    "    #print(metrics.confusion_matrix(totalLabels, totalPred, sample_weight=None))\n",
    "    \n",
    "    #saver = tf.train.Saver()\n",
    "    #saver.save(sess,\"./3_Data/saves/model.ckpt\")\n",
    "    \n",
    "    return"
   ]
  },
  {
   "cell_type": "code",
   "execution_count": 14,
   "metadata": {
    "collapsed": true
   },
   "outputs": [],
   "source": [
    "def SelectTestUsers(newUsers=10):\n",
    "    newUsers = 10   # Num of randomly selected users to separate out\n",
    "    con = sqlite3.connect(dbPath)\n",
    "\n",
    "    # First reset back to 0\n",
    "    con.execute(\"Update tblUsers Set TestUser = 0\")\n",
    "    con.commit()\n",
    "\n",
    "    # Select random users\n",
    "    sqlStr= \"SELECT UserID FROM tblUsers Group by UserID ORDER BY RANDOM() LIMIT {}\".format(newUsers)\n",
    "\n",
    "    newUsersList = pd.read_sql_query(sqlStr, con)\n",
    "    for row in newUsersList.itertuples():\n",
    "        sqlStr = \"Update tblUsers Set TestUser = 1 where UserID = {}\".format(row[1])\n",
    "        con.execute(sqlStr)\n",
    "    con.commit()\n",
    "    con.close()\n",
    "\n",
    "    np.array(newUsersList).reshape(1,10)"
   ]
  },
  {
   "cell_type": "markdown",
   "metadata": {},
   "source": [
    "<h3 style=\"background-color:green;color:white\">4. ...And action!</h3>"
   ]
  },
  {
   "cell_type": "code",
   "execution_count": null,
   "metadata": {
    "collapsed": true,
    "scrolled": false
   },
   "outputs": [],
   "source": [
    "###### Model setup\n",
    "loadFromSave = False\n",
    "user_iteration = 30      # How many iterations of user selection\n",
    "samplesPerUser = 2      # How many mini-batches to select for each user\n",
    "batchRows = 50           # How many random periods to select in each mini-batch (=batch size)\n",
    "batch_Iterations = 30   # How many iterations to perform on one ach mini-batch\n",
    "\n",
    "n_steps = 336         # How many time steps (i.e. depth) to have\n",
    "learning_rate = 0.05\n",
    "n_hidden = 40 # hidden layer num of features\n",
    "n_layers = 2\n",
    "class1Weighting = 12\n",
    "n_classes = 1  # 2 for one-hot\n",
    "\n",
    "cellType = \"LSTMCell\"  # Choose: TimeFreqLSTMCell BasicLSTMCell\n",
    "fieldList=\"UserID, t\"\n",
    "#fieldList=\"UserID, t, t1\"\n",
    "featureLen = len(fieldList.split(\",\"))-2 # -2 as we drop UserID and t\n",
    "tblName='tblTimeSeriesData'\n",
    "\n",
    "ResetModel()\n",
    "initializeModel(n_steps,featureLen,class1Weighting,loadFromSave)\n",
    "\n",
    "print('\\n Features len: {} User Iteration {} Samples per user: {} Batch iterations: {} Batch size {} N_steps {} Units {} Layers {} Weighting {}\\n'.format(featureLen,user_iteration, samplesPerUser, batch_Iterations, batchRows, n_steps, n_hidden, n_layers, class1Weighting))\n",
    "TrainModel(printOnBatchIteration=False,printOnSampleIteration=100)\n",
    "TestModel(50)\n",
    "\n"
   ]
  }
 ],
 "metadata": {
  "anaconda-cloud": {},
  "kernelspec": {
   "display_name": "Python 3",
   "language": "python",
   "name": "python3"
  },
  "language_info": {
   "codemirror_mode": {
    "name": "ipython",
    "version": 3
   },
   "file_extension": ".py",
   "mimetype": "text/x-python",
   "name": "python",
   "nbconvert_exporter": "python",
   "pygments_lexer": "ipython3",
   "version": "3.5.2"
  }
 },
 "nbformat": 4,
 "nbformat_minor": 1
}
