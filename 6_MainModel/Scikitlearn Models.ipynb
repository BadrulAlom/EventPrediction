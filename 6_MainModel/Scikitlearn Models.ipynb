{
 "cells": [
  {
   "cell_type": "markdown",
   "metadata": {},
   "source": [
    "<h1 align=\"center\" style=\"background-color:#616161;color:white\">Scikit-Learn models</h1>\n",
    "\n",
    "Contains:\n",
    "- Baseline model\n",
    "- Linear SVM\n",
    "- RBF SVM\n",
    "- Logistic Regression"
   ]
  },
  {
   "cell_type": "markdown",
   "metadata": {},
   "source": [
    "<h3 style=\"background-color:#616161;color:white\">0. Setup</h3>"
   ]
  },
  {
   "cell_type": "markdown",
   "metadata": {},
   "source": [
    "<div style=\"background-color:white; color:#008000; font-family: 'Courier New, Monospace;font-weight: bold\">Input Parameters</div>"
   ]
  },
  {
   "cell_type": "code",
   "execution_count": 3,
   "metadata": {
    "collapsed": true,
    "scrolled": true
   },
   "outputs": [],
   "source": [
    "# Root path\n",
    "#root = \"C:/DS/Github/MusicRecommendation\"  # BA, Windows\n",
    "root = \"/home/badrul/git/EventPrediction\" # BA, Linux"
   ]
  },
  {
   "cell_type": "markdown",
   "metadata": {},
   "source": [
    "<div style=\"background-color:white; color:#008000; font-family: 'Courier New, Monospace;font-weight: bold\">Common Libraries</div>"
   ]
  },
  {
   "cell_type": "code",
   "execution_count": 4,
   "metadata": {
    "scrolled": true
   },
   "outputs": [
    {
     "name": "stdout",
     "output_type": "stream",
     "text": [
      "Ok\n"
     ]
    }
   ],
   "source": [
    "# Core\n",
    "import numpy as np\n",
    "import pandas as pd\n",
    "from IPython.core.debugger import Tracer    # Used for debugging\n",
    "import logging\n",
    "from random import *\n",
    "\n",
    "# File and database management\n",
    "import csv\n",
    "import os\n",
    "import sys\n",
    "import json\n",
    "import sqlite3\n",
    "from pathlib import Path\n",
    "\n",
    "# Date/Time\n",
    "import datetime\n",
    "import time\n",
    "#from datetime import timedelta # Deprecated\n",
    "\n",
    "# Visualization\n",
    "import matplotlib.pyplot as plt             # Quick\n",
    "%matplotlib inline\n",
    "\n",
    "# Misc\n",
    "import random\n",
    "import importlib\n",
    "import warnings\n",
    "warnings.filterwarnings('ignore')\n",
    "import logging\n",
    "logging.basicConfig(filename='RNN.log',level=logging.DEBUG)\n",
    "\n",
    "#-------------- Custom Libs -----------------#\n",
    "os.chdir(root)\n",
    "\n",
    "# Import the codebase module\n",
    "fPath = root + \"/1_Codemodule\"\n",
    "if fPath not in sys.path: sys.path.append(fPath)\n",
    "\n",
    "# Custom Libs\n",
    "import coreCode as cc\n",
    "import lastfmCode as fm\n",
    "from sklearn import svm\n",
    "from sklearn.model_selection import cross_val_predict\n",
    "from sklearn.model_selection import cross_val_score\n",
    "from sklearn.model_selection import KFold\n",
    "from sklearn.model_selection import cross_validate\n",
    "from sklearn.metrics import recall_score\n",
    "from sklearn.linear_model import LogisticRegression\n",
    "from datetime import datetime\n",
    "from sklearn.metrics import recall_score\n",
    "\n",
    "print ('Ok')"
   ]
  },
  {
   "cell_type": "markdown",
   "metadata": {},
   "source": [
    "<div style=\"background-color:white; color:#008000; font-family: 'Courier New, Monospace;font-weight: bold\">Page Specific Libraries</div>"
   ]
  },
  {
   "cell_type": "code",
   "execution_count": 3,
   "metadata": {
    "scrolled": true
   },
   "outputs": [
    {
     "name": "stdout",
     "output_type": "stream",
     "text": [
      "Ok\n"
     ]
    }
   ],
   "source": [
    "# Data science (comment out if not needed)\n",
    "#from sklearn.manifold import TSNE\n",
    "import tensorflow as tf\n",
    "from tensorflow.contrib import rnn\n",
    "from tensorflow.python.framework import ops\n",
    "ops.reset_default_graph()\n",
    "from sklearn import metrics\n",
    "from sklearn import preprocessing\n",
    "print ('Ok')"
   ]
  },
  {
   "cell_type": "markdown",
   "metadata": {},
   "source": [
    "<div style=\"background-color:#white; color:#008000; font-family: 'Courier New, Monospace;font-weight: bold\">Load settings</div>"
   ]
  },
  {
   "cell_type": "code",
   "execution_count": 4,
   "metadata": {
    "scrolled": true
   },
   "outputs": [
    {
     "name": "stdout",
     "output_type": "stream",
     "text": [
      "Ok\n"
     ]
    }
   ],
   "source": [
    "settingsDict =  cc.loadSettings()\n",
    "dbPath = root + settingsDict['mainDbPath_sml']\n",
    "fmSimilarDbPath = root + settingsDict['fmSimilarDbPath']\n",
    "fmTagsDbPath = root + settingsDict['fmTagsDbPath']\n",
    "trackMetaDbPath = root + settingsDict['trackmetadata']\n",
    "periodGranularity = int(settingsDict['periodGranularity'])\n",
    "print ('Ok')"
   ]
  },
  {
   "cell_type": "markdown",
   "metadata": {},
   "source": [
    "<h3 style=\"background-color:#616161;color:white\">1. Define Models</h3>"
   ]
  },
  {
   "cell_type": "code",
   "execution_count": 1,
   "metadata": {
    "collapsed": true
   },
   "outputs": [],
   "source": [
    "def getData(fieldList,tblName):\n",
    "    con = sqlite3.connect(dbPath)\n",
    "    c = con.cursor()\n",
    "    # Get list of UserIDs\n",
    "    _df = pd.read_sql_query(\"Select {} from {}\".format(fieldList,tblName),con)\n",
    "    _x = _df.drop(['t'], 1).values\n",
    "    _y = _df['t'].values.astype(int)\n",
    "    con.close()\n",
    "    return _x, _y\n",
    "\n",
    "def getSample(_x,_y, _sampleSize):\n",
    "    idx = np.random.choice(np.arange(len(_x)), _sampleSize, replace=False)\n",
    "    _xSample = x[idx]\n",
    "    _ySample = y[idx]\n",
    "    return _xSample,_ySample"
   ]
  },
  {
   "cell_type": "code",
   "execution_count": 35,
   "metadata": {
    "collapsed": true
   },
   "outputs": [],
   "source": [
    "def Baseline(x,y):\n",
    "\n",
    "    print('\\n--------------------------------------------------------')\n",
    "    print('3. Baseline')\n",
    "    print('--------------------------------------------------------')\n",
    "    \n",
    "    startTime = datetime.now()\n",
    "    print('Start time {}'.format(startTime))\n",
    "    prec= np.zeros(5)\n",
    "    rec = np.zeros(5)\n",
    "    \n",
    "    i=0\n",
    "    \n",
    "    kf = KFold(n_splits=5)\n",
    "    for train_index, test_index in kf.split(x):\n",
    "        xTrain, xTest = x[train_index], x[test_index]\n",
    "        yTrain, yTest = y[train_index], y[test_index]\n",
    "        \n",
    "        pred = xTest[:,0]\n",
    "        prec[i],rec[i], _, _ = metrics.precision_recall_fscore_support(yTest,pred, average='binary') \n",
    "        \n",
    "        #print (metrics.classification_report(yTest,pred))\n",
    "        i+=1\n",
    "    \n",
    "    pMn=round(prec.mean(),3)\n",
    "    pSd=round(prec.std(),3)\n",
    "    rMn=round(rec.mean(),3)\n",
    "    rSd=round(rec.std(),3)\n",
    "    print (\"Av. precision {} +/- {}, Av. recall {}+/{},\".format(pMn,pSd,rMn,rSd))\n",
    "\n",
    "    timeElapsed=datetime.now()-startTime\n",
    "    print('Time elpased (hh:mm:ss.ms) {}'.format(timeElapsed))\n",
    "\n",
    "    return"
   ]
  },
  {
   "cell_type": "code",
   "execution_count": 36,
   "metadata": {
    "collapsed": true
   },
   "outputs": [],
   "source": [
    "def RBFKernel(x,y):\n",
    "\n",
    "    print('\\n--------------------------------------------------------')\n",
    "    print('3. SVM- RBF Kernel')\n",
    "    print('--------------------------------------------------------')\n",
    "    \n",
    "    startTime = datetime.now()\n",
    "    print('Start time {}'.format(startTime))\n",
    "\n",
    "    clf = svm.SVC(kernel='rbf', C=1, random_state=0)\n",
    "    # Increase weight where t-1 is 0 and t is 1\n",
    "    sampleWeights =  1+(y[:] == 1) * (x[:,1] ==0)\n",
    "    scoring = ['precision_macro', 'recall_macro']\n",
    "    scores = cross_validate(clf, x, y, scoring=scoring,\n",
    "    cv=5, return_train_score=False, n_jobs=-1,fit_params={'sample_weight': sampleWeights})\n",
    "    #cv=5, return_train_score=False, n_jobs=-1)\n",
    "    \n",
    "\n",
    "    pMn=round(scores['test_precision_macro'].mean(),3)\n",
    "    pSd=round(scores['test_precision_macro'].std(),3)\n",
    "    rMn=round(scores['test_recall_macro'].mean(),3)\n",
    "    rSd=round(scores['test_recall_macro'].std(),3)\n",
    "    print (\"Av. precision {} +/- {}, Av. recall {}+/{},\".format(pMn,pSd,rMn,rSd))\n",
    "\n",
    "    timeElapsed=datetime.now()-startTime\n",
    "    print('Time elpased (hh:mm:ss.ms) {}'.format(timeElapsed))\n",
    "\n",
    "    #predicted = cross_val_predict(clf, x, y, cv=5, n_jobs=-1)\n",
    "    #print(metrics.roc_auc_score(y,predicted))  \n",
    "    #print(metrics.classification_report(y,predicted))  # Need to feed it yTest not yTest_OneHot here\n",
    "    return scores"
   ]
  },
  {
   "cell_type": "code",
   "execution_count": 5,
   "metadata": {
    "collapsed": true
   },
   "outputs": [],
   "source": [
    "def LinearKernel(x,y,weighted):\n",
    "\n",
    "    print('\\n--------------------------------------------------------')\n",
    "    print('3. Linear Kernel (weighted = {})'.format(weighted))\n",
    "    print('--------------------------------------------------------')\n",
    "    \n",
    "    startTime = datetime.now()\n",
    "    print('Start time {}'.format(startTime))\n",
    "\n",
    "    clf = svm.SVC(kernel='linear', C=1, random_state=0)\n",
    "    # Increase weight where t-1 is 0 and t is 1\n",
    "    \n",
    "    prec= np.zeros(5)\n",
    "    rec = np.zeros(5)\n",
    "    \n",
    "    i=0\n",
    "    \n",
    "    kf = KFold(n_splits=5)\n",
    "    for train_index, test_index in kf.split(x):\n",
    "        xTrain, xTest = x[train_index], x[test_index]\n",
    "        yTrain, yTest = y[train_index], y[test_index]\n",
    "        \n",
    "        clf.fit(xTrain,yTrain)\n",
    "        pred = clf.predict(xTest)\n",
    "        \n",
    "        if weighted:\n",
    "            sampleWeights =  1+(yTest[:] == 1) * (xTest[:,1] ==0)\n",
    "            prec[i],rec[i], _, _ = metrics.precision_recall_fscore_support(yTest,pred, average='binary',sample_weight=sampleWeights) \n",
    "        else:\n",
    "            prec[i],rec[i], _, _ = metrics.precision_recall_fscore_support(yTest,pred, average='binary') \n",
    "        \n",
    "        #print (metrics.classification_report(yTest,pred))\n",
    "        i+=1\n",
    "    \n",
    "    pMn=round(prec.mean(),3)\n",
    "    pSd=round(prec.std(),3)\n",
    "    rMn=round(rec.mean(),3)\n",
    "    rSd=round(rec.std(),3)\n",
    "    print (\"Av. precision {} +/- {}, Av. recall {}+/{},\".format(pMn,pSd,rMn,rSd))\n",
    "\n",
    "    coeffs = np.reshape(np.round(clf.coef_,5),(-1,1))\n",
    "    coeffs=np.concatenate((np.reshape(fieldList.split(',')[1:],(-1,1)),coeffs),axis=1)\n",
    "    print(pd.DataFrame(coeffs,columns=['Field','Coeff']))\n",
    "    \n",
    "    timeElapsed=datetime.now()-startTime\n",
    "    print('Time elpased (hh:mm:ss.ms) {}'.format(timeElapsed))\n",
    "\n",
    "    return"
   ]
  },
  {
   "cell_type": "code",
   "execution_count": 44,
   "metadata": {
    "collapsed": true
   },
   "outputs": [],
   "source": [
    "def RBFKernel(x,y,weighted):\n",
    "\n",
    "    print('\\n--------------------------------------------------------')\n",
    "    print('4. RBF Kernel (weighted = {})'.format(weighted))\n",
    "    print('--------------------------------------------------------')\n",
    "    \n",
    "    startTime = datetime.now()\n",
    "    print('Start time {}'.format(startTime))\n",
    "\n",
    "    clf = svm.SVC(kernel='rbf', C=1, random_state=0)\n",
    "    # Increase weight where t-1 is 0 and t is 1\n",
    "    \n",
    "    prec= np.zeros(5)\n",
    "    rec = np.zeros(5)\n",
    "    \n",
    "    i=0\n",
    "    \n",
    "    kf = KFold(n_splits=5)\n",
    "    for train_index, test_index in kf.split(x):\n",
    "        xTrain, xTest = x[train_index], x[test_index]\n",
    "        yTrain, yTest = y[train_index], y[test_index]\n",
    "        \n",
    "        clf.fit(xTrain,yTrain)\n",
    "        pred = clf.predict(xTest)\n",
    "        \n",
    "        if weighted:\n",
    "            sampleWeights =  1+(yTest[:] == 1) * (xTest[:,1] ==0)\n",
    "            prec[i],rec[i], _, _ = metrics.precision_recall_fscore_support(yTest,pred, average='binary',sample_weight=sampleWeights) \n",
    "        else:\n",
    "            prec[i],rec[i], _, _ = metrics.precision_recall_fscore_support(yTest,pred, average='binary') \n",
    "        \n",
    "        #print (metrics.classification_report(yTest,pred))\n",
    "        i+=1\n",
    "    \n",
    "    pMn=round(prec.mean(),3)\n",
    "    pSd=round(prec.std(),3)\n",
    "    rMn=round(rec.mean(),3)\n",
    "    rSd=round(rec.std(),3)\n",
    "    print (\"Av. precision {} +/- {}, Av. recall {}+/{},\".format(pMn,pSd,rMn,rSd))\n",
    "    \n",
    "    timeElapsed=datetime.now()-startTime\n",
    "    print('Time elpased (hh:mm:ss.ms) {}'.format(timeElapsed))\n",
    "\n",
    "    return"
   ]
  },
  {
   "cell_type": "code",
   "execution_count": 39,
   "metadata": {
    "collapsed": true
   },
   "outputs": [],
   "source": [
    "def LogisticModel(x,y,weighted):\n",
    "\n",
    "    print('\\n--------------------------------------------------------')\n",
    "    print('4. Logistic Model (weighted = {})'.format(weighted))\n",
    "    print('--------------------------------------------------------')\n",
    "    \n",
    "    startTime = datetime.now()\n",
    "    print('Start time {}'.format(startTime))\n",
    "\n",
    "    clf = LogisticRegression(C=1,class_weight ='balanced')\n",
    "    # Increase weight where t-1 is 0 and t is 1\n",
    "    sampleWeights =  1+(y[:] == 1) * (x[:,1] ==0)\n",
    "    k=5\n",
    "    prec= np.zeros(k)\n",
    "    rec = np.zeros(k)\n",
    "    i=0\n",
    "    \n",
    "    kf = KFold(n_splits=k)\n",
    "    for train_index, test_index in kf.split(x):\n",
    "        xTrain, xTest = x[train_index], x[test_index]\n",
    "        yTrain, yTest = y[train_index], y[test_index]\n",
    "        clf.fit(xTrain,yTrain)\n",
    "        pred = clf.predict(xTest)\n",
    "        \n",
    "        if weighted:\n",
    "            sampleWeights =  1+(yTest[:] == 1) * (xTest[:,1] ==0)\n",
    "            prec[i],rec[i], _, _ = metrics.precision_recall_fscore_support(yTest,pred, average='binary',sample_weight=sampleWeights)\n",
    "            #print (metrics.classification_report(yTest,pred))\n",
    "        else:\n",
    "            prec[i],rec[i], _, _ = metrics.precision_recall_fscore_support(yTest,pred, average='binary')\n",
    "            #print (metrics.classification_report(yTest,pred))\n",
    "        \n",
    "        i+=1\n",
    "    \n",
    "    pMn=round(prec.mean(),3)\n",
    "    pSd=round(prec.std(),3)\n",
    "    rMn=round(rec.mean(),3)\n",
    "    rSd=round(rec.std(),3)\n",
    "    print (\"Av. precision {} +/- {}, Av. recall {}+/{},\".format(pMn,pSd,rMn,rSd))\n",
    "\n",
    "    coeffs = np.reshape(np.round(clf.coef_,5),(-1,1))\n",
    "    coeffs=np.concatenate((np.reshape(fieldList.split(',')[1:],(-1,1)),coeffs),axis=1)\n",
    "    print(pd.DataFrame(coeffs,columns=['Field','Coeff']))\n",
    "    \n",
    "    timeElapsed=datetime.now()-startTime\n",
    "    print('Time elpased (hh:mm:ss.ms) {}'.format(timeElapsed))\n",
    "\n",
    "    return"
   ]
  },
  {
   "cell_type": "code",
   "execution_count": 46,
   "metadata": {},
   "outputs": [
    {
     "name": "stdout",
     "output_type": "stream",
     "text": [
      "\n",
      "--------------------------------------------------------\n",
      "3. Linear Kernel (weighted = True)\n",
      "--------------------------------------------------------\n",
      "Start time 2017-08-29 12:24:34.910695\n",
      "Av. precision 0.0 +/- 0.0, Av. recall 0.0+/0.0,\n",
      "          Field   Coeff\n",
      "0            t1     0.0\n",
      "1            t2     0.0\n",
      "2            t3     0.0\n",
      "3            t4     0.0\n",
      "4   t5 t23_5hrs  -4e-05\n",
      "5        t24hrs   8e-05\n",
      "6      t24_5hrs  -6e-05\n",
      "7    HrsFrom5pm  -1e-05\n",
      "8         isSun  -1e-05\n",
      "9         isMon   5e-05\n",
      "10        isTue  -2e-05\n",
      "11        isWed   1e-05\n",
      "12        isThu   2e-05\n",
      "13        isFri  -7e-05\n",
      "14        isSat   3e-05\n",
      "Time elpased (hh:mm:ss.ms) 0:00:31.068724\n",
      "\n",
      "--------------------------------------------------------\n",
      "4. Logistic Model (weighted = True)\n",
      "--------------------------------------------------------\n",
      "Start time 2017-08-29 12:25:05.979874\n",
      "Av. precision 0.069 +/- 0.008, Av. recall 0.512+/0.029,\n",
      "          Field     Coeff\n",
      "0            t1       0.0\n",
      "1            t2       0.0\n",
      "2            t3       0.0\n",
      "3            t4       0.0\n",
      "4   t5 t23_5hrs   1.57246\n",
      "5        t24hrs   1.41716\n",
      "6      t24_5hrs   0.69259\n",
      "7    HrsFrom5pm  -0.07267\n",
      "8         isSun  -0.13267\n",
      "9         isMon   -0.0219\n",
      "10        isTue   0.13105\n",
      "11        isWed   0.13389\n",
      "12        isThu   0.03555\n",
      "13        isFri   0.04462\n",
      "14        isSat  -0.05208\n",
      "Time elpased (hh:mm:ss.ms) 0:00:00.734177\n",
      "\n",
      "--------------------------------------------------------\n",
      "4. RBF Kernel (weighted = True)\n",
      "--------------------------------------------------------\n",
      "Start time 2017-08-29 12:25:06.714406\n",
      "Av. precision 0.0 +/- 0.0, Av. recall 0.0+/0.0,\n",
      "Time elpased (hh:mm:ss.ms) 0:01:18.643576\n"
     ]
    }
   ],
   "source": [
    "sampleSize = 100000\n",
    "fieldList=\"t, t1,t2, t3,t4,t5 t23_5hrs,t24hrs,t24_5hrs, HrsFrom5pm, isSun,isMon,isTue,isWed,isThu,isFri,isSat\"\n",
    "#fieldList=\"t,t1,1\"\n",
    "x,y = getData(fieldList,'tblTimeSeriesData')\n",
    "x,y = getSample(x,y,sampleSize)\n",
    "\n",
    "# Run modesl -- uncomment as needed\n",
    "\n",
    "#Baseline(x,y)\n",
    "\n",
    "#LinearKernel(x,y,False)\n",
    "#LinearKernel(x,y,True)\n",
    "\n",
    "LogisticModel2(x,y,False)\n",
    "LogisticModel(x,y,True)\n",
    "\n",
    "#RBFKernel2(x,y,False)\n",
    "#RBFKernel(x,y,True)\n"
   ]
  }
 ],
 "metadata": {
  "anaconda-cloud": {},
  "kernelspec": {
   "display_name": "Python 3",
   "language": "python",
   "name": "python3"
  },
  "language_info": {
   "codemirror_mode": {
    "name": "ipython",
    "version": 3
   },
   "file_extension": ".py",
   "mimetype": "text/x-python",
   "name": "python",
   "nbconvert_exporter": "python",
   "pygments_lexer": "ipython3",
   "version": "3.5.2"
  }
 },
 "nbformat": 4,
 "nbformat_minor": 1
}
