{
 "cells": [
  {
   "cell_type": "markdown",
   "metadata": {},
   "source": [
    "<h1 align=\"center\" style=\"background-color:#616161;color:white\">RNN Model</h1>\n",
    "\n",
    "Adapted from: https://github.com/aymericdamien/TensorFlow-Examples/blob/master/examples/3_NeuralNetworks/recurrent_network.py"
   ]
  },
  {
   "cell_type": "markdown",
   "metadata": {},
   "source": [
    "<h3 style=\"background-color:#616161;color:white\">0. Setup</h3>"
   ]
  },
  {
   "cell_type": "markdown",
   "metadata": {},
   "source": [
    "<div style=\"background-color:white; color:#008000; font-family: 'Courier New, Monospace;font-weight: bold\">Input Parameters</div>"
   ]
  },
  {
   "cell_type": "code",
   "execution_count": 1,
   "metadata": {
    "collapsed": true
   },
   "outputs": [],
   "source": [
    "# Root path\n",
    "#root = \"C:/DS/Github/MusicRecommendation\"  # BA, Windows\n",
    "root = \"/home/badrul/git/EventPrediction\" # BA, Linux"
   ]
  },
  {
   "cell_type": "markdown",
   "metadata": {},
   "source": [
    "<div style=\"background-color:white; color:#008000; font-family: 'Courier New, Monospace;font-weight: bold\">Common Libraries</div>"
   ]
  },
  {
   "cell_type": "code",
   "execution_count": 2,
   "metadata": {
    "collapsed": true
   },
   "outputs": [],
   "source": [
    "# Core\n",
    "import numpy as np\n",
    "import pandas as pd\n",
    "from IPython.core.debugger import Tracer    # Used for debugging\n",
    "import logging\n",
    "from random import *\n",
    "\n",
    "# File and database management\n",
    "import csv\n",
    "import os\n",
    "import sys\n",
    "import json\n",
    "import sqlite3\n",
    "from pathlib import Path\n",
    "\n",
    "# Date/Time\n",
    "import datetime\n",
    "import time\n",
    "#from datetime import timedelta # Deprecated\n",
    "\n",
    "# Visualization\n",
    "import matplotlib.pyplot as plt             # Quick\n",
    "%matplotlib inline\n",
    "\n",
    "# Misc\n",
    "import random\n",
    "\n",
    "#-------------- Custom Libs -----------------#\n",
    "os.chdir(root)\n",
    "\n",
    "# Import the codebase module\n",
    "fPath = root + \"/1_codemodule\"\n",
    "if fPath not in sys.path: sys.path.append(fPath)\n",
    "\n",
    "# Custom Libs\n",
    "import coreCode as cc\n",
    "import lastfmCode as fm"
   ]
  },
  {
   "cell_type": "markdown",
   "metadata": {},
   "source": [
    "<div style=\"background-color:white; color:#008000; font-family: 'Courier New, Monospace;font-weight: bold\">Page Specific Libraries</div>"
   ]
  },
  {
   "cell_type": "code",
   "execution_count": 3,
   "metadata": {
    "collapsed": true
   },
   "outputs": [],
   "source": [
    "# Data science (comment out if not needed)\n",
    "#from sklearn.manifold import TSNE\n",
    "import tensorflow as tf\n",
    "from tensorflow.contrib import rnn\n",
    "from tensorflow.python.framework import ops\n",
    "ops.reset_default_graph()\n",
    "from sklearn import metrics\n",
    "from sklearn import preprocessing"
   ]
  },
  {
   "cell_type": "markdown",
   "metadata": {},
   "source": [
    "<div style=\"background-color:#white; color:#008000; font-family: 'Courier New, Monospace;font-weight: bold\">Declare Functions</div>"
   ]
  },
  {
   "cell_type": "code",
   "execution_count": 4,
   "metadata": {},
   "outputs": [],
   "source": [
    "fieldList1=\"t, UserID, HrsFrom5pm, isSun,isMon,isTue,isWed,isThu,isFri,isSat,t1,t2,t3,t4,t5,t10,t12hrs,t23_5hrs,t24hrs,t24_5hrs,t1wk,t2wks,t3wks,t4wks\"\n",
    "fieldList2=\"t, UserID, HrsFrom5pm, isSun,isMon,isTue,isWed,isThu,isFri,isSat,t1wk,t2wks,t3wks,t4wks\"\n",
    "\n",
    "def getTrainAndTestData_Df(fieldList):\n",
    "    con = sqlite3.connect(dbPath)\n",
    "    c = con.cursor()\n",
    "\n",
    "    # Get list of UserIDs \n",
    "    users = pd.read_sql_query(\"Select UserID from tblUsers Where tblUsers.TestUser = 0\",con)\n",
    "\n",
    "    trainDf=pd.DataFrame(columns=[fieldList])  # Create an emmpty df\n",
    "    testDf=pd.DataFrame(columns=[fieldList])  # Create an emmpty df\n",
    "    periodsInAMonth=int(60/periodGranularity)*24*7*4\n",
    "\n",
    "    totalRows=0\n",
    "    \n",
    "    for user in users.itertuples():\n",
    "        \n",
    "        # Get training dataset\n",
    "        SqlStr=\"SELECT {} from tblTimeSeriesData where UserID = {}\".format(fieldList,user.userID)\n",
    "        df = pd.read_sql_query(SqlStr, con)\n",
    "        \n",
    "        if len(df)>int(periodsInAMonth*3):  # user must have at least 3 months worth of data\n",
    "            totalRows += len(df)\n",
    "    \n",
    "            # Cut-off 1\n",
    "            k = random.randint(periodsInAMonth, len(df))\n",
    "\n",
    "            testDf = testDf.append(df.iloc[k:k+periodsInAMonth])[df.columns.tolist()]\n",
    "\n",
    "            tmp = df.drop(df.index[k:k+periodsInAMonth])\n",
    "\n",
    "            # Cut-off 2\n",
    "            k = random.randint(periodsInAMonth, len(tmp))\n",
    "            testDf = testDf.append(tmp.iloc[k:k+periodsInAMonth])[df.columns.tolist()]\n",
    "            trainDf = trainDf.append(tmp.drop(tmp.index[k:k+periodsInAMonth]))[df.columns.tolist()]\n",
    "        else:\n",
    "            print('Skipping user {} as not enough periods ({})'.format(user.userID,len(df)))\n",
    "    \n",
    "    if len(trainDf)+len(testDf) == totalRows:\n",
    "        print('Ok')\n",
    "    else:\n",
    "        print(\"Incorrect. Total Rows = {}. TestDf+TrainDf rows = {}+{}={}\".format(totalRows,len(testDf),len(trainDf),len(testDf)+len(trainDf)))\n",
    "        \n",
    "    return trainDf, testDf\n",
    "\n",
    "def getHiddenTestUsers_Df(fieldList=\"\",firstNPerc=1.0):\n",
    "    con = sqlite3.connect(dbPath)\n",
    "    c = con.cursor()\n",
    "\n",
    "    # Get list of UserIDs \n",
    "    users = pd.read_sql_query(\"Select UserID from tblUsers Where tblUsers.TestUser = 1\",con)\n",
    "\n",
    "    #fieldList=\"t, PeriodID, UserID, HrsFrom6pm, isSun,isMon,isTue,isWed,isThu,isFri,isSat,t1,t2,t3,t4,t5,t10,t12hrs,t24hrs,t1wk,t2wks,t3wks,t4wks\"\n",
    "    testDf=pd.DataFrame(columns=[fieldList])  # Create an emmpty df\n",
    "    periodsInAMonth=int(60/periodGranularity)*24*7*4\n",
    "\n",
    "    totalRows=0\n",
    "    \n",
    "    for user in users.itertuples():\n",
    "        # Get training dataset\n",
    "        \n",
    "        SqlStr=\"SELECT {} from tblTimeSeriesData where UserID = {}\".format(fieldList + \",PeriodID\",user.userID)    \n",
    "        df = pd.read_sql_query(SqlStr, con)\n",
    "        df[\"PeriodID\"] = df[\"PeriodID\"].astype(int)\n",
    "        df.sort_values(['PeriodID'])\n",
    "        totalRows += len(df)\n",
    "        # Caluclate period cutt-off\n",
    "        cutoff = int(len(df)*firstNPerc)\n",
    "        testDf = testDf.append(df.iloc[0:cutoff])[df.columns.tolist()]\n",
    "    \n",
    "    testDf[\"PeriodID\"] =  testDf[\"PeriodID\"].astype(int)\n",
    "    testDf[\"UserID\"] =  testDf[\"UserID\"].astype(int)\n",
    "    testDf.sort_values(['UserID','PeriodID'], inplace=True)\n",
    "    return testDf\n",
    "\n",
    "def getTrainAndTestData_Np(fieldList,oneHot):\n",
    "    trainDf,testDf = getTrainAndTestData_Df(fieldList)\n",
    "    testDf2 = getHiddenTestUsers_Df(fieldList1,firstNPerc=0.5)  # Get the first half of everyones history\n",
    "    xTrain = trainDf.drop(['t','UserID'], 1).values\n",
    "    \n",
    "    # Test data\n",
    "    xTest= testDf.drop(['t','UserID'], 1).values\n",
    "    yTest = testDf['t'].values.astype(int)\n",
    "    #yTest = np.array([1 if y==1 else -1 for y in y_vals_test])\n",
    "    yTest=yTest.reshape(len(yTest),1)\n",
    "\n",
    "    # Get hidden users data\n",
    "    \n",
    "    xTest2= testDf2.drop(['t','UserID','PeriodID'], 1).values\n",
    "    yTest2 = testDf2['t'].values.astype(int)\n",
    "    yTest2=yTest2.reshape(len(yTest2),1)\n",
    "   \n",
    "    if oneHot:\n",
    "        # One-Hot version\n",
    "        yTrain_onehot = pd.get_dummies(trainDf['t']).values.astype(float) # One-Hot version\n",
    "        yTest_onehot = pd.get_dummies(testDf['t']).values.astype(float)\n",
    "        yTest2_onehot = pd.get_dummies(testDf['t']).values.astype(float)\n",
    "        return xTrain, yTrain_onehot, xTest, yTest_onehot, xTest2, yTest2_onehot\n",
    "    else:\n",
    "        return xTrain, yTrain, xTest, yTest, xTest2, yTest2"
   ]
  },
  {
   "cell_type": "markdown",
   "metadata": {},
   "source": [
    "<div style=\"background-color:#white; color:#008000; font-family: 'Courier New, Monospace;font-weight: bold\">Load settings</div>"
   ]
  },
  {
   "cell_type": "code",
   "execution_count": 5,
   "metadata": {
    "collapsed": true
   },
   "outputs": [],
   "source": [
    "settingsDict =  cc.loadSettings()\n",
    "dbPath = root + settingsDict['mainDbPath']\n",
    "fmSimilarDbPath = root + settingsDict['fmSimilarDbPath']\n",
    "fmTagsDbPath = root + settingsDict['fmTagsDbPath']\n",
    "trackMetaDbPath = root + settingsDict['trackmetadata']\n",
    "periodGranularity = int(settingsDict['periodGranularity'])"
   ]
  },
  {
   "cell_type": "markdown",
   "metadata": {},
   "source": [
    "<h3 style=\"background-color:#616161;color:white\">1. RNN Model</h3>"
   ]
  },
  {
   "cell_type": "code",
   "execution_count": 6,
   "metadata": {},
   "outputs": [],
   "source": [
    "# Parameters\n",
    "learning_rate = 0.001\n",
    "training_iteration = 7\n",
    "n_steps = 1 # timesteps\n",
    "n_hidden = 168 # hidden layer num of features\n",
    "n_classes = 2\n",
    "display_step = 5"
   ]
  },
  {
   "cell_type": "markdown",
   "metadata": {},
   "source": [
    "<div style=\"background-color:#white; color:#008000; font-family: 'Courier New, Monospace;font-weight: bold\">Define the model</div>"
   ]
  },
  {
   "cell_type": "code",
   "execution_count": 10,
   "metadata": {},
   "outputs": [],
   "source": [
    "def RNN(x, weights, biases,n_steps):\n",
    "    # Current data input shape: (batch_size, n_steps, n_input)\n",
    "    # Required shape: 'n_steps' tensors list of shape (batch_size, n_input)\n",
    "    \n",
    "    # Unstack to get a list of 'n_steps' tensors of shape (batch_size, n_input)\n",
    "    x = tf.unstack(x, n_steps, 1)\n",
    "\n",
    "    # Define a lstm cell with tensorflow\n",
    "    lstm_cell = rnn.BasicLSTMCell(n_hidden, forget_bias=1.0)\n",
    "\n",
    "    # Get lstm cell output\n",
    "    outputs, states = rnn.static_rnn(lstm_cell, x, dtype=tf.float32)\n",
    "\n",
    "    # Linear activation, using rnn inner loop last output\n",
    "    return tf.matmul(outputs[-1], weights['out']) + biases['out']\n",
    "\n",
    "def buildGraph(n_steps,n_input):\n",
    "    global x,y, pred,cost\n",
    "    \n",
    "    tf.reset_default_graph()\n",
    "    # tf Graph input\n",
    "    \n",
    "    x = tf.placeholder(\"float\", [None, n_steps, n_input])\n",
    "    y = tf.placeholder(\"float\", [None, n_classes])\n",
    "\n",
    "    # Define weights\n",
    "    weights = {\n",
    "        'out': tf.Variable(tf.random_normal([n_hidden, n_classes]))\n",
    "    }\n",
    "    biases = {\n",
    "        'out': tf.Variable(tf.random_normal([n_classes]))\n",
    "    }\n",
    "\n",
    "    pred = RNN(x, weights, biases,n_steps)\n",
    "    cost = tf.reduce_mean(tf.nn.softmax_cross_entropy_with_logits(logits=pred, labels=y))\n",
    "    optimizer = tf.train.AdamOptimizer(learning_rate=learning_rate).minimize(cost)\n",
    "    # Evaluate model\n",
    "    correct_pred = tf.equal(tf.argmax(pred,1), tf.argmax(y,1))\n",
    "    accuracy = tf.reduce_mean(tf.cast(correct_pred, tf.float32))"
   ]
  },
  {
   "cell_type": "markdown",
   "metadata": {},
   "source": [
    "<div style=\"background-color:#white; color:#008000; font-family: 'Courier New, Monospace;font-weight: bold\">Train the model</div>"
   ]
  },
  {
   "cell_type": "code",
   "execution_count": 12,
   "metadata": {},
   "outputs": [
    {
     "name": "stdout",
     "output_type": "stream",
     "text": [
      "Skipping user 73 as not enough periods (1882)\n",
      "Skipping user 97 as not enough periods (0)\n",
      "Ok\n"
     ]
    }
   ],
   "source": [
    "# Train Data\n",
    "xTrain, yTrain_onehot, xTest, yTest_onehot, xTest2, yTest2_onehot = getTrainAndTestData_Np(fieldList1,True)    \n",
    "\n",
    "buildGraph(n_steps,n_input = np.shape(xTrain)[1])\n"
   ]
  },
  {
   "cell_type": "code",
   "execution_count": null,
   "metadata": {},
   "outputs": [],
   "source": [
    "# Launch the graph\n",
    "sess = tf.Session()\n",
    "# Initializing the variables\n",
    "init = tf.global_variables_initializer()\n",
    "sess.run(init)\n",
    "\n",
    "X = xTrain\n",
    "Y = yTrain_onehot\n",
    "batch_size = 4000\n",
    "\n",
    "# Training cycle\n",
    "for iteration in range(training_iteration):\n",
    "    avg_cost = 0.\n",
    "    total_batch = int(len(xTrain)/batch_size)\n",
    "\n",
    "    # Loop over all batches\n",
    "    for i in range(total_batch):\n",
    "        batch_x = xTrain[i*batch_size:(i*batch_size)+batch_size]\n",
    "        batch_y = yTrain_onehot[i*batch_size:(i*batch_size)+batch_size]                        \n",
    "        batch_x = batch_x.reshape((batch_size, n_steps, n_input))        \n",
    "\n",
    "\n",
    "        # Run optimization op (backprop)\n",
    "        sess.run(optimizer, feed_dict={x: batch_x, y: batch_y})\n",
    "    \n",
    "    if iteration % display_step == 0:\n",
    "    # Calculate train accuracy\n",
    "        i = randint(1, total_batch)  # Randomly select a batch\n",
    "        batch_x = xTrain[i*batch_size:(i*batch_size)+batch_size]\n",
    "        batch_y = yTrain_onehot[i*batch_size:(i*batch_size)+batch_size]                        \n",
    "        batch_x = batch_x.reshape((batch_size, n_steps, n_input))        \n",
    "\n",
    "        acc = sess.run(accuracy, feed_dict={x: batch_x, y: batch_y})\n",
    "        # Calculate loss\n",
    "        loss = sess.run(cost, feed_dict={x: batch_x, y: batch_y})\n",
    "        print (\"Iter {}. Minibatch Loss={:.6f}\".format(iteration, loss) + \", Training Accuracy= \" + \\\n",
    "                  \"{:.5f}\".format(acc))\n",
    "print (\"Optimization Finished!\")"
   ]
  },
  {
   "cell_type": "markdown",
   "metadata": {},
   "source": [
    "<div style=\"background-color:#white; color:#008000; font-family: 'Courier New, Monospace;font-weight: bold\">Test hidden periods</div>"
   ]
  },
  {
   "cell_type": "code",
   "execution_count": null,
   "metadata": {
    "collapsed": true
   },
   "outputs": [],
   "source": [
    "def getTestPredictions(X,Y):\n",
    "    predictions=[]\n",
    "    # Testing cycle\n",
    "    total_batch = int(len(X)/batch_size)\n",
    "\n",
    "    if np.mod(len(X),batch_size) != 0:\n",
    "        # tf requires consistent inputs so need to pad\n",
    "        rowsToPad=batch_size-np.mod(len(X),batch_size)\n",
    "        padRows=np.zeros([rowsToPad,X.shape[1]])\n",
    "        X = np.append(X,padRows,axis=0)\n",
    "\n",
    "        padRows=np.zeros([rowsToPad,Y.shape[1]])\n",
    "        Y = np.append(Y,padRows,axis=0)\n",
    "        total_batch += 1\n",
    "\n",
    "    # Loop over all batches\n",
    "    for i in range(total_batch):\n",
    "        \n",
    "        batch_xs = X[i*batch_size:(i*batch_size)+batch_size]\n",
    "        batch_ys = Y[i*batch_size:(i*batch_size)+batch_size]                \n",
    "        \n",
    "        test_len = np.shape(batch_xs)[0]\n",
    "        batch_xs = batch_xs[:test_len].reshape((-1, n_steps, n_input))\n",
    "        batch_ys = batch_ys[:test_len]\n",
    "\n",
    "        p= 1*sess.run(pred, feed_dict={x: batch_xs, y: batch_ys})\n",
    "        if predictions == []:\n",
    "            predictions = p\n",
    "        else:\n",
    "            predictions= np.append(predictions,p,axis=0)\n",
    "        \n",
    "              \n",
    "    n=len(predictions)-rowsToPad\n",
    "    predictions=predictions[0:n]\n",
    "    predictions = np.argmax(predictions,1)\n",
    "    return predictions"
   ]
  },
  {
   "cell_type": "markdown",
   "metadata": {},
   "source": [
    "<div style=\"background-color:#white; color:#008000; font-family: 'Courier New, Monospace;font-weight: bold\">Test hidden periods</div>"
   ]
  },
  {
   "cell_type": "code",
   "execution_count": null,
   "metadata": {},
   "outputs": [],
   "source": [
    "predictions = getTestPredictions(xTest,yTest_onehot)\n",
    "print(metrics.classification_report(yTest,predictions))  # Need to feed it yTest not yTest_OneHot here\n",
    "print(metrics.confusion_matrix(yTest,predictions))\n",
    "print(\"* Precision = labelled as x / how many were actually x in the ones that were labelled\")\n",
    "print(\"* Recall = labelled as x / how many were actually x in the dataset\")"
   ]
  },
  {
   "cell_type": "code",
   "execution_count": null,
   "metadata": {},
   "outputs": [],
   "source": [
    "predictions = getTestPredictions(xTest2,yTest2_onehot)\n",
    "print(metrics.classification_report(yTest2,predictions))  # Need to feed it yTest not yTest_OneHot here\n",
    "print(metrics.confusion_matrix(yTest2,predictions))\n",
    "print(\"* Precision = labelled as x / how many were actually x in the ones that were labelled\")\n",
    "print(\"* Recall = labelled as x / how many were actually x in the dataset\")"
   ]
  },
  {
   "cell_type": "markdown",
   "metadata": {
    "collapsed": true
   },
   "source": [
    "#### 168 layers\n",
    "0       0.98      0.98      0.98    205991\n",
    "          1       0.77      0.77      0.77     21658\n",
    "\n",
    "0       0.98      0.98      0.98    222473\n",
    "          1       0.72      0.73      0.72     18389"
   ]
  },
  {
   "cell_type": "markdown",
   "metadata": {},
   "source": [
    "#### 20 layers\n",
    "    precision    recall  f1-score   support\n",
    "\n",
    "          0       0.93      0.99      0.96    222473\n",
    "          1       0.47      0.07      0.12     18389\n",
    "\n",
    "avg / total       0.89      0.92      0.90    240862\n",
    "\n",
    "    precision    recall  f1-score   support\n",
    "\n",
    "          0       0.93      0.99      0.96    222473\n",
    "          1       0.47      0.07      0.12     18389\n",
    "\n",
    "avg / total       0.89      0.92      0.90    240862\n",
    "\n",
    "#### 40 layers\n",
    "   precision    recall  f1-score   support\n",
    "\n",
    "          0       0.91      0.99      0.95    201286\n",
    "          1       0.56      0.08      0.15     22131\n",
    "\n",
    "avg / total       0.87      0.90      0.87    223417\n",
    "\n",
    " precision    recall  f1-score   support\n",
    "\n",
    "          0       0.93      0.99      0.96    222473\n",
    "          1       0.46      0.07      0.11     18389\n",
    "\n",
    "avg / total       0.89      0.92      0.90    240862\n",
    "\n",
    "#### 250 layers:\n",
    "   precision    recall  f1-score   support\n",
    "\n",
    "          0       0.91      1.00      0.95    204522\n",
    "          1       0.55      0.06      0.11     20159\n",
    "\n",
    "       precision    recall  f1-score   support\n",
    "\n",
    "          0       0.93      0.99      0.96    222473\n",
    "          1       0.46      0.05      0.10     18389\n",
    "\n",
    "avg / total       0.89      0.92      0.89    240862\n",
    "\n",
    "#### 100 Layers\n",
    "      precision    recall  f1-score   support\n",
    "\n",
    "          0       0.92      0.99      0.95    201823\n",
    "          1       0.55      0.07      0.13     19645\n",
    "\n",
    "avg / total       0.88      0.91      0.88    221468\n",
    "\n",
    "     precision    recall  f1-score   support\n",
    "\n",
    "          0       0.93      0.99      0.96    222473\n",
    "          1       0.47      0.05      0.10     18389\n",
    "\n",
    "avg / total       0.89      0.92      0.89    240862"
   ]
  },
  {
   "cell_type": "code",
   "execution_count": null,
   "metadata": {
    "collapsed": true
   },
   "outputs": [],
   "source": []
  }
 ],
 "metadata": {
  "anaconda-cloud": {},
  "kernelspec": {
   "display_name": "Python 3",
   "language": "python",
   "name": "python3"
  },
  "language_info": {
   "codemirror_mode": {
    "name": "ipython",
    "version": 3
   },
   "file_extension": ".py",
   "mimetype": "text/x-python",
   "name": "python",
   "nbconvert_exporter": "python",
   "pygments_lexer": "ipython3",
   "version": "3.5.2"
  }
 },
 "nbformat": 4,
 "nbformat_minor": 1
}
