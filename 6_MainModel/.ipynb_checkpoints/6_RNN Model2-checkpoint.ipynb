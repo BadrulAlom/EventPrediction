{
 "cells": [
  {
   "cell_type": "markdown",
   "metadata": {},
   "source": [
    "<h1 align=\"center\" style=\"background-color:#616161;color:white\">RNN Model</h1>\n",
    "\n",
    "Adapted from: https://github.com/aymericdamien/TensorFlow-Examples/blob/master/examples/3_NeuralNetworks/recurrent_network.py"
   ]
  },
  {
   "cell_type": "markdown",
   "metadata": {},
   "source": [
    "<h3 style=\"background-color:#616161;color:white\">0. Setup</h3>"
   ]
  },
  {
   "cell_type": "markdown",
   "metadata": {},
   "source": [
    "<div style=\"background-color:white; color:#008000; font-family: 'Courier New, Monospace;font-weight: bold\">Input Parameters</div>"
   ]
  },
  {
   "cell_type": "code",
   "execution_count": null,
   "metadata": {
    "collapsed": true
   },
   "outputs": [],
   "source": [
    "# Root path\n",
    "#root = \"C:/DS/Github/MusicRecommendation\"  # BA, Windows\n",
    "root = \"/home/badrul/git/EventPrediction\" # BA, Linux"
   ]
  },
  {
   "cell_type": "markdown",
   "metadata": {},
   "source": [
    "<div style=\"background-color:white; color:#008000; font-family: 'Courier New, Monospace;font-weight: bold\">Common Libraries</div>"
   ]
  },
  {
   "cell_type": "code",
   "execution_count": null,
   "metadata": {
    "collapsed": true
   },
   "outputs": [],
   "source": [
    "# Core\n",
    "import numpy as np\n",
    "import pandas as pd\n",
    "from IPython.core.debugger import Tracer    # Used for debugging\n",
    "import logging\n",
    "from random import *\n",
    "\n",
    "# File and database management\n",
    "import csv\n",
    "import os\n",
    "import sys\n",
    "import json\n",
    "import sqlite3\n",
    "from pathlib import Path\n",
    "\n",
    "# Date/Time\n",
    "import datetime\n",
    "import time\n",
    "#from datetime import timedelta # Deprecated\n",
    "\n",
    "# Visualization\n",
    "import matplotlib.pyplot as plt             # Quick\n",
    "%matplotlib inline\n",
    "\n",
    "# Misc\n",
    "import random\n",
    "\n",
    "#-------------- Custom Libs -----------------#\n",
    "os.chdir(root)\n",
    "\n",
    "# Import the codebase module\n",
    "fPath = root + \"/1_codemodule\"\n",
    "if fPath not in sys.path: sys.path.append(fPath)\n",
    "\n",
    "# Custom Libs\n",
    "import coreCode as cc\n",
    "import lastfmCode as fm"
   ]
  },
  {
   "cell_type": "markdown",
   "metadata": {},
   "source": [
    "<div style=\"background-color:white; color:#008000; font-family: 'Courier New, Monospace;font-weight: bold\">Page Specific Libraries</div>"
   ]
  },
  {
   "cell_type": "code",
   "execution_count": 3,
   "metadata": {
    "collapsed": true
   },
   "outputs": [],
   "source": [
    "# Data science (comment out if not needed)\n",
    "#from sklearn.manifold import TSNE\n",
    "import tensorflow as tf\n",
    "from tensorflow.contrib import rnn\n",
    "from tensorflow.python.framework import ops\n",
    "ops.reset_default_graph()\n",
    "from sklearn import metrics\n",
    "from sklearn import preprocessing"
   ]
  },
  {
   "cell_type": "markdown",
   "metadata": {},
   "source": [
    "<div style=\"background-color:#white; color:#008000; font-family: 'Courier New, Monospace;font-weight: bold\">Declare Functions</div>"
   ]
  },
  {
   "cell_type": "code",
   "execution_count": 4,
   "metadata": {
    "collapsed": true
   },
   "outputs": [],
   "source": [
    "fieldList=\"t, UserID, HrsFrom5pm, isSun,isMon,isTue,isWed,isThu,isFri,isSat,t1,t2,t3,t4,t5,t10,t12hrs,t23_5hrs,t24hrs,t24_5hrs,t1wk,t2wks,t3wks,t4wks\"\n",
    "\n",
    "def getTrainAndTestData():\n",
    "    con = sqlite3.connect(dbPath)\n",
    "    c = con.cursor()\n",
    "\n",
    "    # Get list of UserIDs \n",
    "    users = pd.read_sql_query(\"Select UserID from tblUsers Where tblUsers.TestUser = 0\",con)\n",
    "\n",
    "    trainDf=pd.DataFrame(columns=[fieldList])  # Create an emmpty df\n",
    "    testDf=pd.DataFrame(columns=[fieldList])  # Create an emmpty df\n",
    "    periodsInAMonth=int(60/periodGranularity)*24*7*4\n",
    "\n",
    "    totalRows=0\n",
    "    \n",
    "    for user in users.itertuples():\n",
    "        \n",
    "        # Get training dataset\n",
    "        SqlStr=\"SELECT {} from tblTimeSeriesData where UserID = {}\".format(fieldList,user.userID)\n",
    "        df = pd.read_sql_query(SqlStr, con)\n",
    "        \n",
    "        if len(df)>int(periodsInAMonth*3):  # user must have at least 3 months worth of data\n",
    "            totalRows += len(df)\n",
    "    \n",
    "            # Cut-off 1\n",
    "            k = random.randint(periodsInAMonth, len(df))\n",
    "\n",
    "            testDf = testDf.append(df.iloc[k:k+periodsInAMonth])[df.columns.tolist()]\n",
    "\n",
    "            tmp = df.drop(df.index[k:k+periodsInAMonth])\n",
    "\n",
    "            # Cut-off 2\n",
    "            k = random.randint(periodsInAMonth, len(tmp))\n",
    "            testDf = testDf.append(tmp.iloc[k:k+periodsInAMonth])[df.columns.tolist()]\n",
    "            trainDf = trainDf.append(tmp.drop(tmp.index[k:k+periodsInAMonth]))[df.columns.tolist()]\n",
    "        else:\n",
    "            print('Skipping user {} as not enough periods ({})'.format(user.userID,len(df)))\n",
    "    \n",
    "    if len(trainDf)+len(testDf) == totalRows:\n",
    "        print('Ok')\n",
    "    else:\n",
    "        print(\"Incorrect. Total Rows = {}. TestDf+TrainDf rows = {}+{}={}\".format(totalRows,len(testDf),len(trainDf),len(testDf)+len(trainDf)))\n",
    "        \n",
    "    return trainDf, testDf\n",
    "\n",
    "def getHiddenTestUsers(firstNPerc=1.0):\n",
    "    con = sqlite3.connect(dbPath)\n",
    "    c = con.cursor()\n",
    "\n",
    "    # Get list of UserIDs \n",
    "    users = pd.read_sql_query(\"Select UserID from tblUsers Where tblUsers.TestUser = 1\",con)\n",
    "\n",
    "    #fieldList=\"t, PeriodID, UserID, HrsFrom6pm, isSun,isMon,isTue,isWed,isThu,isFri,isSat,t1,t2,t3,t4,t5,t10,t12hrs,t24hrs,t1wk,t2wks,t3wks,t4wks\"\n",
    "    testDf=pd.DataFrame(columns=[fieldList])  # Create an emmpty df\n",
    "    periodsInAMonth=int(60/periodGranularity)*24*7*4\n",
    "\n",
    "    totalRows=0\n",
    "    \n",
    "    for user in users.itertuples():\n",
    "        # Get training dataset\n",
    "        \n",
    "        SqlStr=\"SELECT {} from tblTimeSeriesData where UserID = {}\".format(fieldList + \",PeriodID\",user.userID)    \n",
    "        df = pd.read_sql_query(SqlStr, con)\n",
    "        df[\"PeriodID\"] = df[\"PeriodID\"].astype(int)\n",
    "        df.sort_values(['PeriodID'])\n",
    "        totalRows += len(df)\n",
    "        # Caluclate period cutt-off\n",
    "        cutoff = int(len(df)*firstNPerc)\n",
    "        testDf = testDf.append(df.iloc[0:cutoff])[df.columns.tolist()]\n",
    "    \n",
    "    testDf[\"PeriodID\"] =  testDf[\"PeriodID\"].astype(int)\n",
    "    testDf[\"UserID\"] =  testDf[\"UserID\"].astype(int)\n",
    "    testDf.sort_values(['UserID','PeriodID'], inplace=True)\n",
    "    return testDf\n"
   ]
  },
  {
   "cell_type": "markdown",
   "metadata": {},
   "source": [
    "<div style=\"background-color:#white; color:#008000; font-family: 'Courier New, Monospace;font-weight: bold\">Load settings</div>"
   ]
  },
  {
   "cell_type": "code",
   "execution_count": 5,
   "metadata": {
    "collapsed": true
   },
   "outputs": [],
   "source": [
    "settingsDict =  cc.loadSettings()\n",
    "dbPath = root + settingsDict['mainDbPath']\n",
    "fmSimilarDbPath = root + settingsDict['fmSimilarDbPath']\n",
    "fmTagsDbPath = root + settingsDict['fmTagsDbPath']\n",
    "trackMetaDbPath = root + settingsDict['trackmetadata']\n",
    "periodGranularity = int(settingsDict['periodGranularity'])"
   ]
  },
  {
   "cell_type": "markdown",
   "metadata": {},
   "source": [
    "<h3 style=\"background-color:#616161;color:white\">1. Load data</h3>"
   ]
  },
  {
   "cell_type": "code",
   "execution_count": 13,
   "metadata": {},
   "outputs": [],
   "source": [
    "# Train Data\n",
    "trainDf,testDf = getTrainAndTestData()\n",
    "xTrain = trainDf.drop(['t','t1','t2','t3','t4','t5','t10','t12hrs','t23_5hrs','t24hrs','t24_5hrs'], 1).values\n",
    "yTrain_onehot = pd.get_dummies(trainDf['t']).values.astype(float) # One-Hot version\n",
    "\n",
    "# Test data\n",
    "xTest= testDf.drop(['t','UserID','t1','t2','t3','t4','t5','t10','t12hrs','t23_5hrs','t24hrs','t24_5hrs'], 1).values\n",
    "yTest = testDf['t'].values.astype(int)\n",
    "#yTest = np.array([1 if y==1 else -1 for y in y_vals_test])\n",
    "yTest=yTest.reshape(len(yTest),1)\n",
    "\n",
    "# One-Hot version\n",
    "yTest_onehot = pd.get_dummies(testDf['t']).values.astype(float)\n",
    "\n",
    "# Get hidden users data\n",
    "testDf = getHiddenTestUsers(firstNPerc=0.5)  # Get the first half of everyones history\n",
    "xTest2= testDf.drop(['t','UserID','t1','t2','t3','t4','t5','t10','t12hrs','t23_5hrs','t24hrs','t24_5hrs','PeriodID'], 1).values\n",
    "yTest2 = testDf['t'].values.astype(int)\n",
    "yTest2=yTest2.reshape(len(yTest2),1)\n",
    "\n",
    "# One-Hot version\n",
    "yTest2_onehot = pd.get_dummies(testDf['t']).values.astype(float)"
   ]
  },
  {
   "cell_type": "markdown",
   "metadata": {},
   "source": [
    "<div style=\"background-color:#white; color:#008000; font-family: 'Courier New, Monospace;font-weight: bold\">Confirm dimensions</div>"
   ]
  },
  {
   "cell_type": "code",
   "execution_count": 14,
   "metadata": {},
   "outputs": [
    {
     "data": {
      "text/plain": [
       "((3516965, 13), (3516965, 2))"
      ]
     },
     "execution_count": 14,
     "metadata": {},
     "output_type": "execute_result"
    }
   ],
   "source": [
    "np.shape(xTrain),np.shape(yTrain_onehot)"
   ]
  },
  {
   "cell_type": "code",
   "execution_count": 15,
   "metadata": {},
   "outputs": [
    {
     "data": {
      "text/plain": [
       "((240862, 13), (240862, 1), (240862, 2))"
      ]
     },
     "execution_count": 15,
     "metadata": {},
     "output_type": "execute_result"
    }
   ],
   "source": [
    "np.shape(xTest), np.shape( yTest),np.shape(yTest_onehot)"
   ]
  },
  {
   "cell_type": "markdown",
   "metadata": {},
   "source": [
    "<h3 style=\"background-color:#616161;color:white\">3. RNN Model</h3>"
   ]
  },
  {
   "cell_type": "markdown",
   "metadata": {},
   "source": [
    "<div style=\"background-color:#white; color:#008000; font-family: 'Courier New, Monospace;font-weight: bold\">Define the model</div>"
   ]
  },
  {
   "cell_type": "code",
   "execution_count": null,
   "metadata": {
    "collapsed": true
   },
   "outputs": [],
   "source": [
    "# Key parameters\n",
    "batch_rows = 1344\n",
    "batch_depth = 336\n",
    "hiddenLayers =128\n",
    "learning_rate =0.001\n",
    "training_iteration = 1\n",
    "global x, y,optimizer,model"
   ]
  },
  {
   "cell_type": "code",
   "execution_count": 17,
   "metadata": {},
   "outputs": [
    {
     "data": {
      "text/plain": [
       "(<tf.Tensor 'add:0' shape=(?, 2) dtype=float32>,\n",
       " <tf.Tensor 'Mean_1:0' shape=() dtype=float32>,\n",
       " <tf.Operation 'Adam' type=NoOp>)"
      ]
     },
     "execution_count": 17,
     "metadata": {},
     "output_type": "execute_result"
    }
   ],
   "source": [
    "def RNN(x, weights, biases,batch_depth,hiddenLayers):\n",
    "\n",
    "    # Prepare data shape to match `rnn` function requirements\n",
    "    # Current data input shape: (batch_size, n_steps, n_input)\n",
    "    # Required shape: 'n_steps' tensors list of shape (batch_size, n_input)\n",
    "    \n",
    "    # Unstack to get a list of 'n_steps' tensors of shape (batch_size, n_input)\n",
    "    x = tf.unstack(x, batch_depth, 1)\n",
    "\n",
    "    # Define a lstm cell with tensorflow\n",
    "    lstm_cell = rnn.BasicLSTMCell(hiddenLayers, forget_bias=1.0)\n",
    "\n",
    "    # Get lstm cell output\n",
    "    outputs, states = rnn.static_rnn(lstm_cell, x, dtype=tf.float32)\n",
    "\n",
    "    # Linear activation, using rnn inner loop last output\n",
    "    return tf.matmul(outputs[-1], weights['out']) + biases['out']\n",
    "\n",
    "def buildGraph(_batchX_cols, _batchY_cols, _batch_rows = 24, _batch_depth = 7, _hiddenLayers =128,_learning_rate =0.001):\n",
    "    tf.reset_default_graph()\n",
    "    global x,y,optimizer\n",
    "    # Define input variables:\n",
    "    x = tf.placeholder(\"float\", [None, batch_depth, batchX_cols])\n",
    "    y = tf.placeholder(\"float\", [None, batchY_cols])\n",
    "\n",
    "    # Define weights:\n",
    "    weights = {\n",
    "        'out': tf.Variable(tf.random_normal([hiddenLayers, batchY_cols]))\n",
    "    }\n",
    "    biases = {\n",
    "        'out': tf.Variable(tf.random_normal([batchY_cols]))\n",
    "    }\n",
    "\n",
    "    # Define main model:\n",
    "    model = RNN(x, weights, biases,batch_depth,hiddenLayers)\n",
    "\n",
    "    # Define accuracy\n",
    "    correct_pred = tf.equal(tf.argmax(model,1), tf.argmax(y,1))\n",
    "    accuracy = tf.reduce_mean(tf.cast(correct_pred, tf.float32))\n",
    "    \n",
    "    # Define loss and optimizer\n",
    "    cost = tf.reduce_mean(tf.nn.softmax_cross_entropy_with_logits(logits=model, labels=y))\n",
    "    optimizer = tf.train.AdamOptimizer(learning_rate=learning_rate).minimize(cost)\n",
    "    return model, cost, optimizer\n",
    "\n",
    "batchX_cols=np.shape(xTrain)[1]\n",
    "batchY_cols=np.shape(yTrain_onehot)[1]\n",
    "buildGraph(batchX_cols, batchY_cols, _batch_rows = batch_rows, _batch_depth = batch_depth, _hiddenLayers =hiddenLayers,_learning_rate =learning_rate)"
   ]
  },
  {
   "cell_type": "markdown",
   "metadata": {},
   "source": [
    "<div style=\"background-color:#white; color:#008000; font-family: 'Courier New, Monospace;font-weight: bold\">Train the model</div>\n",
    "\n",
    "<h4>def trainSequence</h4>\n",
    "* Takes a a list of data in which the lis is ordered in a sequential way and turns it into a cube of data for RNNs (rows x depth x columns)\n",
    "* rows are what you may think of as batch size. It's the max that we feed into the model at any time.\n",
    "* for each batch,the depth (aka time_steps) represents a lead training example (say row n of the original seq)  and the preceding examples that will be linked to it in the RNN (see RNN literature)\n",
    "* columns are the number of feature columns\n",
    "* Here's the important thing. As this is sequential data (presumably time) we want to give each entry of our sequentiual\n",
    " list the chance to be the 'leader'. So for each training example i, we will read in i-1, i-2 ... i-depth to form one slice of the cube then move onto i-2 and repeat for the next slice, stacking them up on top till we reach our rows (i.e. batch size) limit\n",
    "* And to be even more explicit - this means almost all rows in our origianl sequence will be used more than once as a 'leader' of their own slice as well as a 'follower' in other slices\n",
    "    \n",
    "     How we do this in code:\n",
    "     \n",
    "     S = Training data with x rows and y columns\n",
    "     Iterate, i,through S from top to bottom. Leader = row i\n",
    "    \n",
    "         for each leader, \n",
    "             grab their followers (i+1 .. i+24) and reshape from a 24 by 1 by y matrix, into 1 by 24 by y \n",
    "             add the slice onto cube\n",
    "             if cube_size has reached the bach_rows limit, transmit the cube to the RNN model and reset cube\n",
    "         move onto the next i\n"
   ]
  },
  {
   "cell_type": "code",
   "execution_count": null,
   "metadata": {},
   "outputs": [
    {
     "name": "stdout",
     "output_type": "stream",
     "text": [
      "Iteration 0\n"
     ]
    }
   ],
   "source": [
    "# We want to predict time-stamp t, using last 7 days worth of features, feeding the data in, in batches of a 1 month\n",
    "# In half-hourly model, 7 days = 2*24*7 = 336. Batch depth = 336 .    # 1 month = 1344\n",
    "# So shape needed is 1344 x 7 x features. \n",
    "\n",
    "def trainSequence(X, Y, sess,batch_row, batch_depth):     \n",
    "    totalRows = int(X.shape[0])\n",
    "    cube_x=[]\n",
    "    cube_y=[]\n",
    "    \n",
    "    \n",
    "    for leaderPos in range(0+batch_depth,np.shape(X)[0]):\n",
    "        # Scan through each minibatch and turn it into slices for the cube\n",
    "        slice_x = X[leaderPos-batch_depth : leaderPos].reshape(1,batch_depth,-1)\n",
    "        slice_y = Y[leaderPos].reshape(1,-1)\n",
    "        \n",
    "        if len(cube_x) == 0:\n",
    "            cube_x=slice_x\n",
    "            cube_y=slice_y\n",
    "        else:\n",
    "            \n",
    "            cube_x=np.append(cube_x,slice_x, axis=0)\n",
    "            cube_y=np.append(cube_y,slice_y, axis=0)\n",
    "        \n",
    "        if np.shape(cube_x)[0] == batch_rows:\n",
    "            # Process then reset cube\n",
    "            #Tracer()()\n",
    "            \n",
    "            sess.run(optimizer, feed_dict={x: cube_x, y: cube_y})\n",
    "            print('  Just processed row number {} of {}. {}%'.format(leaderPos,np.shape(X)[0],round(leaderPos/np.shape(X)[0],2)))\n",
    "            cube_x =[]\n",
    "            cube_y =[]\n",
    "        \n",
    "                    \n",
    "# Training cycle\n",
    "sess = tf.Session()\n",
    "init = tf.global_variables_initializer()\n",
    "sess.run(init)\n",
    "for iteration in range(training_iteration):\n",
    "    print(\"Iteration {}\".format(iteration))\n",
    "    trainSequence(xTrain,yTrain_onehot,sess,batch_rows,batch_depth)  # This is the main line\n",
    "    \n",
    "    #if iteration % display_step == 0:\n",
    "    #    # Calculate train accuracy\n",
    "    #    i = randint(1, total_batch)  # Randomly select a batch\n",
    "    #    batch_x = xTrain[i*batch_size:(i*batch_size)+batch_size]\n",
    "    #    batch_y = yTrain_onehot[i*batch_size:(i*batch_size)+batch_size]                        \n",
    "    #    batch_x = batch_x.reshape((batch_size, n_steps, n_input))        \n",
    "\n",
    "    #    acc = sess.run(accuracy, feed_dict={x: batch_x, y: batch_y})\n",
    "    #    loss = sess.run(cost, feed_dict={x: batch_x, y: batch_y})\n",
    "    #    # Calculate loss\n",
    "    #    print (\"Iter {}. Minibatch Loss={:.6f}\".format(iteration, loss) + \", Training Accuracy= \" + \"{:.5f}\".format(acc))\n",
    "\n",
    "print (\"Optimization Finished!\")"
   ]
  },
  {
   "cell_type": "code",
   "execution_count": null,
   "metadata": {},
   "outputs": [],
   "source": [
    "##### BACKUP\n",
    "\n",
    "# We want to predict time-stamp t, using last 7 days worth of features, feeding the data in, in batches of a 1 month\n",
    "# In half-hourly model, 7 days = 2*24*7 = 336. Batch depth = 336 .    # 1 month = 1344\n",
    "# So shape needed is 1344 x 7 x features. \n",
    "\n",
    "def trainSequence(X, Y, sess,batch_row, batch_depth):     \n",
    "    totalRows = int(X.shape[0])\n",
    "    cube_x=[]\n",
    "    cube_y=[]\n",
    "    \n",
    "    \n",
    "    for leaderPos in range(0+batch_depth,np.shape(X)[0]):\n",
    "        # Scan through each minibatch and turn it into slices for the cube\n",
    "        slice_x = X[leaderPos-batch_depth : leaderPos].reshape(1,batch_depth,-1)\n",
    "        slice_y = Y[leaderPos].reshape(1,-1)\n",
    "        \n",
    "        if len(cube_x) == 0:\n",
    "            cube_x=slice_x\n",
    "            cube_y=slice_y\n",
    "        else:\n",
    "            \n",
    "            cube_x=np.append(cube_x,slice_x, axis=0)\n",
    "            cube_y=np.append(cube_y,slice_y, axis=0)\n",
    "        \n",
    "        if np.shape(cube_x)[0] == batch_rows:\n",
    "            # Process then reset cube\n",
    "            #Tracer()()\n",
    "            \n",
    "            sess.run(optimizer, feed_dict={x: cube_x, y: cube_y})\n",
    "            print('  Just processed row number {} of {}'.format(leaderPos,np.shape(X)[0]))\n",
    "            cube_x =[]\n",
    "            cube_y =[]\n",
    "        \n",
    "                    \n",
    "# Training cycle\n",
    "sess = tf.Session()\n",
    "init = tf.global_variables_initializer()\n",
    "sess.run(init)\n",
    "for iteration in range(training_iteration):\n",
    "    print(\"Iteration {}\".format(iteration))\n",
    "    trainSequence(xTrain,yTrain_onehot,sess,batch_rows,batch_depth)  # This is the main line\n",
    "    \n",
    "    #if iteration % display_step == 0:\n",
    "    #    # Calculate train accuracy\n",
    "    #    i = randint(1, total_batch)  # Randomly select a batch\n",
    "    #    batch_x = xTrain[i*batch_size:(i*batch_size)+batch_size]\n",
    "    #    batch_y = yTrain_onehot[i*batch_size:(i*batch_size)+batch_size]                        \n",
    "    #    batch_x = batch_x.reshape((batch_size, n_steps, n_input))        \n",
    "\n",
    "    #    acc = sess.run(accuracy, feed_dict={x: batch_x, y: batch_y})\n",
    "    #    loss = sess.run(cost, feed_dict={x: batch_x, y: batch_y})\n",
    "    #    # Calculate loss\n",
    "    #    print (\"Iter {}. Minibatch Loss={:.6f}\".format(iteration, loss) + \", Training Accuracy= \" + \"{:.5f}\".format(acc))\n",
    "\n",
    "print (\"Optimization Finished!\")"
   ]
  },
  {
   "cell_type": "markdown",
   "metadata": {},
   "source": [
    "<div style=\"background-color:#white; color:#008000; font-family: 'Courier New, Monospace;font-weight: bold\">Test hidden periods</div>"
   ]
  },
  {
   "cell_type": "code",
   "execution_count": null,
   "metadata": {
    "collapsed": true
   },
   "outputs": [],
   "source": [
    "def testSequence(X, Y, sess,batch_rows = 7, batch_depth=48):     \n",
    "    totalRows = int(X.shape[0])\n",
    "    cube_x=[]\n",
    "    cube_y=[]\n",
    "    predictions=[]\n",
    "    print(batch_depth,batch_rows)\n",
    "    for leaderPos in range(0+batch_depth,batch_rows):\n",
    "        print(2)\n",
    "        # Scan through each minibatch and turn it into slices for the cube\n",
    "        slice_x = X[leaderPos-batch_depth : leaderPos].reshape(1,batch_depth,-1)\n",
    "        slice_y = Y[leaderPos-batch_depth : leaderPos].reshape(1,batch_depth,-1)  \n",
    "        print(2)\n",
    "        if len(cube_x) == 0:\n",
    "            cube_x=slice_x\n",
    "            cube_y=slice_y\n",
    "        else:\n",
    "            \n",
    "            cube_x=np.append(cube_x,slice_x, axis=0)\n",
    "            cube_y=np.append(cube_y,slice_y, axis=0)\n",
    "        print(3)\n",
    "        if np.shape(cube_x)[0] == batch_rows:\n",
    "            p= 1*sess.run(model, feed_dict={x: batch_xs, y: batch_ys})\n",
    "            if predictions == []:\n",
    "                predictions = p\n",
    "            else:\n",
    "                predictions= np.append(predictions,p,axis=0)\n",
    "            \n",
    "            cube_x =[]\n",
    "            cube_y =[]\n",
    "    return predictions\n",
    "\n",
    "predictions = testSequence(xTest,yTest_onehot,sess,batch_rows=7,batch_depth=24)\n",
    "print (\"Test Finished!\")"
   ]
  },
  {
   "cell_type": "code",
   "execution_count": null,
   "metadata": {
    "collapsed": true
   },
   "outputs": [],
   "source": [
    "predictions"
   ]
  },
  {
   "cell_type": "code",
   "execution_count": null,
   "metadata": {
    "collapsed": true
   },
   "outputs": [],
   "source": [
    "def getTestPredictions(X,Y):\n",
    "    predictions=[]\n",
    "    # Testing cycle\n",
    "    total_batch = int(len(X)/batch_rows)\n",
    "\n",
    "    if np.mod(len(X),batch_rows) != 0:\n",
    "        # tf requires consistent inputs so need to pad\n",
    "        rowsToPad=batch_size-np.mod(len(X),batch_rows)\n",
    "        padRows=np.zeros([rowsToPad,X.shape[1]])\n",
    "        X = np.append(X,padRows,axis=0)\n",
    "\n",
    "        padRows=np.zeros([rowsToPad,Y.shape[1]])\n",
    "        Y = np.append(Y,padRows,axis=0)\n",
    "        total_batch += 1\n",
    "\n",
    "    # Loop over all batches\n",
    "    for i in range(total_batch):\n",
    "        Tracer()()\n",
    "        batch_xs = X[i*batch_size:(i*batch_rows)+batch_rows]\n",
    "        batch_ys = Y[i*batch_size:(i*batch_rows)+batch_rows]                \n",
    "        \n",
    "        test_len = np.shape(batch_xs)[0]\n",
    "        \n",
    "        batch_xs = batch_xs[:test_len].reshape((-1, batch_depth, np.shape(batch_xs)[1]))\n",
    "        batch_ys = batch_ys[:test_len]\n",
    "\n",
    "        p= 1*sess.run(pred, feed_dict={x: batch_xs, y: batch_ys})\n",
    "        if predictions == []:\n",
    "            predictions = p\n",
    "        else:\n",
    "            predictions= np.append(predictions,p,axis=0)\n",
    "        \n",
    "              \n",
    "    n=len(predictions)-rowsToPad\n",
    "    predictions=predictions[0:n]\n",
    "    predictions = np.argmax(predictions,1)\n",
    "    return predictions\n",
    "\n",
    "getTestPredictions(xTrain,yTrain_onehot)"
   ]
  },
  {
   "cell_type": "markdown",
   "metadata": {},
   "source": [
    "<div style=\"background-color:#white; color:#008000; font-family: 'Courier New, Monospace;font-weight: bold\">Test hidden periods</div>"
   ]
  },
  {
   "cell_type": "code",
   "execution_count": null,
   "metadata": {
    "collapsed": true
   },
   "outputs": [],
   "source": [
    "predictions = getTestPredictions(xTest,yTest_onehot)\n",
    "print(metrics.classification_report(yTest,predictions))  # Need to feed it yTest not yTest_OneHot here\n",
    "print(metrics.confusion_matrix(yTest,predictions))\n",
    "print(\"* Precision = labelled as x / how many were actually x in the ones that were labelled\")\n",
    "print(\"* Recall = labelled as x / how many were actually x in the dataset\")"
   ]
  },
  {
   "cell_type": "code",
   "execution_count": null,
   "metadata": {
    "collapsed": true
   },
   "outputs": [],
   "source": [
    "predictions = getTestPredictions(xTest2,yTest2_onehot)\n",
    "print(metrics.classification_report(yTest2,predictions))  # Need to feed it yTest not yTest_OneHot here\n",
    "print(metrics.confusion_matrix(yTest2,predictions))\n",
    "print(\"* Precision = labelled as x / how many were actually x in the ones that were labelled\")\n",
    "print(\"* Recall = labelled as x / how many were actually x in the dataset\")"
   ]
  }
 ],
 "metadata": {
  "anaconda-cloud": {},
  "kernelspec": {
   "display_name": "Python 3",
   "language": "python",
   "name": "python3"
  },
  "language_info": {
   "codemirror_mode": {
    "name": "ipython",
    "version": 3
   },
   "file_extension": ".py",
   "mimetype": "text/x-python",
   "name": "python",
   "nbconvert_exporter": "python",
   "pygments_lexer": "ipython3",
   "version": "3.5.2"
  }
 },
 "nbformat": 4,
 "nbformat_minor": 1
}
