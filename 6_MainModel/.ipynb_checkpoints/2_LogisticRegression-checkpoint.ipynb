{
 "cells": [
  {
   "cell_type": "markdown",
   "metadata": {},
   "source": [
    "<h1 align=\"center\" style=\"background-color:#616161;color:white\">Next play prediction using Logistic Regression</h1>"
   ]
  },
  {
   "cell_type": "markdown",
   "metadata": {},
   "source": [
    "<h3 style=\"background-color:#616161;color:white\">0. Setup</h3>"
   ]
  },
  {
   "cell_type": "markdown",
   "metadata": {},
   "source": [
    "<div style=\"background-color:white; color:#008000; font-family: 'Courier New, Monospace;font-weight: bold\">Input Parameters</div>"
   ]
  },
  {
   "cell_type": "code",
   "execution_count": 44,
   "metadata": {
    "collapsed": true
   },
   "outputs": [],
   "source": [
    "# Root path\n",
    "#root = \"C:/DS/Github/MusicRecommendation\"  # BA, Windows\n",
    "root = \"/home/badrul/git/EventPrediction\" # BA, Linux"
   ]
  },
  {
   "cell_type": "markdown",
   "metadata": {},
   "source": [
    "<div style=\"background-color:white; color:#008000; font-family: 'Courier New, Monospace;font-weight: bold\">Import Libraries</div>"
   ]
  },
  {
   "cell_type": "markdown",
   "metadata": {},
   "source": [
    "<code>Standard code used in every page. Not all of these libraries are used here.</code>"
   ]
  },
  {
   "cell_type": "code",
   "execution_count": 45,
   "metadata": {
    "collapsed": true
   },
   "outputs": [],
   "source": [
    "# Core\n",
    "import numpy as np\n",
    "import pandas as pd\n",
    "from IPython.core.debugger import Tracer    # Used Tracer()() for debugging\n",
    "import logging\n",
    "\n",
    "# File and database management\n",
    "import csv\n",
    "import os\n",
    "import sys\n",
    "import json\n",
    "import sqlite3\n",
    "from pathlib import Path\n",
    "\n",
    "# Date/Time\n",
    "import datetime\n",
    "import time\n",
    "#from datetime import timedelta # Deprecated\n",
    "\n",
    "# Visualization\n",
    "import matplotlib.pyplot as plt             # Quick\n",
    "%matplotlib inline\n",
    "\n",
    "# Data science (comment out if not needed)\n",
    "#from sklearn.manifold import TSNE\n",
    "from sklearn import metrics\n",
    "from sklearn.linear_model import LogisticRegression\n",
    "\n",
    "# Misc\n",
    "import random\n",
    "\n",
    "#-------------- Custom Libs -----------------#\n",
    "os.chdir(root)\n",
    "\n",
    "# Import the codebase module\n",
    "fPath = root + \"/1_codemodule\"\n",
    "if fPath not in sys.path: sys.path.append(fPath)\n",
    "\n",
    "# Custom Libs\n",
    "import coreCode as cc\n",
    "import lastfmCode as fm"
   ]
  },
  {
   "cell_type": "markdown",
   "metadata": {},
   "source": [
    "<div style=\"background-color:#white; color:#008000; font-family: 'Courier New, Monospace;font-weight: bold\">Declare Functions</div>"
   ]
  },
  {
   "cell_type": "code",
   "execution_count": 78,
   "metadata": {
    "collapsed": true
   },
   "outputs": [],
   "source": [
    "fieldList=\"t, UserID, HrsFrom5pm, isSun,isMon,isTue,isWed,isThu,isFri,isSat,t1,t2,t3,t4,t5,t10,t12hrs,t23_5hrs, t24hrs, t24_5hrs, t1wk,t2wks,t3wks,t4wks\"\n",
    "def getTrainAndTestData():\n",
    "    con = sqlite3.connect(dbPath)\n",
    "    c = con.cursor()\n",
    "\n",
    "    # Get list of UserIDs \n",
    "    users = pd.read_sql_query(\"Select UserID from tblUsers Where tblUsers.TestUser = 0\",con)\n",
    "\n",
    "    trainDf=pd.DataFrame(columns=[x.strip() for x in fieldList.split(',')])  # Create an emmpty df\n",
    "    testDf=pd.DataFrame(columns=[x.strip() for x in fieldList.split(',')])  # Create an emmpty df\n",
    "    periodsInAMonth=int(60/periodGranularity)*24*7*4\n",
    "\n",
    "    totalRows=0\n",
    "    \n",
    "    for user in users.itertuples():\n",
    "        # Get training dataset\n",
    "        SqlStr=\"SELECT {} from tblTimeSeriesData where UserID = {}\".format(fieldList,user.userID)\n",
    "        df = pd.read_sql_query(SqlStr, con)\n",
    "        if len(df)>int(periodsInAMonth*3):  # user must have at least 3 months worth of data\n",
    "            totalRows += len(df)\n",
    "\n",
    "            # Cut-off 1\n",
    "            k = random.randint(periodsInAMonth, len(df))\n",
    "            #Tracer()()  -- for debugging purposes\n",
    "            testDf = testDf.append(df.iloc[k:k+periodsInAMonth])[df.columns.tolist()]\n",
    "\n",
    "            tmp = df.drop(df.index[k:k+periodsInAMonth])\n",
    "\n",
    "            # Cut-off 2\n",
    "            k = random.randint(periodsInAMonth, len(tmp))\n",
    "            testDf = testDf.append(tmp.iloc[k:k+periodsInAMonth])[df.columns.tolist()]\n",
    "            trainDf = trainDf.append(tmp.drop(tmp.index[k:k+periodsInAMonth]))[df.columns.tolist()]\n",
    "\n",
    "    if len(trainDf)+len(testDf) == totalRows:\n",
    "        print('Ok')\n",
    "    else:\n",
    "        print(\"Incorrect. Total Rows = {}. TestDf+TrainDf rows = {}+{}={}\".format(totalRows,len(testDf),len(trainDf),len(testDf)+len(trainDf)))\n",
    "        \n",
    "    return trainDf, testDf\n",
    "\n",
    "def getHiddenTestUsers(firstNPerc=1.0):\n",
    "    con = sqlite3.connect(dbPath)\n",
    "    c = con.cursor()\n",
    "\n",
    "    # Get list of UserIDs \n",
    "    users = pd.read_sql_query(\"Select UserID from tblUsers Where tblUsers.TestUser = 1\",con)\n",
    "\n",
    "    \n",
    "    testDf=pd.DataFrame(columns=[x.strip() for x in fieldList.split(',')])  # Create an emmpty df\n",
    "    periodsInAMonth=int(60/periodGranularity)*24*7*4\n",
    "\n",
    "    totalRows=0\n",
    "    \n",
    "    for user in users.itertuples():\n",
    "        # Get training dataset\n",
    "        SqlStr=\"SELECT {} from tblTimeSeriesData where UserID = {}\".format(fieldList + ',PeriodID',user.userID)\n",
    "    \n",
    "        df = pd.read_sql_query(SqlStr, con)\n",
    "        df[\"PeriodID\"] = df[\"PeriodID\"].astype(int)\n",
    "        df.sort_values(['PeriodID'])\n",
    "        totalRows += len(df)\n",
    "        # Caluclate period cutt-off\n",
    "        cutoff = int(len(df)*firstNPerc)\n",
    "        testDf = testDf.append(df.iloc[0:cutoff])[df.columns.tolist()]\n",
    " \n",
    "    testDf[\"PeriodID\"] =  testDf[\"PeriodID\"].astype(int)\n",
    "    testDf[\"UserID\"] =  testDf[\"UserID\"].astype(int)\n",
    "    testDf.sort_values(['UserID','PeriodID'], inplace=True)\n",
    "    return testDf\n"
   ]
  },
  {
   "cell_type": "markdown",
   "metadata": {},
   "source": [
    "<div style=\"background-color:#white; color:#008000; font-family: 'Courier New, Monospace;font-weight: bold\">Load settings</div>"
   ]
  },
  {
   "cell_type": "code",
   "execution_count": 55,
   "metadata": {
    "collapsed": true
   },
   "outputs": [],
   "source": [
    "settingsDict =  cc.loadSettings()\n",
    "dbPath = root + settingsDict['mainDbPath']\n",
    "fmSimilarDbPath = root + settingsDict['fmSimilarDbPath']\n",
    "fmTagsDbPath = root + settingsDict['fmTagsDbPath']\n",
    "trackMetaDbPath = root + settingsDict['trackmetadata']\n",
    "periodGranularity = int(settingsDict['periodGranularity'])"
   ]
  },
  {
   "cell_type": "markdown",
   "metadata": {},
   "source": [
    "<div style=\"background-color:#white; color:#008000; font-family: 'Courier New, Monospace;font-weight: bold\">Other setup</div>\n"
   ]
  },
  {
   "cell_type": "markdown",
   "metadata": {},
   "source": [
    "<code>None</code>"
   ]
  },
  {
   "cell_type": "markdown",
   "metadata": {},
   "source": [
    "<h3 style=\"background-color:#616161;color:white\">1. Get train & test data</h3>"
   ]
  },
  {
   "cell_type": "markdown",
   "metadata": {},
   "source": [
    "In this section we go through every user, one at a time, and randomly select 2 sections of the dataset to use as test data. The code here could be improved to make it any n cut-off points. \n",
    "\n",
    "More importantly, we ensure that each test period covers an entire months worth of data in order to reduce pollution between training and test data. (So first pick cut-off points, then move forward by a month to get the range of the test data)\n",
    "\n",
    "<br>\n",
    "\n",
    "<div style=\"background-color:#white; color:#008000; font-family: 'Courier New, Monospace;font-weight: bold\">Get train and test data</div>"
   ]
  },
  {
   "cell_type": "code",
   "execution_count": 56,
   "metadata": {},
   "outputs": [
    {
     "name": "stdout",
     "output_type": "stream",
     "text": [
      "Ok\n"
     ]
    }
   ],
   "source": [
    "trainDf,testDf = getTrainAndTestData()"
   ]
  },
  {
   "cell_type": "markdown",
   "metadata": {},
   "source": [
    "<h3 style=\"background-color:#616161;color:white\">2. Logistic Regression Model</h3>"
   ]
  },
  {
   "cell_type": "code",
   "execution_count": 74,
   "metadata": {},
   "outputs": [
    {
     "name": "stdout",
     "output_type": "stream",
     "text": [
      "LogisticRegression(C=1, class_weight=None, dual=False, fit_intercept=True,\n",
      "          intercept_scaling=1, max_iter=100, multi_class='ovr', n_jobs=1,\n",
      "          penalty='l2', random_state=None, solver='liblinear', tol=0.0001,\n",
      "          verbose=0, warm_start=False)\n",
      "             precision    recall  f1-score   support\n",
      "\n",
      "          0       0.97      0.98      0.98    201389\n",
      "          1       0.77      0.73      0.75     19295\n",
      "\n",
      "avg / total       0.96      0.96      0.96    220684\n",
      "\n",
      "[[197229   4160]\n",
      " [  5275  14020]]\n"
     ]
    }
   ],
   "source": [
    "X = trainDf.drop(['t','UserID'], 1).values\n",
    "Y = trainDf['t'].values.astype(int) \n",
    "\n",
    "# fit a logistic regression model to the data\n",
    "model = LogisticRegression(C=1)\n",
    "model.fit(X, Y)\n",
    "print(model)\n",
    "\n",
    "# make predictions\n",
    "X = testDf.drop(['t','UserID'], 1).values\n",
    "Y = testDf['t'].values.astype(int)\n",
    "\n",
    "predicted = model.predict(X)\n",
    "# summarize the fit of the model\n",
    "print(metrics.classification_report(Y,predicted))\n",
    "print(metrics.confusion_matrix(Y,predicted))"
   ]
  },
  {
   "cell_type": "code",
   "execution_count": 75,
   "metadata": {},
   "outputs": [
    {
     "data": {
      "text/html": [
       "<div>\n",
       "<style>\n",
       "    .dataframe thead tr:only-child th {\n",
       "        text-align: right;\n",
       "    }\n",
       "\n",
       "    .dataframe thead th {\n",
       "        text-align: left;\n",
       "    }\n",
       "\n",
       "    .dataframe tbody tr th {\n",
       "        vertical-align: top;\n",
       "    }\n",
       "</style>\n",
       "<table border=\"1\" class=\"dataframe\">\n",
       "  <thead>\n",
       "    <tr style=\"text-align: right;\">\n",
       "      <th></th>\n",
       "      <th>Field</th>\n",
       "      <th>Coeff</th>\n",
       "    </tr>\n",
       "  </thead>\n",
       "  <tbody>\n",
       "    <tr>\n",
       "      <th>0</th>\n",
       "      <td>HrsFrom5pm</td>\n",
       "      <td>-0.03435</td>\n",
       "    </tr>\n",
       "    <tr>\n",
       "      <th>1</th>\n",
       "      <td>isSun</td>\n",
       "      <td>-0.49364</td>\n",
       "    </tr>\n",
       "    <tr>\n",
       "      <th>2</th>\n",
       "      <td>isMon</td>\n",
       "      <td>-0.46584</td>\n",
       "    </tr>\n",
       "    <tr>\n",
       "      <th>3</th>\n",
       "      <td>isTue</td>\n",
       "      <td>-0.50426</td>\n",
       "    </tr>\n",
       "    <tr>\n",
       "      <th>4</th>\n",
       "      <td>isWed</td>\n",
       "      <td>-0.50127</td>\n",
       "    </tr>\n",
       "    <tr>\n",
       "      <th>5</th>\n",
       "      <td>isThu</td>\n",
       "      <td>-0.50299</td>\n",
       "    </tr>\n",
       "    <tr>\n",
       "      <th>6</th>\n",
       "      <td>isFri</td>\n",
       "      <td>-0.50738</td>\n",
       "    </tr>\n",
       "    <tr>\n",
       "      <th>7</th>\n",
       "      <td>isSat</td>\n",
       "      <td>-0.52268</td>\n",
       "    </tr>\n",
       "    <tr>\n",
       "      <th>8</th>\n",
       "      <td>t1</td>\n",
       "      <td>4.05078</td>\n",
       "    </tr>\n",
       "    <tr>\n",
       "      <th>9</th>\n",
       "      <td>t2</td>\n",
       "      <td>0.17056</td>\n",
       "    </tr>\n",
       "    <tr>\n",
       "      <th>10</th>\n",
       "      <td>t3</td>\n",
       "      <td>0.23139</td>\n",
       "    </tr>\n",
       "    <tr>\n",
       "      <th>11</th>\n",
       "      <td>t4</td>\n",
       "      <td>0.20967</td>\n",
       "    </tr>\n",
       "    <tr>\n",
       "      <th>12</th>\n",
       "      <td>t5</td>\n",
       "      <td>0.24705</td>\n",
       "    </tr>\n",
       "    <tr>\n",
       "      <th>13</th>\n",
       "      <td>t10</td>\n",
       "      <td>0.26886</td>\n",
       "    </tr>\n",
       "    <tr>\n",
       "      <th>14</th>\n",
       "      <td>t12hrs</td>\n",
       "      <td>0.33804</td>\n",
       "    </tr>\n",
       "    <tr>\n",
       "      <th>15</th>\n",
       "      <td>t23_5hrs</td>\n",
       "      <td>0.58778</td>\n",
       "    </tr>\n",
       "    <tr>\n",
       "      <th>16</th>\n",
       "      <td>t24hrs</td>\n",
       "      <td>0.31338</td>\n",
       "    </tr>\n",
       "    <tr>\n",
       "      <th>17</th>\n",
       "      <td>t24_5hrs</td>\n",
       "      <td>0.05344</td>\n",
       "    </tr>\n",
       "    <tr>\n",
       "      <th>18</th>\n",
       "      <td>t1wk</td>\n",
       "      <td>0.62054</td>\n",
       "    </tr>\n",
       "    <tr>\n",
       "      <th>19</th>\n",
       "      <td>t2wks</td>\n",
       "      <td>0.48903</td>\n",
       "    </tr>\n",
       "    <tr>\n",
       "      <th>20</th>\n",
       "      <td>t3wks</td>\n",
       "      <td>0.44864</td>\n",
       "    </tr>\n",
       "    <tr>\n",
       "      <th>21</th>\n",
       "      <td>t4wks</td>\n",
       "      <td>0.4166</td>\n",
       "    </tr>\n",
       "  </tbody>\n",
       "</table>\n",
       "</div>"
      ],
      "text/plain": [
       "          Field     Coeff\n",
       "0    HrsFrom5pm  -0.03435\n",
       "1         isSun  -0.49364\n",
       "2         isMon  -0.46584\n",
       "3         isTue  -0.50426\n",
       "4         isWed  -0.50127\n",
       "5         isThu  -0.50299\n",
       "6         isFri  -0.50738\n",
       "7         isSat  -0.52268\n",
       "8            t1   4.05078\n",
       "9            t2   0.17056\n",
       "10           t3   0.23139\n",
       "11           t4   0.20967\n",
       "12           t5   0.24705\n",
       "13          t10   0.26886\n",
       "14       t12hrs   0.33804\n",
       "15     t23_5hrs   0.58778\n",
       "16       t24hrs   0.31338\n",
       "17     t24_5hrs   0.05344\n",
       "18         t1wk   0.62054\n",
       "19        t2wks   0.48903\n",
       "20        t3wks   0.44864\n",
       "21        t4wks    0.4166"
      ]
     },
     "execution_count": 75,
     "metadata": {},
     "output_type": "execute_result"
    }
   ],
   "source": [
    "coeffs = np.reshape(np.round(model.coef_,5),(-1,1))\n",
    "\n",
    "coeffs=np.concatenate((np.reshape(fieldList.split(',')[2:],(-1,1)),coeffs),axis=1)\n",
    "pd.DataFrame(coeffs,columns=['Field','Coeff'])"
   ]
  },
  {
   "cell_type": "code",
   "execution_count": 80,
   "metadata": {},
   "outputs": [
    {
     "name": "stdout",
     "output_type": "stream",
     "text": [
      "             precision    recall  f1-score   support\n",
      "\n",
      "          0       0.97      0.98      0.98    222473\n",
      "          1       0.73      0.68      0.70     18389\n",
      "\n",
      "avg / total       0.95      0.96      0.96    240862\n",
      "\n",
      "[[217833   4640]\n",
      " [  5943  12446]]\n"
     ]
    }
   ],
   "source": [
    "testDf2 = getHiddenTestUsers(firstNPerc=0.5)  # Get the first half of everyones history\n",
    "# make predictions\n",
    "X = testDf2.drop(['t','UserID','PeriodID'], 1).values\n",
    "Y = testDf2['t'].values.astype(int)\n",
    "\n",
    "predicted = model.predict(X)\n",
    "# summarize the fit of the model\n",
    "print(metrics.classification_report(Y,predicted))\n",
    "print(metrics.confusion_matrix(Y,predicted))"
   ]
  },
  {
   "cell_type": "code",
   "execution_count": null,
   "metadata": {
    "collapsed": true
   },
   "outputs": [],
   "source": []
  }
 ],
 "metadata": {
  "anaconda-cloud": {},
  "kernelspec": {
   "display_name": "Python 3",
   "language": "python",
   "name": "python3"
  },
  "language_info": {
   "codemirror_mode": {
    "name": "ipython",
    "version": 3
   },
   "file_extension": ".py",
   "mimetype": "text/x-python",
   "name": "python",
   "nbconvert_exporter": "python",
   "pygments_lexer": "ipython3",
   "version": "3.5.2"
  }
 },
 "nbformat": 4,
 "nbformat_minor": 2
}
