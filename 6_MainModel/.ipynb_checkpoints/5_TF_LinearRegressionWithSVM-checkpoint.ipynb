{
 "cells": [
  {
   "cell_type": "markdown",
   "metadata": {},
   "source": [
    "<h1 align=\"center\" style=\"background-color:#616161;color:white\">Nonlinear SVM Example in Tensorflow</h1>\n",
    "\n",
    "Adapted from: https://github.com/nfmcclure/tensorflow_cookbook/tree/master/04_Support_Vector_Machines/03_Reduction_to_Linear_Regression\n"
   ]
  },
  {
   "cell_type": "markdown",
   "metadata": {},
   "source": [
    "<h3 style=\"background-color:#616161;color:white\">0. Setup</h3>"
   ]
  },
  {
   "cell_type": "markdown",
   "metadata": {},
   "source": [
    "<div style=\"background-color:white; color:#008000; font-family: 'Courier New, Monospace;font-weight: bold\">Input Parameters</div>"
   ]
  },
  {
   "cell_type": "code",
   "execution_count": 34,
   "metadata": {
    "collapsed": true
   },
   "outputs": [],
   "source": [
    "PeriodGranularity = 30 # E.g. 15, 30, 60\n",
    "# Train / Test split\n",
    "newUsers = 10   # Num of randomly selected users to separate out of eval 2\n",
    "rndPeriods = 3 # Num of random periods from each use to select\n",
    "rndPeriodsLength = int(60/PeriodGranularity) * 24 * 7 * 4     # How long the random test period should cover\n",
    "\n",
    "# Root path\n",
    "#root = \"C:/DS/Github/MusicRecommendation\"  # BA, Windows\n",
    "root = \"/home/badrul/Documents/git/MusicRecommendation\" # BA, Linux"
   ]
  },
  {
   "cell_type": "markdown",
   "metadata": {},
   "source": [
    "<div style=\"background-color:white; color:#008000; font-family: 'Courier New, Monospace;font-weight: bold\">Common Libraries</div>"
   ]
  },
  {
   "cell_type": "code",
   "execution_count": 35,
   "metadata": {
    "collapsed": true
   },
   "outputs": [],
   "source": [
    "# Core\n",
    "import numpy as np\n",
    "import pandas as pd\n",
    "from IPython.core.debugger import Tracer    # Used for debugging\n",
    "import logging\n",
    "\n",
    "# File and database management\n",
    "import csv\n",
    "import os\n",
    "import sys\n",
    "import json\n",
    "import sqlite3\n",
    "from pathlib import Path\n",
    "\n",
    "# Date/Time\n",
    "import datetime\n",
    "import time\n",
    "#from datetime import timedelta # Deprecated\n",
    "\n",
    "# Visualization\n",
    "import matplotlib.pyplot as plt             # Quick\n",
    "%matplotlib inline\n",
    "\n",
    "# Misc\n",
    "import random\n",
    "\n",
    "#-------------- Custom Libs -----------------#\n",
    "os.chdir(root)\n",
    "\n",
    "# Import the codebase module\n",
    "fPath = root + \"/1_codemodule\"\n",
    "if fPath not in sys.path: sys.path.append(fPath)\n",
    "\n",
    "# Custom Libs\n",
    "import coreCode as cc\n",
    "import lastfmCode as fm"
   ]
  },
  {
   "cell_type": "markdown",
   "metadata": {},
   "source": [
    "<div style=\"background-color:white; color:#008000; font-family: 'Courier New, Monospace;font-weight: bold\">Page Specific Libraries</div>"
   ]
  },
  {
   "cell_type": "code",
   "execution_count": 36,
   "metadata": {
    "collapsed": true
   },
   "outputs": [],
   "source": [
    "# Data science (comment out if not needed)\n",
    "#from sklearn.manifold import TSNE\n",
    "import tensorflow as tf\n",
    "from tensorflow.python.framework import ops\n",
    "ops.reset_default_graph()"
   ]
  },
  {
   "cell_type": "markdown",
   "metadata": {},
   "source": [
    "<div style=\"background-color:#white; color:#008000; font-family: 'Courier New, Monospace;font-weight: bold\">Declare Functions</div>"
   ]
  },
  {
   "cell_type": "code",
   "execution_count": null,
   "metadata": {
    "collapsed": true
   },
   "outputs": [],
   "source": []
  },
  {
   "cell_type": "markdown",
   "metadata": {},
   "source": [
    "<div style=\"background-color:#white; color:#008000; font-family: 'Courier New, Monospace;font-weight: bold\">Load settings</div>"
   ]
  },
  {
   "cell_type": "code",
   "execution_count": 37,
   "metadata": {
    "collapsed": true
   },
   "outputs": [],
   "source": [
    "settingsDict =  cc.loadSettings()\n",
    "dbPath = root + settingsDict['mainDbPath']\n",
    "fmSimilarDbPath = root + settingsDict['fmSimilarDbPath']\n",
    "fmTagsDbPath = root + settingsDict['fmTagsDbPath']\n",
    "trackMetaDbPath = root + settingsDict['trackmetadata']"
   ]
  },
  {
   "cell_type": "markdown",
   "metadata": {},
   "source": [
    "Create a graph session"
   ]
  },
  {
   "cell_type": "markdown",
   "metadata": {},
   "source": [
    "<h3 style=\"background-color:#616161;color:white\">1. Load data</h3>"
   ]
  },
  {
   "cell_type": "code",
   "execution_count": 52,
   "metadata": {},
   "outputs": [
    {
     "name": "stdout",
     "output_type": "stream",
     "text": [
      "Ok\n"
     ]
    }
   ],
   "source": [
    "def getTrainAndTestData():\n",
    "    con = sqlite3.connect(dbPath)\n",
    "    c = con.cursor()\n",
    "\n",
    "    # Get list of UserIDs \n",
    "    trainUsers = pd.read_sql_query(\"Select UserID from tblUsers Where tblUsers.TestUser = 0\",con)\n",
    "\n",
    "    fieldList=\"t, UserID, HrsFrom6pm, isSun,isMon,isTue,isWed,isThu,isFri,isSat,t1,t2,t3,t4,t5,t10,t12hrs,t24hrs,t1wk,t2wks,t3wks,t4wks\"\n",
    "    trainDf=pd.DataFrame(columns=[fieldList])  # Create an emmpty df\n",
    "    testDf=pd.DataFrame(columns=[fieldList])  # Create an emmpty df\n",
    "    periodsInAMonth=int(60/PeriodGranularity)*24*7*4\n",
    "\n",
    "    totalRows=0\n",
    "    \n",
    "    for user in trainUsers.itertuples():\n",
    "        # Get training dataset\n",
    "        SqlStr=\"SELECT {} from tblTimeSeriesData where UserID = {}\".format(fieldList,user.userID)\n",
    "        df = pd.read_sql_query(SqlStr, con)\n",
    "        totalRows += len(df)\n",
    "    \n",
    "        # Cut-off 1\n",
    "        k = random.randint(periodsInAMonth, len(df))\n",
    "        #Tracer()()  -- for debugging purposes\n",
    "        testDf = testDf.append(df.iloc[k:k+periodsInAMonth])[df.columns.tolist()]\n",
    "\n",
    "        tmp = df.drop(df.index[k:k+periodsInAMonth])\n",
    "\n",
    "        # Cut-off 2\n",
    "        k = random.randint(periodsInAMonth, len(tmp))\n",
    "        testDf = testDf.append(tmp.iloc[k:k+periodsInAMonth])[df.columns.tolist()]\n",
    "        trainDf = trainDf.append(tmp.drop(tmp.index[k:k+periodsInAMonth]))[df.columns.tolist()]\n",
    "\n",
    "    if len(trainDf)+len(testDf) == totalRows:\n",
    "        print('Ok')\n",
    "    else:\n",
    "        print(\"Incorrect. Total Rows = {}. TestDf+TrainDf rows = {}+{}={}\".format(totalRows,len(testDf),len(trainDf),len(testDf)+len(trainDf)))\n",
    "        \n",
    "    return trainDf, testDf\n",
    "\n",
    "trainDf,testDf = getTrainAndTestData()\n",
    "\n",
    "x_vals = trainDf.drop(['t','UserID'], 1).values\n",
    "y_vals = trainDf['t'].values.astype(int) \n",
    "# Change the 0's to -1\n",
    "y_vals = np.array([1 if y==1 else -1 for y in y_vals])"
   ]
  },
  {
   "cell_type": "markdown",
   "metadata": {},
   "source": [
    "<div style=\"background-color:#white; color:#008000; font-family: 'Courier New, Monospace;font-weight: bold\">Confirm dimensions</div>"
   ]
  },
  {
   "cell_type": "code",
   "execution_count": 55,
   "metadata": {},
   "outputs": [
    {
     "data": {
      "text/plain": [
       "((937054, 20), (937054,))"
      ]
     },
     "execution_count": 55,
     "metadata": {},
     "output_type": "execute_result"
    }
   ],
   "source": [
    "numOfFeatures = np.shape(x_vals)[1]\n",
    "np.shape(x_vals),np.shape(y_vals)"
   ]
  },
  {
   "cell_type": "code",
   "execution_count": 99,
   "metadata": {},
   "outputs": [
    {
     "data": {
      "text/plain": [
       "((55769, 20), (55769,))"
      ]
     },
     "execution_count": 99,
     "metadata": {},
     "output_type": "execute_result"
    }
   ],
   "source": [
    "# Test data\n",
    "x_vals_test= testDf.drop(['t','UserID'], 1).values\n",
    "y_vals_test = testDf['t'].values.astype(int)\n",
    "y_vals_test=y_vals_test.reshape(len(y_vals_test),1)\n",
    "y_vals_test = np.array([1 if y==1 else -1 for y in y_vals_test])\n",
    "np.shape(x_vals_test), np.shape( y_vals_test)"
   ]
  },
  {
   "cell_type": "markdown",
   "metadata": {},
   "source": [
    "<h3 style=\"background-color:#616161;color:white\">2. Define Model</h3>"
   ]
  },
  {
   "cell_type": "markdown",
   "metadata": {},
   "source": [
    "<div style=\"background-color:#white; color:#008000; font-family: 'Courier New, Monospace;font-weight: bold\">Model Parameters</div>\n",
    "\n",
    "We now declare our batch size, placeholders, and the fitted b-value for the SVM kernel.  Note that we will create a separate placeholder to feed in the prediction grid for plotting."
   ]
  },
  {
   "cell_type": "code",
   "execution_count": 119,
   "metadata": {},
   "outputs": [
    {
     "name": "stdout",
     "output_type": "stream",
     "text": [
      "-----------\n",
      "Generation: 50\n",
      "Train Loss = 2.10086\n",
      "Test Loss = 2.09793\n",
      "-----------\n",
      "Generation: 100\n",
      "Train Loss = 1.77656\n",
      "Test Loss = 1.7721\n",
      "-----------\n",
      "Generation: 150\n",
      "Train Loss = 0.922745\n",
      "Test Loss = 0.917819\n",
      "-----------\n",
      "Generation: 200\n",
      "Train Loss = 2.05771\n",
      "Test Loss = 2.05174\n",
      "-----------\n",
      "Generation: 250\n",
      "Train Loss = 1.50157\n",
      "Test Loss = 1.49339\n",
      "-----------\n",
      "Generation: 300\n",
      "Train Loss = 2.21936\n",
      "Test Loss = 2.21246\n",
      "-----------\n",
      "Generation: 350\n",
      "Train Loss = 1.37115\n",
      "Test Loss = 1.36452\n",
      "-----------\n",
      "Generation: 400\n",
      "Train Loss = 0.515412\n",
      "Test Loss = 0.509333\n",
      "-----------\n",
      "Generation: 450\n",
      "Train Loss = 1.49067\n",
      "Test Loss = 1.48444\n",
      "-----------\n",
      "Generation: 500\n",
      "Train Loss = 1.16954\n",
      "Test Loss = 1.16232\n"
     ]
    }
   ],
   "source": [
    "# SVM Regression\n",
    "#----------------------------------\n",
    "#\n",
    "# This function shows how to use TensorFlow to\n",
    "# solve support vector regression. We are going\n",
    "# to find the line that has the maximum margin\n",
    "# which INCLUDES as many points as possible\n",
    "#\n",
    "from tensorflow.python.framework import ops\n",
    "ops.reset_default_graph()\n",
    "\n",
    "# Create graph\n",
    "sess = tf.Session()\n",
    "\n",
    "# Declare batch size\n",
    "batch_size = 50\n",
    "\n",
    "# Initialize placeholders\n",
    "x_data = tf.placeholder(shape=[None, numOfFeatures], dtype=tf.float32)\n",
    "y_target = tf.placeholder(shape=[None, 1], dtype=tf.float32)\n",
    "\n",
    "# Create variables for linear regression\n",
    "A = tf.Variable(tf.random_normal(shape=[numOfFeatures,1]))  # Weight vector\n",
    "b = tf.Variable(tf.random_normal(shape=[1,1]))              # Constant\n",
    "\n",
    "# Declare model operations\n",
    "model_output = tf.add(tf.matmul(x_data, A), b)\n",
    "prediction = tf.sign(model_output-tf.reduce_mean(model_output))\n",
    "\n",
    "# Declare loss function\n",
    "# = max(0, abs(target - predicted) + epsilon)\n",
    "# 1/2 margin width parameter = epsilon\n",
    "epsilon = tf.constant([0.5])\n",
    "\n",
    "# Margin term in loss\n",
    "loss = tf.reduce_mean(tf.maximum(0., tf.subtract(tf.abs(tf.subtract(model_output, y_target)), epsilon)))\n",
    "# Declare optimizer\n",
    "my_opt = tf.train.GradientDescentOptimizer(0.075)\n",
    "train_step = my_opt.minimize(loss)\n",
    "\n",
    "# Initialize variables\n",
    "init = tf.global_variables_initializer()\n",
    "sess.run(init)\n",
    "\n",
    "# Training loop\n",
    "train_loss = []\n",
    "test_loss = []\n",
    "\n",
    "# Train\n",
    "for i in range(500):\n",
    "    # Select a batch of train data and train\n",
    "    rand_index = np.random.choice(len(x_vals), size=batch_size)  \n",
    "    rand_x = x_vals[rand_index]\n",
    "    rand_y = np.transpose([y_vals[rand_index]])\n",
    "    sess.run(train_step, feed_dict={x_data: rand_x, y_target: rand_y})\n",
    "    \n",
    "    # Monitor the loss on the test data\n",
    "    temp_train_loss = sess.run(loss, feed_dict={x_data: x_vals, y_target: np.transpose([y_vals])})\n",
    "    train_loss.append(temp_train_loss)\n",
    "    \n",
    "    temp_test_loss = sess.run(loss, feed_dict={x_data: x_vals_test, y_target: np.transpose([y_vals_test])})\n",
    "    test_loss.append(temp_test_loss)\n",
    "    if (i+1)%50==0:\n",
    "        print('-----------')\n",
    "        print('Generation: ' + str(i+1))\n",
    "        #print('A = ' + str(sess.run(A)) + ' b = ' + str(sess.run(b)))\n",
    "        print('Train Loss = ' + str(temp_train_loss))\n",
    "        print('Test Loss = ' + str(temp_test_loss))\n",
    "\n"
   ]
  },
  {
   "cell_type": "code",
   "execution_count": 122,
   "metadata": {},
   "outputs": [
    {
     "name": "stdout",
     "output_type": "stream",
     "text": [
      "             precision    recall  f1-score   support\n",
      "\n",
      "         -1       0.95      0.49      0.64     50520\n",
      "          1       0.13      0.74      0.22      5249\n",
      "\n",
      "avg / total       0.87      0.51      0.60     55769\n",
      "\n",
      "[[24565 25955]\n",
      " [ 1366  3883]]\n",
      "* Precision = labelled as x / how many were actually x in the ones that were labelled\n",
      "* Recall = labelled as x / how many were actually x in the dataset\n"
     ]
    }
   ],
   "source": [
    "# Evaluate\n",
    "test_predictions = sess.run(prediction, feed_dict={x_data: x_vals_test})\n",
    "\n",
    "from sklearn import metrics\n",
    "print(metrics.classification_report(y_vals_test,test_predictions))\n",
    "print(metrics.confusion_matrix(y_vals_test,test_predictions))\n",
    "print(\"* Precision = labelled as x / how many were actually x in the ones that were labelled\")\n",
    "print(\"* Recall = labelled as x / how many were actually x in the dataset\")"
   ]
  },
  {
   "cell_type": "code",
   "execution_count": null,
   "metadata": {
    "collapsed": true
   },
   "outputs": [],
   "source": []
  }
 ],
 "metadata": {
  "anaconda-cloud": {},
  "kernelspec": {
   "display_name": "Python 3",
   "language": "python",
   "name": "python3"
  },
  "language_info": {
   "codemirror_mode": {
    "name": "ipython",
    "version": 3
   },
   "file_extension": ".py",
   "mimetype": "text/x-python",
   "name": "python",
   "nbconvert_exporter": "python",
   "pygments_lexer": "ipython3",
   "version": "3.5.3"
  }
 },
 "nbformat": 4,
 "nbformat_minor": 1
}
