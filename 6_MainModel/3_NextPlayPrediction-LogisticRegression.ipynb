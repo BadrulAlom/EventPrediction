{
 "cells": [
  {
   "cell_type": "markdown",
   "metadata": {},
   "source": [
    "<h1 align=\"center\" style=\"background-color:#616161;color:white\">Next play prediction using Logistic Regression</h1>"
   ]
  },
  {
   "cell_type": "markdown",
   "metadata": {},
   "source": [
    "<h3 style=\"background-color:#616161;color:white\">0. Setup</h3>"
   ]
  },
  {
   "cell_type": "markdown",
   "metadata": {},
   "source": [
    "<div style=\"background-color:white; color:#008000; font-family: 'Courier New, Monospace;font-weight: bold\">Input Parameters</div>"
   ]
  },
  {
   "cell_type": "code",
   "execution_count": 1,
   "metadata": {
    "collapsed": true
   },
   "outputs": [],
   "source": [
    "PeriodGranularity = 30 # E.g. 15, 30, 60\n",
    "# Train / Test split\n",
    "newUsers = 10   # Num of randomly selected users to separate out of eval 2\n",
    "rndPeriods = 3 # Num of random periods from each use to select\n",
    "rndPeriodsLength = int(60/PeriodGranularity) * 24 * 7 * 4     # How long the random test period should cover\n",
    "\n",
    "# Root path\n",
    "root = \"C:/DS/Github/MusicRecommendation\"  # BA, Windows\n",
    "#root = \"/home/badrul/Documents/github/MusicRecommendation\" # BA, Linux"
   ]
  },
  {
   "cell_type": "markdown",
   "metadata": {},
   "source": [
    "<div style=\"background-color:white; color:#008000; font-family: 'Courier New, Monospace;font-weight: bold\">Import Libraries</div>"
   ]
  },
  {
   "cell_type": "markdown",
   "metadata": {},
   "source": [
    "<code>Standard code used in every page. Not all of these libraries are used here.</code>"
   ]
  },
  {
   "cell_type": "code",
   "execution_count": 5,
   "metadata": {
    "collapsed": false
   },
   "outputs": [],
   "source": [
    "# Core\n",
    "import numpy as np\n",
    "import pandas as pd\n",
    "from IPython.core.debugger import Tracer    # Used for debugging\n",
    "import logging\n",
    "\n",
    "# File and database management\n",
    "import csv\n",
    "import os\n",
    "import sys\n",
    "import json\n",
    "import sqlite3\n",
    "from pathlib import Path\n",
    "\n",
    "# Date/Time\n",
    "import datetime\n",
    "import time\n",
    "#from datetime import timedelta # Deprecated\n",
    "\n",
    "# Visualization\n",
    "import matplotlib.pyplot as plt             # Quick\n",
    "%matplotlib inline\n",
    "\n",
    "# Data science (comment out if not needed)\n",
    "#from sklearn.manifold import TSNE\n",
    "from sklearn import metrics\n",
    "from sklearn.linear_model import LogisticRegression\n",
    "\n",
    "# Misc\n",
    "import random\n",
    "\n",
    "#-------------- Custom Libs -----------------#\n",
    "os.chdir(root)\n",
    "\n",
    "# Import the codebase module\n",
    "fPath = root + \"/1_codemodule\"\n",
    "if fPath not in sys.path: sys.path.append(fPath)\n",
    "\n",
    "# Custom Libs\n",
    "import coreCode as cc\n",
    "import lastfmCode as fm"
   ]
  },
  {
   "cell_type": "markdown",
   "metadata": {},
   "source": [
    "<div style=\"background-color:#white; color:#008000; font-family: 'Courier New, Monospace;font-weight: bold\">Declare Functions</div>"
   ]
  },
  {
   "cell_type": "markdown",
   "metadata": {},
   "source": [
    "<code>None</code>"
   ]
  },
  {
   "cell_type": "markdown",
   "metadata": {},
   "source": [
    "<div style=\"background-color:#white; color:#008000; font-family: 'Courier New, Monospace;font-weight: bold\">Load settings</div>"
   ]
  },
  {
   "cell_type": "code",
   "execution_count": 6,
   "metadata": {
    "collapsed": false
   },
   "outputs": [],
   "source": [
    "settingsDict =  cc.loadSettings()\n",
    "dbPath = root + settingsDict['mainDbPath']\n",
    "fmSimilarDbPath = root + settingsDict['fmSimilarDbPath']\n",
    "fmTagsDbPath = root + settingsDict['fmTagsDbPath']\n",
    "trackMetaDbPath = root + settingsDict['trackmetadata']"
   ]
  },
  {
   "cell_type": "markdown",
   "metadata": {},
   "source": [
    "<div style=\"background-color:#white; color:#008000; font-family: 'Courier New, Monospace;font-weight: bold\">Other setup</div>\n"
   ]
  },
  {
   "cell_type": "markdown",
   "metadata": {},
   "source": [
    "<code>None</code>"
   ]
  },
  {
   "cell_type": "markdown",
   "metadata": {},
   "source": [
    "<h3 style=\"background-color:#616161;color:white\">1. Get train & test data</h3>"
   ]
  },
  {
   "cell_type": "markdown",
   "metadata": {},
   "source": [
    "In this section we go through every user, one at a time, and randomly select 2 sections of the dataset to use as test data. The code here could be improved to make it any n cut-off points. \n",
    "\n",
    "More importantly, we ensure that each test period covers an entire months worth of data in order to reduce pollution between training and test data. (So first pick cut-off points, then move forward by a month to get the range of the test data)"
   ]
  },
  {
   "cell_type": "markdown",
   "metadata": {},
   "source": [
    "<div style=\"background-color:#white; color:#008000; font-family: 'Courier New, Monospace;font-weight: bold\">Get train and test data</div>\n"
   ]
  },
  {
   "cell_type": "code",
   "execution_count": 5,
   "metadata": {
    "collapsed": false
   },
   "outputs": [
    {
     "name": "stdout",
     "output_type": "stream",
     "text": [
      "Ok\n"
     ]
    }
   ],
   "source": [
    "def getTrainAndTestData():\n",
    "    con = sqlite3.connect(dbPath)\n",
    "    c = con.cursor()\n",
    "\n",
    "    # Get list of UserIDs \n",
    "    trainUsers = pd.read_sql_query(\"Select UserID from tblUsers Where tblUsers.TestUser = 0\",con)\n",
    "\n",
    "    fieldList=\"t, UserID, HrsFrom6pm, isSun,isMon,isTue,isWed,isThu,isFri,isSat,t1,t2,t3,t4,t5,t10,t12hrs,t24hrs,t1wk,t2wks,t3wks,t4wks\"\n",
    "    trainDf=pd.DataFrame(columns=[fieldList])  # Create an emmpty df\n",
    "    testDf=pd.DataFrame(columns=[fieldList])  # Create an emmpty df\n",
    "    periodsInAMonth=int(60/PeriodGranularity)*24*7*4\n",
    "\n",
    "    totalRows=0\n",
    "    \n",
    "    for user in trainUsers.itertuples():\n",
    "        # Get training dataset\n",
    "        SqlStr=\"SELECT {} from tblTimeSeriesData where UserID = {}\".format(fieldList,user.userID)\n",
    "        df = pd.read_sql_query(SqlStr, con)\n",
    "        totalRows += len(df)\n",
    "    \n",
    "        # Cut-off 1\n",
    "        k = random.randint(periodsInAMonth, len(df))\n",
    "        #Tracer()()  -- for debugging purposes\n",
    "        testDf = testDf.append(df.iloc[k:k+periodsInAMonth])[df.columns.tolist()]\n",
    "\n",
    "        tmp = df.drop(df.index[k:k+periodsInAMonth])\n",
    "\n",
    "        # Cut-off 2\n",
    "        k = random.randint(periodsInAMonth, len(tmp))\n",
    "        testDf = testDf.append(tmp.iloc[k:k+periodsInAMonth])[df.columns.tolist()]\n",
    "        trainDf = trainDf.append(tmp.drop(tmp.index[k:k+periodsInAMonth]))[df.columns.tolist()]\n",
    "\n",
    "    if len(trainDf)+len(testDf) == totalRows:\n",
    "        print('Ok')\n",
    "    else:\n",
    "        print(\"Incorrect. Total Rows = {}. TestDf+TrainDf rows = {}+{}={}\".format(totalRows,len(testDf),len(trainDf),len(testDf)+len(trainDf)))\n",
    "        \n",
    "    return trainDf, testDf\n",
    "\n",
    "trainDf,testDf = getTrainAndTestData()"
   ]
  },
  {
   "cell_type": "markdown",
   "metadata": {},
   "source": [
    "<h3 style=\"background-color:#616161;color:white\">2. Logistic Regression Model</h3>"
   ]
  },
  {
   "cell_type": "code",
   "execution_count": 54,
   "metadata": {
    "collapsed": false
   },
   "outputs": [
    {
     "name": "stdout",
     "output_type": "stream",
     "text": [
      "LogisticRegression(C=1.0, class_weight=None, dual=False, fit_intercept=True,\n",
      "          intercept_scaling=1, max_iter=100, multi_class='ovr', n_jobs=1,\n",
      "          penalty='l2', random_state=None, solver='liblinear', tol=0.0001,\n",
      "          verbose=0, warm_start=False)\n",
      "             precision    recall  f1-score   support\n",
      "\n",
      "          0       0.98      0.98      0.98     51395\n",
      "          1       0.73      0.68      0.71      3807\n",
      "\n",
      "avg / total       0.96      0.96      0.96     55202\n",
      "\n",
      "[[50453   942]\n",
      " [ 1219  2588]]\n"
     ]
    }
   ],
   "source": [
    "X = trainDf.drop(['t','UserID'], 1).values\n",
    "Y = trainDf['t'].values.astype(int) \n",
    "\n",
    "# fit a logistic regression model to the data\n",
    "model = LogisticRegression()\n",
    "model.fit(X, Y)\n",
    "print(model)\n",
    "\n",
    "# make predictions\n",
    "X = testDf.drop(['t','UserID'], 1).values\n",
    "Y = testDf['t'].values.astype(int)\n",
    "\n",
    "predicted = model.predict(X)\n",
    "# summarize the fit of the model\n",
    "print(metrics.classification_report(Y,predicted))\n",
    "print(metrics.confusion_matrix(Y,predicted))"
   ]
  },
  {
   "cell_type": "code",
   "execution_count": 104,
   "metadata": {
    "collapsed": false
   },
   "outputs": [
    {
     "data": {
      "text/plain": [
       "array([[' HrsFrom6pm'],\n",
       "       [' isSun'],\n",
       "       ['isMon'],\n",
       "       ['isTue'],\n",
       "       ['isWed'],\n",
       "       ['isThu'],\n",
       "       ['isFri'],\n",
       "       ['isSat'],\n",
       "       ['t1'],\n",
       "       ['t2'],\n",
       "       ['t3'],\n",
       "       ['t4'],\n",
       "       ['t5'],\n",
       "       ['t10'],\n",
       "       ['t12hrs'],\n",
       "       ['t24hrs'],\n",
       "       ['t1wk'],\n",
       "       ['t2wks'],\n",
       "       ['t3wks'],\n",
       "       ['t4wks']], \n",
       "      dtype='<U11')"
      ]
     },
     "execution_count": 104,
     "metadata": {},
     "output_type": "execute_result"
    }
   ],
   "source": [
    "tmp=np.reshape(fieldList.split(',')[2:],(1,20))\n",
    "#np.reshape(model.coef_,(20,1))\n",
    "np.reshape(fieldList.split(',')[2:],(20,1))"
   ]
  },
  {
   "cell_type": "code",
   "execution_count": null,
   "metadata": {
    "collapsed": true
   },
   "outputs": [],
   "source": []
  }
 ],
 "metadata": {
  "anaconda-cloud": {},
  "kernelspec": {
   "display_name": "Python [Root]",
   "language": "python",
   "name": "Python [Root]"
  },
  "language_info": {
   "codemirror_mode": {
    "name": "ipython",
    "version": 3
   },
   "file_extension": ".py",
   "mimetype": "text/x-python",
   "name": "python",
   "nbconvert_exporter": "python",
   "pygments_lexer": "ipython3",
   "version": "3.5.2"
  }
 },
 "nbformat": 4,
 "nbformat_minor": 2
}
