{
 "cells": [
  {
   "cell_type": "markdown",
   "metadata": {},
   "source": [
    "<h1 align=\"center\" style=\"background-color:#616161;color:white\">Next play prediction using Logistic Regression</h1>"
   ]
  },
  {
   "cell_type": "markdown",
   "metadata": {},
   "source": [
    "<h3 style=\"background-color:#616161;color:white\">0. Setup</h3>"
   ]
  },
  {
   "cell_type": "markdown",
   "metadata": {},
   "source": [
    "<div style=\"background-color:white; color:#008000; font-family: 'Courier New, Monospace;font-weight: bold\">Input Parameters</div>"
   ]
  },
  {
   "cell_type": "code",
   "execution_count": 3,
   "metadata": {
    "collapsed": true
   },
   "outputs": [],
   "source": [
    "PeriodGranularity = 30 # E.g. 15, 30, 60\n",
    "# Train / Test split\n",
    "newUsers = 10   # Num of randomly selected users to separate out of eval 2\n",
    "rndPeriods = 3 # Num of random periods from each use to select\n",
    "rndPeriodsLength = int(60/PeriodGranularity) * 24 * 7 * 4     # How long the random test period should cover\n",
    "\n",
    "# Root path\n",
    "#root = \"C:/DS/Github/MusicRecommendation\"  # BA, Windows\n",
    "root = \"/home/badrul/git/EventPrediction\" # BA, Linux"
   ]
  },
  {
   "cell_type": "markdown",
   "metadata": {},
   "source": [
    "<div style=\"background-color:white; color:#008000; font-family: 'Courier New, Monospace;font-weight: bold\">Import Libraries</div>"
   ]
  },
  {
   "cell_type": "markdown",
   "metadata": {},
   "source": [
    "<code>Standard code used in every page. Not all of these libraries are used here.</code>"
   ]
  },
  {
   "cell_type": "code",
   "execution_count": 4,
   "metadata": {},
   "outputs": [],
   "source": [
    "# Core\n",
    "import numpy as np\n",
    "import pandas as pd\n",
    "from IPython.core.debugger import Tracer    # Used for debugging\n",
    "import logging\n",
    "\n",
    "# File and database management\n",
    "import csv\n",
    "import os\n",
    "import sys\n",
    "import json\n",
    "import sqlite3\n",
    "from pathlib import Path\n",
    "\n",
    "# Date/Time\n",
    "import datetime\n",
    "import time\n",
    "#from datetime import timedelta # Deprecated\n",
    "\n",
    "# Visualization\n",
    "import matplotlib.pyplot as plt             # Quick\n",
    "%matplotlib inline\n",
    "\n",
    "# Data science (comment out if not needed)\n",
    "#from sklearn.manifold import TSNE\n",
    "from sklearn import metrics\n",
    "from sklearn.linear_model import LogisticRegression\n",
    "\n",
    "# Misc\n",
    "import random\n",
    "\n",
    "#-------------- Custom Libs -----------------#\n",
    "os.chdir(root)\n",
    "\n",
    "# Import the codebase module\n",
    "fPath = root + \"/1_codemodule\"\n",
    "if fPath not in sys.path: sys.path.append(fPath)\n",
    "\n",
    "# Custom Libs\n",
    "import coreCode as cc\n",
    "import lastfmCode as fm"
   ]
  },
  {
   "cell_type": "markdown",
   "metadata": {},
   "source": [
    "<div style=\"background-color:#white; color:#008000; font-family: 'Courier New, Monospace;font-weight: bold\">Declare Functions</div>"
   ]
  },
  {
   "cell_type": "markdown",
   "metadata": {},
   "source": [
    "<code>None</code>"
   ]
  },
  {
   "cell_type": "markdown",
   "metadata": {},
   "source": [
    "<div style=\"background-color:#white; color:#008000; font-family: 'Courier New, Monospace;font-weight: bold\">Load settings</div>"
   ]
  },
  {
   "cell_type": "code",
   "execution_count": 5,
   "metadata": {
    "collapsed": true
   },
   "outputs": [],
   "source": [
    "settingsDict =  cc.loadSettings()\n",
    "dbPath = root + settingsDict['mainDbPath']\n",
    "fmSimilarDbPath = root + settingsDict['fmSimilarDbPath']\n",
    "fmTagsDbPath = root + settingsDict['fmTagsDbPath']\n",
    "trackMetaDbPath = root + settingsDict['trackmetadata']"
   ]
  },
  {
   "cell_type": "markdown",
   "metadata": {},
   "source": [
    "<div style=\"background-color:#white; color:#008000; font-family: 'Courier New, Monospace;font-weight: bold\">Other setup</div>\n"
   ]
  },
  {
   "cell_type": "markdown",
   "metadata": {},
   "source": [
    "<code>None</code>"
   ]
  },
  {
   "cell_type": "markdown",
   "metadata": {},
   "source": [
    "<h3 style=\"background-color:#616161;color:white\">1. Get train & test data</h3>"
   ]
  },
  {
   "cell_type": "markdown",
   "metadata": {},
   "source": [
    "In this section we go through every user, one at a time, and randomly select 2 sections of the dataset to use as test data. The code here could be improved to make it any n cut-off points. \n",
    "\n",
    "More importantly, we ensure that each test period covers an entire months worth of data in order to reduce pollution between training and test data. (So first pick cut-off points, then move forward by a month to get the range of the test data)"
   ]
  },
  {
   "cell_type": "markdown",
   "metadata": {},
   "source": [
    "<div style=\"background-color:#white; color:#008000; font-family: 'Courier New, Monospace;font-weight: bold\">Get train and test data</div>\n"
   ]
  },
  {
   "cell_type": "code",
   "execution_count": 6,
   "metadata": {},
   "outputs": [
    {
     "name": "stdout",
     "output_type": "stream",
     "text": [
      "Ok\n"
     ]
    }
   ],
   "source": [
    "def getTrainAndTestData():\n",
    "    con = sqlite3.connect(dbPath)\n",
    "    c = con.cursor()\n",
    "\n",
    "    # Get list of UserIDs \n",
    "    trainUsers = pd.read_sql_query(\"Select UserID from tblUsers Where tblUsers.TestUser = 0\",con)\n",
    "\n",
    "    fieldList=\"t, UserID, HrsFrom6pm, isSun,isMon,isTue,isWed,isThu,isFri,isSat,t1,t2,t3,t4,t5,t10,t12hrs,t24hrs,t1wk,t2wks,t3wks,t4wks\"\n",
    "    trainDf=pd.DataFrame(columns=[fieldList])  # Create an emmpty df\n",
    "    testDf=pd.DataFrame(columns=[fieldList])  # Create an emmpty df\n",
    "    periodsInAMonth=int(60/PeriodGranularity)*24*7*4\n",
    "\n",
    "    totalRows=0\n",
    "    \n",
    "    for user in trainUsers.itertuples():\n",
    "        # Get training dataset\n",
    "        SqlStr=\"SELECT {} from tblTimeSeriesData where UserID = {}\".format(fieldList,user.userID)\n",
    "        df = pd.read_sql_query(SqlStr, con)\n",
    "        totalRows += len(df)\n",
    "    \n",
    "        # Cut-off 1\n",
    "        k = random.randint(periodsInAMonth, len(df))\n",
    "        #Tracer()()  -- for debugging purposes\n",
    "        testDf = testDf.append(df.iloc[k:k+periodsInAMonth])[df.columns.tolist()]\n",
    "\n",
    "        tmp = df.drop(df.index[k:k+periodsInAMonth])\n",
    "\n",
    "        # Cut-off 2\n",
    "        k = random.randint(periodsInAMonth, len(tmp))\n",
    "        testDf = testDf.append(tmp.iloc[k:k+periodsInAMonth])[df.columns.tolist()]\n",
    "        trainDf = trainDf.append(tmp.drop(tmp.index[k:k+periodsInAMonth]))[df.columns.tolist()]\n",
    "\n",
    "    if len(trainDf)+len(testDf) == totalRows:\n",
    "        print('Ok')\n",
    "    else:\n",
    "        print(\"Incorrect. Total Rows = {}. TestDf+TrainDf rows = {}+{}={}\".format(totalRows,len(testDf),len(trainDf),len(testDf)+len(trainDf)))\n",
    "        \n",
    "    return trainDf, testDf\n",
    "\n",
    "trainDf,testDf = getTrainAndTestData()"
   ]
  },
  {
   "cell_type": "markdown",
   "metadata": {},
   "source": [
    "<h3 style=\"background-color:#616161;color:white\">2. Logistic Regression Model</h3>"
   ]
  },
  {
   "cell_type": "code",
   "execution_count": 7,
   "metadata": {},
   "outputs": [
    {
     "name": "stdout",
     "output_type": "stream",
     "text": [
      "LogisticRegression(C=1.0, class_weight=None, dual=False, fit_intercept=True,\n",
      "          intercept_scaling=1, max_iter=100, multi_class='ovr', n_jobs=1,\n",
      "          penalty='l2', random_state=None, solver='liblinear', tol=0.0001,\n",
      "          verbose=0, warm_start=False)\n",
      "             precision    recall  f1-score   support\n",
      "\n",
      "          0       0.97      0.98      0.97     73095\n",
      "          1       0.79      0.76      0.77      8768\n",
      "\n",
      "avg / total       0.95      0.95      0.95     81863\n",
      "\n",
      "[[71325  1770]\n",
      " [ 2102  6666]]\n"
     ]
    }
   ],
   "source": [
    "X = trainDf.drop(['t','UserID'], 1).values\n",
    "Y = trainDf['t'].values.astype(int) \n",
    "\n",
    "# fit a logistic regression model to the data\n",
    "model = LogisticRegression()\n",
    "model.fit(X, Y)\n",
    "print(model)\n",
    "\n",
    "# make predictions\n",
    "X = testDf.drop(['t','UserID'], 1).values\n",
    "Y = testDf['t'].values.astype(int)\n",
    "\n",
    "predicted = model.predict(X)\n",
    "# summarize the fit of the model\n",
    "print(metrics.classification_report(Y,predicted))\n",
    "print(metrics.confusion_matrix(Y,predicted))"
   ]
  },
  {
   "cell_type": "code",
   "execution_count": 51,
   "metadata": {},
   "outputs": [
    {
     "data": {
      "text/html": [
       "<div>\n",
       "<style>\n",
       "    .dataframe thead tr:only-child th {\n",
       "        text-align: right;\n",
       "    }\n",
       "\n",
       "    .dataframe thead th {\n",
       "        text-align: left;\n",
       "    }\n",
       "\n",
       "    .dataframe tbody tr th {\n",
       "        vertical-align: top;\n",
       "    }\n",
       "</style>\n",
       "<table border=\"1\" class=\"dataframe\">\n",
       "  <thead>\n",
       "    <tr style=\"text-align: right;\">\n",
       "      <th></th>\n",
       "      <th>Field</th>\n",
       "      <th>Coeff</th>\n",
       "    </tr>\n",
       "  </thead>\n",
       "  <tbody>\n",
       "    <tr>\n",
       "      <th>0</th>\n",
       "      <td>HrsFrom6pm</td>\n",
       "      <td>-0.0296</td>\n",
       "    </tr>\n",
       "    <tr>\n",
       "      <th>1</th>\n",
       "      <td>isSun</td>\n",
       "      <td>-0.4561</td>\n",
       "    </tr>\n",
       "    <tr>\n",
       "      <th>2</th>\n",
       "      <td>isMon</td>\n",
       "      <td>-0.4927</td>\n",
       "    </tr>\n",
       "    <tr>\n",
       "      <th>3</th>\n",
       "      <td>isTue</td>\n",
       "      <td>-0.4911</td>\n",
       "    </tr>\n",
       "    <tr>\n",
       "      <th>4</th>\n",
       "      <td>isWed</td>\n",
       "      <td>-0.4901</td>\n",
       "    </tr>\n",
       "    <tr>\n",
       "      <th>5</th>\n",
       "      <td>isThu</td>\n",
       "      <td>-0.486</td>\n",
       "    </tr>\n",
       "    <tr>\n",
       "      <th>6</th>\n",
       "      <td>isFri</td>\n",
       "      <td>-0.4783</td>\n",
       "    </tr>\n",
       "    <tr>\n",
       "      <th>7</th>\n",
       "      <td>isSat</td>\n",
       "      <td>-0.4859</td>\n",
       "    </tr>\n",
       "    <tr>\n",
       "      <th>8</th>\n",
       "      <td>t1</td>\n",
       "      <td>3.9824</td>\n",
       "    </tr>\n",
       "    <tr>\n",
       "      <th>9</th>\n",
       "      <td>t2</td>\n",
       "      <td>0.2447</td>\n",
       "    </tr>\n",
       "    <tr>\n",
       "      <th>10</th>\n",
       "      <td>t3</td>\n",
       "      <td>0.2363</td>\n",
       "    </tr>\n",
       "    <tr>\n",
       "      <th>11</th>\n",
       "      <td>t4</td>\n",
       "      <td>0.2132</td>\n",
       "    </tr>\n",
       "    <tr>\n",
       "      <th>12</th>\n",
       "      <td>t5</td>\n",
       "      <td>0.2718</td>\n",
       "    </tr>\n",
       "    <tr>\n",
       "      <th>13</th>\n",
       "      <td>t10</td>\n",
       "      <td>0.2614</td>\n",
       "    </tr>\n",
       "    <tr>\n",
       "      <th>14</th>\n",
       "      <td>t12hrs</td>\n",
       "      <td>0.2998</td>\n",
       "    </tr>\n",
       "    <tr>\n",
       "      <th>15</th>\n",
       "      <td>t24hrs</td>\n",
       "      <td>0.6913</td>\n",
       "    </tr>\n",
       "    <tr>\n",
       "      <th>16</th>\n",
       "      <td>t1wk</td>\n",
       "      <td>0.5531</td>\n",
       "    </tr>\n",
       "    <tr>\n",
       "      <th>17</th>\n",
       "      <td>t2wks</td>\n",
       "      <td>0.4487</td>\n",
       "    </tr>\n",
       "    <tr>\n",
       "      <th>18</th>\n",
       "      <td>t3wks</td>\n",
       "      <td>0.408</td>\n",
       "    </tr>\n",
       "    <tr>\n",
       "      <th>19</th>\n",
       "      <td>t4wks</td>\n",
       "      <td>0.3738</td>\n",
       "    </tr>\n",
       "  </tbody>\n",
       "</table>\n",
       "</div>"
      ],
      "text/plain": [
       "          Field    Coeff\n",
       "0    HrsFrom6pm  -0.0296\n",
       "1         isSun  -0.4561\n",
       "2         isMon  -0.4927\n",
       "3         isTue  -0.4911\n",
       "4         isWed  -0.4901\n",
       "5         isThu   -0.486\n",
       "6         isFri  -0.4783\n",
       "7         isSat  -0.4859\n",
       "8            t1   3.9824\n",
       "9            t2   0.2447\n",
       "10           t3   0.2363\n",
       "11           t4   0.2132\n",
       "12           t5   0.2718\n",
       "13          t10   0.2614\n",
       "14       t12hrs   0.2998\n",
       "15       t24hrs   0.6913\n",
       "16         t1wk   0.5531\n",
       "17        t2wks   0.4487\n",
       "18        t3wks    0.408\n",
       "19        t4wks   0.3738"
      ]
     },
     "execution_count": 51,
     "metadata": {},
     "output_type": "execute_result"
    }
   ],
   "source": [
    "fieldList=\"t, UserID, HrsFrom6pm, isSun,isMon,isTue,isWed,isThu,isFri,isSat,t1,t2,t3,t4,t5,t10,t12hrs,t24hrs,t1wk,t2wks,t3wks,t4wks\"\n",
    "fieldList=np.reshape(fieldList.split(',')[2:],(20,1))\n",
    "coeffs = np.reshape(np.round(model.coef_,4),(20,1))\n",
    "#np.reshape(fieldList.split(',')[2:],(20,1))\n",
    "\n",
    "coeffs=np.concatenate((fieldList,coeffs),axis=1)\n",
    "pd.DataFrame(coeffs,columns=['Field','Coeff'])"
   ]
  },
  {
   "cell_type": "code",
   "execution_count": 43,
   "metadata": {},
   "outputs": [],
   "source": []
  },
  {
   "cell_type": "code",
   "execution_count": 50,
   "metadata": {},
   "outputs": [
    {
     "data": {
      "text/html": [
       "<div>\n",
       "<style>\n",
       "    .dataframe thead tr:only-child th {\n",
       "        text-align: right;\n",
       "    }\n",
       "\n",
       "    .dataframe thead th {\n",
       "        text-align: left;\n",
       "    }\n",
       "\n",
       "    .dataframe tbody tr th {\n",
       "        vertical-align: top;\n",
       "    }\n",
       "</style>\n",
       "<table border=\"1\" class=\"dataframe\">\n",
       "  <thead>\n",
       "    <tr style=\"text-align: right;\">\n",
       "      <th></th>\n",
       "      <th>Field</th>\n",
       "      <th>Coeff</th>\n",
       "    </tr>\n",
       "  </thead>\n",
       "  <tbody>\n",
       "    <tr>\n",
       "      <th>0</th>\n",
       "      <td>HrsFrom6pm</td>\n",
       "      <td>-0.0296</td>\n",
       "    </tr>\n",
       "    <tr>\n",
       "      <th>1</th>\n",
       "      <td>isSun</td>\n",
       "      <td>-0.4561</td>\n",
       "    </tr>\n",
       "    <tr>\n",
       "      <th>2</th>\n",
       "      <td>isMon</td>\n",
       "      <td>-0.4927</td>\n",
       "    </tr>\n",
       "    <tr>\n",
       "      <th>3</th>\n",
       "      <td>isTue</td>\n",
       "      <td>-0.4911</td>\n",
       "    </tr>\n",
       "    <tr>\n",
       "      <th>4</th>\n",
       "      <td>isWed</td>\n",
       "      <td>-0.4901</td>\n",
       "    </tr>\n",
       "    <tr>\n",
       "      <th>5</th>\n",
       "      <td>isThu</td>\n",
       "      <td>-0.486</td>\n",
       "    </tr>\n",
       "    <tr>\n",
       "      <th>6</th>\n",
       "      <td>isFri</td>\n",
       "      <td>-0.4783</td>\n",
       "    </tr>\n",
       "    <tr>\n",
       "      <th>7</th>\n",
       "      <td>isSat</td>\n",
       "      <td>-0.4859</td>\n",
       "    </tr>\n",
       "    <tr>\n",
       "      <th>8</th>\n",
       "      <td>t1</td>\n",
       "      <td>3.9824</td>\n",
       "    </tr>\n",
       "    <tr>\n",
       "      <th>9</th>\n",
       "      <td>t2</td>\n",
       "      <td>0.2447</td>\n",
       "    </tr>\n",
       "    <tr>\n",
       "      <th>10</th>\n",
       "      <td>t3</td>\n",
       "      <td>0.2363</td>\n",
       "    </tr>\n",
       "    <tr>\n",
       "      <th>11</th>\n",
       "      <td>t4</td>\n",
       "      <td>0.2132</td>\n",
       "    </tr>\n",
       "    <tr>\n",
       "      <th>12</th>\n",
       "      <td>t5</td>\n",
       "      <td>0.2718</td>\n",
       "    </tr>\n",
       "    <tr>\n",
       "      <th>13</th>\n",
       "      <td>t10</td>\n",
       "      <td>0.2614</td>\n",
       "    </tr>\n",
       "    <tr>\n",
       "      <th>14</th>\n",
       "      <td>t12hrs</td>\n",
       "      <td>0.2998</td>\n",
       "    </tr>\n",
       "    <tr>\n",
       "      <th>15</th>\n",
       "      <td>t24hrs</td>\n",
       "      <td>0.6913</td>\n",
       "    </tr>\n",
       "    <tr>\n",
       "      <th>16</th>\n",
       "      <td>t1wk</td>\n",
       "      <td>0.5531</td>\n",
       "    </tr>\n",
       "    <tr>\n",
       "      <th>17</th>\n",
       "      <td>t2wks</td>\n",
       "      <td>0.4487</td>\n",
       "    </tr>\n",
       "    <tr>\n",
       "      <th>18</th>\n",
       "      <td>t3wks</td>\n",
       "      <td>0.408</td>\n",
       "    </tr>\n",
       "    <tr>\n",
       "      <th>19</th>\n",
       "      <td>t4wks</td>\n",
       "      <td>0.3738</td>\n",
       "    </tr>\n",
       "  </tbody>\n",
       "</table>\n",
       "</div>"
      ],
      "text/plain": [
       "          Field    Coeff\n",
       "0    HrsFrom6pm  -0.0296\n",
       "1         isSun  -0.4561\n",
       "2         isMon  -0.4927\n",
       "3         isTue  -0.4911\n",
       "4         isWed  -0.4901\n",
       "5         isThu   -0.486\n",
       "6         isFri  -0.4783\n",
       "7         isSat  -0.4859\n",
       "8            t1   3.9824\n",
       "9            t2   0.2447\n",
       "10           t3   0.2363\n",
       "11           t4   0.2132\n",
       "12           t5   0.2718\n",
       "13          t10   0.2614\n",
       "14       t12hrs   0.2998\n",
       "15       t24hrs   0.6913\n",
       "16         t1wk   0.5531\n",
       "17        t2wks   0.4487\n",
       "18        t3wks    0.408\n",
       "19        t4wks   0.3738"
      ]
     },
     "execution_count": 50,
     "metadata": {},
     "output_type": "execute_result"
    }
   ],
   "source": []
  }
 ],
 "metadata": {
  "anaconda-cloud": {},
  "kernelspec": {
   "display_name": "Python 3",
   "language": "python",
   "name": "python3"
  },
  "language_info": {
   "codemirror_mode": {
    "name": "ipython",
    "version": 3
   },
   "file_extension": ".py",
   "mimetype": "text/x-python",
   "name": "python",
   "nbconvert_exporter": "python",
   "pygments_lexer": "ipython3",
   "version": "3.5.2"
  }
 },
 "nbformat": 4,
 "nbformat_minor": 2
}
